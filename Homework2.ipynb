{
  "nbformat": 4,
  "nbformat_minor": 0,
  "metadata": {
    "colab": {
      "name": "Homework2.ipynb",
      "provenance": [],
      "collapsed_sections": [],
      "include_colab_link": true
    },
    "kernelspec": {
      "name": "python3",
      "display_name": "Python 3"
    }
  },
  "cells": [
    {
      "cell_type": "markdown",
      "metadata": {
        "id": "view-in-github",
        "colab_type": "text"
      },
      "source": [
        "<a href=\"https://colab.research.google.com/github/Sangram-Rout/me314/blob/main/Homework2.ipynb\" target=\"_parent\"><img src=\"https://colab.research.google.com/assets/colab-badge.svg\" alt=\"Open In Colab\"/></a>"
      ]
    },
    {
      "cell_type": "markdown",
      "metadata": {
        "id": "Y-1xqtrXmr4w"
      },
      "source": [
        "# ME314 Homework #2\n",
        "Name: (Double Click to Edit)\n",
        "\n",
        "Date: 10/6/19"
      ]
    },
    {
      "cell_type": "markdown",
      "metadata": {
        "id": "vOfo2rom1AES"
      },
      "source": [
        "## Imports and Helper Functions\n",
        "Here you will find all the necessary libraries that we need to import to be able to complete the homework."
      ]
    },
    {
      "cell_type": "code",
      "metadata": {
        "id": "Zus1CO4zmp85",
        "cellView": "both"
      },
      "source": [
        "import numpy as np\n",
        "import sympy as sym\n",
        "from sympy.abc import t\n",
        "%matplotlib inline\n",
        "import matplotlib.pyplot as plt\n",
        "\n",
        "#######################\n",
        "# Custom latex printing\n",
        "def custom_latex_printer(exp,**options):\n",
        "    from google.colab.output._publish import javascript\n",
        "    url = \"https://cdnjs.cloudflare.com/ajax/libs/mathjax/2.7.3/latest.js?config=default\"\n",
        "    javascript(url=url)\n",
        "    return sym.printing.latex(exp,**options)\n",
        "sym.init_printing(use_latex=\"mathjax\",latex_printer=custom_latex_printer)\n",
        "\n",
        "####################\n",
        "# Simulation helpers\n",
        "def integrate(f,x0,dt):\n",
        "    \"\"\"\n",
        "    This function takes in an initial condition x0 and a timestep dt,\n",
        "    as well as a dynamical system f(x) that outputs a vector of the\n",
        "    same dimension as x0. It outputs a vector x at the future time step.\n",
        "    \"\"\"\n",
        "    k1=dt*f(x0)\n",
        "    k2=dt*f(x0+k1/2.)\n",
        "    k3=dt*f(x0+k2/2.)\n",
        "    k4=dt*f(x0+k3)\n",
        "    xnew=x0+(1/6.)*(k1+2.*k2+2.*k3+k4)\n",
        "    return xnew\n",
        "\n",
        "def simulate(f,x0,tspan,dt):\n",
        "    \"\"\"\n",
        "    This function takes in an initial condition x0, a timestep dt,\n",
        "    a time span tspan consisting of a list [min_time, max_time],\n",
        "    as well as a dynamical system f(x) that outputs a vector of the\n",
        "    same dimension as x0. It outputs a full trajectory simulated\n",
        "    over the time span of dimensions (xvec_size, time_vec_size).\n",
        "    \"\"\"\n",
        "    N = int((max(tspan)-min(tspan))/dt)\n",
        "    x = np.copy(x0)\n",
        "    tvec = np.linspace(min(tspan),max(tspan),N)\n",
        "    xtraj = np.zeros((len(x0),N))\n",
        "    for i in range(N):\n",
        "        xtraj[:,i]=integrate(f,x,dt)\n",
        "        x = np.copy(xtraj[:,i])\n",
        "    return xtraj   "
      ],
      "execution_count": null,
      "outputs": []
    },
    {
      "cell_type": "markdown",
      "metadata": {
        "id": "UTzywv6w15Yq"
      },
      "source": [
        "## Problem Set"
      ]
    },
    {
      "cell_type": "markdown",
      "metadata": {
        "id": "FxFFXIaqCQ5f"
      },
      "source": [
        "You will turn in paper copies of all problems you choose to handwrite, and turn in an ***editable*** link to your *Colaboratory* notebook online. You may use Python to complete or help with anything on the homework, but whatever you turn in on paper must clearly demonstrate what your approach is, where Python was used, and what calculations you are doing. After this homework we will be asking you to work more exclusively with Python to do problems and algebraic manipulations, so you should be actively trying to get comfortable with it in this homework."
      ]
    },
    {
      "cell_type": "code",
      "metadata": {
        "id": "JGHcu0Mis6Ij",
        "cellView": "form",
        "colab": {
          "base_uri": "https://localhost:8080/",
          "height": 377
        },
        "outputId": "de988b91-ff39-4676-8d08-47e2f6fd7518"
      },
      "source": [
        "#@title\n",
        "# Code to display images\n",
        "from IPython.core.display import HTML\n",
        "display(HTML(\"<table><tr><td><img src='https://github.com/tberrueta/ME314pngs/raw/master/dynbeadwire.png' width=500' height='350'></td><td><img src='https://github.com/tberrueta/ME314pngs/raw/master/twolinearmasses.png' width='350' height='350'></td></tr></table>\"))"
      ],
      "execution_count": null,
      "outputs": [
        {
          "output_type": "display_data",
          "data": {
            "text/html": [
              "<table><tr><td><img src='https://github.com/tberrueta/ME314pngs/raw/master/dynbeadwire.png' width=500' height='350'></td><td><img src='https://github.com/tberrueta/ME314pngs/raw/master/twolinearmasses.png' width='350' height='350'></td></tr></table>"
            ],
            "text/plain": [
              "<IPython.core.display.HTML object>"
            ]
          },
          "metadata": {
            "tags": []
          }
        }
      ]
    },
    {
      "cell_type": "markdown",
      "metadata": {
        "id": "1-XPG9Eh1apY"
      },
      "source": [
        "Figure 1: (left) bead on a wire (right) two masses on a line.\n",
        "\n",
        "----------------------------------------------"
      ]
    },
    {
      "cell_type": "markdown",
      "metadata": {
        "id": "ImU4iG8I2D_M"
      },
      "source": [
        "### Problem #1 (10 pts)\n",
        "Let $f:\\mathbb{R}^2\\to\\mathbb{R}$ with $f(x,y)=-\\cos(x+y)\\cos(x-y)$.  Show that $(x,y)=(0,0)$ satisfies both the necessary *and* sufficient conditions to be a local minimizer of $f$."
      ]
    },
    {
      "cell_type": "code",
      "metadata": {
        "id": "AWP-T-KK2VT7",
        "colab": {
          "base_uri": "https://localhost:8080/",
          "height": 246
        },
        "outputId": "e6e00a40-f7bb-408b-88f3-977216a6c93d"
      },
      "source": [
        "# Here we define the constants/variables relevant to the problem\n",
        "#SKR attempt to create lagrangian\n",
        "m,M,R,g,L,k1,k2 = sym.symbols('m M R g L k1 k2')\n",
        "x = sym.Function(r'x')(t)\n",
        "y = sym.Function(r'y')(t)\n",
        "f=-1*(sym.cos(x+y))*(sym.cos(x-y))\n",
        "fdotx = f.diff(x)\n",
        "fdoty = f.diff(y)\n",
        "fddotxy=fdotx.diff(y) \n",
        "fddotyx=fdoty.diff(x) \n",
        "fddotxx=fdotx.diff(x) \n",
        "fddotyy=fdoty.diff(y)\n",
        "#display(fddotyy({x:0,y:0}))\n",
        "D=fddotxx*fddotyy-2*fddotxy"
      ],
      "execution_count": null,
      "outputs": [
        {
          "output_type": "error",
          "ename": "NameError",
          "evalue": "ignored",
          "traceback": [
            "\u001b[0;31m---------------------------------------------------------------------------\u001b[0m",
            "\u001b[0;31mNameError\u001b[0m                                 Traceback (most recent call last)",
            "\u001b[0;32m<ipython-input-3-1537471daa43>\u001b[0m in \u001b[0;36m<module>\u001b[0;34m()\u001b[0m\n\u001b[0;32m----> 1\u001b[0;31m \u001b[0mm\u001b[0m\u001b[0;34m,\u001b[0m\u001b[0mM\u001b[0m\u001b[0;34m,\u001b[0m\u001b[0mR\u001b[0m\u001b[0;34m,\u001b[0m\u001b[0mg\u001b[0m\u001b[0;34m,\u001b[0m\u001b[0mL\u001b[0m\u001b[0;34m,\u001b[0m\u001b[0mk1\u001b[0m\u001b[0;34m,\u001b[0m\u001b[0mk2\u001b[0m \u001b[0;34m=\u001b[0m \u001b[0msym\u001b[0m\u001b[0;34m.\u001b[0m\u001b[0msymbols\u001b[0m\u001b[0;34m(\u001b[0m\u001b[0;34m'm M R g L k1 k2'\u001b[0m\u001b[0;34m)\u001b[0m\u001b[0;34m\u001b[0m\u001b[0;34m\u001b[0m\u001b[0m\n\u001b[0m\u001b[1;32m      2\u001b[0m \u001b[0mx\u001b[0m \u001b[0;34m=\u001b[0m \u001b[0msym\u001b[0m\u001b[0;34m.\u001b[0m\u001b[0mFunction\u001b[0m\u001b[0;34m(\u001b[0m\u001b[0;34mr'x'\u001b[0m\u001b[0;34m)\u001b[0m\u001b[0;34m(\u001b[0m\u001b[0mt\u001b[0m\u001b[0;34m)\u001b[0m\u001b[0;34m\u001b[0m\u001b[0;34m\u001b[0m\u001b[0m\n\u001b[1;32m      3\u001b[0m \u001b[0my\u001b[0m \u001b[0;34m=\u001b[0m \u001b[0msym\u001b[0m\u001b[0;34m.\u001b[0m\u001b[0mFunction\u001b[0m\u001b[0;34m(\u001b[0m\u001b[0;34mr'y'\u001b[0m\u001b[0;34m)\u001b[0m\u001b[0;34m(\u001b[0m\u001b[0mt\u001b[0m\u001b[0;34m)\u001b[0m\u001b[0;34m\u001b[0m\u001b[0;34m\u001b[0m\u001b[0m\n\u001b[1;32m      4\u001b[0m \u001b[0mf\u001b[0m\u001b[0;34m=\u001b[0m\u001b[0;34m-\u001b[0m\u001b[0;36m1\u001b[0m\u001b[0;34m*\u001b[0m\u001b[0;34m(\u001b[0m\u001b[0msym\u001b[0m\u001b[0;34m.\u001b[0m\u001b[0mcos\u001b[0m\u001b[0;34m(\u001b[0m\u001b[0mx\u001b[0m\u001b[0;34m+\u001b[0m\u001b[0my\u001b[0m\u001b[0;34m)\u001b[0m\u001b[0;34m)\u001b[0m\u001b[0;34m*\u001b[0m\u001b[0;34m(\u001b[0m\u001b[0msym\u001b[0m\u001b[0;34m.\u001b[0m\u001b[0mcos\u001b[0m\u001b[0;34m(\u001b[0m\u001b[0mx\u001b[0m\u001b[0;34m-\u001b[0m\u001b[0my\u001b[0m\u001b[0;34m)\u001b[0m\u001b[0;34m)\u001b[0m\u001b[0;34m\u001b[0m\u001b[0;34m\u001b[0m\u001b[0m\n\u001b[1;32m      5\u001b[0m \u001b[0mfdotx\u001b[0m \u001b[0;34m=\u001b[0m \u001b[0mf\u001b[0m\u001b[0;34m.\u001b[0m\u001b[0mdiff\u001b[0m\u001b[0;34m(\u001b[0m\u001b[0mx\u001b[0m\u001b[0;34m)\u001b[0m\u001b[0;34m\u001b[0m\u001b[0;34m\u001b[0m\u001b[0m\n",
            "\u001b[0;31mNameError\u001b[0m: name 'sym' is not defined"
          ]
        }
      ]
    },
    {
      "cell_type": "code",
      "metadata": {
        "id": "KL62tYsqzSra",
        "colab": {
          "base_uri": "https://localhost:8080/",
          "height": 246
        },
        "outputId": "09900bcc-4afb-45dd-b812-98a10aac682b"
      },
      "source": [
        "\n",
        "vec_fun1 = fdotx.subs({x:0,y:0})\n",
        "display(vec_fun1)\n",
        "vec_fun2 = fdoty.subs({x:0,y:0})\n",
        "display(vec_fun2)\n",
        "vec_fun3 = D.subs({x:0,y:0})\n",
        "display(vec_fun3)\n"
      ],
      "execution_count": null,
      "outputs": [
        {
          "output_type": "error",
          "ename": "NameError",
          "evalue": "ignored",
          "traceback": [
            "\u001b[0;31m---------------------------------------------------------------------------\u001b[0m",
            "\u001b[0;31mNameError\u001b[0m                                 Traceback (most recent call last)",
            "\u001b[0;32m<ipython-input-2-0c949da98970>\u001b[0m in \u001b[0;36m<module>\u001b[0;34m()\u001b[0m\n\u001b[1;32m      1\u001b[0m \u001b[0;34m\u001b[0m\u001b[0m\n\u001b[0;32m----> 2\u001b[0;31m \u001b[0mvec_fun1\u001b[0m \u001b[0;34m=\u001b[0m \u001b[0mfdotx\u001b[0m\u001b[0;34m.\u001b[0m\u001b[0msubs\u001b[0m\u001b[0;34m(\u001b[0m\u001b[0;34m{\u001b[0m\u001b[0mx\u001b[0m\u001b[0;34m:\u001b[0m\u001b[0;36m0\u001b[0m\u001b[0;34m,\u001b[0m\u001b[0my\u001b[0m\u001b[0;34m:\u001b[0m\u001b[0;36m0\u001b[0m\u001b[0;34m}\u001b[0m\u001b[0;34m)\u001b[0m\u001b[0;34m\u001b[0m\u001b[0;34m\u001b[0m\u001b[0m\n\u001b[0m\u001b[1;32m      3\u001b[0m \u001b[0mdisplay\u001b[0m\u001b[0;34m(\u001b[0m\u001b[0mvec_fun1\u001b[0m\u001b[0;34m)\u001b[0m\u001b[0;34m\u001b[0m\u001b[0;34m\u001b[0m\u001b[0m\n\u001b[1;32m      4\u001b[0m \u001b[0mvec_fun2\u001b[0m \u001b[0;34m=\u001b[0m \u001b[0mfdoty\u001b[0m\u001b[0;34m.\u001b[0m\u001b[0msubs\u001b[0m\u001b[0;34m(\u001b[0m\u001b[0;34m{\u001b[0m\u001b[0mx\u001b[0m\u001b[0;34m:\u001b[0m\u001b[0;36m0\u001b[0m\u001b[0;34m,\u001b[0m\u001b[0my\u001b[0m\u001b[0;34m:\u001b[0m\u001b[0;36m0\u001b[0m\u001b[0;34m}\u001b[0m\u001b[0;34m)\u001b[0m\u001b[0;34m\u001b[0m\u001b[0;34m\u001b[0m\u001b[0m\n\u001b[1;32m      5\u001b[0m \u001b[0mdisplay\u001b[0m\u001b[0;34m(\u001b[0m\u001b[0mvec_fun2\u001b[0m\u001b[0;34m)\u001b[0m\u001b[0;34m\u001b[0m\u001b[0;34m\u001b[0m\u001b[0m\n",
            "\u001b[0;31mNameError\u001b[0m: name 'fdotx' is not defined"
          ]
        }
      ]
    },
    {
      "cell_type": "markdown",
      "metadata": {
        "id": "2iDkqGIlxHos"
      },
      "source": [
        "Let f be a function with two variables with continuous second order partial derivatives f xx , f yy and f xy at a critical point (a,b). Let\n",
        "D = fxx(a,b) fyy(a,b) - fxy2(a,b)\n",
        "a) If D > 0 and f xx (a,b) > 0, then f has a relative minimum at (a,b).\n",
        "b) If D > 0 and f xx (a,b) < 0, then f has a relative maximum at (a,b).\n",
        "c) If D < 0, then f has a saddle point at (a,b).\n",
        "d) If D = 0, then no conclusion can be drawn. \n",
        "The above solution satifies the conditions for local minimizer"
      ]
    },
    {
      "cell_type": "markdown",
      "metadata": {
        "id": "cG5gDsDy2lUG"
      },
      "source": [
        "### Problem #2 (10 pts)\n",
        "Compute the ODE and the constraint force for a bead in gravity constrained to the path $y=\\cos(x)$ seen in Fig. 1(left). Gravity is in the negative $y$ direction."
      ]
    },
    {
      "cell_type": "markdown",
      "metadata": {
        "id": "YsEFwLFLHt06"
      },
      "source": [
        "let theta1:x and theta2:y"
      ]
    },
    {
      "cell_type": "code",
      "metadata": {
        "id": "vB5LWCRa23gw"
      },
      "source": [
        "# Here we define the constants/variables relevant to the problem\n",
        "#SKR attempt to create lagrangian\n",
        "m,M,R,g,l,k1,k2,h,  = sym.symbols('m M R g l k1 k2 h')\n",
        "\n",
        "#th1dot=th1.diff(t)\n",
        "# Here we define the constants/variables relevant to the problem\n",
        "#SKR attempt to create lagrangian\n",
        "m,M,R,g,l,k1,k2,y   = sym.symbols('m M R g l k1 k2  y')\n",
        "th1 = sym.Function(r'\\theta_1')(t)\n",
        "th2 = sym.Function(r'\\theta_2')(t)\n",
        "phi = sym.Function(r'\\phi')(t)\n",
        "zeta = sym.Function(r'\\zeta')(t)\n",
        "#x, xd, vdd = sym.symbols('x \\dot{x} \\ddot{x}') \n",
        "#y, yd, vdd = sym.symbols('y \\dot{y} \\ddot{y}') \n",
        "#y = sym.symbols('y ')# dummy variables\n",
        "th1dot=th1.diff(t)\n",
        "# Here we define our configuration variables\n",
        "q = sym.Matrix([th1,th2])\n",
        "qdot = q.diff(t)\n",
        "#th1d=qdot[0]\n",
        "#th2d=qdot[1]\n",
        "qddot = qdot.diff(t)\n",
        "#x1=l*(sym.tan(th1))\n",
        "#x1dot=x1.diff(t)\n",
        "\n",
        "\n",
        "#define phi as the function\n",
        "phi=th2-sym.cos(th1)\n",
        "\n",
        "\n",
        "#q = sym.Matrix([x,y])\n",
        "#qdot = q.diff(t)\n",
        "#qddot = qdot.diff(t)\n",
        "\n",
        "x2=l*((sym.tan(th1+th2))-(sym.tan(th1)))\n",
        "x2dot=x2.diff(t)\n",
        "\n",
        "U=m*g*th2\n",
        "K=0.5*m*((qdot[0])*(qdot[0])+(qdot[1])*(qdot[1]))\n",
        "\n",
        "L=K-U\n",
        "#Define del operator\n",
        "dphdel = sym.Matrix([phi]).jacobian(q).T\n",
        "\n",
        "#Define EL Equations\n",
        "dLdq1 = sym.Matrix([L]).jacobian(q).T\n",
        "ddLdqdot_dt1 = sym.Matrix([L]).jacobian(qdot).T.diff(t)\n",
        "EulerLagrangeEQs1 = sym.Eq(ddLdqdot_dt1-dLdq1, zeta*dphdel)\n",
        "\n",
        "#Getting Solutions\n",
        "EulerSols1 = sym.solve(EulerLagrangeEQs1,[qddot[0],qddot[1]])\n",
        "\n",
        "\n",
        "#ddLdqdot_dt1 = sym.Matrix([L]).jacobian(qdot).T.diff(t)\n",
        "#EulerLagrangeEQs1 = sym.Eq(ddLdqdot_dt1-dLdq1, sym.Matrix([0,0]))\n",
        "\n",
        "#Getting Solutions\n",
        "#EulerSols1 = sym.solve(EulerLagrangeEQs1,[qddot[0],qddot[1]])\n",
        "\n",
        "#third equation\n",
        "phidt = phi.diff(t)\n",
        "phiddt=phidt.diff(t)\n",
        "EQs3 = sym.Eq(phiddt, 0)\n",
        "\n",
        "#LHS=ddLdqdot_dt1-dLdq1\n",
        "#LHS=LHS.row_insert(2,Matrix([1]))\n",
        "#ddLdqdot_dt1\n",
        "#np.r_[LHS,(phiddt)]\n",
        "\n",
        "EulerSols2 = sym.solve([EulerLagrangeEQs1,EQs3],[qddot[0],qddot[1],zeta])\n"
      ],
      "execution_count": null,
      "outputs": []
    },
    {
      "cell_type": "markdown",
      "metadata": {
        "id": "xw8KqOf4Hs6Z"
      },
      "source": [
        ""
      ]
    },
    {
      "cell_type": "code",
      "metadata": {
        "id": "JNK5Y782LFFO",
        "colab": {
          "base_uri": "https://localhost:8080/",
          "height": 167
        },
        "outputId": "c5452462-f3cf-4e7b-87ab-1007cf93d4a8"
      },
      "source": [
        "\n",
        "display(EulerLagrangeEQs1)\n",
        "display(EQs3)"
      ],
      "execution_count": null,
      "outputs": [
        {
          "output_type": "display_data",
          "data": {
            "text/html": [
              "<script src='https://cdnjs.cloudflare.com/ajax/libs/mathjax/2.7.3/latest.js?config=default'></script>"
            ],
            "text/plain": [
              "<IPython.core.display.HTML object>"
            ]
          },
          "metadata": {
            "tags": []
          }
        },
        {
          "output_type": "display_data",
          "data": {
            "text/latex": "$$\\left[\\begin{matrix}1.0 m \\frac{d^{2}}{d t^{2}}  \\theta_{1}{\\left (t \\right )}\\\\g m + 1.0 m \\frac{d^{2}}{d t^{2}}  \\theta_{2}{\\left (t \\right )}\\end{matrix}\\right] = \\left[\\begin{matrix}\\zeta{\\left (t \\right )} \\sin{\\left (\\theta_{1}{\\left (t \\right )} \\right )}\\\\\\zeta{\\left (t \\right )}\\end{matrix}\\right]$$",
            "text/plain": [
              "⎡           2               ⎤                             \n",
              "⎢          d                ⎥                             \n",
              "⎢   1.0⋅m⋅───(\\theta₁(t))   ⎥                             \n",
              "⎢           2               ⎥                             \n",
              "⎢         dt                ⎥   ⎡\\zeta(t)⋅sin(\\theta₁(t))⎤\n",
              "⎢                           ⎥ = ⎢                        ⎥\n",
              "⎢              2            ⎥   ⎣        \\zeta(t)        ⎦\n",
              "⎢             d             ⎥                             \n",
              "⎢g⋅m + 1.0⋅m⋅───(\\theta₂(t))⎥                             \n",
              "⎢              2            ⎥                             \n",
              "⎣            dt             ⎦                             "
            ]
          },
          "metadata": {
            "tags": []
          }
        },
        {
          "output_type": "display_data",
          "data": {
            "text/html": [
              "<script src='https://cdnjs.cloudflare.com/ajax/libs/mathjax/2.7.3/latest.js?config=default'></script>"
            ],
            "text/plain": [
              "<IPython.core.display.HTML object>"
            ]
          },
          "metadata": {
            "tags": []
          }
        },
        {
          "output_type": "display_data",
          "data": {
            "text/latex": "$$\\sin{\\left (\\theta_{1}{\\left (t \\right )} \\right )} \\frac{d^{2}}{d t^{2}}  \\theta_{1}{\\left (t \\right )} + \\cos{\\left (\\theta_{1}{\\left (t \\right )} \\right )} \\left(\\frac{d}{d t} \\theta_{1}{\\left (t \\right )}\\right)^{2} + \\frac{d^{2}}{d t^{2}}  \\theta_{2}{\\left (t \\right )} = 0$$",
            "text/plain": [
              "                  2                                               2     2     \n",
              "                 d                                ⎛d             ⎞     d      \n",
              "sin(\\theta₁(t))⋅───(\\theta₁(t)) + cos(\\theta₁(t))⋅⎜──(\\theta₁(t))⎟  + ───(\\the\n",
              "                  2                               ⎝dt            ⎠      2     \n",
              "                dt                                                    dt      \n",
              "\n",
              "           \n",
              "           \n",
              "ta₂(t)) = 0\n",
              "           \n",
              "           "
            ]
          },
          "metadata": {
            "tags": []
          }
        }
      ]
    },
    {
      "cell_type": "code",
      "metadata": {
        "id": "vLmDXjybWaBh",
        "colab": {
          "base_uri": "https://localhost:8080/",
          "height": 135
        },
        "outputId": "00489e68-627a-4b47-c49c-ff6bdda786a0"
      },
      "source": [
        "display(EulerSols2)"
      ],
      "execution_count": null,
      "outputs": [
        {
          "output_type": "display_data",
          "data": {
            "text/html": [
              "<script src='https://cdnjs.cloudflare.com/ajax/libs/mathjax/2.7.3/latest.js?config=default'></script>"
            ],
            "text/plain": [
              "<IPython.core.display.HTML object>"
            ]
          },
          "metadata": {
            "tags": []
          }
        },
        {
          "output_type": "display_data",
          "data": {
            "text/latex": "$$\\left \\{ \\zeta{\\left (t \\right )} : \\frac{m \\left(g - \\cos{\\left (\\theta_{1}{\\left (t \\right )} \\right )} \\left(\\frac{d}{d t} \\theta_{1}{\\left (t \\right )}\\right)^{2}\\right)}{\\sin^{2}{\\left (\\theta_{1}{\\left (t \\right )} \\right )} + 1.0}, \\quad \\frac{d^{2}}{d t^{2}}  \\theta_{1}{\\left (t \\right )} : \\frac{\\sin{\\left (\\theta_{1}{\\left (t \\right )} \\right )}}{\\sin^{2}{\\left (\\theta_{1}{\\left (t \\right )} \\right )} + 1.0} \\left(g - \\cos{\\left (\\theta_{1}{\\left (t \\right )} \\right )} \\left(\\frac{d}{d t} \\theta_{1}{\\left (t \\right )}\\right)^{2}\\right), \\quad \\frac{d^{2}}{d t^{2}}  \\theta_{2}{\\left (t \\right )} : - \\frac{1}{\\sin^{2}{\\left (\\theta_{1}{\\left (t \\right )} \\right )} + 1.0} \\left(g \\sin^{2}{\\left (\\theta_{1}{\\left (t \\right )} \\right )} + \\cos{\\left (\\theta_{1}{\\left (t \\right )} \\right )} \\left(\\frac{d}{d t} \\theta_{1}{\\left (t \\right )}\\right)^{2}\\right)\\right \\}$$",
            "text/plain": [
              "⎧            ⎛                                    2⎞                   ⎛      \n",
              "⎪            ⎜                    ⎛d             ⎞ ⎟                   ⎜      \n",
              "⎪          m⋅⎜g - cos(\\theta₁(t))⋅⎜──(\\theta₁(t))⎟ ⎟    2              ⎜g - co\n",
              "⎨            ⎝                    ⎝dt            ⎠ ⎠   d               ⎝      \n",
              "⎪\\zeta(t): ─────────────────────────────────────────, ───(\\theta₁(t)): ───────\n",
              "⎪                       2                               2                     \n",
              "⎩                    sin (\\theta₁(t)) + 1.0           dt                      \n",
              "\n",
              "                              2⎞                                    ⎛         \n",
              "              ⎛d             ⎞ ⎟                                    ⎜     2   \n",
              "s(\\theta₁(t))⋅⎜──(\\theta₁(t))⎟ ⎟⋅sin(\\theta₁(t))    2              -⎜g⋅sin (\\t\n",
              "              ⎝dt            ⎠ ⎠                   d                ⎝         \n",
              "────────────────────────────────────────────────, ───(\\theta₂(t)): ───────────\n",
              "             2                                      2                         \n",
              "          sin (\\theta₁(t)) + 1.0                  dt                          \n",
              "\n",
              "                                            2⎞ ⎫\n",
              "                            ⎛d             ⎞ ⎟ ⎪\n",
              "heta₁(t)) + cos(\\theta₁(t))⋅⎜──(\\theta₁(t))⎟ ⎟ ⎪\n",
              "                            ⎝dt            ⎠ ⎠ ⎬\n",
              "───────────────────────────────────────────────⎪\n",
              "          2                                    ⎪\n",
              "       sin (\\theta₁(t)) + 1.0                  ⎭"
            ]
          },
          "metadata": {
            "tags": []
          }
        }
      ]
    },
    {
      "cell_type": "markdown",
      "metadata": {
        "id": "fgWDkTHD26y2"
      },
      "source": [
        "### Problem #3 (20 pts)\n",
        "Compute the equations of motion for the system in\n",
        "  Fig. 1(right) in $\\theta=(\\theta_1,\\theta_2)$ coordinates assuming\n",
        "  that there is a spring of spring constant $k_1$ between the first\n",
        "  mass and the wall and a spring of spring constant $k_2$ between the\n",
        "  first mass and the second mass."
      ]
    },
    {
      "cell_type": "code",
      "metadata": {
        "id": "b3Eoio-R-mn-"
      },
      "source": [
        "# Here we define the constants/variables relevant to the problem\n",
        "#SKR attempt to create lagrangian\n",
        "m,M,R,g,l,k1,k2 = sym.symbols('m M R g l k1 k2')\n",
        "th1 = sym.Function(r'\\theta_1')(t)\n",
        "th2 = sym.Function(r'\\theta_2')(t)\n",
        "#th1dot=th1.diff(t)\n",
        "\n",
        "# Here we define our configuration variables\n",
        "q = sym.Matrix([th1,th2])\n",
        "qdot = q.diff(t)\n",
        "qddot = qdot.diff(t)\n",
        "x1=l*(sym.tan(th1))\n",
        "x1dot=x1.diff(t)\n",
        "\n",
        "#q = sym.Matrix([x,th])\n",
        "#qdot = q.diff(t)\n",
        "#qddot = qdot.diff(t)\n",
        "\n",
        "x2=l*((sym.tan(th1+th2))-(sym.tan(th1)))\n",
        "x2dot=x2.diff(t)\n",
        "\n",
        "U=0.5*(k1)*x1*x1+0.5*(k2)*x2*x2\n",
        "K=0.5*m*((x1dot*x1dot)+(x1dot+x2dot)*(x1dot+x2dot)) # Grader: to square something you can use x**2\n",
        "L=K-U\n",
        "\n",
        "# Define EL Equations\n",
        "dLdq = sym.Matrix([L]).jacobian(q).T\n",
        "ddLdqdot_dt = sym.Matrix([L]).jacobian(qdot).T.diff(t)\n",
        "EulerLagrangeEQs = sym.Eq(ddLdqdot_dt-dLdq, sym.Matrix([0,0]))\n",
        "\n",
        "# Getting Solutions\n",
        "EulerSols = sym.solve(EulerLagrangeEQs,[qddot[0],qddot[1]])\n"
      ],
      "execution_count": null,
      "outputs": []
    },
    {
      "cell_type": "code",
      "metadata": {
        "id": "NgJhb1eq-mvz",
        "colab": {
          "base_uri": "https://localhost:8080/",
          "height": 97
        },
        "outputId": "6f427390-1e54-4e90-ca97-5d5afa4d6bfd"
      },
      "source": [
        "display(sym.Eq(qddot[0],EulerSols[qddot[0]]))\n"
      ],
      "execution_count": null,
      "outputs": [
        {
          "output_type": "display_data",
          "data": {
            "text/html": [
              "<script src='https://cdnjs.cloudflare.com/ajax/libs/mathjax/2.7.3/latest.js?config=default'></script>"
            ],
            "text/plain": [
              "<IPython.core.display.HTML object>"
            ]
          },
          "metadata": {
            "tags": []
          }
        },
        {
          "output_type": "display_data",
          "data": {
            "text/latex": "$$\\frac{d^{2}}{d t^{2}}  \\theta_{1}{\\left (t \\right )} = \\frac{1}{m} \\left(- k_{1} \\tan{\\left (\\theta_{1}{\\left (t \\right )} \\right )} + k_{2} \\tan{\\left (\\theta_{1}{\\left (t \\right )} + \\theta_{2}{\\left (t \\right )} \\right )} - k_{2} \\tan{\\left (\\theta_{1}{\\left (t \\right )} \\right )} - 2.0 m \\tan^{3}{\\left (\\theta_{1}{\\left (t \\right )} \\right )} \\left(\\frac{d}{d t} \\theta_{1}{\\left (t \\right )}\\right)^{2} - 2.0 m \\tan{\\left (\\theta_{1}{\\left (t \\right )} \\right )} \\left(\\frac{d}{d t} \\theta_{1}{\\left (t \\right )}\\right)^{2}\\right) \\cos^{2}{\\left (\\theta_{1}{\\left (t \\right )} \\right )}$$",
            "text/plain": [
              "                  ⎛                                                           \n",
              "                  ⎜                                                           \n",
              "  2               ⎜-k₁⋅tan(\\theta₁(t)) + k₂⋅tan(\\theta₁(t) + \\theta₂(t)) - k₂⋅\n",
              " d                ⎝                                                           \n",
              "───(\\theta₁(t)) = ────────────────────────────────────────────────────────────\n",
              "  2                                                                           \n",
              "dt                                                                            \n",
              "\n",
              "                                                         2                    \n",
              "                           3             ⎛d             ⎞                     \n",
              "tan(\\theta₁(t)) - 2.0⋅m⋅tan (\\theta₁(t))⋅⎜──(\\theta₁(t))⎟  - 2.0⋅m⋅tan(\\theta₁\n",
              "                                         ⎝dt            ⎠                     \n",
              "──────────────────────────────────────────────────────────────────────────────\n",
              "                            m                                                 \n",
              "                                                                              \n",
              "\n",
              "                     2⎞                 \n",
              "     ⎛d             ⎞ ⎟    2            \n",
              "(t))⋅⎜──(\\theta₁(t))⎟ ⎟⋅cos (\\theta₁(t))\n",
              "     ⎝dt            ⎠ ⎠                 \n",
              "────────────────────────────────────────\n",
              "                                        \n",
              "                                        "
            ]
          },
          "metadata": {
            "tags": []
          }
        }
      ]
    },
    {
      "cell_type": "code",
      "metadata": {
        "id": "q_GV8BASgwC6",
        "colab": {
          "base_uri": "https://localhost:8080/",
          "height": 117
        },
        "outputId": "4cab7898-d5dc-4de1-a655-1170ee711931"
      },
      "source": [
        "display(sym.Eq(qddot[1],EulerSols[qddot[1]]))"
      ],
      "execution_count": null,
      "outputs": [
        {
          "output_type": "display_data",
          "data": {
            "text/html": [
              "<script src='https://cdnjs.cloudflare.com/ajax/libs/mathjax/2.7.3/latest.js?config=default'></script>"
            ],
            "text/plain": [
              "<IPython.core.display.HTML object>"
            ]
          },
          "metadata": {
            "tags": []
          }
        },
        {
          "output_type": "display_data",
          "data": {
            "text/latex": "$$\\frac{d^{2}}{d t^{2}}  \\theta_{2}{\\left (t \\right )} = \\frac{1}{m} \\left(\\tan{\\left (\\theta_{1}{\\left (t \\right )} \\right )} \\tan{\\left (\\theta_{2}{\\left (t \\right )} \\right )} - 1.0\\right)^{2} \\left(k_{1} \\tan^{2}{\\left (\\theta_{1}{\\left (t \\right )} + \\theta_{2}{\\left (t \\right )} \\right )} \\tan{\\left (\\theta_{1}{\\left (t \\right )} \\right )} + k_{1} \\tan{\\left (\\theta_{1}{\\left (t \\right )} \\right )} - k_{2} \\tan^{3}{\\left (\\theta_{1}{\\left (t \\right )} + \\theta_{2}{\\left (t \\right )} \\right )} + k_{2} \\tan^{2}{\\left (\\theta_{1}{\\left (t \\right )} + \\theta_{2}{\\left (t \\right )} \\right )} \\tan{\\left (\\theta_{1}{\\left (t \\right )} \\right )} - k_{2} \\tan{\\left (\\theta_{1}{\\left (t \\right )} + \\theta_{2}{\\left (t \\right )} \\right )} \\tan^{2}{\\left (\\theta_{1}{\\left (t \\right )} \\right )} - 2.0 k_{2} \\tan{\\left (\\theta_{1}{\\left (t \\right )} + \\theta_{2}{\\left (t \\right )} \\right )} + k_{2} \\tan^{3}{\\left (\\theta_{1}{\\left (t \\right )} \\right )} + 2.0 k_{2} \\tan{\\left (\\theta_{1}{\\left (t \\right )} \\right )} - 2.0 m \\tan^{3}{\\left (\\theta_{1}{\\left (t \\right )} + \\theta_{2}{\\left (t \\right )} \\right )} \\tan^{2}{\\left (\\theta_{1}{\\left (t \\right )} \\right )} \\left(\\frac{d}{d t} \\theta_{1}{\\left (t \\right )}\\right)^{2} - 4.0 m \\tan^{3}{\\left (\\theta_{1}{\\left (t \\right )} + \\theta_{2}{\\left (t \\right )} \\right )} \\tan^{2}{\\left (\\theta_{1}{\\left (t \\right )} \\right )} \\frac{d}{d t} \\theta_{1}{\\left (t \\right )} \\frac{d}{d t} \\theta_{2}{\\left (t \\right )} - 2.0 m \\tan^{3}{\\left (\\theta_{1}{\\left (t \\right )} + \\theta_{2}{\\left (t \\right )} \\right )} \\tan^{2}{\\left (\\theta_{1}{\\left (t \\right )} \\right )} \\left(\\frac{d}{d t} \\theta_{2}{\\left (t \\right )}\\right)^{2} - 2.0 m \\tan^{3}{\\left (\\theta_{1}{\\left (t \\right )} + \\theta_{2}{\\left (t \\right )} \\right )} \\left(\\frac{d}{d t} \\theta_{1}{\\left (t \\right )}\\right)^{2} - 4.0 m \\tan^{3}{\\left (\\theta_{1}{\\left (t \\right )} + \\theta_{2}{\\left (t \\right )} \\right )} \\frac{d}{d t} \\theta_{1}{\\left (t \\right )} \\frac{d}{d t} \\theta_{2}{\\left (t \\right )} - 2.0 m \\tan^{3}{\\left (\\theta_{1}{\\left (t \\right )} + \\theta_{2}{\\left (t \\right )} \\right )} \\left(\\frac{d}{d t} \\theta_{2}{\\left (t \\right )}\\right)^{2} + 2.0 m \\tan^{2}{\\left (\\theta_{1}{\\left (t \\right )} + \\theta_{2}{\\left (t \\right )} \\right )} \\tan^{3}{\\left (\\theta_{1}{\\left (t \\right )} \\right )} \\left(\\frac{d}{d t} \\theta_{1}{\\left (t \\right )}\\right)^{2} + 2.0 m \\tan^{2}{\\left (\\theta_{1}{\\left (t \\right )} + \\theta_{2}{\\left (t \\right )} \\right )} \\tan{\\left (\\theta_{1}{\\left (t \\right )} \\right )} \\left(\\frac{d}{d t} \\theta_{1}{\\left (t \\right )}\\right)^{2} - 2.0 m \\tan{\\left (\\theta_{1}{\\left (t \\right )} + \\theta_{2}{\\left (t \\right )} \\right )} \\tan^{2}{\\left (\\theta_{1}{\\left (t \\right )} \\right )} \\left(\\frac{d}{d t} \\theta_{1}{\\left (t \\right )}\\right)^{2} - 4.0 m \\tan{\\left (\\theta_{1}{\\left (t \\right )} + \\theta_{2}{\\left (t \\right )} \\right )} \\tan^{2}{\\left (\\theta_{1}{\\left (t \\right )} \\right )} \\frac{d}{d t} \\theta_{1}{\\left (t \\right )} \\frac{d}{d t} \\theta_{2}{\\left (t \\right )} - 2.0 m \\tan{\\left (\\theta_{1}{\\left (t \\right )} + \\theta_{2}{\\left (t \\right )} \\right )} \\tan^{2}{\\left (\\theta_{1}{\\left (t \\right )} \\right )} \\left(\\frac{d}{d t} \\theta_{2}{\\left (t \\right )}\\right)^{2} - 2.0 m \\tan{\\left (\\theta_{1}{\\left (t \\right )} + \\theta_{2}{\\left (t \\right )} \\right )} \\left(\\frac{d}{d t} \\theta_{1}{\\left (t \\right )}\\right)^{2} - 4.0 m \\tan{\\left (\\theta_{1}{\\left (t \\right )} + \\theta_{2}{\\left (t \\right )} \\right )} \\frac{d}{d t} \\theta_{1}{\\left (t \\right )} \\frac{d}{d t} \\theta_{2}{\\left (t \\right )} - 2.0 m \\tan{\\left (\\theta_{1}{\\left (t \\right )} + \\theta_{2}{\\left (t \\right )} \\right )} \\left(\\frac{d}{d t} \\theta_{2}{\\left (t \\right )}\\right)^{2} + 2.0 m \\tan^{3}{\\left (\\theta_{1}{\\left (t \\right )} \\right )} \\left(\\frac{d}{d t} \\theta_{1}{\\left (t \\right )}\\right)^{2} + 2.0 m \\tan{\\left (\\theta_{1}{\\left (t \\right )} \\right )} \\left(\\frac{d}{d t} \\theta_{1}{\\left (t \\right )}\\right)^{2}\\right) \\cos^{4}{\\left (\\theta_{1}{\\left (t \\right )} \\right )} \\cos^{2}{\\left (\\theta_{2}{\\left (t \\right )} \\right )}$$",
            "text/plain": [
              "                                                           ⎛                  \n",
              "                                                         2 ⎜      2           \n",
              "  2               (tan(\\theta₁(t))⋅tan(\\theta₂(t)) - 1.0) ⋅⎜k₁⋅tan (\\theta₁(t)\n",
              " d                                                         ⎝                  \n",
              "───(\\theta₂(t)) = ────────────────────────────────────────────────────────────\n",
              "  2                                                                           \n",
              "dt                                                                            \n",
              "\n",
              "                                                                              \n",
              "                                                            3                 \n",
              " + \\theta₂(t))⋅tan(\\theta₁(t)) + k₁⋅tan(\\theta₁(t)) - k₂⋅tan (\\theta₁(t) + \\th\n",
              "                                                                              \n",
              "──────────────────────────────────────────────────────────────────────────────\n",
              "                                                                              \n",
              "                                                                              \n",
              "\n",
              "                                                                              \n",
              "                 2                                                            \n",
              "eta₂(t)) + k₂⋅tan (\\theta₁(t) + \\theta₂(t))⋅tan(\\theta₁(t)) - k₂⋅tan(\\theta₁(t\n",
              "                                                                              \n",
              "──────────────────────────────────────────────────────────────────────────────\n",
              "                                                                              \n",
              "                                                                              \n",
              "\n",
              "                                                                              \n",
              "                   2                                                          \n",
              ") + \\theta₂(t))⋅tan (\\theta₁(t)) - 2.0⋅k₂⋅tan(\\theta₁(t) + \\theta₂(t)) + k₂⋅ta\n",
              "                                                                              \n",
              "──────────────────────────────────────────────────────────────────────────────\n",
              "                                                                              \n",
              "                                                                              \n",
              "\n",
              "                                                                              \n",
              " 3                                                 3                          \n",
              "n (\\theta₁(t)) + 2.0⋅k₂⋅tan(\\theta₁(t)) - 2.0⋅m⋅tan (\\theta₁(t) + \\theta₂(t))⋅\n",
              "                                                                              \n",
              "──────────────────────────────────────────────────────────────────────────────\n",
              "                                                                              \n",
              "                                                                              \n",
              "\n",
              "                                 2                                            \n",
              "   2             ⎛d             ⎞             3                             2 \n",
              "tan (\\theta₁(t))⋅⎜──(\\theta₁(t))⎟  - 4.0⋅m⋅tan (\\theta₁(t) + \\theta₂(t))⋅tan (\n",
              "                 ⎝dt            ⎠                                             \n",
              "──────────────────────────────────────────────────────────────────────────────\n",
              "                                                                              \n",
              "                                                                              \n",
              "\n",
              "                                                                              \n",
              "            d              d                         3                        \n",
              "\\theta₁(t))⋅──(\\theta₁(t))⋅──(\\theta₂(t)) - 2.0⋅m⋅tan (\\theta₁(t) + \\theta₂(t)\n",
              "            dt             dt                                                 \n",
              "──────────────────────────────────────────────────────────────────────────────\n",
              "                                                                              \n",
              "                                                                              \n",
              "\n",
              "                                   2                                          \n",
              "     2             ⎛d             ⎞             3                          ⎛d \n",
              ")⋅tan (\\theta₁(t))⋅⎜──(\\theta₂(t))⎟  - 2.0⋅m⋅tan (\\theta₁(t) + \\theta₂(t))⋅⎜──\n",
              "                   ⎝dt            ⎠                                        ⎝dt\n",
              "──────────────────────────────────────────────────────────────────────────────\n",
              "                                                                              \n",
              "                                                                              \n",
              "\n",
              "             2                                                                \n",
              "            ⎞             3                          d              d         \n",
              "(\\theta₁(t))⎟  - 4.0⋅m⋅tan (\\theta₁(t) + \\theta₂(t))⋅──(\\theta₁(t))⋅──(\\theta₂\n",
              "            ⎠                                        dt             dt        \n",
              "──────────────────────────────────────────────────────────────────────────────\n",
              "                                                                              \n",
              "                                                                              \n",
              "\n",
              "                                                           2                  \n",
              "                3                          ⎛d             ⎞             2     \n",
              "(t)) - 2.0⋅m⋅tan (\\theta₁(t) + \\theta₂(t))⋅⎜──(\\theta₂(t))⎟  + 2.0⋅m⋅tan (\\the\n",
              "                                           ⎝dt            ⎠                   \n",
              "──────────────────────────────────────────────────────────────────────────────\n",
              "                      m                                                       \n",
              "                                                                              \n",
              "\n",
              "                                                      2                       \n",
              "                        3             ⎛d             ⎞             2          \n",
              "ta₁(t) + \\theta₂(t))⋅tan (\\theta₁(t))⋅⎜──(\\theta₁(t))⎟  + 2.0⋅m⋅tan (\\theta₁(t\n",
              "                                      ⎝dt            ⎠                        \n",
              "──────────────────────────────────────────────────────────────────────────────\n",
              "                                                                              \n",
              "                                                                              \n",
              "\n",
              "                                                2                             \n",
              "                                ⎛d             ⎞                              \n",
              ") + \\theta₂(t))⋅tan(\\theta₁(t))⋅⎜──(\\theta₁(t))⎟  - 2.0⋅m⋅tan(\\theta₁(t) + \\th\n",
              "                                ⎝dt            ⎠                              \n",
              "──────────────────────────────────────────────────────────────────────────────\n",
              "                                                                              \n",
              "                                                                              \n",
              "\n",
              "                                          2                                   \n",
              "            2             ⎛d             ⎞                                    \n",
              "eta₂(t))⋅tan (\\theta₁(t))⋅⎜──(\\theta₁(t))⎟  - 4.0⋅m⋅tan(\\theta₁(t) + \\theta₂(t\n",
              "                          ⎝dt            ⎠                                    \n",
              "──────────────────────────────────────────────────────────────────────────────\n",
              "                                                                              \n",
              "                                                                              \n",
              "\n",
              "                                                                              \n",
              "      2             d              d                                          \n",
              "))⋅tan (\\theta₁(t))⋅──(\\theta₁(t))⋅──(\\theta₂(t)) - 2.0⋅m⋅tan(\\theta₁(t) + \\th\n",
              "                    dt             dt                                         \n",
              "──────────────────────────────────────────────────────────────────────────────\n",
              "                                                                              \n",
              "                                                                              \n",
              "\n",
              "                                          2                                   \n",
              "            2             ⎛d             ⎞                                    \n",
              "eta₂(t))⋅tan (\\theta₁(t))⋅⎜──(\\theta₂(t))⎟  - 2.0⋅m⋅tan(\\theta₁(t) + \\theta₂(t\n",
              "                          ⎝dt            ⎠                                    \n",
              "──────────────────────────────────────────────────────────────────────────────\n",
              "                                                                              \n",
              "                                                                              \n",
              "\n",
              "                   2                                                          \n",
              "   ⎛d             ⎞                                       d              d    \n",
              "))⋅⎜──(\\theta₁(t))⎟  - 4.0⋅m⋅tan(\\theta₁(t) + \\theta₂(t))⋅──(\\theta₁(t))⋅──(\\t\n",
              "   ⎝dt            ⎠                                       dt             dt   \n",
              "──────────────────────────────────────────────────────────────────────────────\n",
              "                                                                              \n",
              "                                                                              \n",
              "\n",
              "                                                               2              \n",
              "                                               ⎛d             ⎞             3 \n",
              "heta₂(t)) - 2.0⋅m⋅tan(\\theta₁(t) + \\theta₂(t))⋅⎜──(\\theta₂(t))⎟  + 2.0⋅m⋅tan (\n",
              "                                               ⎝dt            ⎠               \n",
              "──────────────────────────────────────────────────────────────────────────────\n",
              "                                                                              \n",
              "                                                                              \n",
              "\n",
              "                            2                                         2⎞      \n",
              "            ⎛d             ⎞                          ⎛d             ⎞ ⎟    4 \n",
              "\\theta₁(t))⋅⎜──(\\theta₁(t))⎟  + 2.0⋅m⋅tan(\\theta₁(t))⋅⎜──(\\theta₁(t))⎟ ⎟⋅cos (\n",
              "            ⎝dt            ⎠                          ⎝dt            ⎠ ⎠      \n",
              "──────────────────────────────────────────────────────────────────────────────\n",
              "                                                                              \n",
              "                                                                              \n",
              "\n",
              "                            \n",
              "               2            \n",
              "\\theta₁(t))⋅cos (\\theta₂(t))\n",
              "                            \n",
              "────────────────────────────\n",
              "                            \n",
              "                            "
            ]
          },
          "metadata": {
            "tags": []
          }
        }
      ]
    },
    {
      "cell_type": "markdown",
      "metadata": {
        "id": "FVpDwJDr3Kj4"
      },
      "source": [
        "### Problem #4 (20 pts)\n",
        "Show by example that Newton's equations do not hold in an\n",
        "  arbitrary choice of coordinates using the two masses on a line\n",
        "  example discussed in class and seen in Fig. 1(right)\n",
        "  (but they do, of course, hold in Cartesian coordinates). You should\n",
        "  be able to show this in just a few lines. In other words, show that when the $a$ in $F=ma$ represents the second derivative of a coordinate in a non-inertial frame, Newton's equations of motion don't hold."
      ]
    },
    {
      "cell_type": "markdown",
      "metadata": {
        "id": "YN-CwPba-QoE"
      },
      "source": [
        "in written form"
      ]
    },
    {
      "cell_type": "markdown",
      "metadata": {
        "id": "KA2cOCb23Xlf"
      },
      "source": [
        "### Problem #5 (20 pts)\n",
        "Show that torque balance for a rotating body $J \\alpha=\\sum\n",
        "  \\tau$ (where $\\alpha=\\ddot{\\theta}$ and $J$ is the rotational inertia)\n",
        "  satisfies a least action principle principle.  Assume that the\n",
        "  forces are from potentials that depend on the rotation $\\theta$ (i.e.,\n",
        "  $\\tau=-\\frac{\\partial V(\\theta)}{\\partial\\theta}$).  You need to figure out what the kinetic\n",
        "  energy should be and then show that torque balance is a result of\n",
        "  extremizing the integral of the kinetic energy minus the potential\n",
        "  energy.  Hint: this is similar to the second day of lecture when we\n",
        "  discussed a point mass in gravity."
      ]
    },
    {
      "cell_type": "markdown",
      "metadata": {
        "id": "TkhzoUXx-MgF"
      },
      "source": [
        "in written form"
      ]
    },
    {
      "cell_type": "markdown",
      "metadata": {
        "id": "w2Qgil9k3veZ"
      },
      "source": [
        "### Problem #6 (20 pts)\n",
        "Simulate the system in Fig. 1(left) with an\n",
        "  initial condition of $(x,y)=(\\pi/2,0)$ and zero velocity with a mass\n",
        "  of $m=1$ for $t\\in[0,10]$.  Plot the resulting $(x,y)$ trajectory as\n",
        "  (1) $x(t)$ and $y(t)$ versus time and (2) of $x(t)$ versus $y(t)$\n",
        "  using Matplotlib in *Colaboratory*."
      ]
    },
    {
      "cell_type": "code",
      "metadata": {
        "id": "71yMGbjf4w6y",
        "colab": {
          "base_uri": "https://localhost:8080/",
          "height": 458
        },
        "outputId": "de11b1d3-86c5-4cd6-c368-39f62d05dd87"
      },
      "source": [
        "import numpy as np\n",
        "import sympy as sym\n",
        "import math\n",
        "from sympy.abc import t\n",
        "%matplotlib inline\n",
        "import matplotlib.pyplot as plt\n",
        "\n",
        "#######################\n",
        "# Custom latex printing\n",
        "def custom_latex_printer(exp,**options):\n",
        "    from google.colab.output._publish import javascript\n",
        "    url = \"https://cdnjs.cloudflare.com/ajax/libs/mathjax/2.7.3/latest.js?config=default\"\n",
        "    javascript(url=url)\n",
        "    return sym.printing.latex(exp,**options)\n",
        "sym.init_printing(use_latex=\"mathjax\",latex_printer=custom_latex_printer)\n",
        "\n",
        "def integrate(f,x0,dt):\n",
        "    \"\"\"\n",
        "    This function takes in an initial condition x0 and a timestep dt,\n",
        "    as well as a dynamical system f(x) that outputs a vector of the\n",
        "    same dimension as x0. It outputs a vector x at the future time step.\n",
        "    \"\"\"\n",
        "    k1=dt*f(x0)\n",
        "    k2=dt*f(x0+k1/2.)\n",
        "    k3=dt*f(x0+k2/2.)\n",
        "    k4=dt*f(x0+k3)\n",
        "    xnew=x0+(1/6.)*(k1+2.*k2+2.*k3+k4)\n",
        "    return xnew\n",
        "\n",
        "def simulate(f,x0,tspan,dt):\n",
        "    \"\"\"\n",
        "    This function takes in an initial condition x0, a timestep dt,\n",
        "    a time span tspan consisting of a list [min_time, max_time],\n",
        "    as well as a dynamical system f(x) that outputs a vector of the\n",
        "    same dimension as x0. It outputs a full trajectory simulated\n",
        "    over the time span of dimensions (xvec_size, time_vec_size).\n",
        "    \"\"\"\n",
        "    N = int((max(tspan)-min(tspan))/dt)\n",
        "    x = np.copy(x0)\n",
        "    tvec = np.linspace(min(tspan),max(tspan),N)\n",
        "    xtraj = np.zeros((len(x0),N))\n",
        "    for i in range(N):\n",
        "        xtraj[:,i]=integrate(f,x,dt)\n",
        "        x = np.copy(xtraj[:,i])\n",
        "    return xtraj  \n",
        "  \n",
        "  \n",
        "  #####################################\n",
        "# Here we define our dynamics as a \n",
        "# function outputting the xdot vector\n",
        "def dynamics(q):#q = [thetadot, xdot, theta, x]\n",
        "  m = 1\n",
        "  M = 2\n",
        "  g = 9.8\n",
        "  l = 1\n",
        "  thetadot = q[0]\n",
        "  xdot = q[1]\n",
        "  theta = q[2]\n",
        "  x = q[3]\n",
        "  \n",
        "  #xDD = (m*l*thetadot*thetadot*math.sin(theta)-m*math.cos(theta)*g*math.sin(theta))/(m*math.cos(theta)*math.cos(theta)-M-m)\n",
        "  #thetaDD = (g*math.sin(theta)+xDD*math.cos(theta)) #verified\n",
        "  \n",
        "  thetaDD =(sym.sin(q[2]))*(g-sym.cos(q[2])*(q[0]**2))/(sym.sin(q[2])**2+1)\n",
        "  xDD =-1*(g*sym.sin(q[2])**2+sym.cos(q[2]))*(q[0]**2)/(sym.sin(q[2])**2+1)\n",
        "  \n",
        "  \n",
        "  qdot = np.array([\n",
        "      (np.sin(q[2]))*(g-np.cos(q[2])*(q[0]**2))/(np.sin(q[2])**2+1) , \n",
        "      -1*(g*np.sin(q[2])**2+np.cos(q[2])*(q[0]**2))/(np.sin(q[2])**2+1) , \n",
        "      q[0], \n",
        "      q[1]\n",
        "  ])\n",
        "    \n",
        "    \n",
        "  #xdot = np.array([-x[0]-x[1],\n",
        "                     #-np.sin(x[1])])\n",
        "  return qdot\n",
        "\n",
        "###################################\n",
        "# Here we define initial conditions \n",
        "# and time variables\n",
        "tspan = [0,10]\n",
        "dt = 0.01\n",
        "\n",
        "\n",
        "q0 = np.array([0,0,1.5,0])\n",
        "\n",
        "\n",
        "N = int((max(tspan)-min(tspan))/dt)\n",
        "tvec = np.linspace(min(tspan),max(tspan),N)\n",
        "\n",
        "##################\n",
        "# Here we simulate\n",
        "qvec = simulate(dynamics,q0,tspan,dt) # just one line!\n",
        "#xvec[1] = (-9.8/2)*tvec*tvec+1\n",
        "#for i in range(len(xvec[1])):\n",
        "#  if xvec[1][i] < 0:\n",
        "#    xvec[1][i] = 0\n",
        "\n",
        "\n",
        "\n",
        "##############\n",
        "# Here we plot\n",
        "plt.figure(dpi=110,facecolor='w')\n",
        "#plt.plot(tvec,qvec[0])\n",
        "#plt.plot(tvec,qvec[1])\n",
        "plt.plot(tvec,qvec[2])\n",
        "plt.plot(tvec,qvec[3])\n",
        "\n",
        "plt.xlim(tspan)\n",
        "\n",
        "plt.title('#6')\n",
        "plt.xlabel('Time (s)')\n",
        "plt.ylabel('States')\n",
        "plt.legend(['theta','x','theta(t)','x(t)'])\n"
      ],
      "execution_count": null,
      "outputs": [
        {
          "output_type": "execute_result",
          "data": {
            "text/plain": [
              "<matplotlib.legend.Legend at 0x7f84e23d3ac8>"
            ]
          },
          "metadata": {
            "tags": []
          },
          "execution_count": 23
        },
        {
          "output_type": "display_data",
          "data": {
            "image/png": "[encoded data removed]",
            "text/plain": [
              "<Figure size 660x440 with 1 Axes>"
            ]
          },
          "metadata": {
            "tags": []
          }
        }
      ]
    },
    {
      "cell_type": "code",
      "metadata": {
        "id": "o16T4ryX44Qo",
        "colab": {
          "base_uri": "https://localhost:8080/",
          "height": 295
        },
        "outputId": "189fbbe3-46c7-4653-9c5d-a3a5f2edb385"
      },
      "source": [
        "\n",
        "plt.plot(qvec[3],qvec[2])\n",
        "plt.title('#6 x vs y')\n",
        "plt.xlabel('Time (s)')\n",
        "plt.ylabel('States')\n",
        "plt.legend(['thetadot(t)','xdot(t)','theta(t)','x(t)'])\n",
        "plt.grid(True)\n",
        "plt.show()"
      ],
      "execution_count": null,
      "outputs": [
        {
          "output_type": "display_data",
          "data": {
            "image/png": "[encoded data removed]",
            "text/plain": [
              "<Figure size 432x288 with 1 Axes>"
            ]
          },
          "metadata": {
            "tags": []
          }
        }
      ]
    }
  ]
}