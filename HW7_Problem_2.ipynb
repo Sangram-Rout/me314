{
  "nbformat": 4,
  "nbformat_minor": 0,
  "metadata": {
    "colab": {
      "name": "Problem 2.ipynb",
      "provenance": [],
      "collapsed_sections": [],
      "include_colab_link": true
    },
    "kernelspec": {
      "name": "python3",
      "display_name": "Python 3"
    }
  },
  "cells": [
    {
      "cell_type": "markdown",
      "metadata": {
        "id": "view-in-github",
        "colab_type": "text"
      },
      "source": [
        "<a href=\"https://colab.research.google.com/github/Sangram-Rout/me314/blob/main/HW7_Problem_2.ipynb\" target=\"_parent\"><img src=\"https://colab.research.google.com/assets/colab-badge.svg\" alt=\"Open In Colab\"/></a>"
      ]
    },
    {
      "cell_type": "code",
      "metadata": {
        "id": "QYPOQWVeXco0"
      },
      "source": [
        "import numpy as np\n",
        "import sympy as sym\n",
        "from sympy.abc import t\n",
        "%matplotlib inline\n",
        "import matplotlib.pyplot as plt\n",
        "\n",
        "#######################\n",
        "# Custom latex printing\n",
        "def custom_latex_printer(exp,**options):\n",
        "    from google.colab.output._publish import javascript\n",
        "    url = \"https://cdnjs.cloudflare.com/ajax/libs/mathjax/2.7.3/latest.js?config=TeX-AMS_HTML\"\n",
        "    javascript(url=url)\n",
        "    return sym.printing.latex(exp,**options)\n",
        "sym.init_printing(use_latex=\"mathjax\",latex_printer=custom_latex_printer)\n",
        "\n",
        "####################\n",
        "# Simulation helpers\n",
        "def integrate(f,x0,dt):\n",
        "    \"\"\"\n",
        "    This function takes in an initial condition x0 and a timestep dt,\n",
        "    as well as a dynamical system f(x) that outputs a vector of the\n",
        "    same dimension as x0. It outputs a vector x at the future time step.\n",
        "    \"\"\"\n",
        "    k1=dt*f(x0)\n",
        "    k2=dt*f(x0+k1/2.)\n",
        "    k3=dt*f(x0+k2/2.)\n",
        "    k4=dt*f(x0+k3)\n",
        "    xnew=x0+(1/6.)*(k1+2.*k2+2.*k3+k4)\n",
        "    return xnew\n",
        "\n",
        "def simulate(f,x0,tspan,dt):\n",
        "    \"\"\"\n",
        "    This function takes in an initial condition x0, a timestep dt,\n",
        "    a time span tspan consisting of a list [min_time, max_time],\n",
        "    as well as a dynamical system f(x) that outputs a vector of the\n",
        "    same dimension as x0. Additionally, this includes a flag (default false)\n",
        "    that allows one to supply an Euler intergation scheme instead of \n",
        "    the given scheme. It outputs a full trajectory simulated\n",
        "    over the time span of dimensions (xvec_size, time_vec_size).\n",
        "    \"\"\"\n",
        "    N = int((max(tspan)-min(tspan))/dt)\n",
        "    x = np.copy(x0)\n",
        "    tvec = np.linspace(min(tspan),max(tspan),N)\n",
        "    xtraj = np.zeros((len(x0),N))\n",
        "    for i in range(N):\n",
        "        xtraj[:,i]=integrate(f,x,dt)\n",
        "        x = np.copy(xtraj[:,i])\n",
        "    return xtraj   "
      ],
      "execution_count": null,
      "outputs": []
    },
    {
      "cell_type": "code",
      "metadata": {
        "id": "R1JqJqnsXWur"
      },
      "source": [
        "from sympy.matrices import MatrixSymbol, Transpose\n",
        "from sympy.functions import transpose\n",
        "from sympy.matrices import Matrix\n",
        "from sympy import MatrixSymbol, Inverse"
      ],
      "execution_count": null,
      "outputs": []
    },
    {
      "cell_type": "code",
      "metadata": {
        "id": "3cvVK9TKXnxM"
      },
      "source": [
        "# Here we define the constants/variables relevant to the problem\n",
        "\n",
        "#Updated for double pendulum\n",
        "m,R1,R2,R3,g,k1,k2, lamb, l, J, w, a, b= sym.symbols('m R1 R2 R3 g k1 k2 lambda l J w a b')\n",
        "\n",
        "k1,k2,lbd1,lbd2= sym.symbols('k1 k2 lambda_1 lambda_2')\n",
        "#m,m,\n",
        "th1 = sym.Function(r'\\theta_1')(t)\n",
        "th2 = sym.Function(r'\\theta_2')(t)\n",
        "th3 = sym.Function(r'\\theta_3')(t)\n",
        "theta1 = sym.symbols(r'\\theta_1')\n",
        "theta1_dot = sym.symbols(r'\\dot{\\theta_1}')\n",
        "theta1_ddot = sym.symbols(r'\\ddot{\\theta_1}')\n",
        "theta2 = sym.symbols(r'\\theta_2')\n",
        "theta2_dot = sym.symbols(r'\\dot{\\theta_2}')\n",
        "theta2_ddot = sym.symbols(r'\\ddot{\\theta_2}')\n",
        "theta3 = sym.symbols(r'\\theta_3')\n",
        "theta3_dot = sym.symbols(r'\\dot{\\theta_3}')\n",
        "theta3_ddot = sym.symbols(r'\\ddot{\\theta_3}')\n",
        "a = sym.Function(r'a')(t)\n",
        "b = sym.Function(r'b')(t)\n",
        "\n",
        "\n",
        "# Here we define our configuration variables\n",
        "#q = sym.Matrix([th1,th2,th3])\n",
        "q = sym.Matrix([th1,th2])\n",
        "qdot = q.diff(t)\n",
        "qddot = qdot.diff(t)\n",
        "\n",
        "l=1;\n",
        "dt=0.01;\n",
        "k1=10;\n",
        "k2=20;\n",
        "J=1;\n",
        "m=1;\n",
        "g=9.81;\n",
        "\n",
        "\n",
        "# Coordinate change to make Lagrangian calculation easier\n",
        "x1 = R1*sym.sin(th1)\n",
        "y1 = -R1*sym.cos(th1)\n",
        "x2 = x1 + R2*sym.sin(th1+th2)\n",
        "y2 = y1 - R2*sym.cos(th1+th2)\n",
        "#x3 = x2 + R3*sym.sin(th1+th2+th3)\n",
        "#y3 = y2 - R3*sym.cos(th1+th2+th3)\n",
        "x1d = x1.diff(t)\n",
        "y1d = y1.diff(t)\n",
        "x2d = x2.diff(t)\n",
        "y2d = y2.diff(t)\n",
        "#x3d = x3.diff(t)\n",
        "#y3d = y3.diff(t)\n",
        "\n"
      ],
      "execution_count": null,
      "outputs": []
    },
    {
      "cell_type": "code",
      "metadata": {
        "id": "mnNmoLHkH6w1"
      },
      "source": [
        "g12=sym.Matrix(4, 4, [1, 0, 0, a, 0, 1,0,b,0,0,1,0,0,0,0,1])\n",
        "#display(g12)\n",
        "#g1.dt=g1.diff(t)\n",
        "#display(g1.dt)\n",
        "#g1.inv=g1**(-1)\n",
        "#display(g1.inv)"
      ],
      "execution_count": null,
      "outputs": []
    },
    {
      "cell_type": "code",
      "metadata": {
        "id": "Sv7OGbi8IPKs",
        "colab": {
          "base_uri": "https://localhost:8080/",
          "height": 136
        },
        "outputId": "3b947b9b-b442-4d23-95d8-89598dd15f98"
      },
      "source": [
        "#center of the body 1\n",
        "g1=g12*g111\n",
        "display(g1)"
      ],
      "execution_count": null,
      "outputs": [
        {
          "output_type": "display_data",
          "data": {
            "text/html": [
              "<script src='https://cdnjs.cloudflare.com/ajax/libs/mathjax/2.7.3/latest.js?config=TeX-AMS_HTML'></script>"
            ],
            "text/plain": [
              "<IPython.core.display.HTML object>"
            ]
          },
          "metadata": {
            "tags": []
          }
        },
        {
          "output_type": "display_data",
          "data": {
            "text/latex": "$$\\left[\\begin{matrix}\\cos{\\left (\\theta_{1}{\\left (t \\right )} \\right )} & - \\sin{\\left (\\theta_{1}{\\left (t \\right )} \\right )} & 0 & a{\\left (t \\right )}\\\\\\sin{\\left (\\theta_{1}{\\left (t \\right )} \\right )} & \\cos{\\left (\\theta_{1}{\\left (t \\right )} \\right )} & 0 & b{\\left (t \\right )}\\\\0 & 0 & 1 & 0\\\\0 & 0 & 0 & 1\\end{matrix}\\right]$$",
            "text/plain": [
              "⎡cos(\\theta₁(t))  -sin(\\theta₁(t))  0  a(t)⎤\n",
              "⎢                                          ⎥\n",
              "⎢sin(\\theta₁(t))  cos(\\theta₁(t))   0  b(t)⎥\n",
              "⎢                                          ⎥\n",
              "⎢       0                0          1   0  ⎥\n",
              "⎢                                          ⎥\n",
              "⎣       0                0          0   1  ⎦"
            ]
          },
          "metadata": {
            "tags": []
          }
        }
      ]
    },
    {
      "cell_type": "code",
      "metadata": {
        "id": "t_zoiFy5Xz5b"
      },
      "source": [
        "g111=sym.Matrix(4, 4, [sym.cos(th1), -1*sym.sin(th1), 0, 0, 1*sym.sin(th1), sym.cos(th1),0,0,0,0,1,0,0,0,0,1])\n",
        "#display(g111)\n",
        "g111.dt=g1.diff(t)\n",
        "#display(g1.dt)\n",
        "g111.inv=g1**(-1)\n",
        "#display(g1.inv)"
      ],
      "execution_count": null,
      "outputs": []
    },
    {
      "cell_type": "code",
      "metadata": {
        "id": "YXrTbwtXYkPt"
      },
      "source": [
        "# V_b=g1.inv*g1.dt\n",
        "# display(sym.simplify(V_b[2]))"
      ],
      "execution_count": null,
      "outputs": []
    },
    {
      "cell_type": "code",
      "metadata": {
        "id": "SOm9qVZwXuNy"
      },
      "source": [
        "#position of the body 1 lower end\n",
        "#g11=sym.Matrix(4, 4,[1 , 0,0,0, 0, 1,0, l*sym.cos(th1)/2+(l)/2,0, 0,1,0 ,0,0,0, 1])\n",
        "#display(g11)\n",
        "\n"
      ],
      "execution_count": null,
      "outputs": []
    },
    {
      "cell_type": "code",
      "metadata": {
        "id": "nLWxbAy3a3fr",
        "colab": {
          "base_uri": "https://localhost:8080/",
          "height": 134
        },
        "outputId": "c9f954e8-3a63-4e1d-a003-fea0ed245680"
      },
      "source": [
        "#translation of the coordinate on the right side\n",
        "#bring it to the center again\n",
        "r32=sym.Matrix(4, 4,[1 , 0,0,0, 0, 1, 0, -l/2,0,0,1,0,0,0,0 , 1])\n",
        "display(r32)"
      ],
      "execution_count": null,
      "outputs": [
        {
          "output_type": "display_data",
          "data": {
            "text/html": [
              "<script src='https://cdnjs.cloudflare.com/ajax/libs/mathjax/2.7.3/latest.js?config=TeX-AMS_HTML'></script>"
            ],
            "text/plain": [
              "<IPython.core.display.HTML object>"
            ]
          },
          "metadata": {
            "tags": []
          }
        },
        {
          "output_type": "display_data",
          "data": {
            "text/latex": "$$\\left[\\begin{matrix}1 & 0 & 0 & 0\\\\0 & 1 & 0 & -0.5\\\\0 & 0 & 1 & 0\\\\0 & 0 & 0 & 1\\end{matrix}\\right]$$",
            "text/plain": [
              "⎡1  0  0   0  ⎤\n",
              "⎢             ⎥\n",
              "⎢0  1  0  -0.5⎥\n",
              "⎢             ⎥\n",
              "⎢0  0  1   0  ⎥\n",
              "⎢             ⎥\n",
              "⎣0  0  0   1  ⎦"
            ]
          },
          "metadata": {
            "tags": []
          }
        }
      ]
    },
    {
      "cell_type": "code",
      "metadata": {
        "id": "uS-DRfTyZ277",
        "colab": {
          "base_uri": "https://localhost:8080/",
          "height": 450
        },
        "outputId": "42c8b179-9197-4b09-e50c-04d92e27fcaa"
      },
      "source": [
        "############\n",
        "###Coordinate on the right-side\n",
        "r21=sym.Matrix(4, 4, [sym.cos(th2), -1*sym.sin(th2), 0,l/2*sym.sin(th2),  1*sym.sin(th2), sym.cos(-th2),0,-l/2*sym.cos(th2),0,0,1,0,0,0,0,1])\n",
        "display(g1)\n",
        "display(r32)\n",
        "display(r21)\n",
        "g22=g1*r32*r21\n",
        "display(g22)\n"
      ],
      "execution_count": null,
      "outputs": [
        {
          "output_type": "display_data",
          "data": {
            "text/html": [
              "<script src='https://cdnjs.cloudflare.com/ajax/libs/mathjax/2.7.3/latest.js?config=TeX-AMS_HTML'></script>"
            ],
            "text/plain": [
              "<IPython.core.display.HTML object>"
            ]
          },
          "metadata": {
            "tags": []
          }
        },
        {
          "output_type": "display_data",
          "data": {
            "text/latex": "$$\\left[\\begin{matrix}\\cos{\\left (\\theta_{1}{\\left (t \\right )} \\right )} & - \\sin{\\left (\\theta_{1}{\\left (t \\right )} \\right )} & 0 & a{\\left (t \\right )}\\\\\\sin{\\left (\\theta_{1}{\\left (t \\right )} \\right )} & \\cos{\\left (\\theta_{1}{\\left (t \\right )} \\right )} & 0 & b{\\left (t \\right )}\\\\0 & 0 & 1 & 0\\\\0 & 0 & 0 & 1\\end{matrix}\\right]$$",
            "text/plain": [
              "⎡cos(\\theta₁(t))  -sin(\\theta₁(t))  0  a(t)⎤\n",
              "⎢                                          ⎥\n",
              "⎢sin(\\theta₁(t))  cos(\\theta₁(t))   0  b(t)⎥\n",
              "⎢                                          ⎥\n",
              "⎢       0                0          1   0  ⎥\n",
              "⎢                                          ⎥\n",
              "⎣       0                0          0   1  ⎦"
            ]
          },
          "metadata": {
            "tags": []
          }
        },
        {
          "output_type": "display_data",
          "data": {
            "text/html": [
              "<script src='https://cdnjs.cloudflare.com/ajax/libs/mathjax/2.7.3/latest.js?config=TeX-AMS_HTML'></script>"
            ],
            "text/plain": [
              "<IPython.core.display.HTML object>"
            ]
          },
          "metadata": {
            "tags": []
          }
        },
        {
          "output_type": "display_data",
          "data": {
            "text/latex": "$$\\left[\\begin{matrix}1 & 0 & 0 & 0\\\\0 & 1 & 0 & -0.5\\\\0 & 0 & 1 & 0\\\\0 & 0 & 0 & 1\\end{matrix}\\right]$$",
            "text/plain": [
              "⎡1  0  0   0  ⎤\n",
              "⎢             ⎥\n",
              "⎢0  1  0  -0.5⎥\n",
              "⎢             ⎥\n",
              "⎢0  0  1   0  ⎥\n",
              "⎢             ⎥\n",
              "⎣0  0  0   1  ⎦"
            ]
          },
          "metadata": {
            "tags": []
          }
        },
        {
          "output_type": "display_data",
          "data": {
            "text/html": [
              "<script src='https://cdnjs.cloudflare.com/ajax/libs/mathjax/2.7.3/latest.js?config=TeX-AMS_HTML'></script>"
            ],
            "text/plain": [
              "<IPython.core.display.HTML object>"
            ]
          },
          "metadata": {
            "tags": []
          }
        },
        {
          "output_type": "display_data",
          "data": {
            "text/latex": "$$\\left[\\begin{matrix}\\cos{\\left (\\theta_{2}{\\left (t \\right )} \\right )} & - \\sin{\\left (\\theta_{2}{\\left (t \\right )} \\right )} & 0 & 0.5 \\sin{\\left (\\theta_{2}{\\left (t \\right )} \\right )}\\\\\\sin{\\left (\\theta_{2}{\\left (t \\right )} \\right )} & \\cos{\\left (\\theta_{2}{\\left (t \\right )} \\right )} & 0 & - 0.5 \\cos{\\left (\\theta_{2}{\\left (t \\right )} \\right )}\\\\0 & 0 & 1 & 0\\\\0 & 0 & 0 & 1\\end{matrix}\\right]$$",
            "text/plain": [
              "⎡cos(\\theta₂(t))  -sin(\\theta₂(t))  0  0.5⋅sin(\\theta₂(t)) ⎤\n",
              "⎢                                                          ⎥\n",
              "⎢sin(\\theta₂(t))  cos(\\theta₂(t))   0  -0.5⋅cos(\\theta₂(t))⎥\n",
              "⎢                                                          ⎥\n",
              "⎢       0                0          1           0          ⎥\n",
              "⎢                                                          ⎥\n",
              "⎣       0                0          0           1          ⎦"
            ]
          },
          "metadata": {
            "tags": []
          }
        },
        {
          "output_type": "display_data",
          "data": {
            "text/html": [
              "<script src='https://cdnjs.cloudflare.com/ajax/libs/mathjax/2.7.3/latest.js?config=TeX-AMS_HTML'></script>"
            ],
            "text/plain": [
              "<IPython.core.display.HTML object>"
            ]
          },
          "metadata": {
            "tags": []
          }
        },
        {
          "output_type": "display_data",
          "data": {
            "text/latex": "$$\\left[\\begin{matrix}- \\sin{\\left (\\theta_{1}{\\left (t \\right )} \\right )} \\sin{\\left (\\theta_{2}{\\left (t \\right )} \\right )} + \\cos{\\left (\\theta_{1}{\\left (t \\right )} \\right )} \\cos{\\left (\\theta_{2}{\\left (t \\right )} \\right )} & - \\sin{\\left (\\theta_{1}{\\left (t \\right )} \\right )} \\cos{\\left (\\theta_{2}{\\left (t \\right )} \\right )} - \\sin{\\left (\\theta_{2}{\\left (t \\right )} \\right )} \\cos{\\left (\\theta_{1}{\\left (t \\right )} \\right )} & 0 & a{\\left (t \\right )} + 0.5 \\sin{\\left (\\theta_{1}{\\left (t \\right )} \\right )} \\cos{\\left (\\theta_{2}{\\left (t \\right )} \\right )} + 0.5 \\sin{\\left (\\theta_{1}{\\left (t \\right )} \\right )} + 0.5 \\sin{\\left (\\theta_{2}{\\left (t \\right )} \\right )} \\cos{\\left (\\theta_{1}{\\left (t \\right )} \\right )}\\\\\\sin{\\left (\\theta_{1}{\\left (t \\right )} \\right )} \\cos{\\left (\\theta_{2}{\\left (t \\right )} \\right )} + \\sin{\\left (\\theta_{2}{\\left (t \\right )} \\right )} \\cos{\\left (\\theta_{1}{\\left (t \\right )} \\right )} & - \\sin{\\left (\\theta_{1}{\\left (t \\right )} \\right )} \\sin{\\left (\\theta_{2}{\\left (t \\right )} \\right )} + \\cos{\\left (\\theta_{1}{\\left (t \\right )} \\right )} \\cos{\\left (\\theta_{2}{\\left (t \\right )} \\right )} & 0 & b{\\left (t \\right )} + 0.5 \\sin{\\left (\\theta_{1}{\\left (t \\right )} \\right )} \\sin{\\left (\\theta_{2}{\\left (t \\right )} \\right )} - 0.5 \\cos{\\left (\\theta_{1}{\\left (t \\right )} \\right )} \\cos{\\left (\\theta_{2}{\\left (t \\right )} \\right )} - 0.5 \\cos{\\left (\\theta_{1}{\\left (t \\right )} \\right )}\\\\0 & 0 & 1 & 0\\\\0 & 0 & 0 & 1\\end{matrix}\\right]$$",
            "text/plain": [
              "⎡-sin(\\theta₁(t))⋅sin(\\theta₂(t)) + cos(\\theta₁(t))⋅cos(\\theta₂(t))  -sin(\\the\n",
              "⎢                                                                             \n",
              "⎢sin(\\theta₁(t))⋅cos(\\theta₂(t)) + sin(\\theta₂(t))⋅cos(\\theta₁(t))   -sin(\\the\n",
              "⎢                                                                             \n",
              "⎢                                0                                            \n",
              "⎢                                                                             \n",
              "⎣                                0                                            \n",
              "\n",
              "ta₁(t))⋅cos(\\theta₂(t)) - sin(\\theta₂(t))⋅cos(\\theta₁(t))  0  a(t) + 0.5⋅sin(\\\n",
              "                                                                              \n",
              "ta₁(t))⋅sin(\\theta₂(t)) + cos(\\theta₁(t))⋅cos(\\theta₂(t))  0  b(t) + 0.5⋅sin(\\\n",
              "                                                                              \n",
              "                       0                                   1                  \n",
              "                                                                              \n",
              "                       0                                   0                  \n",
              "\n",
              "theta₁(t))⋅cos(\\theta₂(t)) + 0.5⋅sin(\\theta₁(t)) + 0.5⋅sin(\\theta₂(t))⋅cos(\\th\n",
              "                                                                              \n",
              "theta₁(t))⋅sin(\\theta₂(t)) - 0.5⋅cos(\\theta₁(t))⋅cos(\\theta₂(t)) - 0.5⋅cos(\\th\n",
              "                                                                              \n",
              "                                  0                                           \n",
              "                                                                              \n",
              "                                  1                                           \n",
              "\n",
              "eta₁(t))⎤\n",
              "        ⎥\n",
              "eta₁(t))⎥\n",
              "        ⎥\n",
              "        ⎥\n",
              "        ⎥\n",
              "        ⎦"
            ]
          },
          "metadata": {
            "tags": []
          }
        }
      ]
    },
    {
      "cell_type": "code",
      "metadata": {
        "id": "lsUYCCKVukqR"
      },
      "source": [
        "g_sc_dot = g22.diff(t)\n",
        "g_sc_i = g22.inv()\n",
        "v2_m = g_sc_i*g_sc_dot \n",
        "v2 = sym.simplify(sym.Matrix([v2_m[2,1],v2_m[0,2],v2_m[1,0],v2_m[0,3],v2_m[1,3],v2_m[2,3]]))"
      ],
      "execution_count": null,
      "outputs": []
    },
    {
      "cell_type": "code",
      "metadata": {
        "id": "RXM8GlPcxKM6",
        "colab": {
          "base_uri": "https://localhost:8080/",
          "height": 202
        },
        "outputId": "81a84b83-96c0-4671-efaa-3cb24ab7a589"
      },
      "source": [
        "display(v2)"
      ],
      "execution_count": null,
      "outputs": [
        {
          "output_type": "display_data",
          "data": {
            "text/html": [
              "<script src='https://cdnjs.cloudflare.com/ajax/libs/mathjax/2.7.3/latest.js?config=TeX-AMS_HTML'></script>"
            ],
            "text/plain": [
              "<IPython.core.display.HTML object>"
            ]
          },
          "metadata": {
            "tags": []
          }
        },
        {
          "output_type": "display_data",
          "data": {
            "text/latex": "$$\\left[\\begin{matrix}0\\\\0\\\\\\frac{d}{d t} \\theta_{1}{\\left (t \\right )} + \\frac{d}{d t} \\theta_{2}{\\left (t \\right )}\\\\\\frac{1}{\\cos{\\left (\\theta_{1}{\\left (t \\right )} + \\theta_{2}{\\left (t \\right )} \\right )}} \\left(0.5 \\sin{\\left (2 \\theta_{1}{\\left (t \\right )} + 2 \\theta_{2}{\\left (t \\right )} \\right )} \\frac{d}{d t} b{\\left (t \\right )} + 0.5 \\cos{\\left (\\theta_{1}{\\left (t \\right )} + \\theta_{2}{\\left (t \\right )} \\right )} \\frac{d}{d t} \\theta_{1}{\\left (t \\right )} + 0.5 \\cos{\\left (\\theta_{1}{\\left (t \\right )} + \\theta_{2}{\\left (t \\right )} \\right )} \\frac{d}{d t} \\theta_{2}{\\left (t \\right )} + 0.25 \\cos{\\left (\\theta_{1}{\\left (t \\right )} + 2 \\theta_{2}{\\left (t \\right )} \\right )} \\frac{d}{d t} \\theta_{1}{\\left (t \\right )} + 0.5 \\cos{\\left (2 \\theta_{1}{\\left (t \\right )} + 2 \\theta_{2}{\\left (t \\right )} \\right )} \\frac{d}{d t} a{\\left (t \\right )} + 0.25 \\cos{\\left (\\theta_{1}{\\left (t \\right )} \\right )} \\frac{d}{d t} \\theta_{1}{\\left (t \\right )} + 0.5 \\frac{d}{d t} a{\\left (t \\right )}\\right)\\\\- 1.0 \\sin{\\left (\\theta_{1}{\\left (t \\right )} + \\theta_{2}{\\left (t \\right )} \\right )} \\frac{d}{d t} a{\\left (t \\right )} - 0.5 \\sin{\\left (\\theta_{2}{\\left (t \\right )} \\right )} \\frac{d}{d t} \\theta_{1}{\\left (t \\right )} + 1.0 \\cos{\\left (\\theta_{1}{\\left (t \\right )} + \\theta_{2}{\\left (t \\right )} \\right )} \\frac{d}{d t} b{\\left (t \\right )}\\\\0\\end{matrix}\\right]$$",
            "text/plain": [
              "⎡                                                                             \n",
              "⎢                                                                             \n",
              "⎢                                                                             \n",
              "⎢                                                                             \n",
              "⎢                                                                             \n",
              "⎢                                                                             \n",
              "⎢                                                                             \n",
              "⎢                                                                             \n",
              "⎢                                     d                                       \n",
              "⎢0.5⋅sin(2⋅\\theta₁(t) + 2⋅\\theta₂(t))⋅──(b(t)) + 0.5⋅cos(\\theta₁(t) + \\theta₂(\n",
              "⎢                                     dt                                      \n",
              "⎢─────────────────────────────────────────────────────────────────────────────\n",
              "⎢                                                                             \n",
              "⎢                                                                             \n",
              "⎢                                                                             \n",
              "⎢                                                                             \n",
              "⎢                                                                             \n",
              "⎢                                                                             \n",
              "⎣                                                                             \n",
              "\n",
              "                                                                        0     \n",
              "                                                                              \n",
              "                                                                        0     \n",
              "                                                                              \n",
              "                                                         d                d   \n",
              "                                                         ──(\\theta₁(t)) + ──(\\\n",
              "                                                         dt               dt  \n",
              "                                                                              \n",
              "    d                                                 d                       \n",
              "t))⋅──(\\theta₁(t)) + 0.5⋅cos(\\theta₁(t) + \\theta₂(t))⋅──(\\theta₂(t)) + 0.25⋅co\n",
              "    dt                                                dt                      \n",
              "──────────────────────────────────────────────────────────────────────────────\n",
              "                                                           cos(\\theta₁(t) + \\t\n",
              "                                                                              \n",
              "                                             d                              d \n",
              "          - 1.0⋅sin(\\theta₁(t) + \\theta₂(t))⋅──(a(t)) - 0.5⋅sin(\\theta₂(t))⋅──\n",
              "                                             dt                             dt\n",
              "                                                                              \n",
              "                                                                        0     \n",
              "\n",
              "                                                                              \n",
              "                                                                              \n",
              "                                                                              \n",
              "                                                                              \n",
              "                                                                              \n",
              "theta₂(t))                                                                    \n",
              "                                                                              \n",
              "                                                                              \n",
              "                             d                                                \n",
              "s(\\theta₁(t) + 2⋅\\theta₂(t))⋅──(\\theta₁(t)) + 0.5⋅cos(2⋅\\theta₁(t) + 2⋅\\theta₂\n",
              "                             dt                                               \n",
              "──────────────────────────────────────────────────────────────────────────────\n",
              "heta₂(t))                                                                     \n",
              "                                                                              \n",
              "                                                d                             \n",
              "(\\theta₁(t)) + 1.0⋅cos(\\theta₁(t) + \\theta₂(t))⋅──(b(t))                      \n",
              "                                                dt                            \n",
              "                                                                              \n",
              "                                                                              \n",
              "\n",
              "                                                                  ⎤\n",
              "                                                                  ⎥\n",
              "                                                                  ⎥\n",
              "                                                                  ⎥\n",
              "                                                                  ⎥\n",
              "                                                                  ⎥\n",
              "                                                                  ⎥\n",
              "                                                                  ⎥\n",
              "     d                               d                    d       ⎥\n",
              "(t))⋅──(a(t)) + 0.25⋅cos(\\theta₁(t))⋅──(\\theta₁(t)) + 0.5⋅──(a(t))⎥\n",
              "     dt                              dt                   dt      ⎥\n",
              "──────────────────────────────────────────────────────────────────⎥\n",
              "                                                                  ⎥\n",
              "                                                                  ⎥\n",
              "                                                                  ⎥\n",
              "                                                                  ⎥\n",
              "                                                                  ⎥\n",
              "                                                                  ⎥\n",
              "                                                                  ⎦"
            ]
          },
          "metadata": {
            "tags": []
          }
        }
      ]
    },
    {
      "cell_type": "code",
      "metadata": {
        "id": "yn9pVzhhxfi8",
        "colab": {
          "base_uri": "https://localhost:8080/",
          "height": 414
        },
        "outputId": "87dc63c9-06e8-4dec-ae5d-816a99158758"
      },
      "source": [
        "#for right hand side of the matrix\n",
        "\n",
        "gls = sym.Matrix([[sym.cos(th1), -sym.sin(th1), 0, a],\n",
        "                   [sym.sin(th1),  sym.cos(th1), 0, b],\n",
        "                   [0,0,1,0],\n",
        "                   [0,0,0,1]])\n",
        "display(gls)\n",
        "gls2 = sym.Matrix([[1, 0, 0, 0],\n",
        "                   [0, 1, 0, -l/2],\n",
        "                   [0, 0, 1, 0],\n",
        "                   [0, 0, 0, 1]])\n",
        "display(gls2)\n",
        "gls3= sym.Matrix([[sym.cos(th3), -sym.sin(th3), 0, (l/2)*sym.sin(th3)],\n",
        "                   [sym.sin(th3),  sym.cos(th3), 0, (-l/2)*sym.cos(th3)],\n",
        "                   [0,0,1,0],\n",
        "                   [0,0,0,1]])\n",
        "display(gls3)\n",
        "glsd= gls*gls2*gls3\n",
        "display(glsd)"
      ],
      "execution_count": null,
      "outputs": [
        {
          "output_type": "display_data",
          "data": {
            "text/html": [
              "<script src='https://cdnjs.cloudflare.com/ajax/libs/mathjax/2.7.3/latest.js?config=TeX-AMS_HTML'></script>"
            ],
            "text/plain": [
              "<IPython.core.display.HTML object>"
            ]
          },
          "metadata": {
            "tags": []
          }
        },
        {
          "output_type": "display_data",
          "data": {
            "text/latex": "$$\\left[\\begin{matrix}\\cos{\\left (\\theta_{1}{\\left (t \\right )} \\right )} & - \\sin{\\left (\\theta_{1}{\\left (t \\right )} \\right )} & 0 & a{\\left (t \\right )}\\\\\\sin{\\left (\\theta_{1}{\\left (t \\right )} \\right )} & \\cos{\\left (\\theta_{1}{\\left (t \\right )} \\right )} & 0 & b{\\left (t \\right )}\\\\0 & 0 & 1 & 0\\\\0 & 0 & 0 & 1\\end{matrix}\\right]$$",
            "text/plain": [
              "⎡cos(\\theta₁(t))  -sin(\\theta₁(t))  0  a(t)⎤\n",
              "⎢                                          ⎥\n",
              "⎢sin(\\theta₁(t))  cos(\\theta₁(t))   0  b(t)⎥\n",
              "⎢                                          ⎥\n",
              "⎢       0                0          1   0  ⎥\n",
              "⎢                                          ⎥\n",
              "⎣       0                0          0   1  ⎦"
            ]
          },
          "metadata": {
            "tags": []
          }
        },
        {
          "output_type": "display_data",
          "data": {
            "text/html": [
              "<script src='https://cdnjs.cloudflare.com/ajax/libs/mathjax/2.7.3/latest.js?config=TeX-AMS_HTML'></script>"
            ],
            "text/plain": [
              "<IPython.core.display.HTML object>"
            ]
          },
          "metadata": {
            "tags": []
          }
        },
        {
          "output_type": "display_data",
          "data": {
            "text/latex": "$$\\left[\\begin{matrix}1 & 0 & 0 & 0\\\\0 & 1 & 0 & -0.5\\\\0 & 0 & 1 & 0\\\\0 & 0 & 0 & 1\\end{matrix}\\right]$$",
            "text/plain": [
              "⎡1  0  0   0  ⎤\n",
              "⎢             ⎥\n",
              "⎢0  1  0  -0.5⎥\n",
              "⎢             ⎥\n",
              "⎢0  0  1   0  ⎥\n",
              "⎢             ⎥\n",
              "⎣0  0  0   1  ⎦"
            ]
          },
          "metadata": {
            "tags": []
          }
        },
        {
          "output_type": "display_data",
          "data": {
            "text/html": [
              "<script src='https://cdnjs.cloudflare.com/ajax/libs/mathjax/2.7.3/latest.js?config=TeX-AMS_HTML'></script>"
            ],
            "text/plain": [
              "<IPython.core.display.HTML object>"
            ]
          },
          "metadata": {
            "tags": []
          }
        },
        {
          "output_type": "display_data",
          "data": {
            "text/latex": "$$\\left[\\begin{matrix}\\cos{\\left (\\theta_{3}{\\left (t \\right )} \\right )} & - \\sin{\\left (\\theta_{3}{\\left (t \\right )} \\right )} & 0 & 0.5 \\sin{\\left (\\theta_{3}{\\left (t \\right )} \\right )}\\\\\\sin{\\left (\\theta_{3}{\\left (t \\right )} \\right )} & \\cos{\\left (\\theta_{3}{\\left (t \\right )} \\right )} & 0 & - 0.5 \\cos{\\left (\\theta_{3}{\\left (t \\right )} \\right )}\\\\0 & 0 & 1 & 0\\\\0 & 0 & 0 & 1\\end{matrix}\\right]$$",
            "text/plain": [
              "⎡cos(\\theta₃(t))  -sin(\\theta₃(t))  0  0.5⋅sin(\\theta₃(t)) ⎤\n",
              "⎢                                                          ⎥\n",
              "⎢sin(\\theta₃(t))  cos(\\theta₃(t))   0  -0.5⋅cos(\\theta₃(t))⎥\n",
              "⎢                                                          ⎥\n",
              "⎢       0                0          1           0          ⎥\n",
              "⎢                                                          ⎥\n",
              "⎣       0                0          0           1          ⎦"
            ]
          },
          "metadata": {
            "tags": []
          }
        },
        {
          "output_type": "display_data",
          "data": {
            "text/html": [
              "<script src='https://cdnjs.cloudflare.com/ajax/libs/mathjax/2.7.3/latest.js?config=TeX-AMS_HTML'></script>"
            ],
            "text/plain": [
              "<IPython.core.display.HTML object>"
            ]
          },
          "metadata": {
            "tags": []
          }
        },
        {
          "output_type": "display_data",
          "data": {
            "text/latex": "$$\\left[\\begin{matrix}- \\sin{\\left (\\theta_{1}{\\left (t \\right )} \\right )} \\sin{\\left (\\theta_{3}{\\left (t \\right )} \\right )} + \\cos{\\left (\\theta_{1}{\\left (t \\right )} \\right )} \\cos{\\left (\\theta_{3}{\\left (t \\right )} \\right )} & - \\sin{\\left (\\theta_{1}{\\left (t \\right )} \\right )} \\cos{\\left (\\theta_{3}{\\left (t \\right )} \\right )} - \\sin{\\left (\\theta_{3}{\\left (t \\right )} \\right )} \\cos{\\left (\\theta_{1}{\\left (t \\right )} \\right )} & 0 & a{\\left (t \\right )} + 0.5 \\sin{\\left (\\theta_{1}{\\left (t \\right )} \\right )} \\cos{\\left (\\theta_{3}{\\left (t \\right )} \\right )} + 0.5 \\sin{\\left (\\theta_{1}{\\left (t \\right )} \\right )} + 0.5 \\sin{\\left (\\theta_{3}{\\left (t \\right )} \\right )} \\cos{\\left (\\theta_{1}{\\left (t \\right )} \\right )}\\\\\\sin{\\left (\\theta_{1}{\\left (t \\right )} \\right )} \\cos{\\left (\\theta_{3}{\\left (t \\right )} \\right )} + \\sin{\\left (\\theta_{3}{\\left (t \\right )} \\right )} \\cos{\\left (\\theta_{1}{\\left (t \\right )} \\right )} & - \\sin{\\left (\\theta_{1}{\\left (t \\right )} \\right )} \\sin{\\left (\\theta_{3}{\\left (t \\right )} \\right )} + \\cos{\\left (\\theta_{1}{\\left (t \\right )} \\right )} \\cos{\\left (\\theta_{3}{\\left (t \\right )} \\right )} & 0 & b{\\left (t \\right )} + 0.5 \\sin{\\left (\\theta_{1}{\\left (t \\right )} \\right )} \\sin{\\left (\\theta_{3}{\\left (t \\right )} \\right )} - 0.5 \\cos{\\left (\\theta_{1}{\\left (t \\right )} \\right )} \\cos{\\left (\\theta_{3}{\\left (t \\right )} \\right )} - 0.5 \\cos{\\left (\\theta_{1}{\\left (t \\right )} \\right )}\\\\0 & 0 & 1 & 0\\\\0 & 0 & 0 & 1\\end{matrix}\\right]$$",
            "text/plain": [
              "⎡-sin(\\theta₁(t))⋅sin(\\theta₃(t)) + cos(\\theta₁(t))⋅cos(\\theta₃(t))  -sin(\\the\n",
              "⎢                                                                             \n",
              "⎢sin(\\theta₁(t))⋅cos(\\theta₃(t)) + sin(\\theta₃(t))⋅cos(\\theta₁(t))   -sin(\\the\n",
              "⎢                                                                             \n",
              "⎢                                0                                            \n",
              "⎢                                                                             \n",
              "⎣                                0                                            \n",
              "\n",
              "ta₁(t))⋅cos(\\theta₃(t)) - sin(\\theta₃(t))⋅cos(\\theta₁(t))  0  a(t) + 0.5⋅sin(\\\n",
              "                                                                              \n",
              "ta₁(t))⋅sin(\\theta₃(t)) + cos(\\theta₁(t))⋅cos(\\theta₃(t))  0  b(t) + 0.5⋅sin(\\\n",
              "                                                                              \n",
              "                       0                                   1                  \n",
              "                                                                              \n",
              "                       0                                   0                  \n",
              "\n",
              "theta₁(t))⋅cos(\\theta₃(t)) + 0.5⋅sin(\\theta₁(t)) + 0.5⋅sin(\\theta₃(t))⋅cos(\\th\n",
              "                                                                              \n",
              "theta₁(t))⋅sin(\\theta₃(t)) - 0.5⋅cos(\\theta₁(t))⋅cos(\\theta₃(t)) - 0.5⋅cos(\\th\n",
              "                                                                              \n",
              "                                  0                                           \n",
              "                                                                              \n",
              "                                  1                                           \n",
              "\n",
              "eta₁(t))⎤\n",
              "        ⎥\n",
              "eta₁(t))⎥\n",
              "        ⎥\n",
              "        ⎥\n",
              "        ⎥\n",
              "        ⎦"
            ]
          },
          "metadata": {
            "tags": []
          }
        }
      ]
    },
    {
      "cell_type": "code",
      "metadata": {
        "id": "v7vOWspMy_35",
        "colab": {
          "base_uri": "https://localhost:8080/",
          "height": 86
        },
        "outputId": "08482234-f75e-4c86-9bef-3dee04feb892"
      },
      "source": [
        "glsd_dot = glsd.diff(t)\n",
        "glsd_inv = glsd.inv()\n",
        "Vb3_hat = glsd_inv*glsd_dot \n",
        "Vb3 = sym.simplify(sym.Matrix([Vb3_hat[2,1],Vb3_hat[0,2],Vb3_hat[1,0],Vb3_hat[0,3],Vb3_hat[1,3],Vb3_hat[2,3]]))\n",
        "display(Vb3)"
      ],
      "execution_count": null,
      "outputs": [
        {
          "output_type": "display_data",
          "data": {
            "text/html": [
              "<script src='https://cdnjs.cloudflare.com/ajax/libs/mathjax/2.7.3/latest.js?config=TeX-AMS_HTML'></script>"
            ],
            "text/plain": [
              "<IPython.core.display.HTML object>"
            ]
          },
          "metadata": {
            "tags": []
          }
        },
        {
          "output_type": "display_data",
          "data": {
            "text/latex": "$$\\left[\\begin{matrix}0\\\\0\\\\\\frac{d}{d t} \\theta_{1}{\\left (t \\right )} + \\frac{d}{d t} \\theta_{3}{\\left (t \\right )}\\\\\\frac{1}{\\cos{\\left (\\theta_{1}{\\left (t \\right )} + \\theta_{3}{\\left (t \\right )} \\right )}} \\left(0.5 \\sin{\\left (2 \\theta_{1}{\\left (t \\right )} + 2 \\theta_{3}{\\left (t \\right )} \\right )} \\frac{d}{d t} b{\\left (t \\right )} + 0.5 \\cos{\\left (\\theta_{1}{\\left (t \\right )} + \\theta_{3}{\\left (t \\right )} \\right )} \\frac{d}{d t} \\theta_{1}{\\left (t \\right )} + 0.5 \\cos{\\left (\\theta_{1}{\\left (t \\right )} + \\theta_{3}{\\left (t \\right )} \\right )} \\frac{d}{d t} \\theta_{3}{\\left (t \\right )} + 0.25 \\cos{\\left (\\theta_{1}{\\left (t \\right )} + 2 \\theta_{3}{\\left (t \\right )} \\right )} \\frac{d}{d t} \\theta_{1}{\\left (t \\right )} + 0.5 \\cos{\\left (2 \\theta_{1}{\\left (t \\right )} + 2 \\theta_{3}{\\left (t \\right )} \\right )} \\frac{d}{d t} a{\\left (t \\right )} + 0.25 \\cos{\\left (\\theta_{1}{\\left (t \\right )} \\right )} \\frac{d}{d t} \\theta_{1}{\\left (t \\right )} + 0.5 \\frac{d}{d t} a{\\left (t \\right )}\\right)\\\\- 1.0 \\sin{\\left (\\theta_{1}{\\left (t \\right )} + \\theta_{3}{\\left (t \\right )} \\right )} \\frac{d}{d t} a{\\left (t \\right )} - 0.5 \\sin{\\left (\\theta_{3}{\\left (t \\right )} \\right )} \\frac{d}{d t} \\theta_{1}{\\left (t \\right )} + 1.0 \\cos{\\left (\\theta_{1}{\\left (t \\right )} + \\theta_{3}{\\left (t \\right )} \\right )} \\frac{d}{d t} b{\\left (t \\right )}\\\\0\\end{matrix}\\right]$$",
            "text/plain": [
              "⎡                                                                             \n",
              "⎢                                                                             \n",
              "⎢                                                                             \n",
              "⎢                                                                             \n",
              "⎢                                                                             \n",
              "⎢                                                                             \n",
              "⎢                                                                             \n",
              "⎢                                                                             \n",
              "⎢                                     d                                       \n",
              "⎢0.5⋅sin(2⋅\\theta₁(t) + 2⋅\\theta₃(t))⋅──(b(t)) + 0.5⋅cos(\\theta₁(t) + \\theta₃(\n",
              "⎢                                     dt                                      \n",
              "⎢─────────────────────────────────────────────────────────────────────────────\n",
              "⎢                                                                             \n",
              "⎢                                                                             \n",
              "⎢                                                                             \n",
              "⎢                                                                             \n",
              "⎢                                                                             \n",
              "⎢                                                                             \n",
              "⎣                                                                             \n",
              "\n",
              "                                                                        0     \n",
              "                                                                              \n",
              "                                                                        0     \n",
              "                                                                              \n",
              "                                                         d                d   \n",
              "                                                         ──(\\theta₁(t)) + ──(\\\n",
              "                                                         dt               dt  \n",
              "                                                                              \n",
              "    d                                                 d                       \n",
              "t))⋅──(\\theta₁(t)) + 0.5⋅cos(\\theta₁(t) + \\theta₃(t))⋅──(\\theta₃(t)) + 0.25⋅co\n",
              "    dt                                                dt                      \n",
              "──────────────────────────────────────────────────────────────────────────────\n",
              "                                                           cos(\\theta₁(t) + \\t\n",
              "                                                                              \n",
              "                                             d                              d \n",
              "          - 1.0⋅sin(\\theta₁(t) + \\theta₃(t))⋅──(a(t)) - 0.5⋅sin(\\theta₃(t))⋅──\n",
              "                                             dt                             dt\n",
              "                                                                              \n",
              "                                                                        0     \n",
              "\n",
              "                                                                              \n",
              "                                                                              \n",
              "                                                                              \n",
              "                                                                              \n",
              "                                                                              \n",
              "theta₃(t))                                                                    \n",
              "                                                                              \n",
              "                                                                              \n",
              "                             d                                                \n",
              "s(\\theta₁(t) + 2⋅\\theta₃(t))⋅──(\\theta₁(t)) + 0.5⋅cos(2⋅\\theta₁(t) + 2⋅\\theta₃\n",
              "                             dt                                               \n",
              "──────────────────────────────────────────────────────────────────────────────\n",
              "heta₃(t))                                                                     \n",
              "                                                                              \n",
              "                                                d                             \n",
              "(\\theta₁(t)) + 1.0⋅cos(\\theta₁(t) + \\theta₃(t))⋅──(b(t))                      \n",
              "                                                dt                            \n",
              "                                                                              \n",
              "                                                                              \n",
              "\n",
              "                                                                  ⎤\n",
              "                                                                  ⎥\n",
              "                                                                  ⎥\n",
              "                                                                  ⎥\n",
              "                                                                  ⎥\n",
              "                                                                  ⎥\n",
              "                                                                  ⎥\n",
              "                                                                  ⎥\n",
              "     d                               d                    d       ⎥\n",
              "(t))⋅──(a(t)) + 0.25⋅cos(\\theta₁(t))⋅──(\\theta₁(t)) + 0.5⋅──(a(t))⎥\n",
              "     dt                              dt                   dt      ⎥\n",
              "──────────────────────────────────────────────────────────────────⎥\n",
              "                                                                  ⎥\n",
              "                                                                  ⎥\n",
              "                                                                  ⎥\n",
              "                                                                  ⎥\n",
              "                                                                  ⎥\n",
              "                                                                  ⎥\n",
              "                                                                  ⎦"
            ]
          },
          "metadata": {
            "tags": []
          }
        }
      ]
    },
    {
      "cell_type": "code",
      "metadata": {
        "id": "xgGNSTIjQ-U2"
      },
      "source": [
        "#display(sym.simplify(Vb2))"
      ],
      "execution_count": null,
      "outputs": []
    },
    {
      "cell_type": "code",
      "metadata": {
        "id": "qWO-yTxVnOkM"
      },
      "source": [
        "#Vb2=sym.Matrix(6,1,[Vb2_hat[7],Vb2_hat[2],Vb2_hat[3],Vb2_hat[4],Vb2_hat[8],Vb2_hat[12]])\n"
      ],
      "execution_count": null,
      "outputs": []
    },
    {
      "cell_type": "code",
      "metadata": {
        "id": "b6tW53uu1q05",
        "colab": {
          "base_uri": "https://localhost:8080/",
          "height": 181
        },
        "outputId": "5e687552-2c33-46df-f4c8-0f01a8c0b5c4"
      },
      "source": [
        "I=  sym.Matrix(6,6,[1,0,0,0,0,0,   0,1,0,0,0,0 , 0,0,1,0,0,0   , 0,0,0,1,0,0,   0,0,0,0,1,0,  0,0,0,0,0,1])\n",
        "display(I)"
      ],
      "execution_count": null,
      "outputs": [
        {
          "output_type": "display_data",
          "data": {
            "text/html": [
              "<script src='https://cdnjs.cloudflare.com/ajax/libs/mathjax/2.7.3/latest.js?config=TeX-AMS_HTML'></script>"
            ],
            "text/plain": [
              "<IPython.core.display.HTML object>"
            ]
          },
          "metadata": {
            "tags": []
          }
        },
        {
          "output_type": "display_data",
          "data": {
            "text/latex": "$$\\left[\\begin{matrix}1 & 0 & 0 & 0 & 0 & 0\\\\0 & 1 & 0 & 0 & 0 & 0\\\\0 & 0 & 1 & 0 & 0 & 0\\\\0 & 0 & 0 & 1 & 0 & 0\\\\0 & 0 & 0 & 0 & 1 & 0\\\\0 & 0 & 0 & 0 & 0 & 1\\end{matrix}\\right]$$",
            "text/plain": [
              "⎡1  0  0  0  0  0⎤\n",
              "⎢                ⎥\n",
              "⎢0  1  0  0  0  0⎥\n",
              "⎢                ⎥\n",
              "⎢0  0  1  0  0  0⎥\n",
              "⎢                ⎥\n",
              "⎢0  0  0  1  0  0⎥\n",
              "⎢                ⎥\n",
              "⎢0  0  0  0  1  0⎥\n",
              "⎢                ⎥\n",
              "⎣0  0  0  0  0  1⎦"
            ]
          },
          "metadata": {
            "tags": []
          }
        }
      ]
    },
    {
      "cell_type": "code",
      "metadata": {
        "id": "5Voh07HK7sEz",
        "colab": {
          "base_uri": "https://localhost:8080/",
          "height": 136
        },
        "outputId": "16776414-17d3-4c93-dbaa-f29c6550acba"
      },
      "source": [
        "display(gls)"
      ],
      "execution_count": null,
      "outputs": [
        {
          "output_type": "display_data",
          "data": {
            "text/html": [
              "<script src='https://cdnjs.cloudflare.com/ajax/libs/mathjax/2.7.3/latest.js?config=TeX-AMS_HTML'></script>"
            ],
            "text/plain": [
              "<IPython.core.display.HTML object>"
            ]
          },
          "metadata": {
            "tags": []
          }
        },
        {
          "output_type": "display_data",
          "data": {
            "text/latex": "$$\\left[\\begin{matrix}\\cos{\\left (\\theta_{1}{\\left (t \\right )} \\right )} & - \\sin{\\left (\\theta_{1}{\\left (t \\right )} \\right )} & 0 & a{\\left (t \\right )}\\\\\\sin{\\left (\\theta_{1}{\\left (t \\right )} \\right )} & \\cos{\\left (\\theta_{1}{\\left (t \\right )} \\right )} & 0 & b{\\left (t \\right )}\\\\0 & 0 & 1 & 0\\\\0 & 0 & 0 & 1\\end{matrix}\\right]$$",
            "text/plain": [
              "⎡cos(\\theta₁(t))  -sin(\\theta₁(t))  0  a(t)⎤\n",
              "⎢                                          ⎥\n",
              "⎢sin(\\theta₁(t))  cos(\\theta₁(t))   0  b(t)⎥\n",
              "⎢                                          ⎥\n",
              "⎢       0                0          1   0  ⎥\n",
              "⎢                                          ⎥\n",
              "⎣       0                0          0   1  ⎦"
            ]
          },
          "metadata": {
            "tags": []
          }
        }
      ]
    },
    {
      "cell_type": "code",
      "metadata": {
        "id": "TuepM3uJ0nN8",
        "colab": {
          "base_uri": "https://localhost:8080/",
          "height": 199
        },
        "outputId": "3ec8e2e8-1a71-44e5-e578-9a532db43952"
      },
      "source": [
        "gcenterdot = gls.diff(t)\n",
        "gcenterinv = gls.inv()\n",
        "va_centerM = gcenterinv*gcenterdot \n",
        "Vbcenter = sym.simplify(sym.Matrix([va_centerM[2,1],va_centerM[0,2],va_centerM[1,0],va_centerM[0,3],va_centerM[1,3],va_centerM[2,3]]))\n",
        "display(Vbcenter)"
      ],
      "execution_count": null,
      "outputs": [
        {
          "output_type": "display_data",
          "data": {
            "text/html": [
              "<script src='https://cdnjs.cloudflare.com/ajax/libs/mathjax/2.7.3/latest.js?config=TeX-AMS_HTML'></script>"
            ],
            "text/plain": [
              "<IPython.core.display.HTML object>"
            ]
          },
          "metadata": {
            "tags": []
          }
        },
        {
          "output_type": "display_data",
          "data": {
            "text/latex": "$$\\left[\\begin{matrix}0\\\\0\\\\\\frac{d}{d t} \\theta_{1}{\\left (t \\right )}\\\\\\sin{\\left (\\theta_{1}{\\left (t \\right )} \\right )} \\frac{d}{d t} b{\\left (t \\right )} + \\cos{\\left (\\theta_{1}{\\left (t \\right )} \\right )} \\frac{d}{d t} a{\\left (t \\right )}\\\\- \\sin{\\left (\\theta_{1}{\\left (t \\right )} \\right )} \\frac{d}{d t} a{\\left (t \\right )} + \\cos{\\left (\\theta_{1}{\\left (t \\right )} \\right )} \\frac{d}{d t} b{\\left (t \\right )}\\\\0\\end{matrix}\\right]$$",
            "text/plain": [
              "⎡                          0                          ⎤\n",
              "⎢                                                     ⎥\n",
              "⎢                          0                          ⎥\n",
              "⎢                                                     ⎥\n",
              "⎢                   d                                 ⎥\n",
              "⎢                   ──(\\theta₁(t))                    ⎥\n",
              "⎢                   dt                                ⎥\n",
              "⎢                                                     ⎥\n",
              "⎢                 d                          d        ⎥\n",
              "⎢ sin(\\theta₁(t))⋅──(b(t)) + cos(\\theta₁(t))⋅──(a(t)) ⎥\n",
              "⎢                 dt                         dt       ⎥\n",
              "⎢                                                     ⎥\n",
              "⎢                  d                          d       ⎥\n",
              "⎢- sin(\\theta₁(t))⋅──(a(t)) + cos(\\theta₁(t))⋅──(b(t))⎥\n",
              "⎢                  dt                         dt      ⎥\n",
              "⎢                                                     ⎥\n",
              "⎣                          0                          ⎦"
            ]
          },
          "metadata": {
            "tags": []
          }
        }
      ]
    },
    {
      "cell_type": "code",
      "metadata": {
        "id": "VAbZteDW1avq",
        "colab": {
          "base_uri": "https://localhost:8080/",
          "height": 111
        },
        "outputId": "edbcd9ab-8ca0-456c-b85f-e6b6130c25aa"
      },
      "source": [
        "KE1=1/2*Vbcenter.T*I*Vbcenter\n",
        "display(KE1)\n",
        "Potential1=sym.Matrix([m*g*gls[7]])\n",
        "display(Potential1)\n",
        "Lag1=sym.simplify(KE1 - Potential1)"
      ],
      "execution_count": null,
      "outputs": [
        {
          "output_type": "display_data",
          "data": {
            "text/html": [
              "<script src='https://cdnjs.cloudflare.com/ajax/libs/mathjax/2.7.3/latest.js?config=TeX-AMS_HTML'></script>"
            ],
            "text/plain": [
              "<IPython.core.display.HTML object>"
            ]
          },
          "metadata": {
            "tags": []
          }
        },
        {
          "output_type": "display_data",
          "data": {
            "text/latex": "$$\\left[\\begin{matrix}\\left(- \\sin{\\left (\\theta_{1}{\\left (t \\right )} \\right )} \\frac{d}{d t} a{\\left (t \\right )} + \\cos{\\left (\\theta_{1}{\\left (t \\right )} \\right )} \\frac{d}{d t} b{\\left (t \\right )}\\right) \\left(- 0.5 \\sin{\\left (\\theta_{1}{\\left (t \\right )} \\right )} \\frac{d}{d t} a{\\left (t \\right )} + 0.5 \\cos{\\left (\\theta_{1}{\\left (t \\right )} \\right )} \\frac{d}{d t} b{\\left (t \\right )}\\right) + \\left(0.5 \\sin{\\left (\\theta_{1}{\\left (t \\right )} \\right )} \\frac{d}{d t} b{\\left (t \\right )} + 0.5 \\cos{\\left (\\theta_{1}{\\left (t \\right )} \\right )} \\frac{d}{d t} a{\\left (t \\right )}\\right) \\left(\\sin{\\left (\\theta_{1}{\\left (t \\right )} \\right )} \\frac{d}{d t} b{\\left (t \\right )} + \\cos{\\left (\\theta_{1}{\\left (t \\right )} \\right )} \\frac{d}{d t} a{\\left (t \\right )}\\right) + 0.5 \\left(\\frac{d}{d t} \\theta_{1}{\\left (t \\right )}\\right)^{2}\\end{matrix}\\right]$$",
            "text/plain": [
              "⎡                                                                             \n",
              "⎢⎛                  d                          d       ⎞ ⎛                    \n",
              "⎢⎜- sin(\\theta₁(t))⋅──(a(t)) + cos(\\theta₁(t))⋅──(b(t))⎟⋅⎜- 0.5⋅sin(\\theta₁(t)\n",
              "⎣⎝                  dt                         dt      ⎠ ⎝                    \n",
              "\n",
              "                                                                              \n",
              "  d                              d       ⎞   ⎛                    d           \n",
              ")⋅──(a(t)) + 0.5⋅cos(\\theta₁(t))⋅──(b(t))⎟ + ⎜0.5⋅sin(\\theta₁(t))⋅──(b(t)) + 0\n",
              "  dt                             dt      ⎠   ⎝                    dt          \n",
              "\n",
              "                                                                              \n",
              "                   d       ⎞ ⎛                d                          d    \n",
              ".5⋅cos(\\theta₁(t))⋅──(a(t))⎟⋅⎜sin(\\theta₁(t))⋅──(b(t)) + cos(\\theta₁(t))⋅──(a(\n",
              "                   dt      ⎠ ⎝                dt                         dt   \n",
              "\n",
              "                           2⎤\n",
              "   ⎞       ⎛d             ⎞ ⎥\n",
              "t))⎟ + 0.5⋅⎜──(\\theta₁(t))⎟ ⎥\n",
              "   ⎠       ⎝dt            ⎠ ⎦"
            ]
          },
          "metadata": {
            "tags": []
          }
        },
        {
          "output_type": "display_data",
          "data": {
            "text/html": [
              "<script src='https://cdnjs.cloudflare.com/ajax/libs/mathjax/2.7.3/latest.js?config=TeX-AMS_HTML'></script>"
            ],
            "text/plain": [
              "<IPython.core.display.HTML object>"
            ]
          },
          "metadata": {
            "tags": []
          }
        },
        {
          "output_type": "display_data",
          "data": {
            "text/latex": "$$\\left[\\begin{matrix}9.81 b{\\left (t \\right )}\\end{matrix}\\right]$$",
            "text/plain": [
              "[9.81⋅b(t)]"
            ]
          },
          "metadata": {
            "tags": []
          }
        }
      ]
    },
    {
      "cell_type": "code",
      "metadata": {
        "id": "_6umeD1Y5gRP",
        "colab": {
          "base_uri": "https://localhost:8080/",
          "height": 121
        },
        "outputId": "8111a2f4-8c2e-4217-93cf-7a62f14c9655"
      },
      "source": [
        "KE2=1/2*v2.T*I*v2\n",
        "display(sym.simplify(KE2))\n",
        "Potential2=sym.Matrix([m*g*g22[7]])\n",
        "display(Potential2)\n",
        "Lag2=sym.simplify(KE2 - Potential2)"
      ],
      "execution_count": null,
      "outputs": [
        {
          "output_type": "display_data",
          "data": {
            "text/html": [
              "<script src='https://cdnjs.cloudflare.com/ajax/libs/mathjax/2.7.3/latest.js?config=TeX-AMS_HTML'></script>"
            ],
            "text/plain": [
              "<IPython.core.display.HTML object>"
            ]
          },
          "metadata": {
            "tags": []
          }
        },
        {
          "output_type": "display_data",
          "data": {
            "text/latex": "$$\\left[\\begin{matrix}\\frac{1}{\\cos^{2}{\\left (\\theta_{1}{\\left (t \\right )} + \\theta_{2}{\\left (t \\right )} \\right )}} \\left(\\left(0.5 \\left(\\frac{d}{d t} \\theta_{1}{\\left (t \\right )} + \\frac{d}{d t} \\theta_{2}{\\left (t \\right )}\\right)^{2} + \\left(0.5 \\sin{\\left (\\theta_{1}{\\left (t \\right )} + \\theta_{2}{\\left (t \\right )} \\right )} \\frac{d}{d t} a{\\left (t \\right )} + 0.25 \\sin{\\left (\\theta_{2}{\\left (t \\right )} \\right )} \\frac{d}{d t} \\theta_{1}{\\left (t \\right )} - 0.5 \\cos{\\left (\\theta_{1}{\\left (t \\right )} + \\theta_{2}{\\left (t \\right )} \\right )} \\frac{d}{d t} b{\\left (t \\right )}\\right) \\left(1.0 \\sin{\\left (\\theta_{1}{\\left (t \\right )} + \\theta_{2}{\\left (t \\right )} \\right )} \\frac{d}{d t} a{\\left (t \\right )} + 0.5 \\sin{\\left (\\theta_{2}{\\left (t \\right )} \\right )} \\frac{d}{d t} \\theta_{1}{\\left (t \\right )} - 1.0 \\cos{\\left (\\theta_{1}{\\left (t \\right )} + \\theta_{2}{\\left (t \\right )} \\right )} \\frac{d}{d t} b{\\left (t \\right )}\\right)\\right) \\cos^{2}{\\left (\\theta_{1}{\\left (t \\right )} + \\theta_{2}{\\left (t \\right )} \\right )} + 0.125 \\left(\\sin{\\left (2 \\theta_{1}{\\left (t \\right )} + 2 \\theta_{2}{\\left (t \\right )} \\right )} \\frac{d}{d t} b{\\left (t \\right )} + \\cos{\\left (\\theta_{1}{\\left (t \\right )} + \\theta_{2}{\\left (t \\right )} \\right )} \\frac{d}{d t} \\theta_{1}{\\left (t \\right )} + \\cos{\\left (\\theta_{1}{\\left (t \\right )} + \\theta_{2}{\\left (t \\right )} \\right )} \\frac{d}{d t} \\theta_{2}{\\left (t \\right )} + 0.5 \\cos{\\left (\\theta_{1}{\\left (t \\right )} + 2 \\theta_{2}{\\left (t \\right )} \\right )} \\frac{d}{d t} \\theta_{1}{\\left (t \\right )} + \\cos{\\left (2 \\theta_{1}{\\left (t \\right )} + 2 \\theta_{2}{\\left (t \\right )} \\right )} \\frac{d}{d t} a{\\left (t \\right )} + 0.5 \\cos{\\left (\\theta_{1}{\\left (t \\right )} \\right )} \\frac{d}{d t} \\theta_{1}{\\left (t \\right )} + \\frac{d}{d t} a{\\left (t \\right )}\\right)^{2}\\right)\\end{matrix}\\right]$$",
            "text/plain": [
              "⎡⎛                                     2                                      \n",
              "⎢⎜    ⎛d                d             ⎞    ⎛                                 d\n",
              "⎢⎜0.5⋅⎜──(\\theta₁(t)) + ──(\\theta₂(t))⎟  + ⎜0.5⋅sin(\\theta₁(t) + \\theta₂(t))⋅─\n",
              "⎢⎝    ⎝dt               dt            ⎠    ⎝                                 d\n",
              "⎢─────────────────────────────────────────────────────────────────────────────\n",
              "⎢                                                                             \n",
              "⎣                                                                             \n",
              "\n",
              "                                                                              \n",
              "                               d                                              \n",
              "─(a(t)) + 0.25⋅sin(\\theta₂(t))⋅──(\\theta₁(t)) - 0.5⋅cos(\\theta₁(t) + \\theta₂(t\n",
              "t                              dt                                             \n",
              "──────────────────────────────────────────────────────────────────────────────\n",
              "                                                                              \n",
              "                                                                              \n",
              "\n",
              "                                                                              \n",
              "   d       ⎞ ⎛                                 d                              \n",
              "))⋅──(b(t))⎟⋅⎜1.0⋅sin(\\theta₁(t) + \\theta₂(t))⋅──(a(t)) + 0.5⋅sin(\\theta₂(t))⋅\n",
              "   dt      ⎠ ⎝                                 dt                             \n",
              "──────────────────────────────────────────────────────────────────────────────\n",
              "                                                                              \n",
              "                                                                              \n",
              "\n",
              "                                                           ⎞                  \n",
              "d                                                 d       ⎞⎟    2             \n",
              "──(\\theta₁(t)) - 1.0⋅cos(\\theta₁(t) + \\theta₂(t))⋅──(b(t))⎟⎟⋅cos (\\theta₁(t) +\n",
              "dt                                                dt      ⎠⎠                  \n",
              "──────────────────────────────────────────────────────────────────────────────\n",
              "                                                             2                \n",
              "                                                          cos (\\theta₁(t) + \\t\n",
              "\n",
              "                                                                              \n",
              "                     ⎛                                 d                      \n",
              " \\theta₂(t)) + 0.125⋅⎜sin(2⋅\\theta₁(t) + 2⋅\\theta₂(t))⋅──(b(t)) + cos(\\theta₁(\n",
              "                     ⎝                                 dt                     \n",
              "──────────────────────────────────────────────────────────────────────────────\n",
              "                                                                              \n",
              "heta₂(t))                                                                     \n",
              "\n",
              "                                                                              \n",
              "                 d                                             d              \n",
              "t) + \\theta₂(t))⋅──(\\theta₁(t)) + cos(\\theta₁(t) + \\theta₂(t))⋅──(\\theta₂(t)) \n",
              "                 dt                                            dt             \n",
              "──────────────────────────────────────────────────────────────────────────────\n",
              "                                                                              \n",
              "                                                                              \n",
              "\n",
              "                                                                              \n",
              "                                     d                                        \n",
              "+ 0.5⋅cos(\\theta₁(t) + 2⋅\\theta₂(t))⋅──(\\theta₁(t)) + cos(2⋅\\theta₁(t) + 2⋅\\th\n",
              "                                     dt                                       \n",
              "──────────────────────────────────────────────────────────────────────────────\n",
              "                                                                              \n",
              "                                                                              \n",
              "\n",
              "                                                                  2⎤\n",
              "         d                              d                d       ⎞ ⎥\n",
              "eta₂(t))⋅──(a(t)) + 0.5⋅cos(\\theta₁(t))⋅──(\\theta₁(t)) + ──(a(t))⎟ ⎥\n",
              "         dt                             dt               dt      ⎠ ⎥\n",
              "───────────────────────────────────────────────────────────────────⎥\n",
              "                                                                   ⎥\n",
              "                                                                   ⎦"
            ]
          },
          "metadata": {
            "tags": []
          }
        },
        {
          "output_type": "display_data",
          "data": {
            "text/html": [
              "<script src='https://cdnjs.cloudflare.com/ajax/libs/mathjax/2.7.3/latest.js?config=TeX-AMS_HTML'></script>"
            ],
            "text/plain": [
              "<IPython.core.display.HTML object>"
            ]
          },
          "metadata": {
            "tags": []
          }
        },
        {
          "output_type": "display_data",
          "data": {
            "text/latex": "$$\\left[\\begin{matrix}9.81 b{\\left (t \\right )} + 4.905 \\sin{\\left (\\theta_{1}{\\left (t \\right )} \\right )} \\sin{\\left (\\theta_{2}{\\left (t \\right )} \\right )} - 4.905 \\cos{\\left (\\theta_{1}{\\left (t \\right )} \\right )} \\cos{\\left (\\theta_{2}{\\left (t \\right )} \\right )} - 4.905 \\cos{\\left (\\theta_{1}{\\left (t \\right )} \\right )}\\end{matrix}\\right]$$",
            "text/plain": [
              "[9.81⋅b(t) + 4.905⋅sin(\\theta₁(t))⋅sin(\\theta₂(t)) - 4.905⋅cos(\\theta₁(t))⋅cos\n",
              "(\\theta₂(t)) - 4.905⋅cos(\\theta₁(t))]"
            ]
          },
          "metadata": {
            "tags": []
          }
        }
      ]
    },
    {
      "cell_type": "code",
      "metadata": {
        "id": "TrxXFoE37F4i"
      },
      "source": [
        "KE3=1/2*Vb3.T*I*Vb3\n",
        "#display(sym.simplify(KE3))\n",
        "Potential3=sym.Matrix([m*g*glsd[7]])\n",
        "#display(Potential3)\n",
        "Lag3=sym.simplify(KE3 - Potential3)"
      ],
      "execution_count": null,
      "outputs": []
    },
    {
      "cell_type": "code",
      "metadata": {
        "id": "NHkEhH0N_dVe"
      },
      "source": [
        "Lag=Lag1+Lag2+Lag3\n"
      ],
      "execution_count": null,
      "outputs": []
    },
    {
      "cell_type": "code",
      "metadata": {
        "id": "3zDYKxaPpTYC",
        "colab": {
          "base_uri": "https://localhost:8080/",
          "height": 209
        },
        "outputId": "3919fd6d-5321-465d-e035-30507835c176"
      },
      "source": [
        "phi1 = g22[1,3]-0.5*l*sym.cos(th2)\n",
        "phi2 = glsd[1,3]-0.5*l*sym.cos(th3)\n",
        "display(phi1)\n",
        "display(phi2)\n",
        "\n",
        "Fth2 = -k1*(th1-0)-k2*(th2-(sym.pi/20+(sym.pi/3)*sym.sin(t/2)*sym.sin(t/2)))\n",
        "Fth3 = -k1*(th1-0)-k2*(th3-(-sym.pi/20-(sym.pi/3)*sym.sin(t/2)*sym.sin(t/2)))\n",
        "display(Fth2)\n",
        "display(Fth3)"
      ],
      "execution_count": null,
      "outputs": [
        {
          "output_type": "display_data",
          "data": {
            "text/html": [
              "<script src='https://cdnjs.cloudflare.com/ajax/libs/mathjax/2.7.3/latest.js?config=TeX-AMS_HTML'></script>"
            ],
            "text/plain": [
              "<IPython.core.display.HTML object>"
            ]
          },
          "metadata": {
            "tags": []
          }
        },
        {
          "output_type": "display_data",
          "data": {
            "text/latex": "$$b{\\left (t \\right )} + 0.5 \\sin{\\left (\\theta_{1}{\\left (t \\right )} \\right )} \\sin{\\left (\\theta_{2}{\\left (t \\right )} \\right )} - 0.5 \\cos{\\left (\\theta_{1}{\\left (t \\right )} \\right )} \\cos{\\left (\\theta_{2}{\\left (t \\right )} \\right )} - 0.5 \\cos{\\left (\\theta_{1}{\\left (t \\right )} \\right )} - 0.5 \\cos{\\left (\\theta_{2}{\\left (t \\right )} \\right )}$$",
            "text/plain": [
              "b(t) + 0.5⋅sin(\\theta₁(t))⋅sin(\\theta₂(t)) - 0.5⋅cos(\\theta₁(t))⋅cos(\\theta₂(t\n",
              ")) - 0.5⋅cos(\\theta₁(t)) - 0.5⋅cos(\\theta₂(t))"
            ]
          },
          "metadata": {
            "tags": []
          }
        },
        {
          "output_type": "display_data",
          "data": {
            "text/html": [
              "<script src='https://cdnjs.cloudflare.com/ajax/libs/mathjax/2.7.3/latest.js?config=TeX-AMS_HTML'></script>"
            ],
            "text/plain": [
              "<IPython.core.display.HTML object>"
            ]
          },
          "metadata": {
            "tags": []
          }
        },
        {
          "output_type": "display_data",
          "data": {
            "text/latex": "$$b{\\left (t \\right )} + 0.5 \\sin{\\left (\\theta_{1}{\\left (t \\right )} \\right )} \\sin{\\left (\\theta_{3}{\\left (t \\right )} \\right )} - 0.5 \\cos{\\left (\\theta_{1}{\\left (t \\right )} \\right )} \\cos{\\left (\\theta_{3}{\\left (t \\right )} \\right )} - 0.5 \\cos{\\left (\\theta_{1}{\\left (t \\right )} \\right )} - 0.5 \\cos{\\left (\\theta_{3}{\\left (t \\right )} \\right )}$$",
            "text/plain": [
              "b(t) + 0.5⋅sin(\\theta₁(t))⋅sin(\\theta₃(t)) - 0.5⋅cos(\\theta₁(t))⋅cos(\\theta₃(t\n",
              ")) - 0.5⋅cos(\\theta₁(t)) - 0.5⋅cos(\\theta₃(t))"
            ]
          },
          "metadata": {
            "tags": []
          }
        },
        {
          "output_type": "display_data",
          "data": {
            "text/html": [
              "<script src='https://cdnjs.cloudflare.com/ajax/libs/mathjax/2.7.3/latest.js?config=TeX-AMS_HTML'></script>"
            ],
            "text/plain": [
              "<IPython.core.display.HTML object>"
            ]
          },
          "metadata": {
            "tags": []
          }
        },
        {
          "output_type": "display_data",
          "data": {
            "text/latex": "$$- 10 \\theta_{1}{\\left (t \\right )} - 20 \\theta_{2}{\\left (t \\right )} + \\frac{20 \\pi}{3} \\sin^{2}{\\left (\\frac{t}{2} \\right )} + \\pi$$",
            "text/plain": [
              "                                         2⎛t⎞    \n",
              "                                 20⋅π⋅sin ⎜─⎟    \n",
              "                                          ⎝2⎠    \n",
              "-10⋅\\theta₁(t) - 20⋅\\theta₂(t) + ──────────── + π\n",
              "                                      3          "
            ]
          },
          "metadata": {
            "tags": []
          }
        },
        {
          "output_type": "display_data",
          "data": {
            "text/html": [
              "<script src='https://cdnjs.cloudflare.com/ajax/libs/mathjax/2.7.3/latest.js?config=TeX-AMS_HTML'></script>"
            ],
            "text/plain": [
              "<IPython.core.display.HTML object>"
            ]
          },
          "metadata": {
            "tags": []
          }
        },
        {
          "output_type": "display_data",
          "data": {
            "text/latex": "$$- 10 \\theta_{1}{\\left (t \\right )} - 20 \\theta_{3}{\\left (t \\right )} - \\frac{20 \\pi}{3} \\sin^{2}{\\left (\\frac{t}{2} \\right )} - \\pi$$",
            "text/plain": [
              "                                         2⎛t⎞    \n",
              "                                 20⋅π⋅sin ⎜─⎟    \n",
              "                                          ⎝2⎠    \n",
              "-10⋅\\theta₁(t) - 20⋅\\theta₃(t) - ──────────── - π\n",
              "                                      3          "
            ]
          },
          "metadata": {
            "tags": []
          }
        }
      ]
    },
    {
      "cell_type": "code",
      "metadata": {
        "id": "tjhlcHWto3ad",
        "colab": {
          "base_uri": "https://localhost:8080/",
          "height": 147
        },
        "outputId": "f95a866d-7a50-43f3-a275-d4a9eb9a87a0"
      },
      "source": [
        "q = sym.Matrix([th2,th3])\n",
        "qdot = q.diff(t)\n",
        "qddot = qdot.diff(t)\n",
        "display(q)\n",
        "\n",
        "phi = sym.Matrix([lbd1*(phi1.diff(th2)),lbd2*(phi2.diff(th3))])\n",
        "display(phi)"
      ],
      "execution_count": null,
      "outputs": [
        {
          "output_type": "display_data",
          "data": {
            "text/html": [
              "<script src='https://cdnjs.cloudflare.com/ajax/libs/mathjax/2.7.3/latest.js?config=TeX-AMS_HTML'></script>"
            ],
            "text/plain": [
              "<IPython.core.display.HTML object>"
            ]
          },
          "metadata": {
            "tags": []
          }
        },
        {
          "output_type": "display_data",
          "data": {
            "text/latex": "$$\\left[\\begin{matrix}\\theta_{2}{\\left (t \\right )}\\\\\\theta_{3}{\\left (t \\right )}\\end{matrix}\\right]$$",
            "text/plain": [
              "⎡\\theta₂(t)⎤\n",
              "⎢          ⎥\n",
              "⎣\\theta₃(t)⎦"
            ]
          },
          "metadata": {
            "tags": []
          }
        },
        {
          "output_type": "display_data",
          "data": {
            "text/html": [
              "<script src='https://cdnjs.cloudflare.com/ajax/libs/mathjax/2.7.3/latest.js?config=TeX-AMS_HTML'></script>"
            ],
            "text/plain": [
              "<IPython.core.display.HTML object>"
            ]
          },
          "metadata": {
            "tags": []
          }
        },
        {
          "output_type": "display_data",
          "data": {
            "text/latex": "$$\\left[\\begin{matrix}\\lambda_{1} \\left(0.5 \\sin{\\left (\\theta_{1}{\\left (t \\right )} \\right )} \\cos{\\left (\\theta_{2}{\\left (t \\right )} \\right )} + 0.5 \\sin{\\left (\\theta_{2}{\\left (t \\right )} \\right )} \\cos{\\left (\\theta_{1}{\\left (t \\right )} \\right )} + 0.5 \\sin{\\left (\\theta_{2}{\\left (t \\right )} \\right )}\\right)\\\\\\lambda_{2} \\left(0.5 \\sin{\\left (\\theta_{1}{\\left (t \\right )} \\right )} \\cos{\\left (\\theta_{3}{\\left (t \\right )} \\right )} + 0.5 \\sin{\\left (\\theta_{3}{\\left (t \\right )} \\right )} \\cos{\\left (\\theta_{1}{\\left (t \\right )} \\right )} + 0.5 \\sin{\\left (\\theta_{3}{\\left (t \\right )} \\right )}\\right)\\end{matrix}\\right]$$",
            "text/plain": [
              "⎡λ₁⋅(0.5⋅sin(\\theta₁(t))⋅cos(\\theta₂(t)) + 0.5⋅sin(\\theta₂(t))⋅cos(\\theta₁(t))\n",
              "⎢                                                                             \n",
              "⎣λ₂⋅(0.5⋅sin(\\theta₁(t))⋅cos(\\theta₃(t)) + 0.5⋅sin(\\theta₃(t))⋅cos(\\theta₁(t))\n",
              "\n",
              " + 0.5⋅sin(\\theta₂(t)))⎤\n",
              "                       ⎥\n",
              " + 0.5⋅sin(\\theta₃(t)))⎦"
            ]
          },
          "metadata": {
            "tags": []
          }
        }
      ]
    },
    {
      "cell_type": "code",
      "metadata": {
        "id": "Dek4zC0Xox-3"
      },
      "source": [
        "\n",
        "# Euler Lagrange Equations\n",
        "dLdq = sym.Matrix([Lag]).jacobian(q).T\n",
        "ddLdqdot_dt = sym.Matrix([Lag]).jacobian(qdot).T.diff(t)\n",
        "EulerLagrangeEQs = sym.Eq(ddLdqdot_dt-dLdq,phi)\n"
      ],
      "execution_count": null,
      "outputs": []
    },
    {
      "cell_type": "code",
      "metadata": {
        "id": "toHpv-jKqLSY"
      },
      "source": [
        "dphi1dt = phi1.diff(t)\n",
        "dphi2dt = phi2.diff(t)\n",
        "dphi1ddt = dphi1dt.diff(t)\n",
        "dphi2ddt = dphi2dt.diff(t)\n",
        "Equation1 = sym.Eq(dphi1ddt,0)\n",
        "Equation2 = sym.Eq(dphi2ddt,0)\n",
        "ELsol = sym.solve([EulerLagrangeEQs,Equation1,Equation2],[qddot[0],qddot[1],lbd1,lbd2])\n"
      ],
      "execution_count": null,
      "outputs": []
    },
    {
      "cell_type": "code",
      "metadata": {
        "id": "chFGw5o-toV8",
        "colab": {
          "base_uri": "https://localhost:8080/",
          "height": 1000
        },
        "outputId": "836d08a8-1f71-4554-d45d-6c3d13876dc8"
      },
      "source": [
        "display(ELsol)"
      ],
      "execution_count": null,
      "outputs": [
        {
          "output_type": "display_data",
          "data": {
            "text/html": [
              "<script src='https://cdnjs.cloudflare.com/ajax/libs/mathjax/2.7.3/latest.js?config=TeX-AMS_HTML'></script>"
            ],
            "text/plain": [
              "<IPython.core.display.HTML object>"
            ]
          },
          "metadata": {
            "tags": []
          }
        },
        {
          "output_type": "display_data",
          "data": {
            "text/latex": "$$\\left \\{ \\lambda_{1} : \\frac{0.005}{\\left(\\sin{\\left (\\theta_{1}{\\left (t \\right )} + \\theta_{2}{\\left (t \\right )} \\right )} + \\sin{\\left (\\theta_{2}{\\left (t \\right )} \\right )}\\right)^{2} \\cos^{3}{\\left (\\theta_{1}{\\left (t \\right )} + \\theta_{2}{\\left (t \\right )} \\right )}} \\left(\\left(\\sin{\\left (\\theta_{1}{\\left (t \\right )} + \\theta_{2}{\\left (t \\right )} \\right )} + \\sin{\\left (\\theta_{2}{\\left (t \\right )} \\right )}\\right) \\left(12.5 \\left(\\sin{\\left (\\theta_{1}{\\left (t \\right )} + 3.0 \\theta_{2}{\\left (t \\right )} \\right )} + \\sin{\\left (3.0 \\theta_{1}{\\left (t \\right )} + 5.0 \\theta_{2}{\\left (t \\right )} \\right )}\\right) \\left(\\frac{d}{d t} \\theta_{1}{\\left (t \\right )}\\right)^{2} + 50.0 \\left(\\sin{\\left (3.0 \\theta_{1}{\\left (t \\right )} + 3.0 \\theta_{2}{\\left (t \\right )} \\right )} + \\sin{\\left (5.0 \\theta_{1}{\\left (t \\right )} + 5.0 \\theta_{2}{\\left (t \\right )} \\right )}\\right) \\left(\\frac{d}{d t} a{\\left (t \\right )}\\right)^{2} - 50.0 \\left(\\sin{\\left (3.0 \\theta_{1}{\\left (t \\right )} + 3.0 \\theta_{2}{\\left (t \\right )} \\right )} + \\sin{\\left (5.0 \\theta_{1}{\\left (t \\right )} + 5.0 \\theta_{2}{\\left (t \\right )} \\right )}\\right) \\left(\\frac{d}{d t} b{\\left (t \\right )}\\right)^{2} - 50.0 \\left(\\cos{\\left (3.0 \\theta_{1}{\\left (t \\right )} + 3.0 \\theta_{2}{\\left (t \\right )} \\right )} - \\cos{\\left (5.0 \\theta_{1}{\\left (t \\right )} + 5.0 \\theta_{2}{\\left (t \\right )} \\right )}\\right) \\frac{d}{d t} a{\\left (t \\right )} \\frac{d}{d t} b{\\left (t \\right )} - 400.0 \\sin^{2}{\\left (\\theta_{1}{\\left (t \\right )} + \\theta_{2}{\\left (t \\right )} \\right )} \\cos^{3}{\\left (\\theta_{1}{\\left (t \\right )} + \\theta_{2}{\\left (t \\right )} \\right )} \\frac{d}{d t} a{\\left (t \\right )} \\frac{d}{d t} b{\\left (t \\right )} - 100.0 \\sin{\\left (\\theta_{1}{\\left (t \\right )} + \\theta_{2}{\\left (t \\right )} \\right )} \\sin^{2}{\\left (2.0 \\theta_{1}{\\left (t \\right )} + 2.0 \\theta_{2}{\\left (t \\right )} \\right )} \\left(\\frac{d}{d t} b{\\left (t \\right )}\\right)^{2} - 100.0 \\sin{\\left (\\theta_{1}{\\left (t \\right )} + \\theta_{2}{\\left (t \\right )} \\right )} \\sin{\\left (2.0 \\theta_{1}{\\left (t \\right )} + 2.0 \\theta_{2}{\\left (t \\right )} \\right )} \\cos{\\left (\\theta_{1}{\\left (t \\right )} + 2.0 \\theta_{2}{\\left (t \\right )} \\right )} \\frac{d}{d t} \\theta_{1}{\\left (t \\right )} \\frac{d}{d t} b{\\left (t \\right )} - 100.0 \\sin{\\left (\\theta_{1}{\\left (t \\right )} + \\theta_{2}{\\left (t \\right )} \\right )} \\sin{\\left (2.0 \\theta_{1}{\\left (t \\right )} + 2.0 \\theta_{2}{\\left (t \\right )} \\right )} \\cos{\\left (\\theta_{1}{\\left (t \\right )} \\right )} \\frac{d}{d t} \\theta_{1}{\\left (t \\right )} \\frac{d}{d t} b{\\left (t \\right )} - 200.0 \\sin{\\left (\\theta_{1}{\\left (t \\right )} + \\theta_{2}{\\left (t \\right )} \\right )} \\sin{\\left (2.0 \\theta_{1}{\\left (t \\right )} + 2.0 \\theta_{2}{\\left (t \\right )} \\right )} \\frac{d}{d t} a{\\left (t \\right )} \\frac{d}{d t} b{\\left (t \\right )} - 200.0 \\sin{\\left (\\theta_{1}{\\left (t \\right )} + \\theta_{2}{\\left (t \\right )} \\right )} \\sin{\\left (\\theta_{2}{\\left (t \\right )} \\right )} \\cos^{3}{\\left (\\theta_{1}{\\left (t \\right )} + \\theta_{2}{\\left (t \\right )} \\right )} \\frac{d}{d t} \\theta_{1}{\\left (t \\right )} \\frac{d}{d t} b{\\left (t \\right )} - 400.0 \\sin{\\left (\\theta_{1}{\\left (t \\right )} + \\theta_{2}{\\left (t \\right )} \\right )} \\cos^{4}{\\left (\\theta_{1}{\\left (t \\right )} + \\theta_{2}{\\left (t \\right )} \\right )} \\left(\\frac{d}{d t} a{\\left (t \\right )}\\right)^{2} + 400.0 \\sin{\\left (\\theta_{1}{\\left (t \\right )} + \\theta_{2}{\\left (t \\right )} \\right )} \\cos^{4}{\\left (\\theta_{1}{\\left (t \\right )} + \\theta_{2}{\\left (t \\right )} \\right )} \\left(\\frac{d}{d t} b{\\left (t \\right )}\\right)^{2} - 200.0 \\sin{\\left (\\theta_{1}{\\left (t \\right )} + \\theta_{2}{\\left (t \\right )} \\right )} \\cos^{3}{\\left (\\theta_{1}{\\left (t \\right )} + \\theta_{2}{\\left (t \\right )} \\right )} \\cos{\\left (\\theta_{2}{\\left (t \\right )} \\right )} \\frac{d}{d t} \\theta_{1}{\\left (t \\right )} \\frac{d}{d t} a{\\left (t \\right )} - 25.0 \\sin{\\left (\\theta_{1}{\\left (t \\right )} + \\theta_{2}{\\left (t \\right )} \\right )} \\cos^{2}{\\left (\\theta_{1}{\\left (t \\right )} + 2.0 \\theta_{2}{\\left (t \\right )} \\right )} \\left(\\frac{d}{d t} \\theta_{1}{\\left (t \\right )}\\right)^{2} - 100.0 \\sin{\\left (\\theta_{1}{\\left (t \\right )} + \\theta_{2}{\\left (t \\right )} \\right )} \\cos{\\left (\\theta_{1}{\\left (t \\right )} + 2.0 \\theta_{2}{\\left (t \\right )} \\right )} \\cos{\\left (2.0 \\theta_{1}{\\left (t \\right )} + 2.0 \\theta_{2}{\\left (t \\right )} \\right )} \\frac{d}{d t} \\theta_{1}{\\left (t \\right )} \\frac{d}{d t} a{\\left (t \\right )} - 50.0 \\sin{\\left (\\theta_{1}{\\left (t \\right )} + \\theta_{2}{\\left (t \\right )} \\right )} \\cos{\\left (\\theta_{1}{\\left (t \\right )} + 2.0 \\theta_{2}{\\left (t \\right )} \\right )} \\cos{\\left (\\theta_{1}{\\left (t \\right )} \\right )} \\left(\\frac{d}{d t} \\theta_{1}{\\left (t \\right )}\\right)^{2} - 100.0 \\sin{\\left (\\theta_{1}{\\left (t \\right )} + \\theta_{2}{\\left (t \\right )} \\right )} \\cos{\\left (\\theta_{1}{\\left (t \\right )} + 2.0 \\theta_{2}{\\left (t \\right )} \\right )} \\frac{d}{d t} \\theta_{1}{\\left (t \\right )} \\frac{d}{d t} a{\\left (t \\right )} - 100.0 \\sin{\\left (\\theta_{1}{\\left (t \\right )} + \\theta_{2}{\\left (t \\right )} \\right )} \\cos^{2}{\\left (2.0 \\theta_{1}{\\left (t \\right )} + 2.0 \\theta_{2}{\\left (t \\right )} \\right )} \\left(\\frac{d}{d t} a{\\left (t \\right )}\\right)^{2} - 100.0 \\sin{\\left (\\theta_{1}{\\left (t \\right )} + \\theta_{2}{\\left (t \\right )} \\right )} \\cos{\\left (2.0 \\theta_{1}{\\left (t \\right )} + 2.0 \\theta_{2}{\\left (t \\right )} \\right )} \\cos{\\left (\\theta_{1}{\\left (t \\right )} \\right )} \\frac{d}{d t} \\theta_{1}{\\left (t \\right )} \\frac{d}{d t} a{\\left (t \\right )} - 200.0 \\sin{\\left (\\theta_{1}{\\left (t \\right )} + \\theta_{2}{\\left (t \\right )} \\right )} \\cos{\\left (2.0 \\theta_{1}{\\left (t \\right )} + 2.0 \\theta_{2}{\\left (t \\right )} \\right )} \\left(\\frac{d}{d t} a{\\left (t \\right )}\\right)^{2} - 25.0 \\sin{\\left (\\theta_{1}{\\left (t \\right )} + \\theta_{2}{\\left (t \\right )} \\right )} \\cos^{2}{\\left (\\theta_{1}{\\left (t \\right )} \\right )} \\left(\\frac{d}{d t} \\theta_{1}{\\left (t \\right )}\\right)^{2} - 100.0 \\sin{\\left (\\theta_{1}{\\left (t \\right )} + \\theta_{2}{\\left (t \\right )} \\right )} \\cos{\\left (\\theta_{1}{\\left (t \\right )} \\right )} \\frac{d}{d t} \\theta_{1}{\\left (t \\right )} \\frac{d}{d t} a{\\left (t \\right )} - 100.0 \\sin{\\left (\\theta_{1}{\\left (t \\right )} + \\theta_{2}{\\left (t \\right )} \\right )} \\left(\\frac{d}{d t} a{\\left (t \\right )}\\right)^{2} + 100.0 \\sin{\\left (\\theta_{1}{\\left (t \\right )} + 2.0 \\theta_{2}{\\left (t \\right )} \\right )} \\sin{\\left (2.0 \\theta_{1}{\\left (t \\right )} + 2.0 \\theta_{2}{\\left (t \\right )} \\right )} \\cos{\\left (\\theta_{1}{\\left (t \\right )} + \\theta_{2}{\\left (t \\right )} \\right )} \\frac{d}{d t} \\theta_{1}{\\left (t \\right )} \\frac{d}{d t} b{\\left (t \\right )} + 50.0 \\sin{\\left (\\theta_{1}{\\left (t \\right )} + 2.0 \\theta_{2}{\\left (t \\right )} \\right )} \\cos^{2}{\\left (\\theta_{1}{\\left (t \\right )} + \\theta_{2}{\\left (t \\right )} \\right )} \\left(\\frac{d}{d t} \\theta_{1}{\\left (t \\right )}\\right)^{2} + 100.0 \\sin{\\left (\\theta_{1}{\\left (t \\right )} + 2.0 \\theta_{2}{\\left (t \\right )} \\right )} \\cos{\\left (\\theta_{1}{\\left (t \\right )} + \\theta_{2}{\\left (t \\right )} \\right )} \\cos{\\left (2.0 \\theta_{1}{\\left (t \\right )} + 2.0 \\theta_{2}{\\left (t \\right )} \\right )} \\frac{d}{d t} \\theta_{1}{\\left (t \\right )} \\frac{d}{d t} a{\\left (t \\right )} + 50.0 \\sin{\\left (\\theta_{1}{\\left (t \\right )} + 2.0 \\theta_{2}{\\left (t \\right )} \\right )} \\cos{\\left (\\theta_{1}{\\left (t \\right )} + \\theta_{2}{\\left (t \\right )} \\right )} \\cos{\\left (\\theta_{1}{\\left (t \\right )} \\right )} \\left(\\frac{d}{d t} \\theta_{1}{\\left (t \\right )}\\right)^{2} + 100.0 \\sin{\\left (\\theta_{1}{\\left (t \\right )} + 2.0 \\theta_{2}{\\left (t \\right )} \\right )} \\cos{\\left (\\theta_{1}{\\left (t \\right )} + \\theta_{2}{\\left (t \\right )} \\right )} \\frac{d}{d t} \\theta_{1}{\\left (t \\right )} \\frac{d}{d t} a{\\left (t \\right )} + 200.0 \\sin^{2}{\\left (2.0 \\theta_{1}{\\left (t \\right )} + 2.0 \\theta_{2}{\\left (t \\right )} \\right )} \\cos{\\left (\\theta_{1}{\\left (t \\right )} + \\theta_{2}{\\left (t \\right )} \\right )} \\frac{d}{d t} a{\\left (t \\right )} \\frac{d}{d t} b{\\left (t \\right )} + 100.0 \\sin{\\left (2.0 \\theta_{1}{\\left (t \\right )} + 2.0 \\theta_{2}{\\left (t \\right )} \\right )} \\cos^{2}{\\left (\\theta_{1}{\\left (t \\right )} + \\theta_{2}{\\left (t \\right )} \\right )} \\frac{d^{2}}{d t^{2}}  b{\\left (t \\right )} + 100.0 \\sin{\\left (2.0 \\theta_{1}{\\left (t \\right )} + 2.0 \\theta_{2}{\\left (t \\right )} \\right )} \\cos{\\left (\\theta_{1}{\\left (t \\right )} + \\theta_{2}{\\left (t \\right )} \\right )} \\cos{\\left (\\theta_{1}{\\left (t \\right )} + 2.0 \\theta_{2}{\\left (t \\right )} \\right )} \\frac{d}{d t} \\theta_{1}{\\left (t \\right )} \\frac{d}{d t} a{\\left (t \\right )} + 100.0 \\sin{\\left (2.0 \\theta_{1}{\\left (t \\right )} + 2.0 \\theta_{2}{\\left (t \\right )} \\right )} \\cos{\\left (\\theta_{1}{\\left (t \\right )} + \\theta_{2}{\\left (t \\right )} \\right )} \\cos{\\left (\\theta_{1}{\\left (t \\right )} \\right )} \\frac{d}{d t} \\theta_{1}{\\left (t \\right )} \\frac{d}{d t} a{\\left (t \\right )} + 200.0 \\sin{\\left (2.0 \\theta_{1}{\\left (t \\right )} + 2.0 \\theta_{2}{\\left (t \\right )} \\right )} \\cos{\\left (\\theta_{1}{\\left (t \\right )} + \\theta_{2}{\\left (t \\right )} \\right )} \\left(\\frac{d}{d t} a{\\left (t \\right )}\\right)^{2} + 1962.0 \\sin{\\left (\\theta_{1}{\\left (t \\right )} \\right )} \\cos^{3}{\\left (\\theta_{1}{\\left (t \\right )} + \\theta_{2}{\\left (t \\right )} \\right )} \\cos{\\left (\\theta_{2}{\\left (t \\right )} \\right )} - 50.0 \\sin{\\left (\\theta_{1}{\\left (t \\right )} \\right )} \\cos^{2}{\\left (\\theta_{1}{\\left (t \\right )} + \\theta_{2}{\\left (t \\right )} \\right )} \\left(\\frac{d}{d t} \\theta_{1}{\\left (t \\right )}\\right)^{2} - 200.0 \\sin{\\left (\\theta_{2}{\\left (t \\right )} \\right )} \\cos^{4}{\\left (\\theta_{1}{\\left (t \\right )} + \\theta_{2}{\\left (t \\right )} \\right )} \\frac{d}{d t} \\theta_{1}{\\left (t \\right )} \\frac{d}{d t} a{\\left (t \\right )} + 1962.0 \\sin{\\left (\\theta_{2}{\\left (t \\right )} \\right )} \\cos^{3}{\\left (\\theta_{1}{\\left (t \\right )} + \\theta_{2}{\\left (t \\right )} \\right )} \\cos{\\left (\\theta_{1}{\\left (t \\right )} \\right )} - 100.0 \\sin{\\left (\\theta_{2}{\\left (t \\right )} \\right )} \\cos^{3}{\\left (\\theta_{1}{\\left (t \\right )} + \\theta_{2}{\\left (t \\right )} \\right )} \\cos{\\left (\\theta_{2}{\\left (t \\right )} \\right )} \\left(\\frac{d}{d t} \\theta_{1}{\\left (t \\right )}\\right)^{2} + 400.0 \\cos^{5}{\\left (\\theta_{1}{\\left (t \\right )} + \\theta_{2}{\\left (t \\right )} \\right )} \\frac{d}{d t} a{\\left (t \\right )} \\frac{d}{d t} b{\\left (t \\right )} + 200.0 \\cos^{4}{\\left (\\theta_{1}{\\left (t \\right )} + \\theta_{2}{\\left (t \\right )} \\right )} \\cos{\\left (\\theta_{2}{\\left (t \\right )} \\right )} \\frac{d}{d t} \\theta_{1}{\\left (t \\right )} \\frac{d}{d t} b{\\left (t \\right )} + 500.0 \\cos^{3}{\\left (\\theta_{1}{\\left (t \\right )} + \\theta_{2}{\\left (t \\right )} \\right )} \\frac{d^{2}}{d t^{2}}  \\theta_{1}{\\left (t \\right )} + 50.0 \\cos^{2}{\\left (\\theta_{1}{\\left (t \\right )} + \\theta_{2}{\\left (t \\right )} \\right )} \\cos{\\left (\\theta_{1}{\\left (t \\right )} + 2.0 \\theta_{2}{\\left (t \\right )} \\right )} \\frac{d^{2}}{d t^{2}}  \\theta_{1}{\\left (t \\right )} + 100.0 \\cos^{2}{\\left (\\theta_{1}{\\left (t \\right )} + \\theta_{2}{\\left (t \\right )} \\right )} \\cos{\\left (2.0 \\theta_{1}{\\left (t \\right )} + 2.0 \\theta_{2}{\\left (t \\right )} \\right )} \\frac{d^{2}}{d t^{2}}  a{\\left (t \\right )} + 50.0 \\cos^{2}{\\left (\\theta_{1}{\\left (t \\right )} + \\theta_{2}{\\left (t \\right )} \\right )} \\cos{\\left (\\theta_{1}{\\left (t \\right )} \\right )} \\frac{d^{2}}{d t^{2}}  \\theta_{1}{\\left (t \\right )} + 100.0 \\cos^{2}{\\left (\\theta_{1}{\\left (t \\right )} + \\theta_{2}{\\left (t \\right )} \\right )} \\frac{d^{2}}{d t^{2}}  a{\\left (t \\right )} - 100.0 \\cos{\\left (\\theta_{1}{\\left (t \\right )} + \\theta_{2}{\\left (t \\right )} \\right )} \\cos{\\left (\\theta_{1}{\\left (t \\right )} + 2.0 \\theta_{2}{\\left (t \\right )} \\right )} \\cos{\\left (2.0 \\theta_{1}{\\left (t \\right )} + 2.0 \\theta_{2}{\\left (t \\right )} \\right )} \\frac{d}{d t} \\theta_{1}{\\left (t \\right )} \\frac{d}{d t} b{\\left (t \\right )} - 200.0 \\cos{\\left (\\theta_{1}{\\left (t \\right )} + \\theta_{2}{\\left (t \\right )} \\right )} \\cos^{2}{\\left (2.0 \\theta_{1}{\\left (t \\right )} + 2.0 \\theta_{2}{\\left (t \\right )} \\right )} \\frac{d}{d t} a{\\left (t \\right )} \\frac{d}{d t} b{\\left (t \\right )} - 100.0 \\cos{\\left (\\theta_{1}{\\left (t \\right )} + \\theta_{2}{\\left (t \\right )} \\right )} \\cos{\\left (2.0 \\theta_{1}{\\left (t \\right )} + 2.0 \\theta_{2}{\\left (t \\right )} \\right )} \\cos{\\left (\\theta_{1}{\\left (t \\right )} \\right )} \\frac{d}{d t} \\theta_{1}{\\left (t \\right )} \\frac{d}{d t} b{\\left (t \\right )} - 200.0 \\cos{\\left (\\theta_{1}{\\left (t \\right )} + \\theta_{2}{\\left (t \\right )} \\right )} \\cos{\\left (2.0 \\theta_{1}{\\left (t \\right )} + 2.0 \\theta_{2}{\\left (t \\right )} \\right )} \\frac{d}{d t} a{\\left (t \\right )} \\frac{d}{d t} b{\\left (t \\right )}\\right) - 500.0 \\left(\\sin{\\left (\\theta_{1}{\\left (t \\right )} + \\theta_{2}{\\left (t \\right )} \\right )} \\frac{d^{2}}{d t^{2}}  \\theta_{1}{\\left (t \\right )} + \\sin{\\left (\\theta_{1}{\\left (t \\right )} \\right )} \\frac{d^{2}}{d t^{2}}  \\theta_{1}{\\left (t \\right )} + \\cos{\\left (\\theta_{1}{\\left (t \\right )} + \\theta_{2}{\\left (t \\right )} \\right )} \\left(\\frac{d}{d t} \\theta_{1}{\\left (t \\right )}\\right)^{2} + 2.0 \\cos{\\left (\\theta_{1}{\\left (t \\right )} + \\theta_{2}{\\left (t \\right )} \\right )} \\frac{d}{d t} \\theta_{1}{\\left (t \\right )} \\frac{d}{d t} \\theta_{2}{\\left (t \\right )} + \\cos{\\left (\\theta_{1}{\\left (t \\right )} + \\theta_{2}{\\left (t \\right )} \\right )} \\left(\\frac{d}{d t} \\theta_{2}{\\left (t \\right )}\\right)^{2} + \\cos{\\left (\\theta_{1}{\\left (t \\right )} \\right )} \\left(\\frac{d}{d t} \\theta_{1}{\\left (t \\right )}\\right)^{2} + \\cos{\\left (\\theta_{2}{\\left (t \\right )} \\right )} \\left(\\frac{d}{d t} \\theta_{2}{\\left (t \\right )}\\right)^{2} + 2.0 \\frac{d^{2}}{d t^{2}}  b{\\left (t \\right )}\\right) \\cos^{3}{\\left (\\theta_{1}{\\left (t \\right )} + \\theta_{2}{\\left (t \\right )} \\right )}\\right), \\quad \\lambda_{2} : \\frac{0.005}{\\left(\\sin{\\left (\\theta_{1}{\\left (t \\right )} + \\theta_{3}{\\left (t \\right )} \\right )} + \\sin{\\left (\\theta_{3}{\\left (t \\right )} \\right )}\\right)^{2} \\cos^{3}{\\left (\\theta_{1}{\\left (t \\right )} + \\theta_{3}{\\left (t \\right )} \\right )}} \\left(\\left(\\sin{\\left (\\theta_{1}{\\left (t \\right )} + \\theta_{3}{\\left (t \\right )} \\right )} + \\sin{\\left (\\theta_{3}{\\left (t \\right )} \\right )}\\right) \\left(12.5 \\left(\\sin{\\left (\\theta_{1}{\\left (t \\right )} + 3.0 \\theta_{3}{\\left (t \\right )} \\right )} + \\sin{\\left (3.0 \\theta_{1}{\\left (t \\right )} + 5.0 \\theta_{3}{\\left (t \\right )} \\right )}\\right) \\left(\\frac{d}{d t} \\theta_{1}{\\left (t \\right )}\\right)^{2} + 50.0 \\left(\\sin{\\left (3.0 \\theta_{1}{\\left (t \\right )} + 3.0 \\theta_{3}{\\left (t \\right )} \\right )} + \\sin{\\left (5.0 \\theta_{1}{\\left (t \\right )} + 5.0 \\theta_{3}{\\left (t \\right )} \\right )}\\right) \\left(\\frac{d}{d t} a{\\left (t \\right )}\\right)^{2} - 50.0 \\left(\\sin{\\left (3.0 \\theta_{1}{\\left (t \\right )} + 3.0 \\theta_{3}{\\left (t \\right )} \\right )} + \\sin{\\left (5.0 \\theta_{1}{\\left (t \\right )} + 5.0 \\theta_{3}{\\left (t \\right )} \\right )}\\right) \\left(\\frac{d}{d t} b{\\left (t \\right )}\\right)^{2} - 50.0 \\left(\\cos{\\left (3.0 \\theta_{1}{\\left (t \\right )} + 3.0 \\theta_{3}{\\left (t \\right )} \\right )} - \\cos{\\left (5.0 \\theta_{1}{\\left (t \\right )} + 5.0 \\theta_{3}{\\left (t \\right )} \\right )}\\right) \\frac{d}{d t} a{\\left (t \\right )} \\frac{d}{d t} b{\\left (t \\right )} - 400.0 \\sin^{2}{\\left (\\theta_{1}{\\left (t \\right )} + \\theta_{3}{\\left (t \\right )} \\right )} \\cos^{3}{\\left (\\theta_{1}{\\left (t \\right )} + \\theta_{3}{\\left (t \\right )} \\right )} \\frac{d}{d t} a{\\left (t \\right )} \\frac{d}{d t} b{\\left (t \\right )} - 100.0 \\sin{\\left (\\theta_{1}{\\left (t \\right )} + \\theta_{3}{\\left (t \\right )} \\right )} \\sin^{2}{\\left (2.0 \\theta_{1}{\\left (t \\right )} + 2.0 \\theta_{3}{\\left (t \\right )} \\right )} \\left(\\frac{d}{d t} b{\\left (t \\right )}\\right)^{2} - 100.0 \\sin{\\left (\\theta_{1}{\\left (t \\right )} + \\theta_{3}{\\left (t \\right )} \\right )} \\sin{\\left (2.0 \\theta_{1}{\\left (t \\right )} + 2.0 \\theta_{3}{\\left (t \\right )} \\right )} \\cos{\\left (\\theta_{1}{\\left (t \\right )} + 2.0 \\theta_{3}{\\left (t \\right )} \\right )} \\frac{d}{d t} \\theta_{1}{\\left (t \\right )} \\frac{d}{d t} b{\\left (t \\right )} - 100.0 \\sin{\\left (\\theta_{1}{\\left (t \\right )} + \\theta_{3}{\\left (t \\right )} \\right )} \\sin{\\left (2.0 \\theta_{1}{\\left (t \\right )} + 2.0 \\theta_{3}{\\left (t \\right )} \\right )} \\cos{\\left (\\theta_{1}{\\left (t \\right )} \\right )} \\frac{d}{d t} \\theta_{1}{\\left (t \\right )} \\frac{d}{d t} b{\\left (t \\right )} - 200.0 \\sin{\\left (\\theta_{1}{\\left (t \\right )} + \\theta_{3}{\\left (t \\right )} \\right )} \\sin{\\left (2.0 \\theta_{1}{\\left (t \\right )} + 2.0 \\theta_{3}{\\left (t \\right )} \\right )} \\frac{d}{d t} a{\\left (t \\right )} \\frac{d}{d t} b{\\left (t \\right )} - 200.0 \\sin{\\left (\\theta_{1}{\\left (t \\right )} + \\theta_{3}{\\left (t \\right )} \\right )} \\sin{\\left (\\theta_{3}{\\left (t \\right )} \\right )} \\cos^{3}{\\left (\\theta_{1}{\\left (t \\right )} + \\theta_{3}{\\left (t \\right )} \\right )} \\frac{d}{d t} \\theta_{1}{\\left (t \\right )} \\frac{d}{d t} b{\\left (t \\right )} - 400.0 \\sin{\\left (\\theta_{1}{\\left (t \\right )} + \\theta_{3}{\\left (t \\right )} \\right )} \\cos^{4}{\\left (\\theta_{1}{\\left (t \\right )} + \\theta_{3}{\\left (t \\right )} \\right )} \\left(\\frac{d}{d t} a{\\left (t \\right )}\\right)^{2} + 400.0 \\sin{\\left (\\theta_{1}{\\left (t \\right )} + \\theta_{3}{\\left (t \\right )} \\right )} \\cos^{4}{\\left (\\theta_{1}{\\left (t \\right )} + \\theta_{3}{\\left (t \\right )} \\right )} \\left(\\frac{d}{d t} b{\\left (t \\right )}\\right)^{2} - 200.0 \\sin{\\left (\\theta_{1}{\\left (t \\right )} + \\theta_{3}{\\left (t \\right )} \\right )} \\cos^{3}{\\left (\\theta_{1}{\\left (t \\right )} + \\theta_{3}{\\left (t \\right )} \\right )} \\cos{\\left (\\theta_{3}{\\left (t \\right )} \\right )} \\frac{d}{d t} \\theta_{1}{\\left (t \\right )} \\frac{d}{d t} a{\\left (t \\right )} - 25.0 \\sin{\\left (\\theta_{1}{\\left (t \\right )} + \\theta_{3}{\\left (t \\right )} \\right )} \\cos^{2}{\\left (\\theta_{1}{\\left (t \\right )} + 2.0 \\theta_{3}{\\left (t \\right )} \\right )} \\left(\\frac{d}{d t} \\theta_{1}{\\left (t \\right )}\\right)^{2} - 100.0 \\sin{\\left (\\theta_{1}{\\left (t \\right )} + \\theta_{3}{\\left (t \\right )} \\right )} \\cos{\\left (\\theta_{1}{\\left (t \\right )} + 2.0 \\theta_{3}{\\left (t \\right )} \\right )} \\cos{\\left (2.0 \\theta_{1}{\\left (t \\right )} + 2.0 \\theta_{3}{\\left (t \\right )} \\right )} \\frac{d}{d t} \\theta_{1}{\\left (t \\right )} \\frac{d}{d t} a{\\left (t \\right )} - 50.0 \\sin{\\left (\\theta_{1}{\\left (t \\right )} + \\theta_{3}{\\left (t \\right )} \\right )} \\cos{\\left (\\theta_{1}{\\left (t \\right )} + 2.0 \\theta_{3}{\\left (t \\right )} \\right )} \\cos{\\left (\\theta_{1}{\\left (t \\right )} \\right )} \\left(\\frac{d}{d t} \\theta_{1}{\\left (t \\right )}\\right)^{2} - 100.0 \\sin{\\left (\\theta_{1}{\\left (t \\right )} + \\theta_{3}{\\left (t \\right )} \\right )} \\cos{\\left (\\theta_{1}{\\left (t \\right )} + 2.0 \\theta_{3}{\\left (t \\right )} \\right )} \\frac{d}{d t} \\theta_{1}{\\left (t \\right )} \\frac{d}{d t} a{\\left (t \\right )} - 100.0 \\sin{\\left (\\theta_{1}{\\left (t \\right )} + \\theta_{3}{\\left (t \\right )} \\right )} \\cos^{2}{\\left (2.0 \\theta_{1}{\\left (t \\right )} + 2.0 \\theta_{3}{\\left (t \\right )} \\right )} \\left(\\frac{d}{d t} a{\\left (t \\right )}\\right)^{2} - 100.0 \\sin{\\left (\\theta_{1}{\\left (t \\right )} + \\theta_{3}{\\left (t \\right )} \\right )} \\cos{\\left (2.0 \\theta_{1}{\\left (t \\right )} + 2.0 \\theta_{3}{\\left (t \\right )} \\right )} \\cos{\\left (\\theta_{1}{\\left (t \\right )} \\right )} \\frac{d}{d t} \\theta_{1}{\\left (t \\right )} \\frac{d}{d t} a{\\left (t \\right )} - 200.0 \\sin{\\left (\\theta_{1}{\\left (t \\right )} + \\theta_{3}{\\left (t \\right )} \\right )} \\cos{\\left (2.0 \\theta_{1}{\\left (t \\right )} + 2.0 \\theta_{3}{\\left (t \\right )} \\right )} \\left(\\frac{d}{d t} a{\\left (t \\right )}\\right)^{2} - 25.0 \\sin{\\left (\\theta_{1}{\\left (t \\right )} + \\theta_{3}{\\left (t \\right )} \\right )} \\cos^{2}{\\left (\\theta_{1}{\\left (t \\right )} \\right )} \\left(\\frac{d}{d t} \\theta_{1}{\\left (t \\right )}\\right)^{2} - 100.0 \\sin{\\left (\\theta_{1}{\\left (t \\right )} + \\theta_{3}{\\left (t \\right )} \\right )} \\cos{\\left (\\theta_{1}{\\left (t \\right )} \\right )} \\frac{d}{d t} \\theta_{1}{\\left (t \\right )} \\frac{d}{d t} a{\\left (t \\right )} - 100.0 \\sin{\\left (\\theta_{1}{\\left (t \\right )} + \\theta_{3}{\\left (t \\right )} \\right )} \\left(\\frac{d}{d t} a{\\left (t \\right )}\\right)^{2} + 100.0 \\sin{\\left (\\theta_{1}{\\left (t \\right )} + 2.0 \\theta_{3}{\\left (t \\right )} \\right )} \\sin{\\left (2.0 \\theta_{1}{\\left (t \\right )} + 2.0 \\theta_{3}{\\left (t \\right )} \\right )} \\cos{\\left (\\theta_{1}{\\left (t \\right )} + \\theta_{3}{\\left (t \\right )} \\right )} \\frac{d}{d t} \\theta_{1}{\\left (t \\right )} \\frac{d}{d t} b{\\left (t \\right )} + 50.0 \\sin{\\left (\\theta_{1}{\\left (t \\right )} + 2.0 \\theta_{3}{\\left (t \\right )} \\right )} \\cos^{2}{\\left (\\theta_{1}{\\left (t \\right )} + \\theta_{3}{\\left (t \\right )} \\right )} \\left(\\frac{d}{d t} \\theta_{1}{\\left (t \\right )}\\right)^{2} + 100.0 \\sin{\\left (\\theta_{1}{\\left (t \\right )} + 2.0 \\theta_{3}{\\left (t \\right )} \\right )} \\cos{\\left (\\theta_{1}{\\left (t \\right )} + \\theta_{3}{\\left (t \\right )} \\right )} \\cos{\\left (2.0 \\theta_{1}{\\left (t \\right )} + 2.0 \\theta_{3}{\\left (t \\right )} \\right )} \\frac{d}{d t} \\theta_{1}{\\left (t \\right )} \\frac{d}{d t} a{\\left (t \\right )} + 50.0 \\sin{\\left (\\theta_{1}{\\left (t \\right )} + 2.0 \\theta_{3}{\\left (t \\right )} \\right )} \\cos{\\left (\\theta_{1}{\\left (t \\right )} + \\theta_{3}{\\left (t \\right )} \\right )} \\cos{\\left (\\theta_{1}{\\left (t \\right )} \\right )} \\left(\\frac{d}{d t} \\theta_{1}{\\left (t \\right )}\\right)^{2} + 100.0 \\sin{\\left (\\theta_{1}{\\left (t \\right )} + 2.0 \\theta_{3}{\\left (t \\right )} \\right )} \\cos{\\left (\\theta_{1}{\\left (t \\right )} + \\theta_{3}{\\left (t \\right )} \\right )} \\frac{d}{d t} \\theta_{1}{\\left (t \\right )} \\frac{d}{d t} a{\\left (t \\right )} + 200.0 \\sin^{2}{\\left (2.0 \\theta_{1}{\\left (t \\right )} + 2.0 \\theta_{3}{\\left (t \\right )} \\right )} \\cos{\\left (\\theta_{1}{\\left (t \\right )} + \\theta_{3}{\\left (t \\right )} \\right )} \\frac{d}{d t} a{\\left (t \\right )} \\frac{d}{d t} b{\\left (t \\right )} + 100.0 \\sin{\\left (2.0 \\theta_{1}{\\left (t \\right )} + 2.0 \\theta_{3}{\\left (t \\right )} \\right )} \\cos^{2}{\\left (\\theta_{1}{\\left (t \\right )} + \\theta_{3}{\\left (t \\right )} \\right )} \\frac{d^{2}}{d t^{2}}  b{\\left (t \\right )} + 100.0 \\sin{\\left (2.0 \\theta_{1}{\\left (t \\right )} + 2.0 \\theta_{3}{\\left (t \\right )} \\right )} \\cos{\\left (\\theta_{1}{\\left (t \\right )} + \\theta_{3}{\\left (t \\right )} \\right )} \\cos{\\left (\\theta_{1}{\\left (t \\right )} + 2.0 \\theta_{3}{\\left (t \\right )} \\right )} \\frac{d}{d t} \\theta_{1}{\\left (t \\right )} \\frac{d}{d t} a{\\left (t \\right )} + 100.0 \\sin{\\left (2.0 \\theta_{1}{\\left (t \\right )} + 2.0 \\theta_{3}{\\left (t \\right )} \\right )} \\cos{\\left (\\theta_{1}{\\left (t \\right )} + \\theta_{3}{\\left (t \\right )} \\right )} \\cos{\\left (\\theta_{1}{\\left (t \\right )} \\right )} \\frac{d}{d t} \\theta_{1}{\\left (t \\right )} \\frac{d}{d t} a{\\left (t \\right )} + 200.0 \\sin{\\left (2.0 \\theta_{1}{\\left (t \\right )} + 2.0 \\theta_{3}{\\left (t \\right )} \\right )} \\cos{\\left (\\theta_{1}{\\left (t \\right )} + \\theta_{3}{\\left (t \\right )} \\right )} \\left(\\frac{d}{d t} a{\\left (t \\right )}\\right)^{2} + 1962.0 \\sin{\\left (\\theta_{1}{\\left (t \\right )} \\right )} \\cos^{3}{\\left (\\theta_{1}{\\left (t \\right )} + \\theta_{3}{\\left (t \\right )} \\right )} \\cos{\\left (\\theta_{3}{\\left (t \\right )} \\right )} - 50.0 \\sin{\\left (\\theta_{1}{\\left (t \\right )} \\right )} \\cos^{2}{\\left (\\theta_{1}{\\left (t \\right )} + \\theta_{3}{\\left (t \\right )} \\right )} \\left(\\frac{d}{d t} \\theta_{1}{\\left (t \\right )}\\right)^{2} - 200.0 \\sin{\\left (\\theta_{3}{\\left (t \\right )} \\right )} \\cos^{4}{\\left (\\theta_{1}{\\left (t \\right )} + \\theta_{3}{\\left (t \\right )} \\right )} \\frac{d}{d t} \\theta_{1}{\\left (t \\right )} \\frac{d}{d t} a{\\left (t \\right )} + 1962.0 \\sin{\\left (\\theta_{3}{\\left (t \\right )} \\right )} \\cos^{3}{\\left (\\theta_{1}{\\left (t \\right )} + \\theta_{3}{\\left (t \\right )} \\right )} \\cos{\\left (\\theta_{1}{\\left (t \\right )} \\right )} - 100.0 \\sin{\\left (\\theta_{3}{\\left (t \\right )} \\right )} \\cos^{3}{\\left (\\theta_{1}{\\left (t \\right )} + \\theta_{3}{\\left (t \\right )} \\right )} \\cos{\\left (\\theta_{3}{\\left (t \\right )} \\right )} \\left(\\frac{d}{d t} \\theta_{1}{\\left (t \\right )}\\right)^{2} + 400.0 \\cos^{5}{\\left (\\theta_{1}{\\left (t \\right )} + \\theta_{3}{\\left (t \\right )} \\right )} \\frac{d}{d t} a{\\left (t \\right )} \\frac{d}{d t} b{\\left (t \\right )} + 200.0 \\cos^{4}{\\left (\\theta_{1}{\\left (t \\right )} + \\theta_{3}{\\left (t \\right )} \\right )} \\cos{\\left (\\theta_{3}{\\left (t \\right )} \\right )} \\frac{d}{d t} \\theta_{1}{\\left (t \\right )} \\frac{d}{d t} b{\\left (t \\right )} + 500.0 \\cos^{3}{\\left (\\theta_{1}{\\left (t \\right )} + \\theta_{3}{\\left (t \\right )} \\right )} \\frac{d^{2}}{d t^{2}}  \\theta_{1}{\\left (t \\right )} + 50.0 \\cos^{2}{\\left (\\theta_{1}{\\left (t \\right )} + \\theta_{3}{\\left (t \\right )} \\right )} \\cos{\\left (\\theta_{1}{\\left (t \\right )} + 2.0 \\theta_{3}{\\left (t \\right )} \\right )} \\frac{d^{2}}{d t^{2}}  \\theta_{1}{\\left (t \\right )} + 100.0 \\cos^{2}{\\left (\\theta_{1}{\\left (t \\right )} + \\theta_{3}{\\left (t \\right )} \\right )} \\cos{\\left (2.0 \\theta_{1}{\\left (t \\right )} + 2.0 \\theta_{3}{\\left (t \\right )} \\right )} \\frac{d^{2}}{d t^{2}}  a{\\left (t \\right )} + 50.0 \\cos^{2}{\\left (\\theta_{1}{\\left (t \\right )} + \\theta_{3}{\\left (t \\right )} \\right )} \\cos{\\left (\\theta_{1}{\\left (t \\right )} \\right )} \\frac{d^{2}}{d t^{2}}  \\theta_{1}{\\left (t \\right )} + 100.0 \\cos^{2}{\\left (\\theta_{1}{\\left (t \\right )} + \\theta_{3}{\\left (t \\right )} \\right )} \\frac{d^{2}}{d t^{2}}  a{\\left (t \\right )} - 100.0 \\cos{\\left (\\theta_{1}{\\left (t \\right )} + \\theta_{3}{\\left (t \\right )} \\right )} \\cos{\\left (\\theta_{1}{\\left (t \\right )} + 2.0 \\theta_{3}{\\left (t \\right )} \\right )} \\cos{\\left (2.0 \\theta_{1}{\\left (t \\right )} + 2.0 \\theta_{3}{\\left (t \\right )} \\right )} \\frac{d}{d t} \\theta_{1}{\\left (t \\right )} \\frac{d}{d t} b{\\left (t \\right )} - 200.0 \\cos{\\left (\\theta_{1}{\\left (t \\right )} + \\theta_{3}{\\left (t \\right )} \\right )} \\cos^{2}{\\left (2.0 \\theta_{1}{\\left (t \\right )} + 2.0 \\theta_{3}{\\left (t \\right )} \\right )} \\frac{d}{d t} a{\\left (t \\right )} \\frac{d}{d t} b{\\left (t \\right )} - 100.0 \\cos{\\left (\\theta_{1}{\\left (t \\right )} + \\theta_{3}{\\left (t \\right )} \\right )} \\cos{\\left (2.0 \\theta_{1}{\\left (t \\right )} + 2.0 \\theta_{3}{\\left (t \\right )} \\right )} \\cos{\\left (\\theta_{1}{\\left (t \\right )} \\right )} \\frac{d}{d t} \\theta_{1}{\\left (t \\right )} \\frac{d}{d t} b{\\left (t \\right )} - 200.0 \\cos{\\left (\\theta_{1}{\\left (t \\right )} + \\theta_{3}{\\left (t \\right )} \\right )} \\cos{\\left (2.0 \\theta_{1}{\\left (t \\right )} + 2.0 \\theta_{3}{\\left (t \\right )} \\right )} \\frac{d}{d t} a{\\left (t \\right )} \\frac{d}{d t} b{\\left (t \\right )}\\right) - 500.0 \\left(\\sin{\\left (\\theta_{1}{\\left (t \\right )} + \\theta_{3}{\\left (t \\right )} \\right )} \\frac{d^{2}}{d t^{2}}  \\theta_{1}{\\left (t \\right )} + \\sin{\\left (\\theta_{1}{\\left (t \\right )} \\right )} \\frac{d^{2}}{d t^{2}}  \\theta_{1}{\\left (t \\right )} + \\cos{\\left (\\theta_{1}{\\left (t \\right )} + \\theta_{3}{\\left (t \\right )} \\right )} \\left(\\frac{d}{d t} \\theta_{1}{\\left (t \\right )}\\right)^{2} + 2.0 \\cos{\\left (\\theta_{1}{\\left (t \\right )} + \\theta_{3}{\\left (t \\right )} \\right )} \\frac{d}{d t} \\theta_{1}{\\left (t \\right )} \\frac{d}{d t} \\theta_{3}{\\left (t \\right )} + \\cos{\\left (\\theta_{1}{\\left (t \\right )} + \\theta_{3}{\\left (t \\right )} \\right )} \\left(\\frac{d}{d t} \\theta_{3}{\\left (t \\right )}\\right)^{2} + \\cos{\\left (\\theta_{1}{\\left (t \\right )} \\right )} \\left(\\frac{d}{d t} \\theta_{1}{\\left (t \\right )}\\right)^{2} + \\cos{\\left (\\theta_{3}{\\left (t \\right )} \\right )} \\left(\\frac{d}{d t} \\theta_{3}{\\left (t \\right )}\\right)^{2} + 2.0 \\frac{d^{2}}{d t^{2}}  b{\\left (t \\right )}\\right) \\cos^{3}{\\left (\\theta_{1}{\\left (t \\right )} + \\theta_{3}{\\left (t \\right )} \\right )}\\right), \\quad \\frac{d^{2}}{d t^{2}}  \\theta_{2}{\\left (t \\right )} : - \\frac{1}{\\sin{\\left (\\theta_{1}{\\left (t \\right )} + \\theta_{2}{\\left (t \\right )} \\right )} + \\sin{\\left (\\theta_{2}{\\left (t \\right )} \\right )}} \\left(\\sin{\\left (\\theta_{1}{\\left (t \\right )} + \\theta_{2}{\\left (t \\right )} \\right )} \\frac{d^{2}}{d t^{2}}  \\theta_{1}{\\left (t \\right )} + \\sin{\\left (\\theta_{1}{\\left (t \\right )} \\right )} \\frac{d^{2}}{d t^{2}}  \\theta_{1}{\\left (t \\right )} + \\cos{\\left (\\theta_{1}{\\left (t \\right )} + \\theta_{2}{\\left (t \\right )} \\right )} \\left(\\frac{d}{d t} \\theta_{1}{\\left (t \\right )}\\right)^{2} + 2.0 \\cos{\\left (\\theta_{1}{\\left (t \\right )} + \\theta_{2}{\\left (t \\right )} \\right )} \\frac{d}{d t} \\theta_{1}{\\left (t \\right )} \\frac{d}{d t} \\theta_{2}{\\left (t \\right )} + \\cos{\\left (\\theta_{1}{\\left (t \\right )} + \\theta_{2}{\\left (t \\right )} \\right )} \\left(\\frac{d}{d t} \\theta_{2}{\\left (t \\right )}\\right)^{2} + \\cos{\\left (\\theta_{1}{\\left (t \\right )} \\right )} \\left(\\frac{d}{d t} \\theta_{1}{\\left (t \\right )}\\right)^{2} + \\cos{\\left (\\theta_{2}{\\left (t \\right )} \\right )} \\left(\\frac{d}{d t} \\theta_{2}{\\left (t \\right )}\\right)^{2} + 2.0 \\frac{d^{2}}{d t^{2}}  b{\\left (t \\right )}\\right), \\quad \\frac{d^{2}}{d t^{2}}  \\theta_{3}{\\left (t \\right )} : - \\frac{1}{\\sin{\\left (\\theta_{1}{\\left (t \\right )} + \\theta_{3}{\\left (t \\right )} \\right )} + \\sin{\\left (\\theta_{3}{\\left (t \\right )} \\right )}} \\left(\\sin{\\left (\\theta_{1}{\\left (t \\right )} + \\theta_{3}{\\left (t \\right )} \\right )} \\frac{d^{2}}{d t^{2}}  \\theta_{1}{\\left (t \\right )} + \\sin{\\left (\\theta_{1}{\\left (t \\right )} \\right )} \\frac{d^{2}}{d t^{2}}  \\theta_{1}{\\left (t \\right )} + \\cos{\\left (\\theta_{1}{\\left (t \\right )} + \\theta_{3}{\\left (t \\right )} \\right )} \\left(\\frac{d}{d t} \\theta_{1}{\\left (t \\right )}\\right)^{2} + 2.0 \\cos{\\left (\\theta_{1}{\\left (t \\right )} + \\theta_{3}{\\left (t \\right )} \\right )} \\frac{d}{d t} \\theta_{1}{\\left (t \\right )} \\frac{d}{d t} \\theta_{3}{\\left (t \\right )} + \\cos{\\left (\\theta_{1}{\\left (t \\right )} + \\theta_{3}{\\left (t \\right )} \\right )} \\left(\\frac{d}{d t} \\theta_{3}{\\left (t \\right )}\\right)^{2} + \\cos{\\left (\\theta_{1}{\\left (t \\right )} \\right )} \\left(\\frac{d}{d t} \\theta_{1}{\\left (t \\right )}\\right)^{2} + \\cos{\\left (\\theta_{3}{\\left (t \\right )} \\right )} \\left(\\frac{d}{d t} \\theta_{3}{\\left (t \\right )}\\right)^{2} + 2.0 \\frac{d^{2}}{d t^{2}}  b{\\left (t \\right )}\\right)\\right \\}$$",
            "text/plain": [
              "⎧          ⎛                                                 ⎛                \n",
              "⎪          ⎜                                                 ⎜                \n",
              "⎪    0.005⋅⎜(sin(\\theta₁(t) + \\theta₂(t)) + sin(\\theta₂(t)))⋅⎜12.5⋅(sin(\\theta\n",
              "⎪          ⎜                                                 ⎜                \n",
              "⎨          ⎝                                                 ⎝                \n",
              "⎪λ₁: ─────────────────────────────────────────────────────────────────────────\n",
              "⎪                                                                             \n",
              "⎪                                                                             \n",
              "⎩                                                                             \n",
              "\n",
              "                                                                              \n",
              "                                                               ⎛d             \n",
              "₁(t) + 3.0⋅\\theta₂(t)) + sin(3.0⋅\\theta₁(t) + 5.0⋅\\theta₂(t)))⋅⎜──(\\theta₁(t))\n",
              "                                                               ⎝dt            \n",
              "                                                                              \n",
              "──────────────────────────────────────────────────────────────────────────────\n",
              "                                                                              \n",
              "                                                                              \n",
              "                                                                              \n",
              "\n",
              " 2                                                                            \n",
              "⎞                                                                             \n",
              "⎟  + 50.0⋅(sin(3.0⋅\\theta₁(t) + 3.0⋅\\theta₂(t)) + sin(5.0⋅\\theta₁(t) + 5.0⋅\\th\n",
              "⎠                                                                             \n",
              "                                                                              \n",
              "──────────────────────────────────────────────────────────────────────────────\n",
              "                                                                              \n",
              "                                                                              \n",
              "                                                                              \n",
              "\n",
              "                    2                                                         \n",
              "          ⎛d       ⎞                                                          \n",
              "eta₂(t)))⋅⎜──(a(t))⎟  - 50.0⋅(sin(3.0⋅\\theta₁(t) + 3.0⋅\\theta₂(t)) + sin(5.0⋅\\\n",
              "          ⎝dt      ⎠                                                          \n",
              "                                                                              \n",
              "──────────────────────────────────────────────────────────────────────────────\n",
              "                                                                              \n",
              "                                                                              \n",
              "                                                                              \n",
              "\n",
              "                                       2                                      \n",
              "                             ⎛d       ⎞                                       \n",
              "theta₁(t) + 5.0⋅\\theta₂(t)))⋅⎜──(b(t))⎟  - 50.0⋅(cos(3.0⋅\\theta₁(t) + 3.0⋅\\the\n",
              "                             ⎝dt      ⎠                                       \n",
              "                                                                              \n",
              "──────────────────────────────────────────────────────────────────────────────\n",
              "                                                                              \n",
              "                                                                              \n",
              "                                                                              \n",
              "\n",
              "                                                                              \n",
              "                                                d        d                   2\n",
              "ta₂(t)) - cos(5.0⋅\\theta₁(t) + 5.0⋅\\theta₂(t)))⋅──(a(t))⋅──(b(t)) - 400.0⋅sin \n",
              "                                                dt       dt                   \n",
              "                                                                              \n",
              "──────────────────────────────────────────────────────────────────────────────\n",
              "                                                                              \n",
              "                                                                              \n",
              "                                                                              \n",
              "\n",
              "                                                                              \n",
              "                             3                          d        d            \n",
              "(\\theta₁(t) + \\theta₂(t))⋅cos (\\theta₁(t) + \\theta₂(t))⋅──(a(t))⋅──(b(t)) - 10\n",
              "                                                        dt       dt           \n",
              "                                                                              \n",
              "──────────────────────────────────────────────────────────────────────────────\n",
              "                                                                              \n",
              "                                                                              \n",
              "                                                                              \n",
              "\n",
              "                                                                              \n",
              "                                    2                                  ⎛d     \n",
              "0.0⋅sin(\\theta₁(t) + \\theta₂(t))⋅sin (2.0⋅\\theta₁(t) + 2.0⋅\\theta₂(t))⋅⎜──(b(t\n",
              "                                                                       ⎝dt    \n",
              "                                                                              \n",
              "──────────────────────────────────────────────────────────────────────────────\n",
              "                                                                              \n",
              "                                                                              \n",
              "                                                                              \n",
              "\n",
              "   2                                                                          \n",
              "  ⎞                                                                           \n",
              "))⎟  - 100.0⋅sin(\\theta₁(t) + \\theta₂(t))⋅sin(2.0⋅\\theta₁(t) + 2.0⋅\\theta₂(t))\n",
              "  ⎠                                                                           \n",
              "                                                                              \n",
              "──────────────────────────────────────────────────────────────────────────────\n",
              "                                                                              \n",
              "                                                                              \n",
              "                                                                              \n",
              "\n",
              "                                                                              \n",
              "                                  d              d                            \n",
              "⋅cos(\\theta₁(t) + 2.0⋅\\theta₂(t))⋅──(\\theta₁(t))⋅──(b(t)) - 100.0⋅sin(\\theta₁(\n",
              "                                  dt             dt                           \n",
              "                                                                              \n",
              "──────────────────────────────────────────────────────────────────────────────\n",
              "                                                                              \n",
              "                                                                              \n",
              "                                                                              \n",
              "\n",
              "                                                                              \n",
              "                                                                      d       \n",
              "t) + \\theta₂(t))⋅sin(2.0⋅\\theta₁(t) + 2.0⋅\\theta₂(t))⋅cos(\\theta₁(t))⋅──(\\thet\n",
              "                                                                      dt      \n",
              "                                                                              \n",
              "──────────────────────────────────────────────────────────────────────────────\n",
              "                                                                              \n",
              "                                                                              \n",
              "                                                                              \n",
              "\n",
              "                                                                              \n",
              "       d                                                                      \n",
              "a₁(t))⋅──(b(t)) - 200.0⋅sin(\\theta₁(t) + \\theta₂(t))⋅sin(2.0⋅\\theta₁(t) + 2.0⋅\n",
              "       dt                                                                     \n",
              "                                                                              \n",
              "──────────────────────────────────────────────────────────────────────────────\n",
              "                                                                              \n",
              "                                                                              \n",
              "                                                                              \n",
              "\n",
              "                                                                              \n",
              "            d        d                                                        \n",
              "\\theta₂(t))⋅──(a(t))⋅──(b(t)) - 200.0⋅sin(\\theta₁(t) + \\theta₂(t))⋅sin(\\theta₂\n",
              "            dt       dt                                                       \n",
              "                                                                              \n",
              "──────────────────────────────────────────────────────────────────────────────\n",
              "                                                                              \n",
              "                                                                              \n",
              "                                                                              \n",
              "\n",
              "                                                                              \n",
              "        3                          d              d                           \n",
              "(t))⋅cos (\\theta₁(t) + \\theta₂(t))⋅──(\\theta₁(t))⋅──(b(t)) - 400.0⋅sin(\\theta₁\n",
              "                                   dt             dt                          \n",
              "                                                                              \n",
              "──────────────────────────────────────────────────────────────────────────────\n",
              "                                                                              \n",
              "                                                                              \n",
              "                                                                              \n",
              "\n",
              "                                                          2                   \n",
              "                     4                          ⎛d       ⎞                    \n",
              "(t) + \\theta₂(t))⋅cos (\\theta₁(t) + \\theta₂(t))⋅⎜──(a(t))⎟  + 400.0⋅sin(\\theta\n",
              "                                                ⎝dt      ⎠                    \n",
              "                                                                              \n",
              "──────────────────────────────────────────────────────────────────────────────\n",
              "                                                                              \n",
              "                                                                              \n",
              "                                                                              \n",
              "\n",
              "                                                           2                  \n",
              "                      4                          ⎛d       ⎞                   \n",
              "₁(t) + \\theta₂(t))⋅cos (\\theta₁(t) + \\theta₂(t))⋅⎜──(b(t))⎟  - 200.0⋅sin(\\thet\n",
              "                                                 ⎝dt      ⎠                   \n",
              "                                                                              \n",
              "──────────────────────────────────────────────────────────────────────────────\n",
              "                                                                              \n",
              "                                                                              \n",
              "                                                                              \n",
              "\n",
              "                                                                              \n",
              "                       3                                          d           \n",
              "a₁(t) + \\theta₂(t))⋅cos (\\theta₁(t) + \\theta₂(t))⋅cos(\\theta₂(t))⋅──(\\theta₁(t\n",
              "                                                                  dt          \n",
              "                                                                              \n",
              "──────────────────────────────────────────────────────────────────────────────\n",
              "                                                                              \n",
              "                                                                              \n",
              "                                                                              \n",
              "\n",
              "                                                                              \n",
              "   d                                               2                          \n",
              "))⋅──(a(t)) - 25.0⋅sin(\\theta₁(t) + \\theta₂(t))⋅cos (\\theta₁(t) + 2.0⋅\\theta₂(\n",
              "   dt                                                                         \n",
              "                                                                              \n",
              "──────────────────────────────────────────────────────────────────────────────\n",
              "                                                                              \n",
              "                                                                              \n",
              "                                                                              \n",
              "\n",
              "                    2                                                         \n",
              "    ⎛d             ⎞                                                          \n",
              "t))⋅⎜──(\\theta₁(t))⎟  - 100.0⋅sin(\\theta₁(t) + \\theta₂(t))⋅cos(\\theta₁(t) + 2.\n",
              "    ⎝dt            ⎠                                                          \n",
              "                                                                              \n",
              "──────────────────────────────────────────────────────────────────────────────\n",
              "                                                                              \n",
              "                                                                              \n",
              "                                                                              \n",
              "\n",
              "                                                                              \n",
              "                                                   d              d           \n",
              "0⋅\\theta₂(t))⋅cos(2.0⋅\\theta₁(t) + 2.0⋅\\theta₂(t))⋅──(\\theta₁(t))⋅──(a(t)) - 5\n",
              "                                                   dt             dt          \n",
              "                                                                              \n",
              "──────────────────────────────────────────────────────────────────────────────\n",
              "                                                                              \n",
              "                                                                              \n",
              "                                                                              \n",
              "\n",
              "                                                                              \n",
              "                                                                              \n",
              "0.0⋅sin(\\theta₁(t) + \\theta₂(t))⋅cos(\\theta₁(t) + 2.0⋅\\theta₂(t))⋅cos(\\theta₁(\n",
              "                                                                              \n",
              "                                                                              \n",
              "──────────────────────────────────────────────────────────────────────────────\n",
              "                                                                              \n",
              "                                                                              \n",
              "                                                                              \n",
              "\n",
              "                    2                                                         \n",
              "    ⎛d             ⎞                                                          \n",
              "t))⋅⎜──(\\theta₁(t))⎟  - 100.0⋅sin(\\theta₁(t) + \\theta₂(t))⋅cos(\\theta₁(t) + 2.\n",
              "    ⎝dt            ⎠                                                          \n",
              "                                                                              \n",
              "──────────────────────────────────────────────────────────────────────────────\n",
              "                                                                              \n",
              "                                                                              \n",
              "                                                                              \n",
              "\n",
              "                                                                              \n",
              "              d              d                                                \n",
              "0⋅\\theta₂(t))⋅──(\\theta₁(t))⋅──(a(t)) - 100.0⋅sin(\\theta₁(t) + \\theta₂(t))⋅cos\n",
              "              dt             dt                                               \n",
              "                                                                              \n",
              "──────────────────────────────────────────────────────────────────────────────\n",
              "                                                                              \n",
              "                                                                              \n",
              "                                                                              \n",
              "\n",
              "                                             2                                \n",
              "2                                  ⎛d       ⎞                                 \n",
              " (2.0⋅\\theta₁(t) + 2.0⋅\\theta₂(t))⋅⎜──(a(t))⎟  - 100.0⋅sin(\\theta₁(t) + \\theta\n",
              "                                   ⎝dt      ⎠                                 \n",
              "                                                                              \n",
              "──────────────────────────────────────────────────────────────────────────────\n",
              "                                                                              \n",
              "                                                                              \n",
              "                                                                              \n",
              "\n",
              "                                                                              \n",
              "                                                           d              d   \n",
              "₂(t))⋅cos(2.0⋅\\theta₁(t) + 2.0⋅\\theta₂(t))⋅cos(\\theta₁(t))⋅──(\\theta₁(t))⋅──(a\n",
              "                                                           dt             dt  \n",
              "                                                                              \n",
              "──────────────────────────────────────────────────────────────────────────────\n",
              "                                                                              \n",
              "                                                                              \n",
              "                                                                              \n",
              "\n",
              "                                                                              \n",
              "                                                                              \n",
              "(t)) - 200.0⋅sin(\\theta₁(t) + \\theta₂(t))⋅cos(2.0⋅\\theta₁(t) + 2.0⋅\\theta₂(t))\n",
              "                                                                              \n",
              "                                                                              \n",
              "──────────────────────────────────────────────────────────────────────────────\n",
              "                                                                              \n",
              "                                                                              \n",
              "                                                                              \n",
              "\n",
              "           2                                                                  \n",
              " ⎛d       ⎞                                         2             ⎛d          \n",
              "⋅⎜──(a(t))⎟  - 25.0⋅sin(\\theta₁(t) + \\theta₂(t))⋅cos (\\theta₁(t))⋅⎜──(\\theta₁(\n",
              " ⎝dt      ⎠                                                       ⎝dt         \n",
              "                                                                              \n",
              "──────────────────────────────────────────────────────────────────────────────\n",
              "                                                                              \n",
              "                                                                              \n",
              "                                                                              \n",
              "\n",
              "    2                                                                         \n",
              "   ⎞                                                       d              d   \n",
              "t))⎟  - 100.0⋅sin(\\theta₁(t) + \\theta₂(t))⋅cos(\\theta₁(t))⋅──(\\theta₁(t))⋅──(a\n",
              "   ⎠                                                       dt             dt  \n",
              "                                                                              \n",
              "──────────────────────────────────────────────────────────────────────────────\n",
              "                                                                              \n",
              "                                                                              \n",
              "                                                                              \n",
              "\n",
              "                                                    2                         \n",
              "                                          ⎛d       ⎞                          \n",
              "(t)) - 100.0⋅sin(\\theta₁(t) + \\theta₂(t))⋅⎜──(a(t))⎟  + 100.0⋅sin(\\theta₁(t) +\n",
              "                                          ⎝dt      ⎠                          \n",
              "                                                                              \n",
              "──────────────────────────────────────────────────────────────────────────────\n",
              "                                                                              \n",
              "                                                                              \n",
              "                                                                              \n",
              "\n",
              "                                                                              \n",
              "                                                                              \n",
              " 2.0⋅\\theta₂(t))⋅sin(2.0⋅\\theta₁(t) + 2.0⋅\\theta₂(t))⋅cos(\\theta₁(t) + \\theta₂\n",
              "                                                                              \n",
              "                                                                              \n",
              "──────────────────────────────────────────────────────────────────────────────\n",
              "                                                                              \n",
              "                                                                              \n",
              "                                                                              \n",
              "\n",
              "                                                                              \n",
              "     d              d                                                   2     \n",
              "(t))⋅──(\\theta₁(t))⋅──(b(t)) + 50.0⋅sin(\\theta₁(t) + 2.0⋅\\theta₂(t))⋅cos (\\the\n",
              "     dt             dt                                                        \n",
              "                                                                              \n",
              "──────────────────────────────────────────────────────────────────────────────\n",
              "                                                                              \n",
              "                                                                              \n",
              "                                                                              \n",
              "\n",
              "                                     2                                        \n",
              "                     ⎛d             ⎞                                         \n",
              "ta₁(t) + \\theta₂(t))⋅⎜──(\\theta₁(t))⎟  + 100.0⋅sin(\\theta₁(t) + 2.0⋅\\theta₂(t)\n",
              "                     ⎝dt            ⎠                                         \n",
              "                                                                              \n",
              "──────────────────────────────────────────────────────────────────────────────\n",
              "                                                                    2    3    \n",
              "                    (sin(\\theta₁(t) + \\theta₂(t)) + sin(\\theta₂(t))) ⋅cos (\\th\n",
              "                                                                              \n",
              "\n",
              "                                                                              \n",
              "                                                                    d         \n",
              ")⋅cos(\\theta₁(t) + \\theta₂(t))⋅cos(2.0⋅\\theta₁(t) + 2.0⋅\\theta₂(t))⋅──(\\theta₁\n",
              "                                                                    dt        \n",
              "                                                                              \n",
              "──────────────────────────────────────────────────────────────────────────────\n",
              "                                                                              \n",
              "eta₁(t) + \\theta₂(t))                                                         \n",
              "                                                                              \n",
              "\n",
              "                                                                              \n",
              "     d                                                                        \n",
              "(t))⋅──(a(t)) + 50.0⋅sin(\\theta₁(t) + 2.0⋅\\theta₂(t))⋅cos(\\theta₁(t) + \\theta₂\n",
              "     dt                                                                       \n",
              "                                                                              \n",
              "──────────────────────────────────────────────────────────────────────────────\n",
              "                                                                              \n",
              "                                                                              \n",
              "                                                                              \n",
              "\n",
              "                                     2                                        \n",
              "                     ⎛d             ⎞                                         \n",
              "(t))⋅cos(\\theta₁(t))⋅⎜──(\\theta₁(t))⎟  + 100.0⋅sin(\\theta₁(t) + 2.0⋅\\theta₂(t)\n",
              "                     ⎝dt            ⎠                                         \n",
              "                                                                              \n",
              "──────────────────────────────────────────────────────────────────────────────\n",
              "                                                                              \n",
              "                                                                              \n",
              "                                                                              \n",
              "\n",
              "                                                                              \n",
              "                               d              d                   2           \n",
              ")⋅cos(\\theta₁(t) + \\theta₂(t))⋅──(\\theta₁(t))⋅──(a(t)) + 200.0⋅sin (2.0⋅\\theta\n",
              "                               dt             dt                              \n",
              "                                                                              \n",
              "──────────────────────────────────────────────────────────────────────────────\n",
              "                                                                              \n",
              "                                                                              \n",
              "                                                                              \n",
              "\n",
              "                                                                              \n",
              "                                                    d        d                \n",
              "₁(t) + 2.0⋅\\theta₂(t))⋅cos(\\theta₁(t) + \\theta₂(t))⋅──(a(t))⋅──(b(t)) + 100.0⋅\n",
              "                                                    dt       dt               \n",
              "                                                                              \n",
              "──────────────────────────────────────────────────────────────────────────────\n",
              "                                                                              \n",
              "                                                                              \n",
              "                                                                              \n",
              "\n",
              "                                                                     2        \n",
              "                                        2                           d         \n",
              "sin(2.0⋅\\theta₁(t) + 2.0⋅\\theta₂(t))⋅cos (\\theta₁(t) + \\theta₂(t))⋅───(b(t)) +\n",
              "                                                                     2        \n",
              "                                                                   dt         \n",
              "──────────────────────────────────────────────────────────────────────────────\n",
              "                                                                              \n",
              "                                                                              \n",
              "                                                                              \n",
              "\n",
              "                                                                              \n",
              "                                                                              \n",
              " 100.0⋅sin(2.0⋅\\theta₁(t) + 2.0⋅\\theta₂(t))⋅cos(\\theta₁(t) + \\theta₂(t))⋅cos(\\\n",
              "                                                                              \n",
              "                                                                              \n",
              "──────────────────────────────────────────────────────────────────────────────\n",
              "                                                                              \n",
              "                                                                              \n",
              "                                                                              \n",
              "\n",
              "                                                                              \n",
              "                            d              d                                  \n",
              "theta₁(t) + 2.0⋅\\theta₂(t))⋅──(\\theta₁(t))⋅──(a(t)) + 100.0⋅sin(2.0⋅\\theta₁(t)\n",
              "                            dt             dt                                 \n",
              "                                                                              \n",
              "──────────────────────────────────────────────────────────────────────────────\n",
              "                                                                              \n",
              "                                                                              \n",
              "                                                                              \n",
              "\n",
              "                                                                              \n",
              "                                                                d             \n",
              " + 2.0⋅\\theta₂(t))⋅cos(\\theta₁(t) + \\theta₂(t))⋅cos(\\theta₁(t))⋅──(\\theta₁(t))\n",
              "                                                                dt            \n",
              "                                                                              \n",
              "──────────────────────────────────────────────────────────────────────────────\n",
              "                                                                              \n",
              "                                                                              \n",
              "                                                                              \n",
              "\n",
              "                                                                              \n",
              " d                                                                            \n",
              "⋅──(a(t)) + 200.0⋅sin(2.0⋅\\theta₁(t) + 2.0⋅\\theta₂(t))⋅cos(\\theta₁(t) + \\theta\n",
              " dt                                                                           \n",
              "                                                                              \n",
              "──────────────────────────────────────────────────────────────────────────────\n",
              "                                                                              \n",
              "                                                                              \n",
              "                                                                              \n",
              "\n",
              "                2                                                             \n",
              "      ⎛d       ⎞                              3                               \n",
              "₂(t))⋅⎜──(a(t))⎟  + 1962.0⋅sin(\\theta₁(t))⋅cos (\\theta₁(t) + \\theta₂(t))⋅cos(\\\n",
              "      ⎝dt      ⎠                                                              \n",
              "                                                                              \n",
              "──────────────────────────────────────────────────────────────────────────────\n",
              "                                                                              \n",
              "                                                                              \n",
              "                                                                              \n",
              "\n",
              "                                                                              \n",
              "                                     2                          ⎛d            \n",
              "theta₂(t)) - 50.0⋅sin(\\theta₁(t))⋅cos (\\theta₁(t) + \\theta₂(t))⋅⎜──(\\theta₁(t)\n",
              "                                                                ⎝dt           \n",
              "                                                                              \n",
              "──────────────────────────────────────────────────────────────────────────────\n",
              "                                                                              \n",
              "                                                                              \n",
              "                                                                              \n",
              "\n",
              "  2                                                                           \n",
              " ⎞                             4                          d              d    \n",
              ")⎟  - 200.0⋅sin(\\theta₂(t))⋅cos (\\theta₁(t) + \\theta₂(t))⋅──(\\theta₁(t))⋅──(a(\n",
              " ⎠                                                        dt             dt   \n",
              "                                                                              \n",
              "──────────────────────────────────────────────────────────────────────────────\n",
              "                                                                              \n",
              "                                                                              \n",
              "                                                                              \n",
              "\n",
              "                                                                              \n",
              "                                3                                             \n",
              "t)) + 1962.0⋅sin(\\theta₂(t))⋅cos (\\theta₁(t) + \\theta₂(t))⋅cos(\\theta₁(t)) - 1\n",
              "                                                                              \n",
              "                                                                              \n",
              "──────────────────────────────────────────────────────────────────────────────\n",
              "                                                                              \n",
              "                                                                              \n",
              "                                                                              \n",
              "\n",
              "                                                                              \n",
              "                        3                                          ⎛d         \n",
              "00.0⋅sin(\\theta₂(t))⋅cos (\\theta₁(t) + \\theta₂(t))⋅cos(\\theta₂(t))⋅⎜──(\\theta₁\n",
              "                                                                   ⎝dt        \n",
              "                                                                              \n",
              "──────────────────────────────────────────────────────────────────────────────\n",
              "                                                                              \n",
              "                                                                              \n",
              "                                                                              \n",
              "\n",
              "     2                                                                        \n",
              "    ⎞             5                          d        d                   4   \n",
              "(t))⎟  + 400.0⋅cos (\\theta₁(t) + \\theta₂(t))⋅──(a(t))⋅──(b(t)) + 200.0⋅cos (\\t\n",
              "    ⎠                                        dt       dt                      \n",
              "                                                                              \n",
              "──────────────────────────────────────────────────────────────────────────────\n",
              "                                                                              \n",
              "                                                                              \n",
              "                                                                              \n",
              "\n",
              "                                                                              \n",
              "                                       d              d                   3   \n",
              "heta₁(t) + \\theta₂(t))⋅cos(\\theta₂(t))⋅──(\\theta₁(t))⋅──(b(t)) + 500.0⋅cos (\\t\n",
              "                                       dt             dt                      \n",
              "                                                                              \n",
              "──────────────────────────────────────────────────────────────────────────────\n",
              "                                                                              \n",
              "                                                                              \n",
              "                                                                              \n",
              "\n",
              "                         2                                                    \n",
              "                        d                        2                            \n",
              "heta₁(t) + \\theta₂(t))⋅───(\\theta₁(t)) + 50.0⋅cos (\\theta₁(t) + \\theta₂(t))⋅co\n",
              "                         2                                                    \n",
              "                       dt                                                     \n",
              "──────────────────────────────────────────────────────────────────────────────\n",
              "                                                                              \n",
              "                                                                              \n",
              "                                                                              \n",
              "\n",
              "                                 2                                            \n",
              "                                d                         2                   \n",
              "s(\\theta₁(t) + 2.0⋅\\theta₂(t))⋅───(\\theta₁(t)) + 100.0⋅cos (\\theta₁(t) + \\thet\n",
              "                                 2                                            \n",
              "                               dt                                             \n",
              "──────────────────────────────────────────────────────────────────────────────\n",
              "                                                                              \n",
              "                                                                              \n",
              "                                                                              \n",
              "\n",
              "                                              2                               \n",
              "                                             d                  2             \n",
              "a₂(t))⋅cos(2.0⋅\\theta₁(t) + 2.0⋅\\theta₂(t))⋅───(a(t)) + 50.0⋅cos (\\theta₁(t) +\n",
              "                                              2                               \n",
              "                                            dt                                \n",
              "──────────────────────────────────────────────────────────────────────────────\n",
              "                                                                              \n",
              "                                                                              \n",
              "                                                                              \n",
              "\n",
              "                               2                                              \n",
              "                              d                         2                     \n",
              " \\theta₂(t))⋅cos(\\theta₁(t))⋅───(\\theta₁(t)) + 100.0⋅cos (\\theta₁(t) + \\theta₂\n",
              "                               2                                              \n",
              "                             dt                                               \n",
              "──────────────────────────────────────────────────────────────────────────────\n",
              "                                                                              \n",
              "                                                                              \n",
              "                                                                              \n",
              "\n",
              "       2                                                                      \n",
              "      d                                                                       \n",
              "(t))⋅───(a(t)) - 100.0⋅cos(\\theta₁(t) + \\theta₂(t))⋅cos(\\theta₁(t) + 2.0⋅\\thet\n",
              "       2                                                                      \n",
              "     dt                                                                       \n",
              "──────────────────────────────────────────────────────────────────────────────\n",
              "                                                                              \n",
              "                                                                              \n",
              "                                                                              \n",
              "\n",
              "                                                                              \n",
              "                                            d              d                  \n",
              "a₂(t))⋅cos(2.0⋅\\theta₁(t) + 2.0⋅\\theta₂(t))⋅──(\\theta₁(t))⋅──(b(t)) - 200.0⋅co\n",
              "                                            dt             dt                 \n",
              "                                                                              \n",
              "──────────────────────────────────────────────────────────────────────────────\n",
              "                                                                              \n",
              "                                                                              \n",
              "                                                                              \n",
              "\n",
              "                                                                              \n",
              "                              2                                  d        d   \n",
              "s(\\theta₁(t) + \\theta₂(t))⋅cos (2.0⋅\\theta₁(t) + 2.0⋅\\theta₂(t))⋅──(a(t))⋅──(b\n",
              "                                                                 dt       dt  \n",
              "                                                                              \n",
              "──────────────────────────────────────────────────────────────────────────────\n",
              "                                                                              \n",
              "                                                                              \n",
              "                                                                              \n",
              "\n",
              "                                                                              \n",
              "                                                                              \n",
              "(t)) - 100.0⋅cos(\\theta₁(t) + \\theta₂(t))⋅cos(2.0⋅\\theta₁(t) + 2.0⋅\\theta₂(t))\n",
              "                                                                              \n",
              "                                                                              \n",
              "──────────────────────────────────────────────────────────────────────────────\n",
              "                                                                              \n",
              "                                                                              \n",
              "                                                                              \n",
              "\n",
              "                                                                              \n",
              "                 d              d                                             \n",
              "⋅cos(\\theta₁(t))⋅──(\\theta₁(t))⋅──(b(t)) - 200.0⋅cos(\\theta₁(t) + \\theta₂(t))⋅\n",
              "                 dt             dt                                            \n",
              "                                                                              \n",
              "──────────────────────────────────────────────────────────────────────────────\n",
              "                                                                              \n",
              "                                                                              \n",
              "                                                                              \n",
              "\n",
              "                                                      ⎞         ⎛             \n",
              "                                     d        d       ⎟         ⎜             \n",
              "cos(2.0⋅\\theta₁(t) + 2.0⋅\\theta₂(t))⋅──(a(t))⋅──(b(t))⎟ - 500.0⋅⎜sin(\\theta₁(t\n",
              "                                     dt       dt      ⎟         ⎜             \n",
              "                                                      ⎠         ⎝             \n",
              "──────────────────────────────────────────────────────────────────────────────\n",
              "                                                                              \n",
              "                                                                              \n",
              "                                                                              \n",
              "\n",
              "                  2                                 2                         \n",
              "                 d                                 d                          \n",
              ") + \\theta₂(t))⋅───(\\theta₁(t)) + sin(\\theta₁(t))⋅───(\\theta₁(t)) + cos(\\theta\n",
              "                  2                                 2                         \n",
              "                dt                                dt                          \n",
              "──────────────────────────────────────────────────────────────────────────────\n",
              "                                                                              \n",
              "                                                                              \n",
              "                                                                              \n",
              "\n",
              "                                   2                                          \n",
              "                   ⎛d             ⎞                                     d     \n",
              "₁(t) + \\theta₂(t))⋅⎜──(\\theta₁(t))⎟  + 2.0⋅cos(\\theta₁(t) + \\theta₂(t))⋅──(\\th\n",
              "                   ⎝dt            ⎠                                     dt    \n",
              "                                                                              \n",
              "──────────────────────────────────────────────────────────────────────────────\n",
              "                                                                              \n",
              "                                                                              \n",
              "                                                                              \n",
              "\n",
              "                                                                       2      \n",
              "         d                                             ⎛d             ⎞       \n",
              "eta₁(t))⋅──(\\theta₂(t)) + cos(\\theta₁(t) + \\theta₂(t))⋅⎜──(\\theta₂(t))⎟  + cos\n",
              "         dt                                            ⎝dt            ⎠       \n",
              "                                                                              \n",
              "──────────────────────────────────────────────────────────────────────────────\n",
              "                                                                              \n",
              "                                                                              \n",
              "                                                                              \n",
              "\n",
              "                             2                                   2         2  \n",
              "             ⎛d             ⎞                    ⎛d             ⎞         d   \n",
              "(\\theta₁(t))⋅⎜──(\\theta₁(t))⎟  + cos(\\theta₂(t))⋅⎜──(\\theta₂(t))⎟  + 2.0⋅───(b\n",
              "             ⎝dt            ⎠                    ⎝dt            ⎠          2  \n",
              "                                                                         dt   \n",
              "──────────────────────────────────────────────────────────────────────────────\n",
              "                                                                              \n",
              "                                                                              \n",
              "                                                                              \n",
              "\n",
              "    ⎞                              ⎞            ⎛                             \n",
              "    ⎟    3                         ⎟            ⎜                             \n",
              "(t))⎟⋅cos (\\theta₁(t) + \\theta₂(t))⎟      0.005⋅⎜(sin(\\theta₁(t) + \\theta₃(t))\n",
              "    ⎟                              ⎟            ⎜                             \n",
              "    ⎠                              ⎠            ⎝                             \n",
              "────────────────────────────────────, λ₂: ────────────────────────────────────\n",
              "                                                                              \n",
              "                                                                              \n",
              "                                                                              \n",
              "\n",
              "                    ⎛                                                         \n",
              "                    ⎜                                                         \n",
              " + sin(\\theta₃(t)))⋅⎜12.5⋅(sin(\\theta₁(t) + 3.0⋅\\theta₃(t)) + sin(3.0⋅\\theta₁(\n",
              "                    ⎜                                                         \n",
              "                    ⎝                                                         \n",
              "──────────────────────────────────────────────────────────────────────────────\n",
              "                                                                              \n",
              "                                                                              \n",
              "                                                                              \n",
              "\n",
              "                                      2                                       \n",
              "                      ⎛d             ⎞                                        \n",
              "t) + 5.0⋅\\theta₃(t)))⋅⎜──(\\theta₁(t))⎟  + 50.0⋅(sin(3.0⋅\\theta₁(t) + 3.0⋅\\thet\n",
              "                      ⎝dt            ⎠                                        \n",
              "                                                                              \n",
              "──────────────────────────────────────────────────────────────────────────────\n",
              "                                                                              \n",
              "                                                                              \n",
              "                                                                              \n",
              "\n",
              "                                                         2                    \n",
              "                                               ⎛d       ⎞                     \n",
              "a₃(t)) + sin(5.0⋅\\theta₁(t) + 5.0⋅\\theta₃(t)))⋅⎜──(a(t))⎟  - 50.0⋅(sin(3.0⋅\\th\n",
              "                                               ⎝dt      ⎠                     \n",
              "                                                                              \n",
              "──────────────────────────────────────────────────────────────────────────────\n",
              "                                                                              \n",
              "                                                                              \n",
              "                                                                              \n",
              "\n",
              "                                                                            2 \n",
              "                                                                  ⎛d       ⎞  \n",
              "eta₁(t) + 3.0⋅\\theta₃(t)) + sin(5.0⋅\\theta₁(t) + 5.0⋅\\theta₃(t)))⋅⎜──(b(t))⎟  \n",
              "                                                                  ⎝dt      ⎠  \n",
              "                                                                              \n",
              "──────────────────────────────────────────────────────────────────────────────\n",
              "                                                                              \n",
              "                                                                              \n",
              "                                                                              \n",
              "\n",
              "                                                                              \n",
              "                                                                              \n",
              "- 50.0⋅(cos(3.0⋅\\theta₁(t) + 3.0⋅\\theta₃(t)) - cos(5.0⋅\\theta₁(t) + 5.0⋅\\theta\n",
              "                                                                              \n",
              "                                                                              \n",
              "──────────────────────────────────────────────────────────────────────────────\n",
              "                                                                              \n",
              "                                                                              \n",
              "                                                                              \n",
              "\n",
              "                                                                              \n",
              "       d        d                   2                             3           \n",
              "₃(t)))⋅──(a(t))⋅──(b(t)) - 400.0⋅sin (\\theta₁(t) + \\theta₃(t))⋅cos (\\theta₁(t)\n",
              "       dt       dt                                                            \n",
              "                                                                              \n",
              "──────────────────────────────────────────────────────────────────────────────\n",
              "                                                                              \n",
              "                                                                              \n",
              "                                                                              \n",
              "\n",
              "                                                                              \n",
              "               d        d                                                2    \n",
              " + \\theta₃(t))⋅──(a(t))⋅──(b(t)) - 100.0⋅sin(\\theta₁(t) + \\theta₃(t))⋅sin (2.0\n",
              "               dt       dt                                                    \n",
              "                                                                              \n",
              "──────────────────────────────────────────────────────────────────────────────\n",
              "                                                                              \n",
              "                                                                              \n",
              "                                                                              \n",
              "\n",
              "                                        2                                     \n",
              "                              ⎛d       ⎞                                      \n",
              "⋅\\theta₁(t) + 2.0⋅\\theta₃(t))⋅⎜──(b(t))⎟  - 100.0⋅sin(\\theta₁(t) + \\theta₃(t))\n",
              "                              ⎝dt      ⎠                                      \n",
              "                                                                              \n",
              "──────────────────────────────────────────────────────────────────────────────\n",
              "                                                                              \n",
              "                                                                              \n",
              "                                                                              \n",
              "\n",
              "                                                                              \n",
              "                                                                       d      \n",
              "⋅sin(2.0⋅\\theta₁(t) + 2.0⋅\\theta₃(t))⋅cos(\\theta₁(t) + 2.0⋅\\theta₃(t))⋅──(\\the\n",
              "                                                                       dt     \n",
              "                                                                              \n",
              "──────────────────────────────────────────────────────────────────────────────\n",
              "                                                                              \n",
              "                                                                              \n",
              "                                                                              \n",
              "\n",
              "                                                                              \n",
              "        d                                                                     \n",
              "ta₁(t))⋅──(b(t)) - 100.0⋅sin(\\theta₁(t) + \\theta₃(t))⋅sin(2.0⋅\\theta₁(t) + 2.0\n",
              "        dt                                                                    \n",
              "                                                                              \n",
              "──────────────────────────────────────────────────────────────────────────────\n",
              "                                                                              \n",
              "                                                                              \n",
              "                                                                              \n",
              "\n",
              "                                                                              \n",
              "                             d              d                                 \n",
              "⋅\\theta₃(t))⋅cos(\\theta₁(t))⋅──(\\theta₁(t))⋅──(b(t)) - 200.0⋅sin(\\theta₁(t) + \n",
              "                             dt             dt                                \n",
              "                                                                              \n",
              "──────────────────────────────────────────────────────────────────────────────\n",
              "                                                                              \n",
              "                                                                              \n",
              "                                                                              \n",
              "\n",
              "                                                                              \n",
              "                                                 d        d                   \n",
              "\\theta₃(t))⋅sin(2.0⋅\\theta₁(t) + 2.0⋅\\theta₃(t))⋅──(a(t))⋅──(b(t)) - 200.0⋅sin\n",
              "                                                 dt       dt                  \n",
              "                                                                              \n",
              "──────────────────────────────────────────────────────────────────────────────\n",
              "                                                                              \n",
              "                                                                              \n",
              "                                                                              \n",
              "\n",
              "                                                                              \n",
              "                                             3                          d     \n",
              "(\\theta₁(t) + \\theta₃(t))⋅sin(\\theta₃(t))⋅cos (\\theta₁(t) + \\theta₃(t))⋅──(\\th\n",
              "                                                                        dt    \n",
              "                                                                              \n",
              "──────────────────────────────────────────────────────────────────────────────\n",
              "                                                                              \n",
              "                                                                              \n",
              "                                                                              \n",
              "\n",
              "                                                                              \n",
              "         d                                                4                   \n",
              "eta₁(t))⋅──(b(t)) - 400.0⋅sin(\\theta₁(t) + \\theta₃(t))⋅cos (\\theta₁(t) + \\thet\n",
              "         dt                                                                   \n",
              "                                                                              \n",
              "──────────────────────────────────────────────────────────────────────────────\n",
              "                                                                              \n",
              "                                                                              \n",
              "                                                                              \n",
              "\n",
              "                 2                                                            \n",
              "       ⎛d       ⎞                                          4                  \n",
              "a₃(t))⋅⎜──(a(t))⎟  + 400.0⋅sin(\\theta₁(t) + \\theta₃(t))⋅cos (\\theta₁(t) + \\the\n",
              "       ⎝dt      ⎠                                                             \n",
              "                                                                              \n",
              "──────────────────────────────────────────────────────────────────────────────\n",
              "                                                                              \n",
              "                                                                              \n",
              "                                                                              \n",
              "\n",
              "                  2                                                           \n",
              "        ⎛d       ⎞                                          3                 \n",
              "ta₃(t))⋅⎜──(b(t))⎟  - 200.0⋅sin(\\theta₁(t) + \\theta₃(t))⋅cos (\\theta₁(t) + \\th\n",
              "        ⎝dt      ⎠                                                            \n",
              "                                                                              \n",
              "──────────────────────────────────────────────────────────────────────────────\n",
              "                                                                              \n",
              "                                                                              \n",
              "                                                                              \n",
              "\n",
              "                                                                              \n",
              "                         d              d                                     \n",
              "eta₃(t))⋅cos(\\theta₃(t))⋅──(\\theta₁(t))⋅──(a(t)) - 25.0⋅sin(\\theta₁(t) + \\thet\n",
              "                         dt             dt                                    \n",
              "                                                                              \n",
              "──────────────────────────────────────────────────────────────────────────────\n",
              "                                                                              \n",
              "                                                                              \n",
              "                                                                              \n",
              "\n",
              "                                                         2                    \n",
              "          2                              ⎛d             ⎞                     \n",
              "a₃(t))⋅cos (\\theta₁(t) + 2.0⋅\\theta₃(t))⋅⎜──(\\theta₁(t))⎟  - 100.0⋅sin(\\theta₁\n",
              "                                         ⎝dt            ⎠                     \n",
              "                                                                              \n",
              "──────────────────────────────────────────────────────────────────────────────\n",
              "                                                                              \n",
              "                                                                              \n",
              "                                                                              \n",
              "\n",
              "                                                                              \n",
              "                                                                              \n",
              "(t) + \\theta₃(t))⋅cos(\\theta₁(t) + 2.0⋅\\theta₃(t))⋅cos(2.0⋅\\theta₁(t) + 2.0⋅\\t\n",
              "                                                                              \n",
              "                                                                              \n",
              "──────────────────────────────────────────────────────────────────────────────\n",
              "                                                                              \n",
              "                                                                              \n",
              "                                                                              \n",
              "\n",
              "                                                                              \n",
              "          d              d                                                    \n",
              "heta₃(t))⋅──(\\theta₁(t))⋅──(a(t)) - 50.0⋅sin(\\theta₁(t) + \\theta₃(t))⋅cos(\\the\n",
              "          dt             dt                                                   \n",
              "                                                                              \n",
              "──────────────────────────────────────────────────────────────────────────────\n",
              "                                                                              \n",
              "                                                                              \n",
              "                                                                              \n",
              "\n",
              "                                                         2                    \n",
              "                                         ⎛d             ⎞                     \n",
              "ta₁(t) + 2.0⋅\\theta₃(t))⋅cos(\\theta₁(t))⋅⎜──(\\theta₁(t))⎟  - 100.0⋅sin(\\theta₁\n",
              "                                         ⎝dt            ⎠                     \n",
              "                                                                              \n",
              "──────────────────────────────────────────────────────────────────────────────\n",
              "                                                                              \n",
              "                                                                              \n",
              "                                                                              \n",
              "\n",
              "                                                                              \n",
              "                                                   d              d           \n",
              "(t) + \\theta₃(t))⋅cos(\\theta₁(t) + 2.0⋅\\theta₃(t))⋅──(\\theta₁(t))⋅──(a(t)) - 1\n",
              "                                                   dt             dt          \n",
              "                                                                              \n",
              "──────────────────────────────────────────────────────────────────────────────\n",
              "                                                                              \n",
              "                                                                              \n",
              "                                                                              \n",
              "\n",
              "                                                                              \n",
              "                                     2                                  ⎛d    \n",
              "00.0⋅sin(\\theta₁(t) + \\theta₃(t))⋅cos (2.0⋅\\theta₁(t) + 2.0⋅\\theta₃(t))⋅⎜──(a(\n",
              "                                                                        ⎝dt   \n",
              "                                                                              \n",
              "──────────────────────────────────────────────────────────────────────────────\n",
              "                                                                              \n",
              "                                                                              \n",
              "                                                                              \n",
              "\n",
              "    2                                                                         \n",
              "   ⎞                                                                          \n",
              "t))⎟  - 100.0⋅sin(\\theta₁(t) + \\theta₃(t))⋅cos(2.0⋅\\theta₁(t) + 2.0⋅\\theta₃(t)\n",
              "   ⎠                                                                          \n",
              "                                                                              \n",
              "──────────────────────────────────────────────────────────────────────────────\n",
              "                                                                              \n",
              "                                                                              \n",
              "                                                                              \n",
              "\n",
              "                                                                              \n",
              "                  d              d                                            \n",
              ")⋅cos(\\theta₁(t))⋅──(\\theta₁(t))⋅──(a(t)) - 200.0⋅sin(\\theta₁(t) + \\theta₃(t))\n",
              "                  dt             dt                                           \n",
              "                                                                              \n",
              "──────────────────────────────────────────────────────────────────────────────\n",
              "                                                                              \n",
              "                                                                              \n",
              "                                                                              \n",
              "\n",
              "                                                2                             \n",
              "                                      ⎛d       ⎞                              \n",
              "⋅cos(2.0⋅\\theta₁(t) + 2.0⋅\\theta₃(t))⋅⎜──(a(t))⎟  - 25.0⋅sin(\\theta₁(t) + \\the\n",
              "                                      ⎝dt      ⎠                              \n",
              "                                                                              \n",
              "──────────────────────────────────────────────────────────────────────────────\n",
              "                                                                              \n",
              "                                                                              \n",
              "                                                                              \n",
              "\n",
              "                                         2                                    \n",
              "           2             ⎛d             ⎞                                     \n",
              "ta₃(t))⋅cos (\\theta₁(t))⋅⎜──(\\theta₁(t))⎟  - 100.0⋅sin(\\theta₁(t) + \\theta₃(t)\n",
              "                         ⎝dt            ⎠                                     \n",
              "                                                                              \n",
              "──────────────────────────────────────────────────────────────────────────────\n",
              "                                                                              \n",
              "                                                                              \n",
              "                                                                              \n",
              "\n",
              "                                                                              \n",
              "                  d              d                                            \n",
              ")⋅cos(\\theta₁(t))⋅──(\\theta₁(t))⋅──(a(t)) - 100.0⋅sin(\\theta₁(t) + \\theta₃(t))\n",
              "                  dt             dt                                           \n",
              "                                                                              \n",
              "──────────────────────────────────────────────────────────────────────────────\n",
              "                                                                              \n",
              "                                                                              \n",
              "                                                                              \n",
              "\n",
              "           2                                                                  \n",
              " ⎛d       ⎞                                                                   \n",
              "⋅⎜──(a(t))⎟  + 100.0⋅sin(\\theta₁(t) + 2.0⋅\\theta₃(t))⋅sin(2.0⋅\\theta₁(t) + 2.0\n",
              " ⎝dt      ⎠                                                                   \n",
              "                                                                              \n",
              "──────────────────────────────────────────────────────────────────────────────\n",
              "                                                                              \n",
              "                                                                              \n",
              "                                                                              \n",
              "\n",
              "                                                                              \n",
              "                                          d              d                    \n",
              "⋅\\theta₃(t))⋅cos(\\theta₁(t) + \\theta₃(t))⋅──(\\theta₁(t))⋅──(b(t)) + 50.0⋅sin(\\\n",
              "                                          dt             dt                   \n",
              "                                                                              \n",
              "──────────────────────────────────────────────────────────────────────────────\n",
              "                                                                              \n",
              "                                                                              \n",
              "                                                                              \n",
              "\n",
              "                                                                          2   \n",
              "                               2                          ⎛d             ⎞    \n",
              "theta₁(t) + 2.0⋅\\theta₃(t))⋅cos (\\theta₁(t) + \\theta₃(t))⋅⎜──(\\theta₁(t))⎟  + \n",
              "                                                          ⎝dt            ⎠    \n",
              "                                                                              \n",
              "──────────────────────────────────────────────────────────────────────────────\n",
              "                                                                              \n",
              "                                                         (sin(\\theta₁(t) + \\th\n",
              "                                                                              \n",
              "\n",
              "                                                                              \n",
              "                                                                              \n",
              "100.0⋅sin(\\theta₁(t) + 2.0⋅\\theta₃(t))⋅cos(\\theta₁(t) + \\theta₃(t))⋅cos(2.0⋅\\t\n",
              "                                                                              \n",
              "                                                                              \n",
              "──────────────────────────────────────────────────────────────────────────────\n",
              "                           2    3                                             \n",
              "eta₃(t)) + sin(\\theta₃(t))) ⋅cos (\\theta₁(t) + \\theta₃(t))                    \n",
              "                                                                              \n",
              "\n",
              "                                                                              \n",
              "                           d              d                                   \n",
              "heta₁(t) + 2.0⋅\\theta₃(t))⋅──(\\theta₁(t))⋅──(a(t)) + 50.0⋅sin(\\theta₁(t) + 2.0\n",
              "                           dt             dt                                  \n",
              "                                                                              \n",
              "──────────────────────────────────────────────────────────────────────────────\n",
              "                                                                              \n",
              "                                                                              \n",
              "                                                                              \n",
              "\n",
              "                                                                          2   \n",
              "                                                          ⎛d             ⎞    \n",
              "⋅\\theta₃(t))⋅cos(\\theta₁(t) + \\theta₃(t))⋅cos(\\theta₁(t))⋅⎜──(\\theta₁(t))⎟  + \n",
              "                                                          ⎝dt            ⎠    \n",
              "                                                                              \n",
              "──────────────────────────────────────────────────────────────────────────────\n",
              "                                                                              \n",
              "                                                                              \n",
              "                                                                              \n",
              "\n",
              "                                                                              \n",
              "                                                                    d         \n",
              "100.0⋅sin(\\theta₁(t) + 2.0⋅\\theta₃(t))⋅cos(\\theta₁(t) + \\theta₃(t))⋅──(\\theta₁\n",
              "                                                                    dt        \n",
              "                                                                              \n",
              "──────────────────────────────────────────────────────────────────────────────\n",
              "                                                                              \n",
              "                                                                              \n",
              "                                                                              \n",
              "\n",
              "                                                                              \n",
              "     d                   2                                                    \n",
              "(t))⋅──(a(t)) + 200.0⋅sin (2.0⋅\\theta₁(t) + 2.0⋅\\theta₃(t))⋅cos(\\theta₁(t) + \\\n",
              "     dt                                                                       \n",
              "                                                                              \n",
              "──────────────────────────────────────────────────────────────────────────────\n",
              "                                                                              \n",
              "                                                                              \n",
              "                                                                              \n",
              "\n",
              "                                                                              \n",
              "           d        d                                                        2\n",
              "theta₃(t))⋅──(a(t))⋅──(b(t)) + 100.0⋅sin(2.0⋅\\theta₁(t) + 2.0⋅\\theta₃(t))⋅cos \n",
              "           dt       dt                                                        \n",
              "                                                                              \n",
              "──────────────────────────────────────────────────────────────────────────────\n",
              "                                                                              \n",
              "                                                                              \n",
              "                                                                              \n",
              "\n",
              "                            2                                                 \n",
              "                           d                                                  \n",
              "(\\theta₁(t) + \\theta₃(t))⋅───(b(t)) + 100.0⋅sin(2.0⋅\\theta₁(t) + 2.0⋅\\theta₃(t\n",
              "                            2                                                 \n",
              "                          dt                                                  \n",
              "──────────────────────────────────────────────────────────────────────────────\n",
              "                                                                              \n",
              "                                                                              \n",
              "                                                                              \n",
              "\n",
              "                                                                              \n",
              "                                                                 d            \n",
              "))⋅cos(\\theta₁(t) + \\theta₃(t))⋅cos(\\theta₁(t) + 2.0⋅\\theta₃(t))⋅──(\\theta₁(t)\n",
              "                                                                 dt           \n",
              "                                                                              \n",
              "──────────────────────────────────────────────────────────────────────────────\n",
              "                                                                              \n",
              "                                                                              \n",
              "                                                                              \n",
              "\n",
              "                                                                              \n",
              "  d                                                                           \n",
              ")⋅──(a(t)) + 100.0⋅sin(2.0⋅\\theta₁(t) + 2.0⋅\\theta₃(t))⋅cos(\\theta₁(t) + \\thet\n",
              "  dt                                                                          \n",
              "                                                                              \n",
              "──────────────────────────────────────────────────────────────────────────────\n",
              "                                                                              \n",
              "                                                                              \n",
              "                                                                              \n",
              "\n",
              "                                                                              \n",
              "                       d              d                                       \n",
              "a₃(t))⋅cos(\\theta₁(t))⋅──(\\theta₁(t))⋅──(a(t)) + 200.0⋅sin(2.0⋅\\theta₁(t) + 2.\n",
              "                       dt             dt                                      \n",
              "                                                                              \n",
              "──────────────────────────────────────────────────────────────────────────────\n",
              "                                                                              \n",
              "                                                                              \n",
              "                                                                              \n",
              "\n",
              "                                                     2                        \n",
              "                                           ⎛d       ⎞                         \n",
              "0⋅\\theta₃(t))⋅cos(\\theta₁(t) + \\theta₃(t))⋅⎜──(a(t))⎟  + 1962.0⋅sin(\\theta₁(t)\n",
              "                                           ⎝dt      ⎠                         \n",
              "                                                                              \n",
              "──────────────────────────────────────────────────────────────────────────────\n",
              "                                                                              \n",
              "                                                                              \n",
              "                                                                              \n",
              "\n",
              "                                                                              \n",
              "     3                                                                    2   \n",
              ")⋅cos (\\theta₁(t) + \\theta₃(t))⋅cos(\\theta₃(t)) - 50.0⋅sin(\\theta₁(t))⋅cos (\\t\n",
              "                                                                              \n",
              "                                                                              \n",
              "──────────────────────────────────────────────────────────────────────────────\n",
              "                                                                              \n",
              "                                                                              \n",
              "                                                                              \n",
              "\n",
              "                                       2                                      \n",
              "                       ⎛d             ⎞                             4         \n",
              "heta₁(t) + \\theta₃(t))⋅⎜──(\\theta₁(t))⎟  - 200.0⋅sin(\\theta₃(t))⋅cos (\\theta₁(\n",
              "                       ⎝dt            ⎠                                       \n",
              "                                                                              \n",
              "──────────────────────────────────────────────────────────────────────────────\n",
              "                                                                              \n",
              "                                                                              \n",
              "                                                                              \n",
              "\n",
              "                                                                              \n",
              "                 d              d                                    3        \n",
              "t) + \\theta₃(t))⋅──(\\theta₁(t))⋅──(a(t)) + 1962.0⋅sin(\\theta₃(t))⋅cos (\\theta₁\n",
              "                 dt             dt                                            \n",
              "                                                                              \n",
              "──────────────────────────────────────────────────────────────────────────────\n",
              "                                                                              \n",
              "                                                                              \n",
              "                                                                              \n",
              "\n",
              "                                                                              \n",
              "                                                             3                \n",
              "(t) + \\theta₃(t))⋅cos(\\theta₁(t)) - 100.0⋅sin(\\theta₃(t))⋅cos (\\theta₁(t) + \\t\n",
              "                                                                              \n",
              "                                                                              \n",
              "──────────────────────────────────────────────────────────────────────────────\n",
              "                                                                              \n",
              "                                                                              \n",
              "                                                                              \n",
              "\n",
              "                                          2                                   \n",
              "                          ⎛d             ⎞             5                      \n",
              "heta₃(t))⋅cos(\\theta₃(t))⋅⎜──(\\theta₁(t))⎟  + 400.0⋅cos (\\theta₁(t) + \\theta₃(\n",
              "                          ⎝dt            ⎠                                    \n",
              "                                                                              \n",
              "──────────────────────────────────────────────────────────────────────────────\n",
              "                                                                              \n",
              "                                                                              \n",
              "                                                                              \n",
              "\n",
              "                                                                              \n",
              "    d        d                   4                                          d \n",
              "t))⋅──(a(t))⋅──(b(t)) + 200.0⋅cos (\\theta₁(t) + \\theta₃(t))⋅cos(\\theta₃(t))⋅──\n",
              "    dt       dt                                                             dt\n",
              "                                                                              \n",
              "──────────────────────────────────────────────────────────────────────────────\n",
              "                                                                              \n",
              "                                                                              \n",
              "                                                                              \n",
              "\n",
              "                                                              2               \n",
              "             d                   3                           d                \n",
              "(\\theta₁(t))⋅──(b(t)) + 500.0⋅cos (\\theta₁(t) + \\theta₃(t))⋅───(\\theta₁(t)) + \n",
              "             dt                                               2               \n",
              "                                                            dt                \n",
              "──────────────────────────────────────────────────────────────────────────────\n",
              "                                                                              \n",
              "                                                                              \n",
              "                                                                              \n",
              "\n",
              "                                                                      2       \n",
              "        2                                                            d        \n",
              "50.0⋅cos (\\theta₁(t) + \\theta₃(t))⋅cos(\\theta₁(t) + 2.0⋅\\theta₃(t))⋅───(\\theta\n",
              "                                                                      2       \n",
              "                                                                    dt        \n",
              "──────────────────────────────────────────────────────────────────────────────\n",
              "                                                                              \n",
              "                                                                              \n",
              "                                                                              \n",
              "\n",
              "                                                                              \n",
              "                 2                                                            \n",
              "₁(t)) + 100.0⋅cos (\\theta₁(t) + \\theta₃(t))⋅cos(2.0⋅\\theta₁(t) + 2.0⋅\\theta₃(t\n",
              "                                                                              \n",
              "                                                                              \n",
              "──────────────────────────────────────────────────────────────────────────────\n",
              "                                                                              \n",
              "                                                                              \n",
              "                                                                              \n",
              "\n",
              "     2                                                              2         \n",
              "    d                  2                                           d          \n",
              "))⋅───(a(t)) + 50.0⋅cos (\\theta₁(t) + \\theta₃(t))⋅cos(\\theta₁(t))⋅───(\\theta₁(\n",
              "     2                                                              2         \n",
              "   dt                                                             dt          \n",
              "──────────────────────────────────────────────────────────────────────────────\n",
              "                                                                              \n",
              "                                                                              \n",
              "                                                                              \n",
              "\n",
              "                                            2                                 \n",
              "               2                           d                                  \n",
              "t)) + 100.0⋅cos (\\theta₁(t) + \\theta₃(t))⋅───(a(t)) - 100.0⋅cos(\\theta₁(t) + \\\n",
              "                                            2                                 \n",
              "                                          dt                                  \n",
              "──────────────────────────────────────────────────────────────────────────────\n",
              "                                                                              \n",
              "                                                                              \n",
              "                                                                              \n",
              "\n",
              "                                                                              \n",
              "                                                                              \n",
              "theta₃(t))⋅cos(\\theta₁(t) + 2.0⋅\\theta₃(t))⋅cos(2.0⋅\\theta₁(t) + 2.0⋅\\theta₃(t\n",
              "                                                                              \n",
              "                                                                              \n",
              "──────────────────────────────────────────────────────────────────────────────\n",
              "                                                                              \n",
              "                                                                              \n",
              "                                                                              \n",
              "\n",
              "                                                                              \n",
              "   d              d                                                2          \n",
              "))⋅──(\\theta₁(t))⋅──(b(t)) - 200.0⋅cos(\\theta₁(t) + \\theta₃(t))⋅cos (2.0⋅\\thet\n",
              "   dt             dt                                                          \n",
              "                                                                              \n",
              "──────────────────────────────────────────────────────────────────────────────\n",
              "                                                                              \n",
              "                                                                              \n",
              "                                                                              \n",
              "\n",
              "                                                                              \n",
              "                        d        d                                            \n",
              "a₁(t) + 2.0⋅\\theta₃(t))⋅──(a(t))⋅──(b(t)) - 100.0⋅cos(\\theta₁(t) + \\theta₃(t))\n",
              "                        dt       dt                                           \n",
              "                                                                              \n",
              "──────────────────────────────────────────────────────────────────────────────\n",
              "                                                                              \n",
              "                                                                              \n",
              "                                                                              \n",
              "\n",
              "                                                                              \n",
              "                                                      d              d        \n",
              "⋅cos(2.0⋅\\theta₁(t) + 2.0⋅\\theta₃(t))⋅cos(\\theta₁(t))⋅──(\\theta₁(t))⋅──(b(t)) \n",
              "                                                      dt             dt       \n",
              "                                                                              \n",
              "──────────────────────────────────────────────────────────────────────────────\n",
              "                                                                              \n",
              "                                                                              \n",
              "                                                                              \n",
              "\n",
              "                                                                              \n",
              "                                                                          d   \n",
              "- 200.0⋅cos(\\theta₁(t) + \\theta₃(t))⋅cos(2.0⋅\\theta₁(t) + 2.0⋅\\theta₃(t))⋅──(a\n",
              "                                                                          dt  \n",
              "                                                                              \n",
              "──────────────────────────────────────────────────────────────────────────────\n",
              "                                                                              \n",
              "                                                                              \n",
              "                                                                              \n",
              "\n",
              "             ⎞         ⎛                               2                      \n",
              "     d       ⎟         ⎜                              d                       \n",
              "(t))⋅──(b(t))⎟ - 500.0⋅⎜sin(\\theta₁(t) + \\theta₃(t))⋅───(\\theta₁(t)) + sin(\\th\n",
              "     dt      ⎟         ⎜                               2                      \n",
              "             ⎠         ⎝                             dt                       \n",
              "──────────────────────────────────────────────────────────────────────────────\n",
              "                                                                              \n",
              "                                                                              \n",
              "                                                                              \n",
              "\n",
              "           2                                                            2     \n",
              "          d                                             ⎛d             ⎞      \n",
              "eta₁(t))⋅───(\\theta₁(t)) + cos(\\theta₁(t) + \\theta₃(t))⋅⎜──(\\theta₁(t))⎟  + 2.\n",
              "           2                                            ⎝dt            ⎠      \n",
              "         dt                                                                   \n",
              "──────────────────────────────────────────────────────────────────────────────\n",
              "                                                                              \n",
              "                                                                              \n",
              "                                                                              \n",
              "\n",
              "                                                                              \n",
              "                               d              d                               \n",
              "0⋅cos(\\theta₁(t) + \\theta₃(t))⋅──(\\theta₁(t))⋅──(\\theta₃(t)) + cos(\\theta₁(t) \n",
              "                               dt             dt                              \n",
              "                                                                              \n",
              "──────────────────────────────────────────────────────────────────────────────\n",
              "                                                                              \n",
              "                                                                              \n",
              "                                                                              \n",
              "\n",
              "                              2                                   2           \n",
              "              ⎛d             ⎞                    ⎛d             ⎞            \n",
              "+ \\theta₃(t))⋅⎜──(\\theta₃(t))⎟  + cos(\\theta₁(t))⋅⎜──(\\theta₁(t))⎟  + cos(\\the\n",
              "              ⎝dt            ⎠                    ⎝dt            ⎠            \n",
              "                                                                              \n",
              "──────────────────────────────────────────────────────────────────────────────\n",
              "                                                                              \n",
              "                                                                              \n",
              "                                                                              \n",
              "\n",
              "                        2         2      ⎞                              ⎞     \n",
              "        ⎛d             ⎞         d       ⎟    3                         ⎟     \n",
              "ta₃(t))⋅⎜──(\\theta₃(t))⎟  + 2.0⋅───(b(t))⎟⋅cos (\\theta₁(t) + \\theta₃(t))⎟     \n",
              "        ⎝dt            ⎠          2      ⎟                              ⎟    2\n",
              "                                dt       ⎠                              ⎠   d \n",
              "─────────────────────────────────────────────────────────────────────────, ───\n",
              "                                                                             2\n",
              "                                                                           dt \n",
              "                                                                              \n",
              "\n",
              "               ⎛                               2                              \n",
              "               ⎜                              d                               \n",
              "              -⎜sin(\\theta₁(t) + \\theta₂(t))⋅───(\\theta₁(t)) + sin(\\theta₁(t))\n",
              "               ⎜                               2                              \n",
              "               ⎝                             dt                               \n",
              "(\\theta₂(t)): ────────────────────────────────────────────────────────────────\n",
              "                                                                              \n",
              "                                                                              \n",
              "                                                                              \n",
              "\n",
              "   2                                                            2             \n",
              "  d                                             ⎛d             ⎞              \n",
              "⋅───(\\theta₁(t)) + cos(\\theta₁(t) + \\theta₂(t))⋅⎜──(\\theta₁(t))⎟  + 2.0⋅cos(\\t\n",
              "   2                                            ⎝dt            ⎠              \n",
              " dt                                                                           \n",
              "──────────────────────────────────────────────────────────────────────────────\n",
              "                                                                              \n",
              "                                                                              \n",
              "                                                                              \n",
              "\n",
              "                                                                              \n",
              "                       d              d                                       \n",
              "heta₁(t) + \\theta₂(t))⋅──(\\theta₁(t))⋅──(\\theta₂(t)) + cos(\\theta₁(t) + \\theta\n",
              "                       dt             dt                                      \n",
              "                                                                              \n",
              "──────────────────────────────────────────────────────────────────────────────\n",
              "  sin(\\theta₁(t) + \\theta₂(t)) + sin(\\theta₂(t))                              \n",
              "                                                                              \n",
              "                                                                              \n",
              "\n",
              "                      2                                   2                   \n",
              "      ⎛d             ⎞                    ⎛d             ⎞                    \n",
              "₂(t))⋅⎜──(\\theta₂(t))⎟  + cos(\\theta₁(t))⋅⎜──(\\theta₁(t))⎟  + cos(\\theta₂(t))⋅\n",
              "      ⎝dt            ⎠                    ⎝dt            ⎠                    \n",
              "                                                                              \n",
              "──────────────────────────────────────────────────────────────────────────────\n",
              "                                                                              \n",
              "                                                                              \n",
              "                                                                              \n",
              "\n",
              "                2         2      ⎞                     ⎛                      \n",
              "⎛d             ⎞         d       ⎟                     ⎜                      \n",
              "⎜──(\\theta₂(t))⎟  + 2.0⋅───(b(t))⎟                    -⎜sin(\\theta₁(t) + \\thet\n",
              "⎝dt            ⎠          2      ⎟     2               ⎜                      \n",
              "                        dt       ⎠    d                ⎝                      \n",
              "───────────────────────────────────, ───(\\theta₃(t)): ────────────────────────\n",
              "                                       2                                      \n",
              "                                     dt                                       \n",
              "                                                                              \n",
              "\n",
              "         2                                 2                                  \n",
              "        d                                 d                                   \n",
              "a₃(t))⋅───(\\theta₁(t)) + sin(\\theta₁(t))⋅───(\\theta₁(t)) + cos(\\theta₁(t) + \\t\n",
              "         2                                 2                                  \n",
              "       dt                                dt                                   \n",
              "──────────────────────────────────────────────────────────────────────────────\n",
              "                                                                              \n",
              "                                                                              \n",
              "                                                                              \n",
              "\n",
              "                          2                                                   \n",
              "          ⎛d             ⎞                                     d              \n",
              "heta₃(t))⋅⎜──(\\theta₁(t))⎟  + 2.0⋅cos(\\theta₁(t) + \\theta₃(t))⋅──(\\theta₁(t))⋅\n",
              "          ⎝dt            ⎠                                     dt             \n",
              "                                                                              \n",
              "──────────────────────────────────────────────────────────────────────────────\n",
              "                                          sin(\\theta₁(t) + \\theta₃(t)) + sin(\\\n",
              "                                                                              \n",
              "                                                                              \n",
              "\n",
              "                                                              2               \n",
              "d                                             ⎛d             ⎞                \n",
              "──(\\theta₃(t)) + cos(\\theta₁(t) + \\theta₃(t))⋅⎜──(\\theta₃(t))⎟  + cos(\\theta₁(\n",
              "dt                                            ⎝dt            ⎠                \n",
              "                                                                              \n",
              "──────────────────────────────────────────────────────────────────────────────\n",
              "theta₃(t))                                                                    \n",
              "                                                                              \n",
              "                                                                              \n",
              "\n",
              "                    2                                   2         2      ⎞ ⎫\n",
              "    ⎛d             ⎞                    ⎛d             ⎞         d       ⎟ ⎪\n",
              "t))⋅⎜──(\\theta₁(t))⎟  + cos(\\theta₃(t))⋅⎜──(\\theta₃(t))⎟  + 2.0⋅───(b(t))⎟ ⎪\n",
              "    ⎝dt            ⎠                    ⎝dt            ⎠          2      ⎟ ⎪\n",
              "                                                                dt       ⎠ ⎬\n",
              "───────────────────────────────────────────────────────────────────────────⎪\n",
              "                                                                           ⎪\n",
              "                                                                           ⎪\n",
              "                                                                           ⎭"
            ]
          },
          "metadata": {
            "tags": []
          }
        }
      ]
    },
    {
      "cell_type": "markdown",
      "metadata": {
        "id": "NrAeX0cotskW"
      },
      "source": [
        "\n",
        "$$\\left \\{ \\lambda_{1} : \\frac{0.005}{\\left(\\sin{\\left (\\theta_{1}{\\left (t \\right )} + \\theta_{2}{\\left (t \\right )} \\right )} + \\sin{\\left (\\theta_{2}{\\left (t \\right )} \\right )}\\right)^{2} \\cos^{3}{\\left (\\theta_{1}{\\left (t \\right )} + \\theta_{2}{\\left (t \\right )} \\right )}} \\left(\\left(\\sin{\\left (\\theta_{1}{\\left (t \\right )} + \\theta_{2}{\\left (t \\right )} \\right )} + \\sin{\\left (\\theta_{2}{\\left (t \\right )} \\right )}\\right) \\left(12.5 \\left(\\sin{\\left (\\theta_{1}{\\left (t \\right )} + 3.0 \\theta_{2}{\\left (t \\right )} \\right )} + \\sin{\\left (3.0 \\theta_{1}{\\left (t \\right )} + 5.0 \\theta_{2}{\\left (t \\right )} \\right )}\\right) \\left(\\frac{d}{d t} \\theta_{1}{\\left (t \\right )}\\right)^{2} + 50.0 \\left(\\sin{\\left (3.0 \\theta_{1}{\\left (t \\right )} + 3.0 \\theta_{2}{\\left (t \\right )} \\right )} + \\sin{\\left (5.0 \\theta_{1}{\\left (t \\right )} + 5.0 \\theta_{2}{\\left (t \\right )} \\right )}\\right) \\left(\\frac{d}{d t} a{\\left (t \\right )}\\right)^{2} - 50.0 \\left(\\sin{\\left (3.0 \\theta_{1}{\\left (t \\right )} + 3.0 \\theta_{2}{\\left (t \\right )} \\right )} + \\sin{\\left (5.0 \\theta_{1}{\\left (t \\right )} + 5.0 \\theta_{2}{\\left (t \\right )} \\right )}\\right) \\left(\\frac{d}{d t} b{\\left (t \\right )}\\right)^{2} - 50.0 \\left(\\cos{\\left (3.0 \\theta_{1}{\\left (t \\right )} + 3.0 \\theta_{2}{\\left (t \\right )} \\right )} - \\cos{\\left (5.0 \\theta_{1}{\\left (t \\right )} + 5.0 \\theta_{2}{\\left (t \\right )} \\right )}\\right) \\frac{d}{d t} a{\\left (t \\right )} \\frac{d}{d t} b{\\left (t \\right )} - 400.0 \\sin^{2}{\\left (\\theta_{1}{\\left (t \\right )} + \\theta_{2}{\\left (t \\right )} \\right )} \\cos^{3}{\\left (\\theta_{1}{\\left (t \\right )} + \\theta_{2}{\\left (t \\right )} \\right )} \\frac{d}{d t} a{\\left (t \\right )} \\frac{d}{d t} b{\\left (t \\right )} - 100.0 \\sin{\\left (\\theta_{1}{\\left (t \\right )} + \\theta_{2}{\\left (t \\right )} \\right )} \\sin^{2}{\\left (2.0 \\theta_{1}{\\left (t \\right )} + 2.0 \\theta_{2}{\\left (t \\right )} \\right )} \\left(\\frac{d}{d t} b{\\left (t \\right )}\\right)^{2} - 100.0 \\sin{\\left (\\theta_{1}{\\left (t \\right )} + \\theta_{2}{\\left (t \\right )} \\right )} \\sin{\\left (2.0 \\theta_{1}{\\left (t \\right )} + 2.0 \\theta_{2}{\\left (t \\right )} \\right )} \\cos{\\left (\\theta_{1}{\\left (t \\right )} + 2.0 \\theta_{2}{\\left (t \\right )} \\right )} \\frac{d}{d t} \\theta_{1}{\\left (t \\right )} \\frac{d}{d t} b{\\left (t \\right )} - 100.0 \\sin{\\left (\\theta_{1}{\\left (t \\right )} + \\theta_{2}{\\left (t \\right )} \\right )} \\sin{\\left (2.0 \\theta_{1}{\\left (t \\right )} + 2.0 \\theta_{2}{\\left (t \\right )} \\right )} \\cos{\\left (\\theta_{1}{\\left (t \\right )} \\right )} \\frac{d}{d t} \\theta_{1}{\\left (t \\right )} \\frac{d}{d t} b{\\left (t \\right )} - 200.0 \\sin{\\left (\\theta_{1}{\\left (t \\right )} + \\theta_{2}{\\left (t \\right )} \\right )} \\sin{\\left (2.0 \\theta_{1}{\\left (t \\right )} + 2.0 \\theta_{2}{\\left (t \\right )} \\right )} \\frac{d}{d t} a{\\left (t \\right )} \\frac{d}{d t} b{\\left (t \\right )} - 200.0 \\sin{\\left (\\theta_{1}{\\left (t \\right )} + \\theta_{2}{\\left (t \\right )} \\right )} \\sin{\\left (\\theta_{2}{\\left (t \\right )} \\right )} \\cos^{3}{\\left (\\theta_{1}{\\left (t \\right )} + \\theta_{2}{\\left (t \\right )} \\right )} \\frac{d}{d t} \\theta_{1}{\\left (t \\right )} \\frac{d}{d t} b{\\left (t \\right )} - 400.0 \\sin{\\left (\\theta_{1}{\\left (t \\right )} + \\theta_{2}{\\left (t \\right )} \\right )} \\cos^{4}{\\left (\\theta_{1}{\\left (t \\right )} + \\theta_{2}{\\left (t \\right )} \\right )} \\left(\\frac{d}{d t} a{\\left (t \\right )}\\right)^{2} + 400.0 \\sin{\\left (\\theta_{1}{\\left (t \\right )} + \\theta_{2}{\\left (t \\right )} \\right )} \\cos^{4}{\\left (\\theta_{1}{\\left (t \\right )} + \\theta_{2}{\\left (t \\right )} \\right )} \\left(\\frac{d}{d t} b{\\left (t \\right )}\\right)^{2} - 200.0 \\sin{\\left (\\theta_{1}{\\left (t \\right )} + \\theta_{2}{\\left (t \\right )} \\right )} \\cos^{3}{\\left (\\theta_{1}{\\left (t \\right )} + \\theta_{2}{\\left (t \\right )} \\right )} \\cos{\\left (\\theta_{2}{\\left (t \\right )} \\right )} \\frac{d}{d t} \\theta_{1}{\\left (t \\right )} \\frac{d}{d t} a{\\left (t \\right )} - 25.0 \\sin{\\left (\\theta_{1}{\\left (t \\right )} + \\theta_{2}{\\left (t \\right )} \\right )} \\cos^{2}{\\left (\\theta_{1}{\\left (t \\right )} + 2.0 \\theta_{2}{\\left (t \\right )} \\right )} \\left(\\frac{d}{d t} \\theta_{1}{\\left (t \\right )}\\right)^{2} - 100.0 \\sin{\\left (\\theta_{1}{\\left (t \\right )} + \\theta_{2}{\\left (t \\right )} \\right )} \\cos{\\left (\\theta_{1}{\\left (t \\right )} + 2.0 \\theta_{2}{\\left (t \\right )} \\right )} \\cos{\\left (2.0 \\theta_{1}{\\left (t \\right )} + 2.0 \\theta_{2}{\\left (t \\right )} \\right )} \\frac{d}{d t} \\theta_{1}{\\left (t \\right )} \\frac{d}{d t} a{\\left (t \\right )} - 50.0 \\sin{\\left (\\theta_{1}{\\left (t \\right )} + \\theta_{2}{\\left (t \\right )} \\right )} \\cos{\\left (\\theta_{1}{\\left (t \\right )} + 2.0 \\theta_{2}{\\left (t \\right )} \\right )} \\cos{\\left (\\theta_{1}{\\left (t \\right )} \\right )} \\left(\\frac{d}{d t} \\theta_{1}{\\left (t \\right )}\\right)^{2} - 100.0 \\sin{\\left (\\theta_{1}{\\left (t \\right )} + \\theta_{2}{\\left (t \\right )} \\right )} \\cos{\\left (\\theta_{1}{\\left (t \\right )} + 2.0 \\theta_{2}{\\left (t \\right )} \\right )} \\frac{d}{d t} \\theta_{1}{\\left (t \\right )} \\frac{d}{d t} a{\\left (t \\right )} - 100.0 \\sin{\\left (\\theta_{1}{\\left (t \\right )} + \\theta_{2}{\\left (t \\right )} \\right )} \\cos^{2}{\\left (2.0 \\theta_{1}{\\left (t \\right )} + 2.0 \\theta_{2}{\\left (t \\right )} \\right )} \\left(\\frac{d}{d t} a{\\left (t \\right )}\\right)^{2} - 100.0 \\sin{\\left (\\theta_{1}{\\left (t \\right )} + \\theta_{2}{\\left (t \\right )} \\right )} \\cos{\\left (2.0 \\theta_{1}{\\left (t \\right )} + 2.0 \\theta_{2}{\\left (t \\right )} \\right )} \\cos{\\left (\\theta_{1}{\\left (t \\right )} \\right )} \\frac{d}{d t} \\theta_{1}{\\left (t \\right )} \\frac{d}{d t} a{\\left (t \\right )} - 200.0 \\sin{\\left (\\theta_{1}{\\left (t \\right )} + \\theta_{2}{\\left (t \\right )} \\right )} \\cos{\\left (2.0 \\theta_{1}{\\left (t \\right )} + 2.0 \\theta_{2}{\\left (t \\right )} \\right )} \\left(\\frac{d}{d t} a{\\left (t \\right )}\\right)^{2} - 25.0 \\sin{\\left (\\theta_{1}{\\left (t \\right )} + \\theta_{2}{\\left (t \\right )} \\right )} \\cos^{2}{\\left (\\theta_{1}{\\left (t \\right )} \\right )} \\left(\\frac{d}{d t} \\theta_{1}{\\left (t \\right )}\\right)^{2} - 100.0 \\sin{\\left (\\theta_{1}{\\left (t \\right )} + \\theta_{2}{\\left (t \\right )} \\right )} \\cos{\\left (\\theta_{1}{\\left (t \\right )} \\right )} \\frac{d}{d t} \\theta_{1}{\\left (t \\right )} \\frac{d}{d t} a{\\left (t \\right )} - 100.0 \\sin{\\left (\\theta_{1}{\\left (t \\right )} + \\theta_{2}{\\left (t \\right )} \\right )} \\left(\\frac{d}{d t} a{\\left (t \\right )}\\right)^{2} + 100.0 \\sin{\\left (\\theta_{1}{\\left (t \\right )} + 2.0 \\theta_{2}{\\left (t \\right )} \\right )} \\sin{\\left (2.0 \\theta_{1}{\\left (t \\right )} + 2.0 \\theta_{2}{\\left (t \\right )} \\right )} \\cos{\\left (\\theta_{1}{\\left (t \\right )} + \\theta_{2}{\\left (t \\right )} \\right )} \\frac{d}{d t} \\theta_{1}{\\left (t \\right )} \\frac{d}{d t} b{\\left (t \\right )} + 50.0 \\sin{\\left (\\theta_{1}{\\left (t \\right )} + 2.0 \\theta_{2}{\\left (t \\right )} \\right )} \\cos^{2}{\\left (\\theta_{1}{\\left (t \\right )} + \\theta_{2}{\\left (t \\right )} \\right )} \\left(\\frac{d}{d t} \\theta_{1}{\\left (t \\right )}\\right)^{2} + 100.0 \\sin{\\left (\\theta_{1}{\\left (t \\right )} + 2.0 \\theta_{2}{\\left (t \\right )} \\right )} \\cos{\\left (\\theta_{1}{\\left (t \\right )} + \\theta_{2}{\\left (t \\right )} \\right )} \\cos{\\left (2.0 \\theta_{1}{\\left (t \\right )} + 2.0 \\theta_{2}{\\left (t \\right )} \\right )} \\frac{d}{d t} \\theta_{1}{\\left (t \\right )} \\frac{d}{d t} a{\\left (t \\right )} + 50.0 \\sin{\\left (\\theta_{1}{\\left (t \\right )} + 2.0 \\theta_{2}{\\left (t \\right )} \\right )} \\cos{\\left (\\theta_{1}{\\left (t \\right )} + \\theta_{2}{\\left (t \\right )} \\right )} \\cos{\\left (\\theta_{1}{\\left (t \\right )} \\right )} \\left(\\frac{d}{d t} \\theta_{1}{\\left (t \\right )}\\right)^{2} + 100.0 \\sin{\\left (\\theta_{1}{\\left (t \\right )} + 2.0 \\theta_{2}{\\left (t \\right )} \\right )} \\cos{\\left (\\theta_{1}{\\left (t \\right )} + \\theta_{2}{\\left (t \\right )} \\right )} \\frac{d}{d t} \\theta_{1}{\\left (t \\right )} \\frac{d}{d t} a{\\left (t \\right )} + 200.0 \\sin^{2}{\\left (2.0 \\theta_{1}{\\left (t \\right )} + 2.0 \\theta_{2}{\\left (t \\right )} \\right )} \\cos{\\left (\\theta_{1}{\\left (t \\right )} + \\theta_{2}{\\left (t \\right )} \\right )} \\frac{d}{d t} a{\\left (t \\right )} \\frac{d}{d t} b{\\left (t \\right )} + 100.0 \\sin{\\left (2.0 \\theta_{1}{\\left (t \\right )} + 2.0 \\theta_{2}{\\left (t \\right )} \\right )} \\cos^{2}{\\left (\\theta_{1}{\\left (t \\right )} + \\theta_{2}{\\left (t \\right )} \\right )} \\frac{d^{2}}{d t^{2}} b{\\left (t \\right )} + 100.0 \\sin{\\left (2.0 \\theta_{1}{\\left (t \\right )} + 2.0 \\theta_{2}{\\left (t \\right )} \\right )} \\cos{\\left (\\theta_{1}{\\left (t \\right )} + \\theta_{2}{\\left (t \\right )} \\right )} \\cos{\\left (\\theta_{1}{\\left (t \\right )} + 2.0 \\theta_{2}{\\left (t \\right )} \\right )} \\frac{d}{d t} \\theta_{1}{\\left (t \\right )} \\frac{d}{d t} a{\\left (t \\right )} + 100.0 \\sin{\\left (2.0 \\theta_{1}{\\left (t \\right )} + 2.0 \\theta_{2}{\\left (t \\right )} \\right )} \\cos{\\left (\\theta_{1}{\\left (t \\right )} + \\theta_{2}{\\left (t \\right )} \\right )} \\cos{\\left (\\theta_{1}{\\left (t \\right )} \\right )} \\frac{d}{d t} \\theta_{1}{\\left (t \\right )} \\frac{d}{d t} a{\\left (t \\right )} + 200.0 \\sin{\\left (2.0 \\theta_{1}{\\left (t \\right )} + 2.0 \\theta_{2}{\\left (t \\right )} \\right )} \\cos{\\left (\\theta_{1}{\\left (t \\right )} + \\theta_{2}{\\left (t \\right )} \\right )} \\left(\\frac{d}{d t} a{\\left (t \\right )}\\right)^{2} + 1962.0 \\sin{\\left (\\theta_{1}{\\left (t \\right )} \\right )} \\cos^{3}{\\left (\\theta_{1}{\\left (t \\right )} + \\theta_{2}{\\left (t \\right )} \\right )} \\cos{\\left (\\theta_{2}{\\left (t \\right )} \\right )} - 50.0 \\sin{\\left (\\theta_{1}{\\left (t \\right )} \\right )} \\cos^{2}{\\left (\\theta_{1}{\\left (t \\right )} + \\theta_{2}{\\left (t \\right )} \\right )} \\left(\\frac{d}{d t} \\theta_{1}{\\left (t \\right )}\\right)^{2} - 200.0 \\sin{\\left (\\theta_{2}{\\left (t \\right )} \\right )} \\cos^{4}{\\left (\\theta_{1}{\\left (t \\right )} + \\theta_{2}{\\left (t \\right )} \\right )} \\frac{d}{d t} \\theta_{1}{\\left (t \\right )} \\frac{d}{d t} a{\\left (t \\right )} + 1962.0 \\sin{\\left (\\theta_{2}{\\left (t \\right )} \\right )} \\cos^{3}{\\left (\\theta_{1}{\\left (t \\right )} + \\theta_{2}{\\left (t \\right )} \\right )} \\cos{\\left (\\theta_{1}{\\left (t \\right )} \\right )} - 100.0 \\sin{\\left (\\theta_{2}{\\left (t \\right )} \\right )} \\cos^{3}{\\left (\\theta_{1}{\\left (t \\right )} + \\theta_{2}{\\left (t \\right )} \\right )} \\cos{\\left (\\theta_{2}{\\left (t \\right )} \\right )} \\left(\\frac{d}{d t} \\theta_{1}{\\left (t \\right )}\\right)^{2} + 400.0 \\cos^{5}{\\left (\\theta_{1}{\\left (t \\right )} + \\theta_{2}{\\left (t \\right )} \\right )} \\frac{d}{d t} a{\\left (t \\right )} \\frac{d}{d t} b{\\left (t \\right )} + 200.0 \\cos^{4}{\\left (\\theta_{1}{\\left (t \\right )} + \\theta_{2}{\\left (t \\right )} \\right )} \\cos{\\left (\\theta_{2}{\\left (t \\right )} \\right )} \\frac{d}{d t} \\theta_{1}{\\left (t \\right )} \\frac{d}{d t} b{\\left (t \\right )} + 500.0 \\cos^{3}{\\left (\\theta_{1}{\\left (t \\right )} + \\theta_{2}{\\left (t \\right )} \\right )} \\frac{d^{2}}{d t^{2}} \\theta_{1}{\\left (t \\right )} + 50.0 \\cos^{2}{\\left (\\theta_{1}{\\left (t \\right )} + \\theta_{2}{\\left (t \\right )} \\right )} \\cos{\\left (\\theta_{1}{\\left (t \\right )} + 2.0 \\theta_{2}{\\left (t \\right )} \\right )} \\frac{d^{2}}{d t^{2}} \\theta_{1}{\\left (t \\right )} + 100.0 \\cos^{2}{\\left (\\theta_{1}{\\left (t \\right )} + \\theta_{2}{\\left (t \\right )} \\right )} \\cos{\\left (2.0 \\theta_{1}{\\left (t \\right )} + 2.0 \\theta_{2}{\\left (t \\right )} \\right )} \\frac{d^{2}}{d t^{2}} a{\\left (t \\right )} + 50.0 \\cos^{2}{\\left (\\theta_{1}{\\left (t \\right )} + \\theta_{2}{\\left (t \\right )} \\right )} \\cos{\\left (\\theta_{1}{\\left (t \\right )} \\right )} \\frac{d^{2}}{d t^{2}} \\theta_{1}{\\left (t \\right )} + 100.0 \\cos^{2}{\\left (\\theta_{1}{\\left (t \\right )} + \\theta_{2}{\\left (t \\right )} \\right )} \\frac{d^{2}}{d t^{2}} a{\\left (t \\right )} - 100.0 \\cos{\\left (\\theta_{1}{\\left (t \\right )} + \\theta_{2}{\\left (t \\right )} \\right )} \\cos{\\left (\\theta_{1}{\\left (t \\right )} + 2.0 \\theta_{2}{\\left (t \\right )} \\right )} \\cos{\\left (2.0 \\theta_{1}{\\left (t \\right )} + 2.0 \\theta_{2}{\\left (t \\right )} \\right )} \\frac{d}{d t} \\theta_{1}{\\left (t \\right )} \\frac{d}{d t} b{\\left (t \\right )} - 200.0 \\cos{\\left (\\theta_{1}{\\left (t \\right )} + \\theta_{2}{\\left (t \\right )} \\right )} \\cos^{2}{\\left (2.0 \\theta_{1}{\\left (t \\right )} + 2.0 \\theta_{2}{\\left (t \\right )} \\right )} \\frac{d}{d t} a{\\left (t \\right )} \\frac{d}{d t} b{\\left (t \\right )} - 100.0 \\cos{\\left (\\theta_{1}{\\left (t \\right )} + \\theta_{2}{\\left (t \\right )} \\right )} \\cos{\\left (2.0 \\theta_{1}{\\left (t \\right )} + 2.0 \\theta_{2}{\\left (t \\right )} \\right )} \\cos{\\left (\\theta_{1}{\\left (t \\right )} \\right )} \\frac{d}{d t} \\theta_{1}{\\left (t \\right )} \\frac{d}{d t} b{\\left (t \\right )} - 200.0 \\cos{\\left (\\theta_{1}{\\left (t \\right )} + \\theta_{2}{\\left (t \\right )} \\right )} \\cos{\\left (2.0 \\theta_{1}{\\left (t \\right )} + 2.0 \\theta_{2}{\\left (t \\right )} \\right )} \\frac{d}{d t} a{\\left (t \\right )} \\frac{d}{d t} b{\\left (t \\right )}\\right) - 500.0 \\left(\\sin{\\left (\\theta_{1}{\\left (t \\right )} + \\theta_{2}{\\left (t \\right )} \\right )} \\frac{d^{2}}{d t^{2}} \\theta_{1}{\\left (t \\right )} + \\sin{\\left (\\theta_{1}{\\left (t \\right )} \\right )} \\frac{d^{2}}{d t^{2}} \\theta_{1}{\\left (t \\right )} + \\cos{\\left (\\theta_{1}{\\left (t \\right )} + \\theta_{2}{\\left (t \\right )} \\right )} \\left(\\frac{d}{d t} \\theta_{1}{\\left (t \\right )}\\right)^{2} + 2.0 \\cos{\\left (\\theta_{1}{\\left (t \\right )} + \\theta_{2}{\\left (t \\right )} \\right )} \\frac{d}{d t} \\theta_{1}{\\left (t \\right )} \\frac{d}{d t} \\theta_{2}{\\left (t \\right )} + \\cos{\\left (\\theta_{1}{\\left (t \\right )} + \\theta_{2}{\\left (t \\right )} \\right )} \\left(\\frac{d}{d t} \\theta_{2}{\\left (t \\right )}\\right)^{2} + \\cos{\\left (\\theta_{1}{\\left (t \\right )} \\right )} \\left(\\frac{d}{d t} \\theta_{1}{\\left (t \\right )}\\right)^{2} + \\cos{\\left (\\theta_{2}{\\left (t \\right )} \\right )} \\left(\\frac{d}{d t} \\theta_{2}{\\left (t \\right )}\\right)^{2} + 2.0 \\frac{d^{2}}{d t^{2}} b{\\left (t \\right )}\\right) \\cos^{3}{\\left (\\theta_{1}{\\left (t \\right )} + \\theta_{2}{\\left (t \\right )} \\right )}\\right), \\quad \\lambda_{2} : \\frac{0.005}{\\left(\\sin{\\left (\\theta_{1}{\\left (t \\right )} + \\theta_{3}{\\left (t \\right )} \\right )} + \\sin{\\left (\\theta_{3}{\\left (t \\right )} \\right )}\\right)^{2} \\cos^{3}{\\left (\\theta_{1}{\\left (t \\right )} + \\theta_{3}{\\left (t \\right )} \\right )}} \\left(\\left(\\sin{\\left (\\theta_{1}{\\left (t \\right )} + \\theta_{3}{\\left (t \\right )} \\right )} + \\sin{\\left (\\theta_{3}{\\left (t \\right )} \\right )}\\right) \\left(12.5 \\left(\\sin{\\left (\\theta_{1}{\\left (t \\right )} + 3.0 \\theta_{3}{\\left (t \\right )} \\right )} + \\sin{\\left (3.0 \\theta_{1}{\\left (t \\right )} + 5.0 \\theta_{3}{\\left (t \\right )} \\right )}\\right) \\left(\\frac{d}{d t} \\theta_{1}{\\left (t \\right )}\\right)^{2} + 50.0 \\left(\\sin{\\left (3.0 \\theta_{1}{\\left (t \\right )} + 3.0 \\theta_{3}{\\left (t \\right )} \\right )} + \\sin{\\left (5.0 \\theta_{1}{\\left (t \\right )} + 5.0 \\theta_{3}{\\left (t \\right )} \\right )}\\right) \\left(\\frac{d}{d t} a{\\left (t \\right )}\\right)^{2} - 50.0 \\left(\\sin{\\left (3.0 \\theta_{1}{\\left (t \\right )} + 3.0 \\theta_{3}{\\left (t \\right )} \\right )} + \\sin{\\left (5.0 \\theta_{1}{\\left (t \\right )} + 5.0 \\theta_{3}{\\left (t \\right )} \\right )}\\right) \\left(\\frac{d}{d t} b{\\left (t \\right )}\\right)^{2} - 50.0 \\left(\\cos{\\left (3.0 \\theta_{1}{\\left (t \\right )} + 3.0 \\theta_{3}{\\left (t \\right )} \\right )} - \\cos{\\left (5.0 \\theta_{1}{\\left (t \\right )} + 5.0 \\theta_{3}{\\left (t \\right )} \\right )}\\right) \\frac{d}{d t} a{\\left (t \\right )} \\frac{d}{d t} b{\\left (t \\right )} - 400.0 \\sin^{2}{\\left (\\theta_{1}{\\left (t \\right )} + \\theta_{3}{\\left (t \\right )} \\right )} \\cos^{3}{\\left (\\theta_{1}{\\left (t \\right )} + \\theta_{3}{\\left (t \\right )} \\right )} \\frac{d}{d t} a{\\left (t \\right )} \\frac{d}{d t} b{\\left (t \\right )} - 100.0 \\sin{\\left (\\theta_{1}{\\left (t \\right )} + \\theta_{3}{\\left (t \\right )} \\right )} \\sin^{2}{\\left (2.0 \\theta_{1}{\\left (t \\right )} + 2.0 \\theta_{3}{\\left (t \\right )} \\right )} \\left(\\frac{d}{d t} b{\\left (t \\right )}\\right)^{2} - 100.0 \\sin{\\left (\\theta_{1}{\\left (t \\right )} + \\theta_{3}{\\left (t \\right )} \\right )} \\sin{\\left (2.0 \\theta_{1}{\\left (t \\right )} + 2.0 \\theta_{3}{\\left (t \\right )} \\right )} \\cos{\\left (\\theta_{1}{\\left (t \\right )} + 2.0 \\theta_{3}{\\left (t \\right )} \\right )} \\frac{d}{d t} \\theta_{1}{\\left (t \\right )} \\frac{d}{d t} b{\\left (t \\right )} - 100.0 \\sin{\\left (\\theta_{1}{\\left (t \\right )} + \\theta_{3}{\\left (t \\right )} \\right )} \\sin{\\left (2.0 \\theta_{1}{\\left (t \\right )} + 2.0 \\theta_{3}{\\left (t \\right )} \\right )} \\cos{\\left (\\theta_{1}{\\left (t \\right )} \\right )} \\frac{d}{d t} \\theta_{1}{\\left (t \\right )} \\frac{d}{d t} b{\\left (t \\right )} - 200.0 \\sin{\\left (\\theta_{1}{\\left (t \\right )} + \\theta_{3}{\\left (t \\right )} \\right )} \\sin{\\left (2.0 \\theta_{1}{\\left (t \\right )} + 2.0 \\theta_{3}{\\left (t \\right )} \\right )} \\frac{d}{d t} a{\\left (t \\right )} \\frac{d}{d t} b{\\left (t \\right )} - 200.0 \\sin{\\left (\\theta_{1}{\\left (t \\right )} + \\theta_{3}{\\left (t \\right )} \\right )} \\sin{\\left (\\theta_{3}{\\left (t \\right )} \\right )} \\cos^{3}{\\left (\\theta_{1}{\\left (t \\right )} + \\theta_{3}{\\left (t \\right )} \\right )} \\frac{d}{d t} \\theta_{1}{\\left (t \\right )} \\frac{d}{d t} b{\\left (t \\right )} - 400.0 \\sin{\\left (\\theta_{1}{\\left (t \\right )} + \\theta_{3}{\\left (t \\right )} \\right )} \\cos^{4}{\\left (\\theta_{1}{\\left (t \\right )} + \\theta_{3}{\\left (t \\right )} \\right )} \\left(\\frac{d}{d t} a{\\left (t \\right )}\\right)^{2} + 400.0 \\sin{\\left (\\theta_{1}{\\left (t \\right )} + \\theta_{3}{\\left (t \\right )} \\right )} \\cos^{4}{\\left (\\theta_{1}{\\left (t \\right )} + \\theta_{3}{\\left (t \\right )} \\right )} \\left(\\frac{d}{d t} b{\\left (t \\right )}\\right)^{2} - 200.0 \\sin{\\left (\\theta_{1}{\\left (t \\right )} + \\theta_{3}{\\left (t \\right )} \\right )} \\cos^{3}{\\left (\\theta_{1}{\\left (t \\right )} + \\theta_{3}{\\left (t \\right )} \\right )} \\cos{\\left (\\theta_{3}{\\left (t \\right )} \\right )} \\frac{d}{d t} \\theta_{1}{\\left (t \\right )} \\frac{d}{d t} a{\\left (t \\right )} - 25.0 \\sin{\\left (\\theta_{1}{\\left (t \\right )} + \\theta_{3}{\\left (t \\right )} \\right )} \\cos^{2}{\\left (\\theta_{1}{\\left (t \\right )} + 2.0 \\theta_{3}{\\left (t \\right )} \\right )} \\left(\\frac{d}{d t} \\theta_{1}{\\left (t \\right )}\\right)^{2} - 100.0 \\sin{\\left (\\theta_{1}{\\left (t \\right )} + \\theta_{3}{\\left (t \\right )} \\right )} \\cos{\\left (\\theta_{1}{\\left (t \\right )} + 2.0 \\theta_{3}{\\left (t \\right )} \\right )} \\cos{\\left (2.0 \\theta_{1}{\\left (t \\right )} + 2.0 \\theta_{3}{\\left (t \\right )} \\right )} \\frac{d}{d t} \\theta_{1}{\\left (t \\right )} \\frac{d}{d t} a{\\left (t \\right )} - 50.0 \\sin{\\left (\\theta_{1}{\\left (t \\right )} + \\theta_{3}{\\left (t \\right )} \\right )} \\cos{\\left (\\theta_{1}{\\left (t \\right )} + 2.0 \\theta_{3}{\\left (t \\right )} \\right )} \\cos{\\left (\\theta_{1}{\\left (t \\right )} \\right )} \\left(\\frac{d}{d t} \\theta_{1}{\\left (t \\right )}\\right)^{2} - 100.0 \\sin{\\left (\\theta_{1}{\\left (t \\right )} + \\theta_{3}{\\left (t \\right )} \\right )} \\cos{\\left (\\theta_{1}{\\left (t \\right )} + 2.0 \\theta_{3}{\\left (t \\right )} \\right )} \\frac{d}{d t} \\theta_{1}{\\left (t \\right )} \\frac{d}{d t} a{\\left (t \\right )} - 100.0 \\sin{\\left (\\theta_{1}{\\left (t \\right )} + \\theta_{3}{\\left (t \\right )} \\right )} \\cos^{2}{\\left (2.0 \\theta_{1}{\\left (t \\right )} + 2.0 \\theta_{3}{\\left (t \\right )} \\right )} \\left(\\frac{d}{d t} a{\\left (t \\right )}\\right)^{2} - 100.0 \\sin{\\left (\\theta_{1}{\\left (t \\right )} + \\theta_{3}{\\left (t \\right )} \\right )} \\cos{\\left (2.0 \\theta_{1}{\\left (t \\right )} + 2.0 \\theta_{3}{\\left (t \\right )} \\right )} \\cos{\\left (\\theta_{1}{\\left (t \\right )} \\right )} \\frac{d}{d t} \\theta_{1}{\\left (t \\right )} \\frac{d}{d t} a{\\left (t \\right )} - 200.0 \\sin{\\left (\\theta_{1}{\\left (t \\right )} + \\theta_{3}{\\left (t \\right )} \\right )} \\cos{\\left (2.0 \\theta_{1}{\\left (t \\right )} + 2.0 \\theta_{3}{\\left (t \\right )} \\right )} \\left(\\frac{d}{d t} a{\\left (t \\right )}\\right)^{2} - 25.0 \\sin{\\left (\\theta_{1}{\\left (t \\right )} + \\theta_{3}{\\left (t \\right )} \\right )} \\cos^{2}{\\left (\\theta_{1}{\\left (t \\right )} \\right )} \\left(\\frac{d}{d t} \\theta_{1}{\\left (t \\right )}\\right)^{2} - 100.0 \\sin{\\left (\\theta_{1}{\\left (t \\right )} + \\theta_{3}{\\left (t \\right )} \\right )} \\cos{\\left (\\theta_{1}{\\left (t \\right )} \\right )} \\frac{d}{d t} \\theta_{1}{\\left (t \\right )} \\frac{d}{d t} a{\\left (t \\right )} - 100.0 \\sin{\\left (\\theta_{1}{\\left (t \\right )} + \\theta_{3}{\\left (t \\right )} \\right )} \\left(\\frac{d}{d t} a{\\left (t \\right )}\\right)^{2} + 100.0 \\sin{\\left (\\theta_{1}{\\left (t \\right )} + 2.0 \\theta_{3}{\\left (t \\right )} \\right )} \\sin{\\left (2.0 \\theta_{1}{\\left (t \\right )} + 2.0 \\theta_{3}{\\left (t \\right )} \\right )} \\cos{\\left (\\theta_{1}{\\left (t \\right )} + \\theta_{3}{\\left (t \\right )} \\right )} \\frac{d}{d t} \\theta_{1}{\\left (t \\right )} \\frac{d}{d t} b{\\left (t \\right )} + 50.0 \\sin{\\left (\\theta_{1}{\\left (t \\right )} + 2.0 \\theta_{3}{\\left (t \\right )} \\right )} \\cos^{2}{\\left (\\theta_{1}{\\left (t \\right )} + \\theta_{3}{\\left (t \\right )} \\right )} \\left(\\frac{d}{d t} \\theta_{1}{\\left (t \\right )}\\right)^{2} + 100.0 \\sin{\\left (\\theta_{1}{\\left (t \\right )} + 2.0 \\theta_{3}{\\left (t \\right )} \\right )} \\cos{\\left (\\theta_{1}{\\left (t \\right )} + \\theta_{3}{\\left (t \\right )} \\right )} \\cos{\\left (2.0 \\theta_{1}{\\left (t \\right )} + 2.0 \\theta_{3}{\\left (t \\right )} \\right )} \\frac{d}{d t} \\theta_{1}{\\left (t \\right )} \\frac{d}{d t} a{\\left (t \\right )} + 50.0 \\sin{\\left (\\theta_{1}{\\left (t \\right )} + 2.0 \\theta_{3}{\\left (t \\right )} \\right )} \\cos{\\left (\\theta_{1}{\\left (t \\right )} + \\theta_{3}{\\left (t \\right )} \\right )} \\cos{\\left (\\theta_{1}{\\left (t \\right )} \\right )} \\left(\\frac{d}{d t} \\theta_{1}{\\left (t \\right )}\\right)^{2} + 100.0 \\sin{\\left (\\theta_{1}{\\left (t \\right )} + 2.0 \\theta_{3}{\\left (t \\right )} \\right )} \\cos{\\left (\\theta_{1}{\\left (t \\right )} + \\theta_{3}{\\left (t \\right )} \\right )} \\frac{d}{d t} \\theta_{1}{\\left (t \\right )} \\frac{d}{d t} a{\\left (t \\right )} + 200.0 \\sin^{2}{\\left (2.0 \\theta_{1}{\\left (t \\right )} + 2.0 \\theta_{3}{\\left (t \\right )} \\right )} \\cos{\\left (\\theta_{1}{\\left (t \\right )} + \\theta_{3}{\\left (t \\right )} \\right )} \\frac{d}{d t} a{\\left (t \\right )} \\frac{d}{d t} b{\\left (t \\right )} + 100.0 \\sin{\\left (2.0 \\theta_{1}{\\left (t \\right )} + 2.0 \\theta_{3}{\\left (t \\right )} \\right )} \\cos^{2}{\\left (\\theta_{1}{\\left (t \\right )} + \\theta_{3}{\\left (t \\right )} \\right )} \\frac{d^{2}}{d t^{2}} b{\\left (t \\right )} + 100.0 \\sin{\\left (2.0 \\theta_{1}{\\left (t \\right )} + 2.0 \\theta_{3}{\\left (t \\right )} \\right )} \\cos{\\left (\\theta_{1}{\\left (t \\right )} + \\theta_{3}{\\left (t \\right )} \\right )} \\cos{\\left (\\theta_{1}{\\left (t \\right )} + 2.0 \\theta_{3}{\\left (t \\right )} \\right )} \\frac{d}{d t} \\theta_{1}{\\left (t \\right )} \\frac{d}{d t} a{\\left (t \\right )} + 100.0 \\sin{\\left (2.0 \\theta_{1}{\\left (t \\right )} + 2.0 \\theta_{3}{\\left (t \\right )} \\right )} \\cos{\\left (\\theta_{1}{\\left (t \\right )} + \\theta_{3}{\\left (t \\right )} \\right )} \\cos{\\left (\\theta_{1}{\\left (t \\right )} \\right )} \\frac{d}{d t} \\theta_{1}{\\left (t \\right )} \\frac{d}{d t} a{\\left (t \\right )} + 200.0 \\sin{\\left (2.0 \\theta_{1}{\\left (t \\right )} + 2.0 \\theta_{3}{\\left (t \\right )} \\right )} \\cos{\\left (\\theta_{1}{\\left (t \\right )} + \\theta_{3}{\\left (t \\right )} \\right )} \\left(\\frac{d}{d t} a{\\left (t \\right )}\\right)^{2} + 1962.0 \\sin{\\left (\\theta_{1}{\\left (t \\right )} \\right )} \\cos^{3}{\\left (\\theta_{1}{\\left (t \\right )} + \\theta_{3}{\\left (t \\right )} \\right )} \\cos{\\left (\\theta_{3}{\\left (t \\right )} \\right )} - 50.0 \\sin{\\left (\\theta_{1}{\\left (t \\right )} \\right )} \\cos^{2}{\\left (\\theta_{1}{\\left (t \\right )} + \\theta_{3}{\\left (t \\right )} \\right )} \\left(\\frac{d}{d t} \\theta_{1}{\\left (t \\right )}\\right)^{2} - 200.0 \\sin{\\left (\\theta_{3}{\\left (t \\right )} \\right )} \\cos^{4}{\\left (\\theta_{1}{\\left (t \\right )} + \\theta_{3}{\\left (t \\right )} \\right )} \\frac{d}{d t} \\theta_{1}{\\left (t \\right )} \\frac{d}{d t} a{\\left (t \\right )} + 1962.0 \\sin{\\left (\\theta_{3}{\\left (t \\right )} \\right )} \\cos^{3}{\\left (\\theta_{1}{\\left (t \\right )} + \\theta_{3}{\\left (t \\right )} \\right )} \\cos{\\left (\\theta_{1}{\\left (t \\right )} \\right )} - 100.0 \\sin{\\left (\\theta_{3}{\\left (t \\right )} \\right )} \\cos^{3}{\\left (\\theta_{1}{\\left (t \\right )} + \\theta_{3}{\\left (t \\right )} \\right )} \\cos{\\left (\\theta_{3}{\\left (t \\right )} \\right )} \\left(\\frac{d}{d t} \\theta_{1}{\\left (t \\right )}\\right)^{2} + 400.0 \\cos^{5}{\\left (\\theta_{1}{\\left (t \\right )} + \\theta_{3}{\\left (t \\right )} \\right )} \\frac{d}{d t} a{\\left (t \\right )} \\frac{d}{d t} b{\\left (t \\right )} + 200.0 \\cos^{4}{\\left (\\theta_{1}{\\left (t \\right )} + \\theta_{3}{\\left (t \\right )} \\right )} \\cos{\\left (\\theta_{3}{\\left (t \\right )} \\right )} \\frac{d}{d t} \\theta_{1}{\\left (t \\right )} \\frac{d}{d t} b{\\left (t \\right )} + 500.0 \\cos^{3}{\\left (\\theta_{1}{\\left (t \\right )} + \\theta_{3}{\\left (t \\right )} \\right )} \\frac{d^{2}}{d t^{2}} \\theta_{1}{\\left (t \\right )} + 50.0 \\cos^{2}{\\left (\\theta_{1}{\\left (t \\right )} + \\theta_{3}{\\left (t \\right )} \\right )} \\cos{\\left (\\theta_{1}{\\left (t \\right )} + 2.0 \\theta_{3}{\\left (t \\right )} \\right )} \\frac{d^{2}}{d t^{2}} \\theta_{1}{\\left (t \\right )} + 100.0 \\cos^{2}{\\left (\\theta_{1}{\\left (t \\right )} + \\theta_{3}{\\left (t \\right )} \\right )} \\cos{\\left (2.0 \\theta_{1}{\\left (t \\right )} + 2.0 \\theta_{3}{\\left (t \\right )} \\right )} \\frac{d^{2}}{d t^{2}} a{\\left (t \\right )} + 50.0 \\cos^{2}{\\left (\\theta_{1}{\\left (t \\right )} + \\theta_{3}{\\left (t \\right )} \\right )} \\cos{\\left (\\theta_{1}{\\left (t \\right )} \\right )} \\frac{d^{2}}{d t^{2}} \\theta_{1}{\\left (t \\right )} + 100.0 \\cos^{2}{\\left (\\theta_{1}{\\left (t \\right )} + \\theta_{3}{\\left (t \\right )} \\right )} \\frac{d^{2}}{d t^{2}} a{\\left (t \\right )} - 100.0 \\cos{\\left (\\theta_{1}{\\left (t \\right )} + \\theta_{3}{\\left (t \\right )} \\right )} \\cos{\\left (\\theta_{1}{\\left (t \\right )} + 2.0 \\theta_{3}{\\left (t \\right )} \\right )} \\cos{\\left (2.0 \\theta_{1}{\\left (t \\right )} + 2.0 \\theta_{3}{\\left (t \\right )} \\right )} \\frac{d}{d t} \\theta_{1}{\\left (t \\right )} \\frac{d}{d t} b{\\left (t \\right )} - 200.0 \\cos{\\left (\\theta_{1}{\\left (t \\right )} + \\theta_{3}{\\left (t \\right )} \\right )} \\cos^{2}{\\left (2.0 \\theta_{1}{\\left (t \\right )} + 2.0 \\theta_{3}{\\left (t \\right )} \\right )} \\frac{d}{d t} a{\\left (t \\right )} \\frac{d}{d t} b{\\left (t \\right )} - 100.0 \\cos{\\left (\\theta_{1}{\\left (t \\right )} + \\theta_{3}{\\left (t \\right )} \\right )} \\cos{\\left (2.0 \\theta_{1}{\\left (t \\right )} + 2.0 \\theta_{3}{\\left (t \\right )} \\right )} \\cos{\\left (\\theta_{1}{\\left (t \\right )} \\right )} \\frac{d}{d t} \\theta_{1}{\\left (t \\right )} \\frac{d}{d t} b{\\left (t \\right )} - 200.0 \\cos{\\left (\\theta_{1}{\\left (t \\right )} + \\theta_{3}{\\left (t \\right )} \\right )} \\cos{\\left (2.0 \\theta_{1}{\\left (t \\right )} + 2.0 \\theta_{3}{\\left (t \\right )} \\right )} \\frac{d}{d t} a{\\left (t \\right )} \\frac{d}{d t} b{\\left (t \\right )}\\right) - 500.0 \\left(\\sin{\\left (\\theta_{1}{\\left (t \\right )} + \\theta_{3}{\\left (t \\right )} \\right )} \\frac{d^{2}}{d t^{2}} \\theta_{1}{\\left (t \\right )} + \\sin{\\left (\\theta_{1}{\\left (t \\right )} \\right )} \\frac{d^{2}}{d t^{2}} \\theta_{1}{\\left (t \\right )} + \\cos{\\left (\\theta_{1}{\\left (t \\right )} + \\theta_{3}{\\left (t \\right )} \\right )} \\left(\\frac{d}{d t} \\theta_{1}{\\left (t \\right )}\\right)^{2} + 2.0 \\cos{\\left (\\theta_{1}{\\left (t \\right )} + \\theta_{3}{\\left (t \\right )} \\right )} \\frac{d}{d t} \\theta_{1}{\\left (t \\right )} \\frac{d}{d t} \\theta_{3}{\\left (t \\right )} + \\cos{\\left (\\theta_{1}{\\left (t \\right )} + \\theta_{3}{\\left (t \\right )} \\right )} \\left(\\frac{d}{d t} \\theta_{3}{\\left (t \\right )}\\right)^{2} + \\cos{\\left (\\theta_{1}{\\left (t \\right )} \\right )} \\left(\\frac{d}{d t} \\theta_{1}{\\left (t \\right )}\\right)^{2} + \\cos{\\left (\\theta_{3}{\\left (t \\right )} \\right )} \\left(\\frac{d}{d t} \\theta_{3}{\\left (t \\right )}\\right)^{2} + 2.0 \\frac{d^{2}}{d t^{2}} b{\\left (t \\right )}\\right) \\cos^{3}{\\left (\\theta_{1}{\\left (t \\right )} + \\theta_{3}{\\left (t \\right )} \\right )}\\right), \\quad \\frac{d^{2}}{d t^{2}} \\theta_{2}{\\left (t \\right )} : - \\frac{1}{\\sin{\\left (\\theta_{1}{\\left (t \\right )} + \\theta_{2}{\\left (t \\right )} \\right )} + \\sin{\\left (\\theta_{2}{\\left (t \\right )} \\right )}} \\left(\\sin{\\left (\\theta_{1}{\\left (t \\right )} + \\theta_{2}{\\left (t \\right )} \\right )} \\frac{d^{2}}{d t^{2}} \\theta_{1}{\\left (t \\right )} + \\sin{\\left (\\theta_{1}{\\left (t \\right )} \\right )} \\frac{d^{2}}{d t^{2}} \\theta_{1}{\\left (t \\right )} + \\cos{\\left (\\theta_{1}{\\left (t \\right )} + \\theta_{2}{\\left (t \\right )} \\right )} \\left(\\frac{d}{d t} \\theta_{1}{\\left (t \\right )}\\right)^{2} + 2.0 \\cos{\\left (\\theta_{1}{\\left (t \\right )} + \\theta_{2}{\\left (t \\right )} \\right )} \\frac{d}{d t} \\theta_{1}{\\left (t \\right )} \\frac{d}{d t} \\theta_{2}{\\left (t \\right )} + \\cos{\\left (\\theta_{1}{\\left (t \\right )} + \\theta_{2}{\\left (t \\right )} \\right )} \\left(\\frac{d}{d t} \\theta_{2}{\\left (t \\right )}\\right)^{2} + \\cos{\\left (\\theta_{1}{\\left (t \\right )} \\right )} \\left(\\frac{d}{d t} \\theta_{1}{\\left (t \\right )}\\right)^{2} + \\cos{\\left (\\theta_{2}{\\left (t \\right )} \\right )} \\left(\\frac{d}{d t} \\theta_{2}{\\left (t \\right )}\\right)^{2} + 2.0 \\frac{d^{2}}{d t^{2}} b{\\left (t \\right )}\\right), \\quad \\frac{d^{2}}{d t^{2}} \\theta_{3}{\\left (t \\right )} : - \\frac{1}{\\sin{\\left (\\theta_{1}{\\left (t \\right )} + \\theta_{3}{\\left (t \\right )} \\right )} + \\sin{\\left (\\theta_{3}{\\left (t \\right )} \\right )}} \\left(\\sin{\\left (\\theta_{1}{\\left (t \\right )} + \\theta_{3}{\\left (t \\right )} \\right )} \\frac{d^{2}}{d t^{2}} \\theta_{1}{\\left (t \\right )} + \\sin{\\left (\\theta_{1}{\\left (t \\right )} \\right )} \\frac{d^{2}}{d t^{2}} \\theta_{1}{\\left (t \\right )} + \\cos{\\left (\\theta_{1}{\\left (t \\right )} + \\theta_{3}{\\left (t \\right )} \\right )} \\left(\\frac{d}{d t} \\theta_{1}{\\left (t \\right )}\\right)^{2} + 2.0 \\cos{\\left (\\theta_{1}{\\left (t \\right )} + \\theta_{3}{\\left (t \\right )} \\right )} \\frac{d}{d t} \\theta_{1}{\\left (t \\right )} \\frac{d}{d t} \\theta_{3}{\\left (t \\right )} + \\cos{\\left (\\theta_{1}{\\left (t \\right )} + \\theta_{3}{\\left (t \\right )} \\right )} \\left(\\frac{d}{d t} \\theta_{3}{\\left (t \\right )}\\right)^{2} + \\cos{\\left (\\theta_{1}{\\left (t \\right )} \\right )} \\left(\\frac{d}{d t} \\theta_{1}{\\left (t \\right )}\\right)^{2} + \\cos{\\left (\\theta_{3}{\\left (t \\right )} \\right )} \\left(\\frac{d}{d t} \\theta_{3}{\\left (t \\right )}\\right)^{2} + 2.0 \\frac{d^{2}}{d t^{2}} b{\\left (t \\right )}\\right)\\right \\}$$\n"
      ]
    }
  ]
}