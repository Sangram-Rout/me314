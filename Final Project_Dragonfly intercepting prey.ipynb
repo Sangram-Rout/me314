{
  "nbformat": 4,
  "nbformat_minor": 0,
  "metadata": {
    "colab": {
      "name": "External force Working model of “Fianl.ipynb”",
      "provenance": [],
      "collapsed_sections": [],
      "include_colab_link": true
    },
    "kernelspec": {
      "name": "python3",
      "display_name": "Python 3"
    }
  },
  "cells": [
    {
      "cell_type": "markdown",
      "metadata": {
        "id": "view-in-github",
        "colab_type": "text"
      },
      "source": [
        "<a href=\"https://colab.research.google.com/github/Sangram-Rout/me314/blob/main/Final%20Project_Dragonfly%20intercepting%20prey.ipynb\" target=\"_parent\"><img src=\"https://colab.research.google.com/assets/colab-badge.svg\" alt=\"Open In Colab\"/></a>"
      ]
    },
    {
      "cell_type": "code",
      "metadata": {
        "id": "rLf2z5SpL7yO"
      },
      "source": [
        "import math\n",
        "import numpy as np\n",
        "import sympy as sym\n",
        "from sympy.abc import t\n",
        "%matplotlib inline\n",
        "import matplotlib.pyplot as plt\n",
        "import scipy.linalg\n",
        "import time\n",
        "\n",
        "#######################\n",
        "# Custom latex printing\n",
        "def custom_latex_printer(exp,**options):\n",
        "    from google.colab.output._publish import javascript\n",
        "    url = \"https://cdnjs.cloudflare.com/ajax/libs/mathjax/2.7.3/latest.js?config=TeX-AMS_HTML\"\n",
        "    javascript(url=url)\n",
        "    return sym.printing.latex(exp,**options)\n",
        "sym.init_printing(use_latex=\"mathjax\",latex_printer=custom_latex_printer)\n",
        "\n",
        "####################\n",
        "# Simulation helpers\n",
        "def integrate(f,x0,dt,t):\n",
        "    \"\"\"\n",
        "    This function takes in an initial condition x0 and a timestep dt,\n",
        "    as well as a dynamical system f(x) that outputs a vector of the\n",
        "    same dimension as x0. It outputs a vector x at the future time step.\n",
        "    \"\"\"\n",
        "    k1=dt*f(x0,t)\n",
        "    k2=dt*f(x0+k1/2.,t)\n",
        "    k3=dt*f(x0+k2/2.,t)\n",
        "    k4=dt*f(x0+k3,t)\n",
        "    xnew=x0+(1/6.)*(k1+2.*k2+2.*k3+k4)\n",
        "    return xnew\n",
        "\n",
        "############\n",
        "# Simulating\n",
        "def simulate(f,x0,tspan,dt, phi_condition=lambda x: False, impact_update=lambda x: x):\n",
        "    \"\"\"\n",
        "    This function takes in an initial condition x0, a timestep dt,\n",
        "    a time span tspan consisting of a list [min_time, max_time],\n",
        "    as well as a dynamical system f(x) that outputs a vector of the\n",
        "    same dimension as x0. Additionally, it takes in a function\n",
        "    phi_condition(x) that evaluates whether or not a system is undergoing\n",
        "    impacts. Finally, impact_update(x) is a function that applies the \n",
        "    update law. simulate_impact outputs a full trajectory simulated\n",
        "    over the time span of dimensions (xvec_size, time_vec_size).\n",
        "    \"\"\"\n",
        "    N = int((max(tspan)-min(tspan))/dt)\n",
        "    x = np.copy(x0)\n",
        "    tvec = np.linspace(min(tspan),max(tspan),N)\n",
        "    xtraj = np.zeros((len(x0),N))\n",
        "    for i in range(N):\n",
        "        if phi_condition(x):\n",
        "            xtraj[:,i]=integrate(f,impact_update(x),dt,tvec[i]) # I pass the current time to the integrator now\n",
        "        else:\n",
        "            xtraj[:,i]=integrate(f,x,dt,tvec[i])\n",
        "        x = np.copy(xtraj[:,i])\n",
        "    return xtraj\n",
        "\n",
        "##################\n",
        "# Helper Functions\n",
        "def rectangle(xc,yc,tht,ll,ww):\n",
        "    wax = np.array([0,0,1])\n",
        "    rotMat = T(wax,tht,np.array([xc,yc,0]), False)\n",
        "    p1 = np.dot(rotMat,T(wax,0,np.array([ll/2.,ww/2.,0]), False))\n",
        "    p2 = np.dot(rotMat,T(wax,0,np.array([-ll/2.,ww/2.,0]), False))\n",
        "    p3 = np.dot(rotMat,T(wax,0,np.array([-ll/2.,-ww/2.,0]), False))\n",
        "    p4 = np.dot(rotMat,T(wax,0,np.array([ll/2.,-ww/2.,0]), False))\n",
        "    return np.squeeze(np.array([p1[0,3],p1[1,3],p2[0,3],p2[1,3],\n",
        "                                p3[0,3],p3[1,3],p4[0,3],p4[1,3]],dtype=np.float64))\n",
        "def rectangle_t(xto,yto,tht,ll,ww):\n",
        "    wax = np.array([0,0,1])\n",
        "    rotMat = T(wax,tht,np.array([xto,yto,0]), False)\n",
        "    p1 = np.dot(rotMat,T(wax,0,np.array([ll/2.,0,0]), False))\n",
        "    p2 = np.dot(rotMat,T(wax,0,np.array([-ll/2.,0,0]), False))\n",
        "    p3 = np.dot(rotMat,T(wax,0,np.array([-ll/2.,-ww,0]), False))\n",
        "    p4 = np.dot(rotMat,T(wax,0,np.array([ll/2.,-ww,0]), False))\n",
        "    return np.squeeze(np.array([p1[0,3],p1[1,3],p2[0,3],p2[1,3],\n",
        "                                p3[0,3],p3[1,3],p4[0,3],p4[1,3]],dtype=np.float64))\n",
        "def rectangle_b(xbo,ybo,tht,ll,ww):\n",
        "    wax = np.array([0,0,1])\n",
        "    rotMat = T(wax,tht,np.array([xbo,ybo,0]), False)\n",
        "    p1 = np.dot(rotMat,T(wax,0,np.array([ll/2.,ww,0]), False))\n",
        "    p2 = np.dot(rotMat,T(wax,0,np.array([-ll/2.,ww,0]), False))\n",
        "    p3 = np.dot(rotMat,T(wax,0,np.array([-ll/2.,0,0]), False))\n",
        "    p4 = np.dot(rotMat,T(wax,0,np.array([ll/2.,0,0]), False))\n",
        "    return np.squeeze(np.array([p1[0,3],p1[1,3],p2[0,3],p2[1,3],\n",
        "                                p3[0,3],p3[1,3],p4[0,3],p4[1,3]],dtype=np.float64))\n",
        "def hat(w,use_sym=True):\n",
        "    if use_sym:\n",
        "        what = sym.Matrix([[    0,-w[2], w[1]],\n",
        "                           [ w[2],    0,-w[0]],\n",
        "                           [-w[1], w[0],   0]])\n",
        "    else:\n",
        "        what = np.array([[    0,-w[2], w[1]],\n",
        "                         [ w[2],    0,-w[0]],\n",
        "                         [-w[1], w[0],   0]])\n",
        "    return what\n",
        "\n",
        "def unhat(what,use_sym=True):\n",
        "    if use_sym:\n",
        "        w = sym.Matrix([what[2,1],what[0,2],what[1,0]])\n",
        "    else:\n",
        "        w = np.array([what[2,1],what[0,2],what[1,0]])\n",
        "    return w\n",
        "\n",
        "def rot(w,theta,use_sym=True):\n",
        "    if use_sym:\n",
        "        rotMat = sym.Matrix(sym.simplify(sym.exp(hat(w,use_sym)*theta)))\n",
        "        for i in range(rotMat.shape[0]):\n",
        "            for j in range(rotMat.shape[1]):\n",
        "                rotMat[i,j] = sym.simplify(rotMat[i,j].rewrite(sym.sin)) # Simplification made because sympy seems to have\n",
        "                                                                         # issues applying the Euler identity so I force it\n",
        "                                                                         # to recognize it.\n",
        "    else:\n",
        "        rotMat = scipy.linalg.expm(hat(w,use_sym)*theta)\n",
        "    return rotMat\n",
        "\n",
        "def T(w,th,p,use_sym=True):\n",
        "    R = rot(w,th,use_sym)\n",
        "    if use_sym:\n",
        "        Tmat = sym.Matrix([[R[0,0],R[0,1],R[0,2],p[0]],\n",
        "                           [R[1,0],R[1,1],R[1,2],p[1]],\n",
        "                           [R[2,0],R[2,1],R[2,2],p[2]],\n",
        "                           [     0,     0,     0,   1]])\n",
        "    else:\n",
        "        Tmat = np.array([[R[0,0],R[0,1],R[0,2],p[0]],\n",
        "                         [R[1,0],R[1,1],R[1,2],p[1]],\n",
        "                         [R[2,0],R[2,1],R[2,2],p[2]],\n",
        "                         [     0,     0,     0,   1]])\n",
        "    return Tmat\n",
        "\n",
        "def pos(T,use_sym=True):\n",
        "    if use_sym:\n",
        "        p = sym.Matrix([T[0,3],T[1,3],T[2,3]])\n",
        "    else:\n",
        "        p = np.array([T[0,3],T[1,3],T[2,3]])\n",
        "    return p"
      ],
      "execution_count": null,
      "outputs": []
    },
    {
      "cell_type": "code",
      "metadata": {
        "id": "xz5QeUJKBaoS"
      },
      "source": [
        ""
      ],
      "execution_count": null,
      "outputs": []
    },
    {
      "cell_type": "code",
      "metadata": {
        "id": "t0hC535ZzbH5"
      },
      "source": [
        "# Configuration variable\n",
        "m,R,g,h,τ = sym.symbols('m R g h τ')\n",
        "th = sym.Function(r'\\theta')(t)\n",
        "psi = sym.Function(r'\\psi')(t)\n",
        "tau = sym.Function(r'\\tau')(t)\n",
        "tau_m = sym.Function(r'\\tau^-')(t)\n",
        "tau_p = sym.Function(r'\\tau^+')(t)\n",
        "Lam = sym.Function(r'Lam')(t)\n",
        "k1, k2 = sym.symbols('k_1 k_2')\n",
        "mb= sym.symbols('m_b') \n",
        "\n",
        "#subdict = {mb:2}\n",
        "xb = sym.Function(r'x_b')(t)\n",
        "yb = sym.Function(r'y_b')(t)\n",
        "\n",
        "q = sym.Matrix([xb,yb,th]) \n",
        "qdot = q.diff(t)\n",
        "qddot = qdot.diff(t)\n",
        "\n",
        "#added\n",
        "phi = sym.Function(r'\\phi')(t)\n",
        "#zeta = sym.Function(r'\\zeta')(t)\n",
        "phi=sym.sin(th)\n",
        "#dphdel = sym.Matrix([phi]).jacobian(q).T\n",
        "#phidt = phi.diff(t)\n",
        "#phiddt=phidt.diff(t)\n",
        "#EQs3 = sym.Eq(phiddt,0)\n",
        "\n",
        "phi=sym.sin(th)\n",
        "dphdel = sym.Matrix([phi]).jacobian(q).T\n",
        "#added\n",
        "x = R*sym.sin(th)\n",
        "y = -R*sym.cos(th)\n",
        "\n",
        "xd = x.diff(t)\n",
        "yd = y.diff(t)\n",
        "\n",
        "# Lagrangian Equation\n",
        "KE = 0.5*m*(xd**2+yd**2)+0.5*mb*(qdot[0]**2+qdot[1]**2)\n",
        "V = m*g*R*(y)+mb*g*yb\n",
        "L = sym.simplify(sym.expand(sym.simplify(KE - V)))\n",
        "# External Forces\n",
        "#th1d = 0\n",
        "#th2d = (sym.pi/20)+(sym.pi/3)*sym.sin(t/2)**2\n",
        "###########################################################\n",
        "DD=(sym.pi/20)*(t/2)**2\n",
        "\n",
        "F=sym.Matrix([0,0,DD])\n",
        "#########################################################\n",
        "#F=(sym.sin(t)*(sym.pi/20)+(sym.pi/3)*(t/2)**2)\n",
        "#external force has been removed\n",
        "\n",
        "#F=((sym.pi/20)+(sym.pi/3))\n",
        "\n",
        "# Define EL Equations\n",
        "dLdq = sym.Matrix([L]).jacobian(q).T\n",
        "dLdqdot = sym.Matrix([L]).jacobian(qdot).T\n",
        "ddLdqdot_dt = sym.Matrix([L]).jacobian(qdot).T.diff(t)\n",
        "\n",
        "#EulerLagrangeEQs = sym.Eq(ddLdqdot_dt-dLdq, sym.Matrix([0,0,F]))\n",
        "\n",
        "EulerLagrangeEQs = sym.Eq(ddLdqdot_dt-dLdq, F)\n",
        "\n",
        "#EulerLagrangeEQs = sym.Eq(ddLdqdot_dt-dLdq, sym.Matrix([0]))\n",
        "# Getting Solutions\n",
        "\n",
        "EulerSols = sym.solve(EulerLagrangeEQs,[qddot[0],qddot[1],qddot[2]])\n",
        "\n",
        "\n",
        "# EulerSols = sym.solve([EulerLagrangeEQs,EQs3],[qddot[0],zeta])"
      ],
      "execution_count": null,
      "outputs": []
    },
    {
      "cell_type": "code",
      "metadata": {
        "id": "L-zCHq2fBhA_",
        "colab": {
          "base_uri": "https://localhost:8080/",
          "height": 141
        },
        "outputId": "574acaa7-00bf-4602-d01a-add02d40ad31"
      },
      "source": [
        "EulerLagrangeEQs"
      ],
      "execution_count": null,
      "outputs": [
        {
          "output_type": "display_data",
          "data": {
            "text/html": [
              "<script src='https://cdnjs.cloudflare.com/ajax/libs/mathjax/2.7.3/latest.js?config=TeX-AMS_HTML'></script>"
            ],
            "text/plain": [
              "<IPython.core.display.HTML object>"
            ]
          },
          "metadata": {
            "tags": []
          }
        },
        {
          "output_type": "execute_result",
          "data": {
            "text/latex": "$$\\left[\\begin{matrix}1.0 m_{b} \\frac{d^{2}}{d t^{2}}  \\operatorname{x_{b}}{\\left (t \\right )}\\\\g m_{b} + 1.0 m_{b} \\frac{d^{2}}{d t^{2}}  \\operatorname{y_{b}}{\\left (t \\right )}\\\\R^{2} g m \\sin{\\left (\\theta{\\left (t \\right )} \\right )} + 1.0 R^{2} m \\frac{d^{2}}{d t^{2}}  \\theta{\\left (t \\right )}\\end{matrix}\\right] = \\left[\\begin{matrix}0\\\\0\\\\\\frac{\\pi t^{2}}{80}\\end{matrix}\\right]$$",
            "text/plain": [
              "⎡                        2                      ⎤         \n",
              "⎢                       d                       ⎥         \n",
              "⎢              1.0⋅m_b⋅───(x_b(t))              ⎥         \n",
              "⎢                        2                      ⎥         \n",
              "⎢                      dt                       ⎥   ⎡ 0  ⎤\n",
              "⎢                                               ⎥   ⎢    ⎥\n",
              "⎢                            2                  ⎥   ⎢ 0  ⎥\n",
              "⎢                           d                   ⎥   ⎢    ⎥\n",
              "⎢          g⋅m_b + 1.0⋅m_b⋅───(y_b(t))          ⎥ = ⎢   2⎥\n",
              "⎢                            2                  ⎥   ⎢π⋅t ⎥\n",
              "⎢                          dt                   ⎥   ⎢────⎥\n",
              "⎢                                               ⎥   ⎣ 80 ⎦\n",
              "⎢                                   2           ⎥         \n",
              "⎢ 2                           2    d            ⎥         \n",
              "⎢R ⋅g⋅m⋅sin(\\theta(t)) + 1.0⋅R ⋅m⋅───(\\theta(t))⎥         \n",
              "⎢                                   2           ⎥         \n",
              "⎣                                 dt            ⎦         "
            ]
          },
          "metadata": {
            "tags": []
          },
          "execution_count": 498
        }
      ]
    },
    {
      "cell_type": "code",
      "metadata": {
        "id": "geQFtmvJSGUy",
        "colab": {
          "base_uri": "https://localhost:8080/",
          "height": 113
        },
        "outputId": "c0c370e7-c027-4657-8710-10ec82d42b5c"
      },
      "source": [
        "q"
      ],
      "execution_count": null,
      "outputs": [
        {
          "output_type": "display_data",
          "data": {
            "text/html": [
              "<script src='https://cdnjs.cloudflare.com/ajax/libs/mathjax/2.7.3/latest.js?config=TeX-AMS_HTML'></script>"
            ],
            "text/plain": [
              "<IPython.core.display.HTML object>"
            ]
          },
          "metadata": {
            "tags": []
          }
        },
        {
          "output_type": "execute_result",
          "data": {
            "text/latex": "$$\\left[\\begin{matrix}\\operatorname{x_{b}}{\\left (t \\right )}\\\\\\operatorname{y_{b}}{\\left (t \\right )}\\\\\\theta{\\left (t \\right )}\\end{matrix}\\right]$$",
            "text/plain": [
              "⎡ x_b(t)  ⎤\n",
              "⎢         ⎥\n",
              "⎢ y_b(t)  ⎥\n",
              "⎢         ⎥\n",
              "⎣\\theta(t)⎦"
            ]
          },
          "metadata": {
            "tags": []
          },
          "execution_count": 499
        }
      ]
    },
    {
      "cell_type": "code",
      "metadata": {
        "id": "CyhA_6mPx0xf",
        "colab": {
          "base_uri": "https://localhost:8080/",
          "height": 141
        },
        "outputId": "0b18cff7-da70-44b5-be3b-73474a6985de"
      },
      "source": [
        "EulerLagrangeEQs"
      ],
      "execution_count": null,
      "outputs": [
        {
          "output_type": "display_data",
          "data": {
            "text/html": [
              "<script src='https://cdnjs.cloudflare.com/ajax/libs/mathjax/2.7.3/latest.js?config=TeX-AMS_HTML'></script>"
            ],
            "text/plain": [
              "<IPython.core.display.HTML object>"
            ]
          },
          "metadata": {
            "tags": []
          }
        },
        {
          "output_type": "execute_result",
          "data": {
            "text/latex": "$$\\left[\\begin{matrix}1.0 m_{b} \\frac{d^{2}}{d t^{2}}  \\operatorname{x_{b}}{\\left (t \\right )}\\\\g m_{b} + 1.0 m_{b} \\frac{d^{2}}{d t^{2}}  \\operatorname{y_{b}}{\\left (t \\right )}\\\\R^{2} g m \\sin{\\left (\\theta{\\left (t \\right )} \\right )} + 1.0 R^{2} m \\frac{d^{2}}{d t^{2}}  \\theta{\\left (t \\right )}\\end{matrix}\\right] = \\left[\\begin{matrix}0\\\\0\\\\\\frac{\\pi t^{2}}{80}\\end{matrix}\\right]$$",
            "text/plain": [
              "⎡                        2                      ⎤         \n",
              "⎢                       d                       ⎥         \n",
              "⎢              1.0⋅m_b⋅───(x_b(t))              ⎥         \n",
              "⎢                        2                      ⎥         \n",
              "⎢                      dt                       ⎥   ⎡ 0  ⎤\n",
              "⎢                                               ⎥   ⎢    ⎥\n",
              "⎢                            2                  ⎥   ⎢ 0  ⎥\n",
              "⎢                           d                   ⎥   ⎢    ⎥\n",
              "⎢          g⋅m_b + 1.0⋅m_b⋅───(y_b(t))          ⎥ = ⎢   2⎥\n",
              "⎢                            2                  ⎥   ⎢π⋅t ⎥\n",
              "⎢                          dt                   ⎥   ⎢────⎥\n",
              "⎢                                               ⎥   ⎣ 80 ⎦\n",
              "⎢                                   2           ⎥         \n",
              "⎢ 2                           2    d            ⎥         \n",
              "⎢R ⋅g⋅m⋅sin(\\theta(t)) + 1.0⋅R ⋅m⋅───(\\theta(t))⎥         \n",
              "⎢                                   2           ⎥         \n",
              "⎣                                 dt            ⎦         "
            ]
          },
          "metadata": {
            "tags": []
          },
          "execution_count": 500
        }
      ]
    },
    {
      "cell_type": "code",
      "metadata": {
        "id": "BeyfI0sjrugN",
        "colab": {
          "base_uri": "https://localhost:8080/",
          "height": 63
        },
        "outputId": "a95bc39d-d2db-43b9-844c-e0af92a5ea51"
      },
      "source": [
        "th-h"
      ],
      "execution_count": null,
      "outputs": [
        {
          "output_type": "display_data",
          "data": {
            "text/html": [
              "<script src='https://cdnjs.cloudflare.com/ajax/libs/mathjax/2.7.3/latest.js?config=TeX-AMS_HTML'></script>"
            ],
            "text/plain": [
              "<IPython.core.display.HTML object>"
            ]
          },
          "metadata": {
            "tags": []
          }
        },
        {
          "output_type": "execute_result",
          "data": {
            "text/latex": "$$- h + \\theta{\\left (t \\right )}$$",
            "text/plain": [
              "-h + \\theta(t)"
            ]
          },
          "metadata": {
            "tags": []
          },
          "execution_count": 501
        }
      ]
    },
    {
      "cell_type": "code",
      "metadata": {
        "id": "W00mONRdzedP",
        "colab": {
          "base_uri": "https://localhost:8080/",
          "height": 195
        },
        "outputId": "e7fecba0-1d8c-4f4b-bf23-00d01af92d8b"
      },
      "source": [
        "print(\"Lagrangian:\") \n",
        "display(sym.simplify(L))\n",
        "print(\"Euler-Lagrange Equation:\") \n",
        "display(EulerSols)"
      ],
      "execution_count": null,
      "outputs": [
        {
          "output_type": "stream",
          "text": [
            "Lagrangian:\n"
          ],
          "name": "stdout"
        },
        {
          "output_type": "display_data",
          "data": {
            "text/html": [
              "<script src='https://cdnjs.cloudflare.com/ajax/libs/mathjax/2.7.3/latest.js?config=TeX-AMS_HTML'></script>"
            ],
            "text/plain": [
              "<IPython.core.display.HTML object>"
            ]
          },
          "metadata": {
            "tags": []
          }
        },
        {
          "output_type": "display_data",
          "data": {
            "text/latex": "$$R^{2} g m \\cos{\\left (\\theta{\\left (t \\right )} \\right )} + 0.5 R^{2} m \\left(\\frac{d}{d t} \\theta{\\left (t \\right )}\\right)^{2} - g m_{b} \\operatorname{y_{b}}{\\left (t \\right )} + 0.5 m_{b} \\left(\\frac{d}{d t} \\operatorname{x_{b}}{\\left (t \\right )}\\right)^{2} + 0.5 m_{b} \\left(\\frac{d}{d t} \\operatorname{y_{b}}{\\left (t \\right )}\\right)^{2}$$",
            "text/plain": [
              "                                                2                             \n",
              " 2                           2   ⎛d            ⎞                           ⎛d \n",
              "R ⋅g⋅m⋅cos(\\theta(t)) + 0.5⋅R ⋅m⋅⎜──(\\theta(t))⎟  - g⋅m_b⋅y_b(t) + 0.5⋅m_b⋅⎜──\n",
              "                                 ⎝dt           ⎠                           ⎝dt\n",
              "\n",
              "         2                       2\n",
              "        ⎞            ⎛d         ⎞ \n",
              "(x_b(t))⎟  + 0.5⋅m_b⋅⎜──(y_b(t))⎟ \n",
              "        ⎠            ⎝dt        ⎠ "
            ]
          },
          "metadata": {
            "tags": []
          }
        },
        {
          "output_type": "stream",
          "text": [
            "Euler-Lagrange Equation:\n"
          ],
          "name": "stdout"
        },
        {
          "output_type": "display_data",
          "data": {
            "text/html": [
              "<script src='https://cdnjs.cloudflare.com/ajax/libs/mathjax/2.7.3/latest.js?config=TeX-AMS_HTML'></script>"
            ],
            "text/plain": [
              "<IPython.core.display.HTML object>"
            ]
          },
          "metadata": {
            "tags": []
          }
        },
        {
          "output_type": "display_data",
          "data": {
            "text/latex": "$$\\left \\{ \\frac{d^{2}}{d t^{2}}  \\theta{\\left (t \\right )} : - g \\sin{\\left (\\theta{\\left (t \\right )} \\right )} + \\frac{0.0392699081698724 t^{2}}{R^{2} m}, \\quad \\frac{d^{2}}{d t^{2}}  \\operatorname{x_{b}}{\\left (t \\right )} : 0.0, \\quad \\frac{d^{2}}{d t^{2}}  \\operatorname{y_{b}}{\\left (t \\right )} : - g\\right \\}$$",
            "text/plain": [
              "⎧  2                                                     2    2               \n",
              "⎪ d                                  0.0392699081698724⋅t    d                \n",
              "⎨───(\\theta(t)): -g⋅sin(\\theta(t)) + ─────────────────────, ───(x_b(t)): 0.0, \n",
              "⎪  2                                           2              2               \n",
              "⎩dt                                           R ⋅m          dt                \n",
              "\n",
              "  2            ⎫\n",
              " d             ⎪\n",
              "───(y_b(t)): -g⎬\n",
              "  2            ⎪\n",
              "dt             ⎭"
            ]
          },
          "metadata": {
            "tags": []
          }
        }
      ]
    },
    {
      "cell_type": "code",
      "metadata": {
        "id": "KFer2JAD0-iI",
        "colab": {
          "base_uri": "https://localhost:8080/",
          "height": 91
        },
        "outputId": "ad7c788d-a21b-47ad-ee22-56d1d0c4723a"
      },
      "source": [
        "display(L)"
      ],
      "execution_count": null,
      "outputs": [
        {
          "output_type": "display_data",
          "data": {
            "text/html": [
              "<script src='https://cdnjs.cloudflare.com/ajax/libs/mathjax/2.7.3/latest.js?config=TeX-AMS_HTML'></script>"
            ],
            "text/plain": [
              "<IPython.core.display.HTML object>"
            ]
          },
          "metadata": {
            "tags": []
          }
        },
        {
          "output_type": "display_data",
          "data": {
            "text/latex": "$$R^{2} g m \\cos{\\left (\\theta{\\left (t \\right )} \\right )} + 0.5 R^{2} m \\left(\\frac{d}{d t} \\theta{\\left (t \\right )}\\right)^{2} - g m_{b} \\operatorname{y_{b}}{\\left (t \\right )} + 0.5 m_{b} \\left(\\frac{d}{d t} \\operatorname{x_{b}}{\\left (t \\right )}\\right)^{2} + 0.5 m_{b} \\left(\\frac{d}{d t} \\operatorname{y_{b}}{\\left (t \\right )}\\right)^{2}$$",
            "text/plain": [
              "                                                2                             \n",
              " 2                           2   ⎛d            ⎞                           ⎛d \n",
              "R ⋅g⋅m⋅cos(\\theta(t)) + 0.5⋅R ⋅m⋅⎜──(\\theta(t))⎟  - g⋅m_b⋅y_b(t) + 0.5⋅m_b⋅⎜──\n",
              "                                 ⎝dt           ⎠                           ⎝dt\n",
              "\n",
              "         2                       2\n",
              "        ⎞            ⎛d         ⎞ \n",
              "(x_b(t))⎟  + 0.5⋅m_b⋅⎜──(y_b(t))⎟ \n",
              "        ⎠            ⎝dt        ⎠ "
            ]
          },
          "metadata": {
            "tags": []
          }
        }
      ]
    },
    {
      "cell_type": "code",
      "metadata": {
        "id": "aQcPSaXH1JIS"
      },
      "source": [
        "# #################\n",
        "# # External Forces\n",
        "# xsf = 0\n",
        "# ysf = Fs\n",
        "\n",
        "# F = sym.Matrix([[xsf,ysf,0,0,0]]).T"
      ],
      "execution_count": null,
      "outputs": []
    },
    {
      "cell_type": "code",
      "metadata": {
        "id": "TUjrThI_Occk"
      },
      "source": [
        "# ##############\n",
        "# # EL Equations\n",
        "# ELlhs = sym.simplify(ddLdqdot_dt - dLdq)\n",
        "# ELrhs = sym.simplify(F)\n",
        "# EL = sym.trigsimp(sym.simplify(sym.Eq(ELlhs,ELrhs).subs(subdict)))\n",
        "# display(EL)"
      ],
      "execution_count": null,
      "outputs": []
    },
    {
      "cell_type": "code",
      "metadata": {
        "id": "LM7HwI0y4k-2",
        "colab": {
          "base_uri": "https://localhost:8080/",
          "height": 86
        },
        "outputId": "4c02a449-c639-4e5e-dc59-d9e2323f55f3"
      },
      "source": [
        "qddot[0]"
      ],
      "execution_count": null,
      "outputs": [
        {
          "output_type": "display_data",
          "data": {
            "text/html": [
              "<script src='https://cdnjs.cloudflare.com/ajax/libs/mathjax/2.7.3/latest.js?config=TeX-AMS_HTML'></script>"
            ],
            "text/plain": [
              "<IPython.core.display.HTML object>"
            ]
          },
          "metadata": {
            "tags": []
          }
        },
        {
          "output_type": "execute_result",
          "data": {
            "text/latex": "$$\\frac{d^{2}}{d t^{2}}  \\operatorname{x_{b}}{\\left (t \\right )}$$",
            "text/plain": [
              "  2        \n",
              " d         \n",
              "───(x_b(t))\n",
              "  2        \n",
              "dt         "
            ]
          },
          "metadata": {
            "tags": []
          },
          "execution_count": 506
        }
      ]
    },
    {
      "cell_type": "code",
      "metadata": {
        "id": "_SUfVVHn4pwV",
        "colab": {
          "base_uri": "https://localhost:8080/",
          "height": 62
        },
        "outputId": "1208e0ea-cbf3-43fc-87a7-cf1bc6348826"
      },
      "source": [
        "EulerSols[qddot[0]]"
      ],
      "execution_count": null,
      "outputs": [
        {
          "output_type": "display_data",
          "data": {
            "text/html": [
              "<script src='https://cdnjs.cloudflare.com/ajax/libs/mathjax/2.7.3/latest.js?config=TeX-AMS_HTML'></script>"
            ],
            "text/plain": [
              "<IPython.core.display.HTML object>"
            ]
          },
          "metadata": {
            "tags": []
          }
        },
        {
          "output_type": "execute_result",
          "data": {
            "text/latex": "$$0.0$$",
            "text/plain": [
              "0.0"
            ]
          },
          "metadata": {
            "tags": []
          },
          "execution_count": 507
        }
      ]
    },
    {
      "cell_type": "code",
      "metadata": {
        "id": "2E1Dv_2X4rTL",
        "colab": {
          "base_uri": "https://localhost:8080/",
          "height": 88
        },
        "outputId": "ebfdb86b-5a5a-4292-9328-dca01546b5b1"
      },
      "source": [
        "[qddot[1]]"
      ],
      "execution_count": null,
      "outputs": [
        {
          "output_type": "display_data",
          "data": {
            "text/html": [
              "<script src='https://cdnjs.cloudflare.com/ajax/libs/mathjax/2.7.3/latest.js?config=TeX-AMS_HTML'></script>"
            ],
            "text/plain": [
              "<IPython.core.display.HTML object>"
            ]
          },
          "metadata": {
            "tags": []
          }
        },
        {
          "output_type": "execute_result",
          "data": {
            "text/latex": "$$\\left [ \\frac{d^{2}}{d t^{2}}  \\operatorname{y_{b}}{\\left (t \\right )}\\right ]$$",
            "text/plain": [
              "⎡  2        ⎤\n",
              "⎢ d         ⎥\n",
              "⎢───(y_b(t))⎥\n",
              "⎢  2        ⎥\n",
              "⎣dt         ⎦"
            ]
          },
          "metadata": {
            "tags": []
          },
          "execution_count": 508
        }
      ]
    },
    {
      "cell_type": "code",
      "metadata": {
        "id": "DCocil724dD5",
        "colab": {
          "base_uri": "https://localhost:8080/",
          "height": 88
        },
        "outputId": "2a9d9876-9ec7-4807-f2a2-10316ddc7862"
      },
      "source": [
        "EulerSols"
      ],
      "execution_count": null,
      "outputs": [
        {
          "output_type": "display_data",
          "data": {
            "text/html": [
              "<script src='https://cdnjs.cloudflare.com/ajax/libs/mathjax/2.7.3/latest.js?config=TeX-AMS_HTML'></script>"
            ],
            "text/plain": [
              "<IPython.core.display.HTML object>"
            ]
          },
          "metadata": {
            "tags": []
          }
        },
        {
          "output_type": "execute_result",
          "data": {
            "text/latex": "$$\\left \\{ \\frac{d^{2}}{d t^{2}}  \\theta{\\left (t \\right )} : - g \\sin{\\left (\\theta{\\left (t \\right )} \\right )} + \\frac{0.0392699081698724 t^{2}}{R^{2} m}, \\quad \\frac{d^{2}}{d t^{2}}  \\operatorname{x_{b}}{\\left (t \\right )} : 0.0, \\quad \\frac{d^{2}}{d t^{2}}  \\operatorname{y_{b}}{\\left (t \\right )} : - g\\right \\}$$",
            "text/plain": [
              "⎧  2                                                     2    2               \n",
              "⎪ d                                  0.0392699081698724⋅t    d                \n",
              "⎨───(\\theta(t)): -g⋅sin(\\theta(t)) + ─────────────────────, ───(x_b(t)): 0.0, \n",
              "⎪  2                                           2              2               \n",
              "⎩dt                                           R ⋅m          dt                \n",
              "\n",
              "  2            ⎫\n",
              " d             ⎪\n",
              "───(y_b(t)): -g⎬\n",
              "  2            ⎪\n",
              "dt             ⎭"
            ]
          },
          "metadata": {
            "tags": []
          },
          "execution_count": 509
        }
      ]
    },
    {
      "cell_type": "code",
      "metadata": {
        "id": "zvIa-n7aVrdo",
        "colab": {
          "base_uri": "https://localhost:8080/",
          "height": 211
        },
        "outputId": "6103569b-ce5c-4fee-9f5b-78bea2010cd5"
      },
      "source": [
        "# ELsols = sym.solve(EL,[qddot[0],qddot[1],qddot[2],qddot[3],qddot[4]])\n",
        "# display(ELsols)\n",
        " dyn = sym.Matrix([qdot[0],EulerSols[qddot[0]],\n",
        "                      qdot[1],EulerSols[qddot[1]],\n",
        "                      qdot[2],EulerSols[qddot[2]]])\n",
        " display(dyn)"
      ],
      "execution_count": null,
      "outputs": [
        {
          "output_type": "display_data",
          "data": {
            "text/html": [
              "<script src='https://cdnjs.cloudflare.com/ajax/libs/mathjax/2.7.3/latest.js?config=TeX-AMS_HTML'></script>"
            ],
            "text/plain": [
              "<IPython.core.display.HTML object>"
            ]
          },
          "metadata": {
            "tags": []
          }
        },
        {
          "output_type": "display_data",
          "data": {
            "text/latex": "$$\\left[\\begin{matrix}\\frac{d}{d t} \\operatorname{x_{b}}{\\left (t \\right )}\\\\0.0\\\\\\frac{d}{d t} \\operatorname{y_{b}}{\\left (t \\right )}\\\\- g\\\\\\frac{d}{d t} \\theta{\\left (t \\right )}\\\\- g \\sin{\\left (\\theta{\\left (t \\right )} \\right )} + \\frac{0.0392699081698724 t^{2}}{R^{2} m}\\end{matrix}\\right]$$",
            "text/plain": [
              "⎡               d                         ⎤\n",
              "⎢               ──(x_b(t))                ⎥\n",
              "⎢               dt                        ⎥\n",
              "⎢                                         ⎥\n",
              "⎢                   0.0                   ⎥\n",
              "⎢                                         ⎥\n",
              "⎢               d                         ⎥\n",
              "⎢               ──(y_b(t))                ⎥\n",
              "⎢               dt                        ⎥\n",
              "⎢                                         ⎥\n",
              "⎢                   -g                    ⎥\n",
              "⎢                                         ⎥\n",
              "⎢              d                          ⎥\n",
              "⎢              ──(\\theta(t))              ⎥\n",
              "⎢              dt                         ⎥\n",
              "⎢                                         ⎥\n",
              "⎢                                        2⎥\n",
              "⎢                    0.0392699081698724⋅t ⎥\n",
              "⎢-g⋅sin(\\theta(t)) + ─────────────────────⎥\n",
              "⎢                              2          ⎥\n",
              "⎣                             R ⋅m        ⎦"
            ]
          },
          "metadata": {
            "tags": []
          }
        }
      ]
    },
    {
      "cell_type": "code",
      "metadata": {
        "id": "SiSMaFsQPIH6",
        "colab": {
          "base_uri": "https://localhost:8080/",
          "height": 235
        },
        "outputId": "82fce38c-6c4e-49ef-af97-5d18eb584ac2"
      },
      "source": [
        "p = dLdqdot\n",
        "H = sym.simplify(p.dot(qdot) - L)\n",
        "print(\"Momentum:\") \n",
        "display(p)\n",
        "print(\"Hamiltonian:\") \n",
        "display(H)"
      ],
      "execution_count": null,
      "outputs": [
        {
          "output_type": "stream",
          "text": [
            "Momentum:\n"
          ],
          "name": "stdout"
        },
        {
          "output_type": "display_data",
          "data": {
            "text/html": [
              "<script src='https://cdnjs.cloudflare.com/ajax/libs/mathjax/2.7.3/latest.js?config=TeX-AMS_HTML'></script>"
            ],
            "text/plain": [
              "<IPython.core.display.HTML object>"
            ]
          },
          "metadata": {
            "tags": []
          }
        },
        {
          "output_type": "display_data",
          "data": {
            "text/latex": "$$\\left[\\begin{matrix}1.0 m_{b} \\frac{d}{d t} \\operatorname{x_{b}}{\\left (t \\right )}\\\\1.0 m_{b} \\frac{d}{d t} \\operatorname{y_{b}}{\\left (t \\right )}\\\\1.0 R^{2} m \\frac{d}{d t} \\theta{\\left (t \\right )}\\end{matrix}\\right]$$",
            "text/plain": [
              "⎡          d           ⎤\n",
              "⎢  1.0⋅m_b⋅──(x_b(t))  ⎥\n",
              "⎢          dt          ⎥\n",
              "⎢                      ⎥\n",
              "⎢          d           ⎥\n",
              "⎢  1.0⋅m_b⋅──(y_b(t))  ⎥\n",
              "⎢          dt          ⎥\n",
              "⎢                      ⎥\n",
              "⎢     2   d            ⎥\n",
              "⎢1.0⋅R ⋅m⋅──(\\theta(t))⎥\n",
              "⎣         dt           ⎦"
            ]
          },
          "metadata": {
            "tags": []
          }
        },
        {
          "output_type": "stream",
          "text": [
            "Hamiltonian:\n"
          ],
          "name": "stdout"
        },
        {
          "output_type": "display_data",
          "data": {
            "text/html": [
              "<script src='https://cdnjs.cloudflare.com/ajax/libs/mathjax/2.7.3/latest.js?config=TeX-AMS_HTML'></script>"
            ],
            "text/plain": [
              "<IPython.core.display.HTML object>"
            ]
          },
          "metadata": {
            "tags": []
          }
        },
        {
          "output_type": "display_data",
          "data": {
            "text/latex": "$$- R^{2} g m \\cos{\\left (\\theta{\\left (t \\right )} \\right )} + 0.5 R^{2} m \\left(\\frac{d}{d t} \\theta{\\left (t \\right )}\\right)^{2} + g m_{b} \\operatorname{y_{b}}{\\left (t \\right )} + 0.5 m_{b} \\left(\\frac{d}{d t} \\operatorname{x_{b}}{\\left (t \\right )}\\right)^{2} + 0.5 m_{b} \\left(\\frac{d}{d t} \\operatorname{y_{b}}{\\left (t \\right )}\\right)^{2}$$",
            "text/plain": [
              "                                                  2                           \n",
              "   2                           2   ⎛d            ⎞                           ⎛\n",
              "- R ⋅g⋅m⋅cos(\\theta(t)) + 0.5⋅R ⋅m⋅⎜──(\\theta(t))⎟  + g⋅m_b⋅y_b(t) + 0.5⋅m_b⋅⎜\n",
              "                                   ⎝dt           ⎠                           ⎝\n",
              "\n",
              "           2                       2\n",
              "d         ⎞            ⎛d         ⎞ \n",
              "──(x_b(t))⎟  + 0.5⋅m_b⋅⎜──(y_b(t))⎟ \n",
              "dt        ⎠            ⎝dt        ⎠ "
            ]
          },
          "metadata": {
            "tags": []
          }
        }
      ]
    },
    {
      "cell_type": "code",
      "metadata": {
        "id": "RYn-d6MECvE-",
        "colab": {
          "base_uri": "https://localhost:8080/",
          "height": 128
        },
        "outputId": "1957264c-17d3-4580-8c2b-7efdd510d4af"
      },
      "source": [
        "qdot"
      ],
      "execution_count": null,
      "outputs": [
        {
          "output_type": "display_data",
          "data": {
            "text/html": [
              "<script src='https://cdnjs.cloudflare.com/ajax/libs/mathjax/2.7.3/latest.js?config=TeX-AMS_HTML'></script>"
            ],
            "text/plain": [
              "<IPython.core.display.HTML object>"
            ]
          },
          "metadata": {
            "tags": []
          }
        },
        {
          "output_type": "execute_result",
          "data": {
            "text/latex": "$$\\left[\\begin{matrix}\\frac{d}{d t} \\operatorname{x_{b}}{\\left (t \\right )}\\\\\\frac{d}{d t} \\operatorname{y_{b}}{\\left (t \\right )}\\\\\\frac{d}{d t} \\theta{\\left (t \\right )}\\end{matrix}\\right]$$",
            "text/plain": [
              "⎡ d           ⎤\n",
              "⎢ ──(x_b(t))  ⎥\n",
              "⎢ dt          ⎥\n",
              "⎢             ⎥\n",
              "⎢ d           ⎥\n",
              "⎢ ──(y_b(t))  ⎥\n",
              "⎢ dt          ⎥\n",
              "⎢             ⎥\n",
              "⎢d            ⎥\n",
              "⎢──(\\theta(t))⎥\n",
              "⎣dt           ⎦"
            ]
          },
          "metadata": {
            "tags": []
          },
          "execution_count": 512
        }
      ]
    },
    {
      "cell_type": "code",
      "metadata": {
        "id": "_6-ARjuvPUSV",
        "colab": {
          "base_uri": "https://localhost:8080/",
          "height": 196
        },
        "outputId": "43003f6b-4d9d-4ee9-e095-d510569a79d5"
      },
      "source": [
        "# Getting our impact surface\n",
        "tau = sym.Function(r'\\tau')(t)\n",
        "tau_m = sym.Function(r'\\tau^-')(t)\n",
        "tau_p = sym.Function(r'\\tau^+')(t)\n",
        "Lam1 = sym.Function(r'Lam_1')(t)\n",
        "Lam2 = sym.Function(r'Lam_2')(t)\n",
        "\n",
        "# R = sym.sqrt(1**2+0.3**2)\n",
        "#removing square root\n",
        "\n",
        "phi1 = (xb-x)**2+(yb-y)**2\n",
        "\n",
        "# phi1 =((x**2+y**2) - (xb**2+yb**2))+0.1\n",
        "#phi1 = sym.sqrt((x**2+y**2) - (xb**2+yb**2))+0.1\n",
        "\n",
        "# phi1 = ys - yb + 0.1\n",
        "# phi2 = sym.simplify((xb-R*sym.cos(thr-math.atan(0.3)))**2+(yb+0.1-R*sym.sin(thr-math.atan(0.3)))**2)\n",
        "\n",
        "\n",
        "gradphi1 = sym.Matrix([phi1]).jacobian(q).T\n",
        "# gradphi2 = sym.Matrix([phi2]).jacobian(q).T\n",
        "\n",
        "\n",
        "print('Gradient of our surface along q')\n",
        "display(gradphi1)\n",
        "# display(gradphi2)\n",
        "\n",
        "\n",
        "# Configuration the impact\n",
        "q_tau = q.subs(t,tau) \n",
        "q_m = q.subs(t,tau_m) \n",
        "q_p = q.subs(t,tau_p) \n",
        "qdot_m = qdot.subs({q[0]:q_m[0],q[1]:q_m[1],q[2]:q_m[2]}) \n",
        "qdot_p = qdot.subs({q[0]:q_p[0],q[1]:q_p[1],q[2]:q_p[2]})\n",
        "\n",
        "print(\"Impact surface:\") \n",
        "display(phi1)\n",
        "# display(phi2)\n"
      ],
      "execution_count": null,
      "outputs": [
        {
          "output_type": "stream",
          "text": [
            "Gradient of our surface along q\n"
          ],
          "name": "stdout"
        },
        {
          "output_type": "display_data",
          "data": {
            "text/html": [
              "<script src='https://cdnjs.cloudflare.com/ajax/libs/mathjax/2.7.3/latest.js?config=TeX-AMS_HTML'></script>"
            ],
            "text/plain": [
              "<IPython.core.display.HTML object>"
            ]
          },
          "metadata": {
            "tags": []
          }
        },
        {
          "output_type": "display_data",
          "data": {
            "text/latex": "$$\\left[\\begin{matrix}- 2 R \\sin{\\left (\\theta{\\left (t \\right )} \\right )} + 2 \\operatorname{x_{b}}{\\left (t \\right )}\\\\2 R \\cos{\\left (\\theta{\\left (t \\right )} \\right )} + 2 \\operatorname{y_{b}}{\\left (t \\right )}\\\\- 2 R \\left(- R \\sin{\\left (\\theta{\\left (t \\right )} \\right )} + \\operatorname{x_{b}}{\\left (t \\right )}\\right) \\cos{\\left (\\theta{\\left (t \\right )} \\right )} - 2 R \\left(R \\cos{\\left (\\theta{\\left (t \\right )} \\right )} + \\operatorname{y_{b}}{\\left (t \\right )}\\right) \\sin{\\left (\\theta{\\left (t \\right )} \\right )}\\end{matrix}\\right]$$",
            "text/plain": [
              "⎡                                 -2⋅R⋅sin(\\theta(t)) + 2⋅x_b(t)              \n",
              "⎢                                                                             \n",
              "⎢                                  2⋅R⋅cos(\\theta(t)) + 2⋅y_b(t)              \n",
              "⎢                                                                             \n",
              "⎣-2⋅R⋅(-R⋅sin(\\theta(t)) + x_b(t))⋅cos(\\theta(t)) - 2⋅R⋅(R⋅cos(\\theta(t)) + y_\n",
              "\n",
              "                    ⎤\n",
              "                    ⎥\n",
              "                    ⎥\n",
              "                    ⎥\n",
              "b(t))⋅sin(\\theta(t))⎦"
            ]
          },
          "metadata": {
            "tags": []
          }
        },
        {
          "output_type": "stream",
          "text": [
            "Impact surface:\n"
          ],
          "name": "stdout"
        },
        {
          "output_type": "display_data",
          "data": {
            "text/html": [
              "<script src='https://cdnjs.cloudflare.com/ajax/libs/mathjax/2.7.3/latest.js?config=TeX-AMS_HTML'></script>"
            ],
            "text/plain": [
              "<IPython.core.display.HTML object>"
            ]
          },
          "metadata": {
            "tags": []
          }
        },
        {
          "output_type": "display_data",
          "data": {
            "text/latex": "$$\\left(- R \\sin{\\left (\\theta{\\left (t \\right )} \\right )} + \\operatorname{x_{b}}{\\left (t \\right )}\\right)^{2} + \\left(R \\cos{\\left (\\theta{\\left (t \\right )} \\right )} + \\operatorname{y_{b}}{\\left (t \\right )}\\right)^{2}$$",
            "text/plain": [
              "                            2                              2\n",
              "(-R⋅sin(\\theta(t)) + x_b(t))  + (R⋅cos(\\theta(t)) + y_b(t)) "
            ]
          },
          "metadata": {
            "tags": []
          }
        }
      ]
    },
    {
      "cell_type": "code",
      "metadata": {
        "id": "dMPj6q4V5i0-",
        "colab": {
          "base_uri": "https://localhost:8080/",
          "height": 128
        },
        "outputId": "c0e9863e-3abb-473e-e028-c9408e3d32e9"
      },
      "source": [
        "display(qdot_m)"
      ],
      "execution_count": null,
      "outputs": [
        {
          "output_type": "display_data",
          "data": {
            "text/html": [
              "<script src='https://cdnjs.cloudflare.com/ajax/libs/mathjax/2.7.3/latest.js?config=TeX-AMS_HTML'></script>"
            ],
            "text/plain": [
              "<IPython.core.display.HTML object>"
            ]
          },
          "metadata": {
            "tags": []
          }
        },
        {
          "output_type": "display_data",
          "data": {
            "text/latex": "$$\\left[\\begin{matrix}\\frac{d}{d t} \\operatorname{x_{b}}{\\left (\\tau^{-}{\\left (t \\right )} \\right )}\\\\\\frac{d}{d t} \\operatorname{y_{b}}{\\left (\\tau^{-}{\\left (t \\right )} \\right )}\\\\\\frac{d}{d t} \\theta{\\left (\\tau^{-}{\\left (t \\right )} \\right )}\\end{matrix}\\right]$$",
            "text/plain": [
              "⎡ d                  ⎤\n",
              "⎢ ──(x_b(\\tau⁻(t)))  ⎥\n",
              "⎢ dt                 ⎥\n",
              "⎢                    ⎥\n",
              "⎢ d                  ⎥\n",
              "⎢ ──(y_b(\\tau⁻(t)))  ⎥\n",
              "⎢ dt                 ⎥\n",
              "⎢                    ⎥\n",
              "⎢d                   ⎥\n",
              "⎢──(\\theta(\\tau⁻(t)))⎥\n",
              "⎣dt                  ⎦"
            ]
          },
          "metadata": {
            "tags": []
          }
        }
      ]
    },
    {
      "cell_type": "code",
      "metadata": {
        "id": "PZkYe-Um5Trl",
        "colab": {
          "base_uri": "https://localhost:8080/",
          "height": 113
        },
        "outputId": "c5d81636-80e9-4704-eb4d-62e217eebc88"
      },
      "source": [
        "gradphi1"
      ],
      "execution_count": null,
      "outputs": [
        {
          "output_type": "display_data",
          "data": {
            "text/html": [
              "<script src='https://cdnjs.cloudflare.com/ajax/libs/mathjax/2.7.3/latest.js?config=TeX-AMS_HTML'></script>"
            ],
            "text/plain": [
              "<IPython.core.display.HTML object>"
            ]
          },
          "metadata": {
            "tags": []
          }
        },
        {
          "output_type": "execute_result",
          "data": {
            "text/latex": "$$\\left[\\begin{matrix}- 2 R \\sin{\\left (\\theta{\\left (t \\right )} \\right )} + 2 \\operatorname{x_{b}}{\\left (t \\right )}\\\\2 R \\cos{\\left (\\theta{\\left (t \\right )} \\right )} + 2 \\operatorname{y_{b}}{\\left (t \\right )}\\\\- 2 R \\left(- R \\sin{\\left (\\theta{\\left (t \\right )} \\right )} + \\operatorname{x_{b}}{\\left (t \\right )}\\right) \\cos{\\left (\\theta{\\left (t \\right )} \\right )} - 2 R \\left(R \\cos{\\left (\\theta{\\left (t \\right )} \\right )} + \\operatorname{y_{b}}{\\left (t \\right )}\\right) \\sin{\\left (\\theta{\\left (t \\right )} \\right )}\\end{matrix}\\right]$$",
            "text/plain": [
              "⎡                                 -2⋅R⋅sin(\\theta(t)) + 2⋅x_b(t)              \n",
              "⎢                                                                             \n",
              "⎢                                  2⋅R⋅cos(\\theta(t)) + 2⋅y_b(t)              \n",
              "⎢                                                                             \n",
              "⎣-2⋅R⋅(-R⋅sin(\\theta(t)) + x_b(t))⋅cos(\\theta(t)) - 2⋅R⋅(R⋅cos(\\theta(t)) + y_\n",
              "\n",
              "                    ⎤\n",
              "                    ⎥\n",
              "                    ⎥\n",
              "                    ⎥\n",
              "b(t))⋅sin(\\theta(t))⎦"
            ]
          },
          "metadata": {
            "tags": []
          },
          "execution_count": 515
        }
      ]
    },
    {
      "cell_type": "code",
      "metadata": {
        "id": "UNOlVLSHWjqz",
        "colab": {
          "base_uri": "https://localhost:8080/",
          "height": 128
        },
        "outputId": "128007f0-23f4-4f9c-8d1d-39d5ce87ea8d"
      },
      "source": [
        "dLdqdot"
      ],
      "execution_count": null,
      "outputs": [
        {
          "output_type": "display_data",
          "data": {
            "text/html": [
              "<script src='https://cdnjs.cloudflare.com/ajax/libs/mathjax/2.7.3/latest.js?config=TeX-AMS_HTML'></script>"
            ],
            "text/plain": [
              "<IPython.core.display.HTML object>"
            ]
          },
          "metadata": {
            "tags": []
          }
        },
        {
          "output_type": "execute_result",
          "data": {
            "text/latex": "$$\\left[\\begin{matrix}1.0 m_{b} \\frac{d}{d t} \\operatorname{x_{b}}{\\left (t \\right )}\\\\1.0 m_{b} \\frac{d}{d t} \\operatorname{y_{b}}{\\left (t \\right )}\\\\1.0 R^{2} m \\frac{d}{d t} \\theta{\\left (t \\right )}\\end{matrix}\\right]$$",
            "text/plain": [
              "⎡          d           ⎤\n",
              "⎢  1.0⋅m_b⋅──(x_b(t))  ⎥\n",
              "⎢          dt          ⎥\n",
              "⎢                      ⎥\n",
              "⎢          d           ⎥\n",
              "⎢  1.0⋅m_b⋅──(y_b(t))  ⎥\n",
              "⎢          dt          ⎥\n",
              "⎢                      ⎥\n",
              "⎢     2   d            ⎥\n",
              "⎢1.0⋅R ⋅m⋅──(\\theta(t))⎥\n",
              "⎣         dt           ⎦"
            ]
          },
          "metadata": {
            "tags": []
          },
          "execution_count": 516
        }
      ]
    },
    {
      "cell_type": "code",
      "metadata": {
        "id": "iQ9BnFiQPUKZ",
        "colab": {
          "base_uri": "https://localhost:8080/",
          "height": 251
        },
        "outputId": "7d1c1694-4ec6-43c9-e5ac-4dbfa3819c3e"
      },
      "source": [
        "# Momentum/Hamiltonian before and after impact\n",
        "p_m = dLdqdot.subs({q[0]:q_m[0],qdot[0]:qdot_m[0], q[1]:q_m[1],qdot[1]:qdot_m[1], q[2]:q_m[2],qdot[2]:qdot_m[2],m:3,mb:2,R:1})  \n",
        "p_p = dLdqdot.subs({q[0]:q_p[0],qdot[0]:qdot_p[0],q[1]:q_p[1], qdot[1]:qdot_p[1],q[2]:q_p[2], qdot[2]:qdot_p[2],m:3,mb:2,R:1})\n",
        "\n",
        "p_impact_1 = sym.Eq(sym.simplify(p_p-p_m),Lam1*gradphi1)\n",
        "# p_impact_2 = sym.Eq(sym.simplify(p_p-p_m),Lam2*gradphi2)\n",
        "\n",
        "H_m = H.subs({qdot[0]:qdot_m[0],qdot[1]:qdot_m[1],qdot[2]:qdot_m[2],m:3,mb:2,R:1}) \n",
        "H_p = H.subs({qdot[0]:qdot_p[0],qdot[1]:qdot_p[1],qdot[2]:qdot_p[2],m:3,mb:2,R:1}) \n",
        "H_impact = sym.Eq(sym.simplify(H_m-H_p),0)\n",
        "\n",
        "print(\"Impact equation:\")\n",
        "print(\"Momentum term:\")\n",
        "display(p_impact_1)\n",
        "# display(p_impact_2)\n",
        "print(\"Hamiltonian term:\")\n",
        "display(H_impact)"
      ],
      "execution_count": null,
      "outputs": [
        {
          "output_type": "stream",
          "text": [
            "Impact equation:\n",
            "Momentum term:\n"
          ],
          "name": "stdout"
        },
        {
          "output_type": "display_data",
          "data": {
            "text/html": [
              "<script src='https://cdnjs.cloudflare.com/ajax/libs/mathjax/2.7.3/latest.js?config=TeX-AMS_HTML'></script>"
            ],
            "text/plain": [
              "<IPython.core.display.HTML object>"
            ]
          },
          "metadata": {
            "tags": []
          }
        },
        {
          "output_type": "display_data",
          "data": {
            "text/latex": "$$\\left[\\begin{matrix}2.0 \\frac{d}{d t} \\operatorname{x_{b}}{\\left (\\tau^{+}{\\left (t \\right )} \\right )} - 2.0 \\frac{d}{d t} \\operatorname{x_{b}}{\\left (\\tau^{-}{\\left (t \\right )} \\right )}\\\\2.0 \\frac{d}{d t} \\operatorname{y_{b}}{\\left (\\tau^{+}{\\left (t \\right )} \\right )} - 2.0 \\frac{d}{d t} \\operatorname{y_{b}}{\\left (\\tau^{-}{\\left (t \\right )} \\right )}\\\\3.0 \\frac{d}{d t} \\theta{\\left (\\tau^{+}{\\left (t \\right )} \\right )} - 3.0 \\frac{d}{d t} \\theta{\\left (\\tau^{-}{\\left (t \\right )} \\right )}\\end{matrix}\\right] = \\left[\\begin{matrix}\\left(- 2 R \\sin{\\left (\\theta{\\left (t \\right )} \\right )} + 2 \\operatorname{x_{b}}{\\left (t \\right )}\\right) \\operatorname{Lam_{1}}{\\left (t \\right )}\\\\\\left(2 R \\cos{\\left (\\theta{\\left (t \\right )} \\right )} + 2 \\operatorname{y_{b}}{\\left (t \\right )}\\right) \\operatorname{Lam_{1}}{\\left (t \\right )}\\\\\\left(- 2 R \\left(- R \\sin{\\left (\\theta{\\left (t \\right )} \\right )} + \\operatorname{x_{b}}{\\left (t \\right )}\\right) \\cos{\\left (\\theta{\\left (t \\right )} \\right )} - 2 R \\left(R \\cos{\\left (\\theta{\\left (t \\right )} \\right )} + \\operatorname{y_{b}}{\\left (t \\right )}\\right) \\sin{\\left (\\theta{\\left (t \\right )} \\right )}\\right) \\operatorname{Lam_{1}}{\\left (t \\right )}\\end{matrix}\\right]$$",
            "text/plain": [
              "⎡       d                       d                   ⎤                         \n",
              "⎢   2.0⋅──(x_b(\\tau⁺(t))) - 2.0⋅──(x_b(\\tau⁻(t)))   ⎥                         \n",
              "⎢       dt                      dt                  ⎥                         \n",
              "⎢                                                   ⎥   ⎡                     \n",
              "⎢       d                       d                   ⎥   ⎢                     \n",
              "⎢   2.0⋅──(y_b(\\tau⁺(t))) - 2.0⋅──(y_b(\\tau⁻(t)))   ⎥ = ⎢                     \n",
              "⎢       dt                      dt                  ⎥   ⎢                     \n",
              "⎢                                                   ⎥   ⎣(-2⋅R⋅(-R⋅sin(\\theta(\n",
              "⎢    d                          d                   ⎥                         \n",
              "⎢3.0⋅──(\\theta(\\tau⁺(t))) - 3.0⋅──(\\theta(\\tau⁻(t)))⎥                         \n",
              "⎣    dt                         dt                  ⎦                         \n",
              "\n",
              "                                                                              \n",
              "                                                                              \n",
              "                                                                              \n",
              "            (-2⋅R⋅sin(\\theta(t)) + 2⋅x_b(t))⋅Lam₁(t)                          \n",
              "                                                                              \n",
              "             (2⋅R⋅cos(\\theta(t)) + 2⋅y_b(t))⋅Lam₁(t)                          \n",
              "                                                                              \n",
              "t)) + x_b(t))⋅cos(\\theta(t)) - 2⋅R⋅(R⋅cos(\\theta(t)) + y_b(t))⋅sin(\\theta(t)))\n",
              "                                                                              \n",
              "                                                                              \n",
              "                                                                              \n",
              "\n",
              "         \n",
              "         \n",
              "         \n",
              "        ⎤\n",
              "        ⎥\n",
              "        ⎥\n",
              "        ⎥\n",
              "⋅Lam₁(t)⎦\n",
              "         \n",
              "         \n",
              "         "
            ]
          },
          "metadata": {
            "tags": []
          }
        },
        {
          "output_type": "stream",
          "text": [
            "Hamiltonian term:\n"
          ],
          "name": "stdout"
        },
        {
          "output_type": "display_data",
          "data": {
            "text/html": [
              "<script src='https://cdnjs.cloudflare.com/ajax/libs/mathjax/2.7.3/latest.js?config=TeX-AMS_HTML'></script>"
            ],
            "text/plain": [
              "<IPython.core.display.HTML object>"
            ]
          },
          "metadata": {
            "tags": []
          }
        },
        {
          "output_type": "display_data",
          "data": {
            "text/latex": "$$- 1.5 \\left(\\frac{d}{d t} \\theta{\\left (\\tau^{+}{\\left (t \\right )} \\right )}\\right)^{2} + 1.5 \\left(\\frac{d}{d t} \\theta{\\left (\\tau^{-}{\\left (t \\right )} \\right )}\\right)^{2} - 1.0 \\left(\\frac{d}{d t} \\operatorname{x_{b}}{\\left (\\tau^{+}{\\left (t \\right )} \\right )}\\right)^{2} + 1.0 \\left(\\frac{d}{d t} \\operatorname{x_{b}}{\\left (\\tau^{-}{\\left (t \\right )} \\right )}\\right)^{2} - 1.0 \\left(\\frac{d}{d t} \\operatorname{y_{b}}{\\left (\\tau^{+}{\\left (t \\right )} \\right )}\\right)^{2} + 1.0 \\left(\\frac{d}{d t} \\operatorname{y_{b}}{\\left (\\tau^{-}{\\left (t \\right )} \\right )}\\right)^{2} = 0$$",
            "text/plain": [
              "                            2                             2                   \n",
              "      ⎛d                   ⎞        ⎛d                   ⎞        ⎛d          \n",
              "- 1.5⋅⎜──(\\theta(\\tau⁺(t)))⎟  + 1.5⋅⎜──(\\theta(\\tau⁻(t)))⎟  - 1.0⋅⎜──(x_b(\\tau\n",
              "      ⎝dt                  ⎠        ⎝dt                  ⎠        ⎝dt         \n",
              "\n",
              "       2                          2                          2                \n",
              "      ⎞        ⎛d                ⎞        ⎛d                ⎞        ⎛d       \n",
              "⁺(t)))⎟  + 1.0⋅⎜──(x_b(\\tau⁻(t)))⎟  - 1.0⋅⎜──(y_b(\\tau⁺(t)))⎟  + 1.0⋅⎜──(y_b(\\\n",
              "      ⎠        ⎝dt               ⎠        ⎝dt               ⎠        ⎝dt      \n",
              "\n",
              "          2    \n",
              "         ⎞     \n",
              "tau⁻(t)))⎟  = 0\n",
              "         ⎠     "
            ]
          },
          "metadata": {
            "tags": []
          }
        }
      ]
    },
    {
      "cell_type": "code",
      "metadata": {
        "id": "FL7rCpXeSHEH"
      },
      "source": [
        "Impact_Equation_1 = sym.Eq(sym.Matrix([p_impact_1.lhs[0],p_impact_1.lhs[1],p_impact_1.lhs[2], H_impact.lhs]),\n",
        "                           sym.Matrix([p_impact_1.rhs[0],p_impact_1.rhs[1],p_impact_1.rhs[2], H_impact.rhs])) \n",
        "\n",
        "Impact_Solution_1 = sym.simplify(sym.solve(Impact_Equation_1,[qdot_p[0],qdot_p[1],qdot_p[2],Lam1]))\n",
        "\n",
        "Impact_Solution_Actual_1 = sym.Matrix([Impact_Solution_1[0][0],Impact_Solution_1[0][1],Impact_Solution_1[0][2],Impact_Solution_1[0][3]])\n",
        "\n",
        "Update_Law_1 = sym.Eq(sym.Matrix([qdot_p[0],qdot_p[1],qdot_p[2],Lam1]),Impact_Solution_Actual_1)\n",
        "\n",
        "# # Impact_Equation_2 = sym.Eq(sym.Matrix([p_impact_2.lhs[0],p_impact_2.lhs[1],p_impact_2.lhs[2],p_impact_2.lhs[3],p_impact_2.lhs[4], H_impact.lhs]),\n",
        "# #                            sym.Matrix([p_impact_2.rhs[0],p_impact_2.rhs[1],p_impact_2.rhs[2],p_impact_2.rhs[3],p_impact_2.rhs[4], H_impact.rhs])) \n",
        "# # Impact_Solution_2 = sym.simplify(sym.solve(Impact_Equation_2,[qdot_p[0],qdot_p[1],qdot_p[2],qdot_p[3],qdot_p[4],Lam2]))\n",
        "# # Impact_Solution_Actual_2 = sym.Matrix([Impact_Solution_2[0][0],Impact_Solution_2[0][1],Impact_Solution_2[0][2],Impact_Solution_2[0][3],Impact_Solution_2[0][4],Impact_Solution_2[0][5]])\n",
        "# # Update_Law_2 = sym.Eq(sym.Matrix([qdot_p[0],qdot_p[1],qdot_p[2],qdot_p[3],qdot_p[4],Lam2]),Impact_Solution_Actual_2)\n",
        "\n",
        "# print(\"The impact equation:\")\n",
        "# display(Impact_Equation_1)\n",
        "# # display(Impact_Equation_2)\n",
        "# print(\"The impact update law are therefore:\")\n",
        "# display(Update_Law_1)\n",
        "# # display(Update_Law_2)"
      ],
      "execution_count": null,
      "outputs": []
    },
    {
      "cell_type": "code",
      "metadata": {
        "id": "o5Q4sauPdbL-",
        "colab": {
          "base_uri": "https://localhost:8080/",
          "height": 212
        },
        "outputId": "be883993-ee00-40d9-c698-91644c79ff92"
      },
      "source": [
        "Update_Law_1"
      ],
      "execution_count": null,
      "outputs": [
        {
          "output_type": "display_data",
          "data": {
            "text/html": [
              "<script src='https://cdnjs.cloudflare.com/ajax/libs/mathjax/2.7.3/latest.js?config=TeX-AMS_HTML'></script>"
            ],
            "text/plain": [
              "<IPython.core.display.HTML object>"
            ]
          },
          "metadata": {
            "tags": []
          }
        },
        {
          "output_type": "execute_result",
          "data": {
            "text/latex": "$$\\left[\\begin{matrix}\\frac{d}{d t} \\operatorname{x_{b}}{\\left (\\tau^{+}{\\left (t \\right )} \\right )}\\\\\\frac{d}{d t} \\operatorname{y_{b}}{\\left (\\tau^{+}{\\left (t \\right )} \\right )}\\\\\\frac{d}{d t} \\theta{\\left (\\tau^{+}{\\left (t \\right )} \\right )}\\\\\\operatorname{Lam_{1}}{\\left (t \\right )}\\end{matrix}\\right] = \\left[\\begin{matrix}\\frac{1}{R^{2} \\operatorname{x_{b}}^{2}{\\left (t \\right )} \\cos{\\left (2.0 \\theta{\\left (t \\right )} \\right )} + R^{2} \\operatorname{x_{b}}^{2}{\\left (t \\right )} + 2.0 R^{2} \\operatorname{x_{b}}{\\left (t \\right )} \\operatorname{y_{b}}{\\left (t \\right )} \\sin{\\left (2.0 \\theta{\\left (t \\right )} \\right )} - R^{2} \\operatorname{y_{b}}^{2}{\\left (t \\right )} \\cos{\\left (2.0 \\theta{\\left (t \\right )} \\right )} + R^{2} \\operatorname{y_{b}}^{2}{\\left (t \\right )} + 3.0 R^{2} - 6.0 R \\operatorname{x_{b}}{\\left (t \\right )} \\sin{\\left (\\theta{\\left (t \\right )} \\right )} + 6.0 R \\operatorname{y_{b}}{\\left (t \\right )} \\cos{\\left (\\theta{\\left (t \\right )} \\right )} + 3.0 \\operatorname{x_{b}}^{2}{\\left (t \\right )} + 3.0 \\operatorname{y_{b}}^{2}{\\left (t \\right )}} \\left(R^{2} \\operatorname{x_{b}}^{2}{\\left (t \\right )} \\cos{\\left (2.0 \\theta{\\left (t \\right )} \\right )} \\frac{d}{d t} \\operatorname{x_{b}}{\\left (\\tau^{-}{\\left (t \\right )} \\right )} + R^{2} \\operatorname{x_{b}}^{2}{\\left (t \\right )} \\frac{d}{d t} \\operatorname{x_{b}}{\\left (\\tau^{-}{\\left (t \\right )} \\right )} + 2.0 R^{2} \\operatorname{x_{b}}{\\left (t \\right )} \\operatorname{y_{b}}{\\left (t \\right )} \\sin{\\left (2.0 \\theta{\\left (t \\right )} \\right )} \\frac{d}{d t} \\operatorname{x_{b}}{\\left (\\tau^{-}{\\left (t \\right )} \\right )} - 3.0 R^{2} \\operatorname{x_{b}}{\\left (t \\right )} \\sin{\\left (2.0 \\theta{\\left (t \\right )} \\right )} \\frac{d}{d t} \\theta{\\left (\\tau^{-}{\\left (t \\right )} \\right )} - R^{2} \\operatorname{y_{b}}^{2}{\\left (t \\right )} \\cos{\\left (2.0 \\theta{\\left (t \\right )} \\right )} \\frac{d}{d t} \\operatorname{x_{b}}{\\left (\\tau^{-}{\\left (t \\right )} \\right )} + R^{2} \\operatorname{y_{b}}^{2}{\\left (t \\right )} \\frac{d}{d t} \\operatorname{x_{b}}{\\left (\\tau^{-}{\\left (t \\right )} \\right )} - 6.0 R^{2} \\operatorname{y_{b}}{\\left (t \\right )} \\sin^{2}{\\left (\\theta{\\left (t \\right )} \\right )} \\frac{d}{d t} \\theta{\\left (\\tau^{-}{\\left (t \\right )} \\right )} - 6.0 R^{2} \\sin^{2}{\\left (\\theta{\\left (t \\right )} \\right )} \\frac{d}{d t} \\operatorname{x_{b}}{\\left (\\tau^{-}{\\left (t \\right )} \\right )} + 3.0 R^{2} \\sin{\\left (2.0 \\theta{\\left (t \\right )} \\right )} \\frac{d}{d t} \\operatorname{y_{b}}{\\left (\\tau^{-}{\\left (t \\right )} \\right )} + 3.0 R^{2} \\frac{d}{d t} \\operatorname{x_{b}}{\\left (\\tau^{-}{\\left (t \\right )} \\right )} + 6.0 R \\operatorname{x_{b}}^{2}{\\left (t \\right )} \\cos{\\left (\\theta{\\left (t \\right )} \\right )} \\frac{d}{d t} \\theta{\\left (\\tau^{-}{\\left (t \\right )} \\right )} + 6.0 R \\operatorname{x_{b}}{\\left (t \\right )} \\operatorname{y_{b}}{\\left (t \\right )} \\sin{\\left (\\theta{\\left (t \\right )} \\right )} \\frac{d}{d t} \\theta{\\left (\\tau^{-}{\\left (t \\right )} \\right )} + 6.0 R \\operatorname{x_{b}}{\\left (t \\right )} \\sin{\\left (\\theta{\\left (t \\right )} \\right )} \\frac{d}{d t} \\operatorname{x_{b}}{\\left (\\tau^{-}{\\left (t \\right )} \\right )} - 6.0 R \\operatorname{x_{b}}{\\left (t \\right )} \\cos{\\left (\\theta{\\left (t \\right )} \\right )} \\frac{d}{d t} \\operatorname{y_{b}}{\\left (\\tau^{-}{\\left (t \\right )} \\right )} + 6.0 R \\operatorname{y_{b}}{\\left (t \\right )} \\sin{\\left (\\theta{\\left (t \\right )} \\right )} \\frac{d}{d t} \\operatorname{y_{b}}{\\left (\\tau^{-}{\\left (t \\right )} \\right )} + 6.0 R \\operatorname{y_{b}}{\\left (t \\right )} \\cos{\\left (\\theta{\\left (t \\right )} \\right )} \\frac{d}{d t} \\operatorname{x_{b}}{\\left (\\tau^{-}{\\left (t \\right )} \\right )} - 3.0 \\operatorname{x_{b}}^{2}{\\left (t \\right )} \\frac{d}{d t} \\operatorname{x_{b}}{\\left (\\tau^{-}{\\left (t \\right )} \\right )} - 6.0 \\operatorname{x_{b}}{\\left (t \\right )} \\operatorname{y_{b}}{\\left (t \\right )} \\frac{d}{d t} \\operatorname{y_{b}}{\\left (\\tau^{-}{\\left (t \\right )} \\right )} + 3.0 \\operatorname{y_{b}}^{2}{\\left (t \\right )} \\frac{d}{d t} \\operatorname{x_{b}}{\\left (\\tau^{-}{\\left (t \\right )} \\right )}\\right)\\\\\\frac{1}{R^{2} \\operatorname{x_{b}}^{2}{\\left (t \\right )} \\cos{\\left (2.0 \\theta{\\left (t \\right )} \\right )} + R^{2} \\operatorname{x_{b}}^{2}{\\left (t \\right )} + 2.0 R^{2} \\operatorname{x_{b}}{\\left (t \\right )} \\operatorname{y_{b}}{\\left (t \\right )} \\sin{\\left (2.0 \\theta{\\left (t \\right )} \\right )} - R^{2} \\operatorname{y_{b}}^{2}{\\left (t \\right )} \\cos{\\left (2.0 \\theta{\\left (t \\right )} \\right )} + R^{2} \\operatorname{y_{b}}^{2}{\\left (t \\right )} + 3.0 R^{2} - 6.0 R \\operatorname{x_{b}}{\\left (t \\right )} \\sin{\\left (\\theta{\\left (t \\right )} \\right )} + 6.0 R \\operatorname{y_{b}}{\\left (t \\right )} \\cos{\\left (\\theta{\\left (t \\right )} \\right )} + 3.0 \\operatorname{x_{b}}^{2}{\\left (t \\right )} + 3.0 \\operatorname{y_{b}}^{2}{\\left (t \\right )}} \\left(R^{2} \\operatorname{x_{b}}^{2}{\\left (t \\right )} \\cos{\\left (2.0 \\theta{\\left (t \\right )} \\right )} \\frac{d}{d t} \\operatorname{y_{b}}{\\left (\\tau^{-}{\\left (t \\right )} \\right )} + R^{2} \\operatorname{x_{b}}^{2}{\\left (t \\right )} \\frac{d}{d t} \\operatorname{y_{b}}{\\left (\\tau^{-}{\\left (t \\right )} \\right )} + 2.0 R^{2} \\operatorname{x_{b}}{\\left (t \\right )} \\operatorname{y_{b}}{\\left (t \\right )} \\sin{\\left (2.0 \\theta{\\left (t \\right )} \\right )} \\frac{d}{d t} \\operatorname{y_{b}}{\\left (\\tau^{-}{\\left (t \\right )} \\right )} + 6.0 R^{2} \\operatorname{x_{b}}{\\left (t \\right )} \\cos^{2}{\\left (\\theta{\\left (t \\right )} \\right )} \\frac{d}{d t} \\theta{\\left (\\tau^{-}{\\left (t \\right )} \\right )} - R^{2} \\operatorname{y_{b}}^{2}{\\left (t \\right )} \\cos{\\left (2.0 \\theta{\\left (t \\right )} \\right )} \\frac{d}{d t} \\operatorname{y_{b}}{\\left (\\tau^{-}{\\left (t \\right )} \\right )} + R^{2} \\operatorname{y_{b}}^{2}{\\left (t \\right )} \\frac{d}{d t} \\operatorname{y_{b}}{\\left (\\tau^{-}{\\left (t \\right )} \\right )} + 3.0 R^{2} \\operatorname{y_{b}}{\\left (t \\right )} \\sin{\\left (2.0 \\theta{\\left (t \\right )} \\right )} \\frac{d}{d t} \\theta{\\left (\\tau^{-}{\\left (t \\right )} \\right )} + 3.0 R^{2} \\sin{\\left (2.0 \\theta{\\left (t \\right )} \\right )} \\frac{d}{d t} \\operatorname{x_{b}}{\\left (\\tau^{-}{\\left (t \\right )} \\right )} - 6.0 R^{2} \\cos^{2}{\\left (\\theta{\\left (t \\right )} \\right )} \\frac{d}{d t} \\operatorname{y_{b}}{\\left (\\tau^{-}{\\left (t \\right )} \\right )} + 3.0 R^{2} \\frac{d}{d t} \\operatorname{y_{b}}{\\left (\\tau^{-}{\\left (t \\right )} \\right )} + 6.0 R \\operatorname{x_{b}}{\\left (t \\right )} \\operatorname{y_{b}}{\\left (t \\right )} \\cos{\\left (\\theta{\\left (t \\right )} \\right )} \\frac{d}{d t} \\theta{\\left (\\tau^{-}{\\left (t \\right )} \\right )} - 6.0 R \\operatorname{x_{b}}{\\left (t \\right )} \\sin{\\left (\\theta{\\left (t \\right )} \\right )} \\frac{d}{d t} \\operatorname{y_{b}}{\\left (\\tau^{-}{\\left (t \\right )} \\right )} - 6.0 R \\operatorname{x_{b}}{\\left (t \\right )} \\cos{\\left (\\theta{\\left (t \\right )} \\right )} \\frac{d}{d t} \\operatorname{x_{b}}{\\left (\\tau^{-}{\\left (t \\right )} \\right )} + 6.0 R \\operatorname{y_{b}}^{2}{\\left (t \\right )} \\sin{\\left (\\theta{\\left (t \\right )} \\right )} \\frac{d}{d t} \\theta{\\left (\\tau^{-}{\\left (t \\right )} \\right )} + 6.0 R \\operatorname{y_{b}}{\\left (t \\right )} \\sin{\\left (\\theta{\\left (t \\right )} \\right )} \\frac{d}{d t} \\operatorname{x_{b}}{\\left (\\tau^{-}{\\left (t \\right )} \\right )} - 6.0 R \\operatorname{y_{b}}{\\left (t \\right )} \\cos{\\left (\\theta{\\left (t \\right )} \\right )} \\frac{d}{d t} \\operatorname{y_{b}}{\\left (\\tau^{-}{\\left (t \\right )} \\right )} + 3.0 \\operatorname{x_{b}}^{2}{\\left (t \\right )} \\frac{d}{d t} \\operatorname{y_{b}}{\\left (\\tau^{-}{\\left (t \\right )} \\right )} - 6.0 \\operatorname{x_{b}}{\\left (t \\right )} \\operatorname{y_{b}}{\\left (t \\right )} \\frac{d}{d t} \\operatorname{x_{b}}{\\left (\\tau^{-}{\\left (t \\right )} \\right )} - 3.0 \\operatorname{y_{b}}^{2}{\\left (t \\right )} \\frac{d}{d t} \\operatorname{y_{b}}{\\left (\\tau^{-}{\\left (t \\right )} \\right )}\\right)\\\\\\frac{1}{R^{2} \\operatorname{x_{b}}^{2}{\\left (t \\right )} \\cos{\\left (2.0 \\theta{\\left (t \\right )} \\right )} + R^{2} \\operatorname{x_{b}}^{2}{\\left (t \\right )} + 2.0 R^{2} \\operatorname{x_{b}}{\\left (t \\right )} \\operatorname{y_{b}}{\\left (t \\right )} \\sin{\\left (2.0 \\theta{\\left (t \\right )} \\right )} - R^{2} \\operatorname{y_{b}}^{2}{\\left (t \\right )} \\cos{\\left (2.0 \\theta{\\left (t \\right )} \\right )} + R^{2} \\operatorname{y_{b}}^{2}{\\left (t \\right )} + 3.0 R^{2} - 6.0 R \\operatorname{x_{b}}{\\left (t \\right )} \\sin{\\left (\\theta{\\left (t \\right )} \\right )} + 6.0 R \\operatorname{y_{b}}{\\left (t \\right )} \\cos{\\left (\\theta{\\left (t \\right )} \\right )} + 3.0 \\operatorname{x_{b}}^{2}{\\left (t \\right )} + 3.0 \\operatorname{y_{b}}^{2}{\\left (t \\right )}} \\left(- R^{2} \\operatorname{x_{b}}^{2}{\\left (t \\right )} \\cos{\\left (2.0 \\theta{\\left (t \\right )} \\right )} \\frac{d}{d t} \\theta{\\left (\\tau^{-}{\\left (t \\right )} \\right )} - R^{2} \\operatorname{x_{b}}^{2}{\\left (t \\right )} \\frac{d}{d t} \\theta{\\left (\\tau^{-}{\\left (t \\right )} \\right )} - 2.0 R^{2} \\operatorname{x_{b}}{\\left (t \\right )} \\operatorname{y_{b}}{\\left (t \\right )} \\sin{\\left (2.0 \\theta{\\left (t \\right )} \\right )} \\frac{d}{d t} \\theta{\\left (\\tau^{-}{\\left (t \\right )} \\right )} - 2.0 R^{2} \\operatorname{x_{b}}{\\left (t \\right )} \\sin{\\left (2.0 \\theta{\\left (t \\right )} \\right )} \\frac{d}{d t} \\operatorname{x_{b}}{\\left (\\tau^{-}{\\left (t \\right )} \\right )} + 2.0 R^{2} \\operatorname{x_{b}}{\\left (t \\right )} \\cos{\\left (2.0 \\theta{\\left (t \\right )} \\right )} \\frac{d}{d t} \\operatorname{y_{b}}{\\left (\\tau^{-}{\\left (t \\right )} \\right )} + 2.0 R^{2} \\operatorname{x_{b}}{\\left (t \\right )} \\frac{d}{d t} \\operatorname{y_{b}}{\\left (\\tau^{-}{\\left (t \\right )} \\right )} + R^{2} \\operatorname{y_{b}}^{2}{\\left (t \\right )} \\cos{\\left (2.0 \\theta{\\left (t \\right )} \\right )} \\frac{d}{d t} \\theta{\\left (\\tau^{-}{\\left (t \\right )} \\right )} - R^{2} \\operatorname{y_{b}}^{2}{\\left (t \\right )} \\frac{d}{d t} \\theta{\\left (\\tau^{-}{\\left (t \\right )} \\right )} + 2.0 R^{2} \\operatorname{y_{b}}{\\left (t \\right )} \\sin{\\left (2.0 \\theta{\\left (t \\right )} \\right )} \\frac{d}{d t} \\operatorname{y_{b}}{\\left (\\tau^{-}{\\left (t \\right )} \\right )} + 2.0 R^{2} \\operatorname{y_{b}}{\\left (t \\right )} \\cos{\\left (2.0 \\theta{\\left (t \\right )} \\right )} \\frac{d}{d t} \\operatorname{x_{b}}{\\left (\\tau^{-}{\\left (t \\right )} \\right )} - 2.0 R^{2} \\operatorname{y_{b}}{\\left (t \\right )} \\frac{d}{d t} \\operatorname{x_{b}}{\\left (\\tau^{-}{\\left (t \\right )} \\right )} + 3.0 R^{2} \\frac{d}{d t} \\theta{\\left (\\tau^{-}{\\left (t \\right )} \\right )} + 4.0 R \\operatorname{x_{b}}^{2}{\\left (t \\right )} \\cos{\\left (\\theta{\\left (t \\right )} \\right )} \\frac{d}{d t} \\operatorname{x_{b}}{\\left (\\tau^{-}{\\left (t \\right )} \\right )} + 4.0 R \\operatorname{x_{b}}{\\left (t \\right )} \\operatorname{y_{b}}{\\left (t \\right )} \\sin{\\left (\\theta{\\left (t \\right )} \\right )} \\frac{d}{d t} \\operatorname{x_{b}}{\\left (\\tau^{-}{\\left (t \\right )} \\right )} + 4.0 R \\operatorname{x_{b}}{\\left (t \\right )} \\operatorname{y_{b}}{\\left (t \\right )} \\cos{\\left (\\theta{\\left (t \\right )} \\right )} \\frac{d}{d t} \\operatorname{y_{b}}{\\left (\\tau^{-}{\\left (t \\right )} \\right )} - 6.0 R \\operatorname{x_{b}}{\\left (t \\right )} \\sin{\\left (\\theta{\\left (t \\right )} \\right )} \\frac{d}{d t} \\theta{\\left (\\tau^{-}{\\left (t \\right )} \\right )} + 4.0 R \\operatorname{y_{b}}^{2}{\\left (t \\right )} \\sin{\\left (\\theta{\\left (t \\right )} \\right )} \\frac{d}{d t} \\operatorname{y_{b}}{\\left (\\tau^{-}{\\left (t \\right )} \\right )} + 6.0 R \\operatorname{y_{b}}{\\left (t \\right )} \\cos{\\left (\\theta{\\left (t \\right )} \\right )} \\frac{d}{d t} \\theta{\\left (\\tau^{-}{\\left (t \\right )} \\right )} + 3.0 \\operatorname{x_{b}}^{2}{\\left (t \\right )} \\frac{d}{d t} \\theta{\\left (\\tau^{-}{\\left (t \\right )} \\right )} + 3.0 \\operatorname{y_{b}}^{2}{\\left (t \\right )} \\frac{d}{d t} \\theta{\\left (\\tau^{-}{\\left (t \\right )} \\right )}\\right)\\\\\\frac{6.0 \\left(R \\operatorname{x_{b}}{\\left (t \\right )} \\cos{\\left (\\theta{\\left (t \\right )} \\right )} \\frac{d}{d t} \\theta{\\left (\\tau^{-}{\\left (t \\right )} \\right )} + R \\operatorname{y_{b}}{\\left (t \\right )} \\sin{\\left (\\theta{\\left (t \\right )} \\right )} \\frac{d}{d t} \\theta{\\left (\\tau^{-}{\\left (t \\right )} \\right )} + R \\sin{\\left (\\theta{\\left (t \\right )} \\right )} \\frac{d}{d t} \\operatorname{x_{b}}{\\left (\\tau^{-}{\\left (t \\right )} \\right )} - R \\cos{\\left (\\theta{\\left (t \\right )} \\right )} \\frac{d}{d t} \\operatorname{y_{b}}{\\left (\\tau^{-}{\\left (t \\right )} \\right )} - \\operatorname{x_{b}}{\\left (t \\right )} \\frac{d}{d t} \\operatorname{x_{b}}{\\left (\\tau^{-}{\\left (t \\right )} \\right )} - \\operatorname{y_{b}}{\\left (t \\right )} \\frac{d}{d t} \\operatorname{y_{b}}{\\left (\\tau^{-}{\\left (t \\right )} \\right )}\\right)}{R^{2} \\operatorname{x_{b}}^{2}{\\left (t \\right )} \\cos{\\left (2.0 \\theta{\\left (t \\right )} \\right )} + R^{2} \\operatorname{x_{b}}^{2}{\\left (t \\right )} + 2.0 R^{2} \\operatorname{x_{b}}{\\left (t \\right )} \\operatorname{y_{b}}{\\left (t \\right )} \\sin{\\left (2.0 \\theta{\\left (t \\right )} \\right )} - R^{2} \\operatorname{y_{b}}^{2}{\\left (t \\right )} \\cos{\\left (2.0 \\theta{\\left (t \\right )} \\right )} + R^{2} \\operatorname{y_{b}}^{2}{\\left (t \\right )} + 3.0 R^{2} - 6.0 R \\operatorname{x_{b}}{\\left (t \\right )} \\sin{\\left (\\theta{\\left (t \\right )} \\right )} + 6.0 R \\operatorname{y_{b}}{\\left (t \\right )} \\cos{\\left (\\theta{\\left (t \\right )} \\right )} + 3.0 \\operatorname{x_{b}}^{2}{\\left (t \\right )} + 3.0 \\operatorname{y_{b}}^{2}{\\left (t \\right )}}\\end{matrix}\\right]$$",
            "text/plain": [
              "                         ⎡                                        2    2      \n",
              "                         ⎢                                       R ⋅x_b (t)⋅co\n",
              "                         ⎢                                                    \n",
              "                         ⎢                                       ─────────────\n",
              "                         ⎢                                                    \n",
              "                         ⎢                                                    \n",
              "                         ⎢                                                    \n",
              "⎡ d                  ⎤   ⎢                                        2    2      \n",
              "⎢ ──(x_b(\\tau⁺(t)))  ⎥   ⎢                                       R ⋅x_b (t)⋅co\n",
              "⎢ dt                 ⎥   ⎢                                                    \n",
              "⎢                    ⎥   ⎢                                       ─────────────\n",
              "⎢ d                  ⎥   ⎢                                                    \n",
              "⎢ ──(y_b(\\tau⁺(t)))  ⎥   ⎢                                                    \n",
              "⎢ dt                 ⎥ = ⎢                                                    \n",
              "⎢                    ⎥   ⎢   2    2                       d                   \n",
              "⎢d                   ⎥   ⎢- R ⋅x_b (t)⋅cos(2.0⋅\\theta(t))⋅──(\\theta(\\tau⁻(t)))\n",
              "⎢──(\\theta(\\tau⁺(t)))⎥   ⎢                                dt                  \n",
              "⎢dt                  ⎥   ⎢────────────────────────────────────────────────────\n",
              "⎢                    ⎥   ⎢                                                    \n",
              "⎣      Lam₁(t)       ⎦   ⎢                                                    \n",
              "                         ⎢                                                    \n",
              "                         ⎢                                                    \n",
              "                         ⎢                                                    \n",
              "                         ⎢                                                    \n",
              "                         ⎢                                                    \n",
              "                         ⎢                                                    \n",
              "                         ⎣                                                    \n",
              "\n",
              "                 d                    2    2    d                        2    \n",
              "s(2.0⋅\\theta(t))⋅──(x_b(\\tau⁻(t))) + R ⋅x_b (t)⋅──(x_b(\\tau⁻(t))) + 2.0⋅R ⋅x_b\n",
              "                 dt                             dt                            \n",
              "──────────────────────────────────────────────────────────────────────────────\n",
              "                                                                              \n",
              "                                                                              \n",
              "                                                                              \n",
              "                 d                    2    2    d                        2    \n",
              "s(2.0⋅\\theta(t))⋅──(y_b(\\tau⁻(t))) + R ⋅x_b (t)⋅──(y_b(\\tau⁻(t))) + 2.0⋅R ⋅x_b\n",
              "                 dt                             dt                            \n",
              "──────────────────────────────────────────────────────────────────────────────\n",
              "                                                                              \n",
              "                                                                              \n",
              "                                                                              \n",
              "    2    2    d                           2                                  d\n",
              " - R ⋅x_b (t)⋅──(\\theta(\\tau⁻(t))) - 2.0⋅R ⋅x_b(t)⋅y_b(t)⋅sin(2.0⋅\\theta(t))⋅─\n",
              "              dt                                                             d\n",
              "──────────────────────────────────────────────────────────────────────────────\n",
              "                                                                              \n",
              "                                                                              \n",
              "                                                                              \n",
              "                                                                              \n",
              "                                                                              \n",
              "                                                                              \n",
              "                                                                              \n",
              "                                                                              \n",
              "                                                                              \n",
              "\n",
              "                              d                        2                      \n",
              "(t)⋅y_b(t)⋅sin(2.0⋅\\theta(t))⋅──(x_b(\\tau⁻(t))) - 3.0⋅R ⋅x_b(t)⋅sin(2.0⋅\\theta\n",
              "                              dt                                              \n",
              "──────────────────────────────────────────────────────────────────────────────\n",
              "                                                                              \n",
              "                                                                              \n",
              "                                                                              \n",
              "                              d                        2           2          \n",
              "(t)⋅y_b(t)⋅sin(2.0⋅\\theta(t))⋅──(y_b(\\tau⁻(t))) + 6.0⋅R ⋅x_b(t)⋅cos (\\theta(t)\n",
              "                              dt                                              \n",
              "──────────────────────────────────────────────────────────────────────────────\n",
              "                                                                              \n",
              "                                                                              \n",
              "                                                                              \n",
              "                           2                           d                      \n",
              "─(\\theta(\\tau⁻(t))) - 2.0⋅R ⋅x_b(t)⋅sin(2.0⋅\\theta(t))⋅──(x_b(\\tau⁻(t))) + 2.0\n",
              "t                                                      dt                     \n",
              "──────────────────────────────────────────────────────────────────────────────\n",
              "                                                                              \n",
              "                                                                              \n",
              "                                                                              \n",
              "                                                                              \n",
              "                                                                              \n",
              "                                                                              \n",
              "                                                                              \n",
              "                                                                              \n",
              "                                                                              \n",
              "\n",
              "     d                       2    2                       d                   \n",
              "(t))⋅──(\\theta(\\tau⁻(t))) - R ⋅y_b (t)⋅cos(2.0⋅\\theta(t))⋅──(x_b(\\tau⁻(t))) + \n",
              "     dt                                                   dt                  \n",
              "──────────────────────────────────────────────────────────────────────────────\n",
              "                                                                              \n",
              "                                                                              \n",
              "                                                                              \n",
              "  d                       2    2                       d                    2 \n",
              ")⋅──(\\theta(\\tau⁻(t))) - R ⋅y_b (t)⋅cos(2.0⋅\\theta(t))⋅──(y_b(\\tau⁻(t))) + R ⋅\n",
              "  dt                                                   dt                     \n",
              "──────────────────────────────────────────────────────────────────────────────\n",
              "                                                                              \n",
              "                                                                              \n",
              "                                                                              \n",
              "  2                           d                        2        d             \n",
              "⋅R ⋅x_b(t)⋅cos(2.0⋅\\theta(t))⋅──(y_b(\\tau⁻(t))) + 2.0⋅R ⋅x_b(t)⋅──(y_b(\\tau⁻(t\n",
              "                              dt                                dt            \n",
              "──────────────────────────────────────────────────────────────────────────────\n",
              "                                                                              \n",
              "                                                                              \n",
              "                                                                              \n",
              "                                                                              \n",
              "                                                                              \n",
              "                                                                              \n",
              "                                                                              \n",
              "                                                                              \n",
              "                                                                              \n",
              "\n",
              " 2    2    d                        2           2            d                \n",
              "R ⋅y_b (t)⋅──(x_b(\\tau⁻(t))) - 6.0⋅R ⋅y_b(t)⋅sin (\\theta(t))⋅──(\\theta(\\tau⁻(t\n",
              "           dt                                                dt               \n",
              "──────────────────────────────────────────────────────────────────────────────\n",
              "                                                                 2    2       \n",
              "                                                                R ⋅x_b (t)⋅cos\n",
              "                                                                              \n",
              "   2    d                        2                           d                \n",
              "y_b (t)⋅──(y_b(\\tau⁻(t))) + 3.0⋅R ⋅y_b(t)⋅sin(2.0⋅\\theta(t))⋅──(\\theta(\\tau⁻(t\n",
              "        dt                                                   dt               \n",
              "──────────────────────────────────────────────────────────────────────────────\n",
              "                                                                 2    2       \n",
              "                                                                R ⋅x_b (t)⋅cos\n",
              "                                                                              \n",
              "       2    2                       d                       2    2    d       \n",
              "))) + R ⋅y_b (t)⋅cos(2.0⋅\\theta(t))⋅──(\\theta(\\tau⁻(t))) - R ⋅y_b (t)⋅──(\\thet\n",
              "                                    dt                                dt      \n",
              "──────────────────────────────────────────────────────────────────────────────\n",
              "                                                                 2    2       \n",
              "                                                                R ⋅x_b (t)⋅cos\n",
              "                                                                              \n",
              "                                                                    ⎛         \n",
              "                                                                6.0⋅⎜R⋅x_b(t)⋅\n",
              "                                                                    ⎝         \n",
              "                                                                ──────────────\n",
              "                                                                 2    2       \n",
              "                                                                R ⋅x_b (t)⋅cos\n",
              "\n",
              "           2    2            d                        2                    d  \n",
              "))) - 6.0⋅R ⋅sin (\\theta(t))⋅──(x_b(\\tau⁻(t))) + 3.0⋅R ⋅sin(2.0⋅\\theta(t))⋅──(\n",
              "                             dt                                            dt \n",
              "──────────────────────────────────────────────────────────────────────────────\n",
              "                   2    2           2                                     2   \n",
              "(2.0⋅\\theta(t)) + R ⋅x_b (t) + 2.0⋅R ⋅x_b(t)⋅y_b(t)⋅sin(2.0⋅\\theta(t)) - R ⋅y_\n",
              "                                                                              \n",
              "           2                    d                        2    2            d  \n",
              "))) + 3.0⋅R ⋅sin(2.0⋅\\theta(t))⋅──(x_b(\\tau⁻(t))) - 6.0⋅R ⋅cos (\\theta(t))⋅──(\n",
              "                                dt                                         dt \n",
              "──────────────────────────────────────────────────────────────────────────────\n",
              "                   2    2           2                                     2   \n",
              "(2.0⋅\\theta(t)) + R ⋅x_b (t) + 2.0⋅R ⋅x_b(t)⋅y_b(t)⋅sin(2.0⋅\\theta(t)) - R ⋅y_\n",
              "                                                                              \n",
              "                    2                           d                        2    \n",
              "a(\\tau⁻(t))) + 2.0⋅R ⋅y_b(t)⋅sin(2.0⋅\\theta(t))⋅──(y_b(\\tau⁻(t))) + 2.0⋅R ⋅y_b\n",
              "                                                dt                            \n",
              "──────────────────────────────────────────────────────────────────────────────\n",
              "                   2    2           2                                     2   \n",
              "(2.0⋅\\theta(t)) + R ⋅x_b (t) + 2.0⋅R ⋅x_b(t)⋅y_b(t)⋅sin(2.0⋅\\theta(t)) - R ⋅y_\n",
              "                                                                              \n",
              "               d                                              d               \n",
              "cos(\\theta(t))⋅──(\\theta(\\tau⁻(t))) + R⋅y_b(t)⋅sin(\\theta(t))⋅──(\\theta(\\tau⁻(\n",
              "               dt                                             dt              \n",
              "──────────────────────────────────────────────────────────────────────────────\n",
              "                   2    2           2                                     2   \n",
              "(2.0⋅\\theta(t)) + R ⋅x_b (t) + 2.0⋅R ⋅x_b(t)⋅y_b(t)⋅sin(2.0⋅\\theta(t)) - R ⋅y_\n",
              "\n",
              "                      2 d                            2                   d    \n",
              "y_b(\\tau⁻(t))) + 3.0⋅R ⋅──(x_b(\\tau⁻(t))) + 6.0⋅R⋅x_b (t)⋅cos(\\theta(t))⋅──(\\t\n",
              "                        dt                                               dt   \n",
              "──────────────────────────────────────────────────────────────────────────────\n",
              " 2                          2    2           2                                \n",
              "b (t)⋅cos(2.0⋅\\theta(t)) + R ⋅y_b (t) + 3.0⋅R  - 6.0⋅R⋅x_b(t)⋅sin(\\theta(t)) +\n",
              "                                                                              \n",
              "                      2 d                                                     \n",
              "y_b(\\tau⁻(t))) + 3.0⋅R ⋅──(y_b(\\tau⁻(t))) + 6.0⋅R⋅x_b(t)⋅y_b(t)⋅cos(\\theta(t))\n",
              "                        dt                                                    \n",
              "──────────────────────────────────────────────────────────────────────────────\n",
              " 2                          2    2           2                                \n",
              "b (t)⋅cos(2.0⋅\\theta(t)) + R ⋅y_b (t) + 3.0⋅R  - 6.0⋅R⋅x_b(t)⋅sin(\\theta(t)) +\n",
              "                                                                              \n",
              "                       d                        2        d                    \n",
              "(t)⋅cos(2.0⋅\\theta(t))⋅──(x_b(\\tau⁻(t))) - 2.0⋅R ⋅y_b(t)⋅──(x_b(\\tau⁻(t))) + 3\n",
              "                       dt                                dt                   \n",
              "──────────────────────────────────────────────────────────────────────────────\n",
              " 2                          2    2           2                                \n",
              "b (t)⋅cos(2.0⋅\\theta(t)) + R ⋅y_b (t) + 3.0⋅R  - 6.0⋅R⋅x_b(t)⋅sin(\\theta(t)) +\n",
              "                                                                              \n",
              "                        d                                    d                \n",
              "t))) + R⋅sin(\\theta(t))⋅──(x_b(\\tau⁻(t))) - R⋅cos(\\theta(t))⋅──(y_b(\\tau⁻(t)))\n",
              "                        dt                                   dt               \n",
              "──────────────────────────────────────────────────────────────────────────────\n",
              " 2                          2    2           2                                \n",
              "b (t)⋅cos(2.0⋅\\theta(t)) + R ⋅y_b (t) + 3.0⋅R  - 6.0⋅R⋅x_b(t)⋅sin(\\theta(t)) +\n",
              "\n",
              "                                                     d                        \n",
              "heta(\\tau⁻(t))) + 6.0⋅R⋅x_b(t)⋅y_b(t)⋅sin(\\theta(t))⋅──(\\theta(\\tau⁻(t))) + 6.\n",
              "                                                     dt                       \n",
              "──────────────────────────────────────────────────────────────────────────────\n",
              "                                      2             2                         \n",
              " 6.0⋅R⋅y_b(t)⋅cos(\\theta(t)) + 3.0⋅x_b (t) + 3.0⋅y_b (t)                      \n",
              "                                                                              \n",
              " d                                                  d                         \n",
              "⋅──(\\theta(\\tau⁻(t))) - 6.0⋅R⋅x_b(t)⋅sin(\\theta(t))⋅──(y_b(\\tau⁻(t))) - 6.0⋅R⋅\n",
              " dt                                                 dt                        \n",
              "──────────────────────────────────────────────────────────────────────────────\n",
              "                                      2             2                         \n",
              " 6.0⋅R⋅y_b(t)⋅cos(\\theta(t)) + 3.0⋅x_b (t) + 3.0⋅y_b (t)                      \n",
              "                                                                              \n",
              "    2 d                               2                   d                   \n",
              ".0⋅R ⋅──(\\theta(\\tau⁻(t))) + 4.0⋅R⋅x_b (t)⋅cos(\\theta(t))⋅──(x_b(\\tau⁻(t))) + \n",
              "      dt                                                  dt                  \n",
              "──────────────────────────────────────────────────────────────────────────────\n",
              "                                      2             2                         \n",
              " 6.0⋅R⋅y_b(t)⋅cos(\\theta(t)) + 3.0⋅x_b (t) + 3.0⋅y_b (t)                      \n",
              "                                                                              \n",
              "          d                          d                ⎞                       \n",
              " - x_b(t)⋅──(x_b(\\tau⁻(t))) - y_b(t)⋅──(y_b(\\tau⁻(t)))⎟                       \n",
              "          dt                         dt               ⎠                       \n",
              "────────────────────────────────────────────────────────                      \n",
              "                                      2             2                         \n",
              " 6.0⋅R⋅y_b(t)⋅cos(\\theta(t)) + 3.0⋅x_b (t) + 3.0⋅y_b (t)                      \n",
              "\n",
              "                          d                                               d   \n",
              "0⋅R⋅x_b(t)⋅sin(\\theta(t))⋅──(x_b(\\tau⁻(t))) - 6.0⋅R⋅x_b(t)⋅cos(\\theta(t))⋅──(y\n",
              "                          dt                                              dt  \n",
              "──────────────────────────────────────────────────────────────────────────────\n",
              "                                                                              \n",
              "                                                                              \n",
              "                                                                              \n",
              "                      d                            2                   d      \n",
              "x_b(t)⋅cos(\\theta(t))⋅──(x_b(\\tau⁻(t))) + 6.0⋅R⋅y_b (t)⋅sin(\\theta(t))⋅──(\\the\n",
              "                      dt                                               dt     \n",
              "──────────────────────────────────────────────────────────────────────────────\n",
              "                                                                              \n",
              "                                                                              \n",
              "                                                                              \n",
              "                                   d                                          \n",
              "4.0⋅R⋅x_b(t)⋅y_b(t)⋅sin(\\theta(t))⋅──(x_b(\\tau⁻(t))) + 4.0⋅R⋅x_b(t)⋅y_b(t)⋅cos\n",
              "                                   dt                                         \n",
              "──────────────────────────────────────────────────────────────────────────────\n",
              "                                                                              \n",
              "                                                                              \n",
              "                                                                              \n",
              "                                                                              \n",
              "                                                                              \n",
              "                                                                              \n",
              "                                                                              \n",
              "                                                                              \n",
              "                                                                              \n",
              "\n",
              "                                            d                                 \n",
              "_b(\\tau⁻(t))) + 6.0⋅R⋅y_b(t)⋅sin(\\theta(t))⋅──(y_b(\\tau⁻(t))) + 6.0⋅R⋅y_b(t)⋅c\n",
              "                                            dt                                \n",
              "──────────────────────────────────────────────────────────────────────────────\n",
              "                                                                              \n",
              "                                                                              \n",
              "                                                                              \n",
              "                                            d                                 \n",
              "ta(\\tau⁻(t))) + 6.0⋅R⋅y_b(t)⋅sin(\\theta(t))⋅──(x_b(\\tau⁻(t))) - 6.0⋅R⋅y_b(t)⋅c\n",
              "                                            dt                                \n",
              "──────────────────────────────────────────────────────────────────────────────\n",
              "                                                                              \n",
              "                                                                              \n",
              "                                                                              \n",
              "            d                                               d                 \n",
              "(\\theta(t))⋅──(y_b(\\tau⁻(t))) - 6.0⋅R⋅x_b(t)⋅sin(\\theta(t))⋅──(\\theta(\\tau⁻(t)\n",
              "            dt                                              dt                \n",
              "──────────────────────────────────────────────────────────────────────────────\n",
              "                                                                              \n",
              "                                                                              \n",
              "                                                                              \n",
              "                                                                              \n",
              "                                                                              \n",
              "                                                                              \n",
              "                                                                              \n",
              "                                                                              \n",
              "                                                                              \n",
              "\n",
              "              d                          2    d                               \n",
              "os(\\theta(t))⋅──(x_b(\\tau⁻(t))) - 3.0⋅x_b (t)⋅──(x_b(\\tau⁻(t))) - 6.0⋅x_b(t)⋅y\n",
              "              dt                              dt                              \n",
              "──────────────────────────────────────────────────────────────────────────────\n",
              "                                                                              \n",
              "                                                                              \n",
              "                                                                              \n",
              "              d                          2    d                               \n",
              "os(\\theta(t))⋅──(y_b(\\tau⁻(t))) + 3.0⋅x_b (t)⋅──(y_b(\\tau⁻(t))) - 6.0⋅x_b(t)⋅y\n",
              "              dt                              dt                              \n",
              "──────────────────────────────────────────────────────────────────────────────\n",
              "                                                                              \n",
              "                                                                              \n",
              "                                                                              \n",
              "              2                   d                                           \n",
              ")) + 4.0⋅R⋅y_b (t)⋅sin(\\theta(t))⋅──(y_b(\\tau⁻(t))) + 6.0⋅R⋅y_b(t)⋅cos(\\theta(\n",
              "                                  dt                                          \n",
              "──────────────────────────────────────────────────────────────────────────────\n",
              "                                                                              \n",
              "                                                                              \n",
              "                                                                              \n",
              "                                                                              \n",
              "                                                                              \n",
              "                                                                              \n",
              "                                                                              \n",
              "                                                                              \n",
              "                                                                              \n",
              "\n",
              "      d                          2    d                                       \n",
              "_b(t)⋅──(y_b(\\tau⁻(t))) + 3.0⋅y_b (t)⋅──(x_b(\\tau⁻(t)))                       \n",
              "      dt                              dt                                      \n",
              "───────────────────────────────────────────────────────                       \n",
              "                                                                              \n",
              "                                                                              \n",
              "                                                                              \n",
              "      d                          2    d                                       \n",
              "_b(t)⋅──(x_b(\\tau⁻(t))) - 3.0⋅y_b (t)⋅──(y_b(\\tau⁻(t)))                       \n",
              "      dt                              dt                                      \n",
              "───────────────────────────────────────────────────────                       \n",
              "                                                                              \n",
              "                                                                              \n",
              "                                                                              \n",
              "    d                             2    d                             2    d   \n",
              "t))⋅──(\\theta(\\tau⁻(t))) + 3.0⋅x_b (t)⋅──(\\theta(\\tau⁻(t))) + 3.0⋅y_b (t)⋅──(\\\n",
              "    dt                                 dt                                 dt  \n",
              "──────────────────────────────────────────────────────────────────────────────\n",
              "                                                                              \n",
              "                                                                              \n",
              "                                                                              \n",
              "                                                                              \n",
              "                                                                              \n",
              "                                                                              \n",
              "                                                                              \n",
              "                                                                              \n",
              "                                                                              \n",
              "\n",
              "                ⎤\n",
              "                ⎥\n",
              "                ⎥\n",
              "                ⎥\n",
              "                ⎥\n",
              "                ⎥\n",
              "                ⎥\n",
              "                ⎥\n",
              "                ⎥\n",
              "                ⎥\n",
              "                ⎥\n",
              "                ⎥\n",
              "                ⎥\n",
              "                ⎥\n",
              "                ⎥\n",
              "theta(\\tau⁻(t)))⎥\n",
              "                ⎥\n",
              "────────────────⎥\n",
              "                ⎥\n",
              "                ⎥\n",
              "                ⎥\n",
              "                ⎥\n",
              "                ⎥\n",
              "                ⎥\n",
              "                ⎥\n",
              "                ⎥\n",
              "                ⎦"
            ]
          },
          "metadata": {
            "tags": []
          },
          "execution_count": 519
        }
      ]
    },
    {
      "cell_type": "code",
      "metadata": {
        "id": "QNQBhqNuZ0Kf",
        "colab": {
          "base_uri": "https://localhost:8080/",
          "height": 182
        },
        "outputId": "d9355385-b185-416d-c384-65c0c538f007"
      },
      "source": [
        "Impact_Equation_1"
      ],
      "execution_count": null,
      "outputs": [
        {
          "output_type": "display_data",
          "data": {
            "text/html": [
              "<script src='https://cdnjs.cloudflare.com/ajax/libs/mathjax/2.7.3/latest.js?config=TeX-AMS_HTML'></script>"
            ],
            "text/plain": [
              "<IPython.core.display.HTML object>"
            ]
          },
          "metadata": {
            "tags": []
          }
        },
        {
          "output_type": "execute_result",
          "data": {
            "text/latex": "$$\\left[\\begin{matrix}2.0 \\frac{d}{d t} \\operatorname{x_{b}}{\\left (\\tau^{+}{\\left (t \\right )} \\right )} - 2.0 \\frac{d}{d t} \\operatorname{x_{b}}{\\left (\\tau^{-}{\\left (t \\right )} \\right )}\\\\2.0 \\frac{d}{d t} \\operatorname{y_{b}}{\\left (\\tau^{+}{\\left (t \\right )} \\right )} - 2.0 \\frac{d}{d t} \\operatorname{y_{b}}{\\left (\\tau^{-}{\\left (t \\right )} \\right )}\\\\3.0 \\frac{d}{d t} \\theta{\\left (\\tau^{+}{\\left (t \\right )} \\right )} - 3.0 \\frac{d}{d t} \\theta{\\left (\\tau^{-}{\\left (t \\right )} \\right )}\\\\- 1.5 \\left(\\frac{d}{d t} \\theta{\\left (\\tau^{+}{\\left (t \\right )} \\right )}\\right)^{2} + 1.5 \\left(\\frac{d}{d t} \\theta{\\left (\\tau^{-}{\\left (t \\right )} \\right )}\\right)^{2} - 1.0 \\left(\\frac{d}{d t} \\operatorname{x_{b}}{\\left (\\tau^{+}{\\left (t \\right )} \\right )}\\right)^{2} + 1.0 \\left(\\frac{d}{d t} \\operatorname{x_{b}}{\\left (\\tau^{-}{\\left (t \\right )} \\right )}\\right)^{2} - 1.0 \\left(\\frac{d}{d t} \\operatorname{y_{b}}{\\left (\\tau^{+}{\\left (t \\right )} \\right )}\\right)^{2} + 1.0 \\left(\\frac{d}{d t} \\operatorname{y_{b}}{\\left (\\tau^{-}{\\left (t \\right )} \\right )}\\right)^{2}\\end{matrix}\\right] = \\left[\\begin{matrix}\\left(- 2 R \\sin{\\left (\\theta{\\left (t \\right )} \\right )} + 2 \\operatorname{x_{b}}{\\left (t \\right )}\\right) \\operatorname{Lam_{1}}{\\left (t \\right )}\\\\\\left(2 R \\cos{\\left (\\theta{\\left (t \\right )} \\right )} + 2 \\operatorname{y_{b}}{\\left (t \\right )}\\right) \\operatorname{Lam_{1}}{\\left (t \\right )}\\\\\\left(- 2 R \\left(- R \\sin{\\left (\\theta{\\left (t \\right )} \\right )} + \\operatorname{x_{b}}{\\left (t \\right )}\\right) \\cos{\\left (\\theta{\\left (t \\right )} \\right )} - 2 R \\left(R \\cos{\\left (\\theta{\\left (t \\right )} \\right )} + \\operatorname{y_{b}}{\\left (t \\right )}\\right) \\sin{\\left (\\theta{\\left (t \\right )} \\right )}\\right) \\operatorname{Lam_{1}}{\\left (t \\right )}\\\\0\\end{matrix}\\right]$$",
            "text/plain": [
              "⎡                                                                 d           \n",
              "⎢                                                             2.0⋅──(x_b(\\tau⁺\n",
              "⎢                                                                 dt          \n",
              "⎢                                                                             \n",
              "⎢                                                                 d           \n",
              "⎢                                                             2.0⋅──(y_b(\\tau⁺\n",
              "⎢                                                                 dt          \n",
              "⎢                                                                             \n",
              "⎢                                                              d              \n",
              "⎢                                                          3.0⋅──(\\theta(\\tau⁺\n",
              "⎢                                                              dt             \n",
              "⎢                                                                             \n",
              "⎢                            2                             2                  \n",
              "⎢      ⎛d                   ⎞        ⎛d                   ⎞        ⎛d         \n",
              "⎢- 1.5⋅⎜──(\\theta(\\tau⁺(t)))⎟  + 1.5⋅⎜──(\\theta(\\tau⁻(t)))⎟  - 1.0⋅⎜──(x_b(\\ta\n",
              "⎣      ⎝dt                  ⎠        ⎝dt                  ⎠        ⎝dt        \n",
              "\n",
              "            d                                                                 \n",
              "(t))) - 2.0⋅──(x_b(\\tau⁻(t)))                                                 \n",
              "            dt                                                                \n",
              "                                                                              \n",
              "            d                                                                 \n",
              "(t))) - 2.0⋅──(y_b(\\tau⁻(t)))                                                 \n",
              "            dt                                                                \n",
              "                                                                              \n",
              "            d                                                                 \n",
              "(t))) - 3.0⋅──(\\theta(\\tau⁻(t)))                                              \n",
              "            dt                                                                \n",
              "                                                                              \n",
              "        2                          2                          2               \n",
              "       ⎞        ⎛d                ⎞        ⎛d                ⎞        ⎛d      \n",
              "u⁺(t)))⎟  + 1.0⋅⎜──(x_b(\\tau⁻(t)))⎟  - 1.0⋅⎜──(y_b(\\tau⁺(t)))⎟  + 1.0⋅⎜──(y_b(\n",
              "       ⎠        ⎝dt               ⎠        ⎝dt               ⎠        ⎝dt     \n",
              "\n",
              "            ⎤                                                                 \n",
              "            ⎥                                                                 \n",
              "            ⎥                                                                 \n",
              "            ⎥                                                                 \n",
              "            ⎥                                                                 \n",
              "            ⎥   ⎡                                 (-2⋅R⋅sin(\\theta(t)) + 2⋅x_b\n",
              "            ⎥   ⎢                                                             \n",
              "            ⎥   ⎢                                  (2⋅R⋅cos(\\theta(t)) + 2⋅y_b\n",
              "            ⎥ = ⎢                                                             \n",
              "            ⎥   ⎢(-2⋅R⋅(-R⋅sin(\\theta(t)) + x_b(t))⋅cos(\\theta(t)) - 2⋅R⋅(R⋅co\n",
              "            ⎥   ⎢                                                             \n",
              "            ⎥   ⎣                                                     0       \n",
              "           2⎥                                                                 \n",
              "          ⎞ ⎥                                                                 \n",
              "\\tau⁻(t)))⎟ ⎥                                                                 \n",
              "          ⎠ ⎦                                                                 \n",
              "\n",
              "                                               \n",
              "                                               \n",
              "                                               \n",
              "                                               \n",
              "                                               \n",
              "(t))⋅Lam₁(t)                                  ⎤\n",
              "                                              ⎥\n",
              "(t))⋅Lam₁(t)                                  ⎥\n",
              "                                              ⎥\n",
              "s(\\theta(t)) + y_b(t))⋅sin(\\theta(t)))⋅Lam₁(t)⎥\n",
              "                                              ⎥\n",
              "                                              ⎦\n",
              "                                               \n",
              "                                               \n",
              "                                               \n",
              "                                               "
            ]
          },
          "metadata": {
            "tags": []
          },
          "execution_count": 520
        }
      ]
    },
    {
      "cell_type": "code",
      "metadata": {
        "id": "nE3YcySQYRlt",
        "colab": {
          "base_uri": "https://localhost:8080/",
          "height": 165
        },
        "outputId": "c47a529f-87af-48b0-d2ae-8a65a5c36c5f"
      },
      "source": [
        "dxbm,dybm,dthrm = sym.symbols(' \\dot{x^-_b} \\dot{y^-_b} \\dot{w^-_r}')\n",
        "dxbp,dybp,dthrp = sym.symbols('\\dot{x^+_b} \\dot{y^+_b} \\dot{w^+_r}')\n",
        "dfm_dummy = sym.Matrix([dxbm,dybm,dthrm])\n",
        "dfp_dummy = sym.Matrix([dxbp,dybp,dthrp])\n",
        "Impact_Equation_Num_1 = Impact_Equation_1.subs({qdot_m[0]:dfm_dummy[0], qdot_m[1]:dfm_dummy[1], qdot_m[2]:dfm_dummy[2],\n",
        "                                            qdot_p[0]:dfp_dummy[0], qdot_p[1]:dfp_dummy[1], qdot_p[2]:dfp_dummy[2],R:1})\n",
        "# Impact_Equation_Num_2 = Impact_Equation_2.subs({qdot_m[0]:dfm_dummy[0], qdot_m[1]:dfm_dummy[1], qdot_m[2]:dfm_dummy[2], qdot_m[3]:dfm_dummy[3],qdot_m[4]:dfm_dummy[4],\n",
        "#                                             qdot_p[0]:dfp_dummy[0], qdot_p[1]:dfp_dummy[1], qdot_p[2]:dfp_dummy[2], qdot_p[3]:dfp_dummy[3],qdot_p[4]:dfp_dummy[4]})\n",
        "display(Impact_Equation_Num_1)\n",
        "# display(Impact_Equation_Num_2)\n"
      ],
      "execution_count": null,
      "outputs": [
        {
          "output_type": "display_data",
          "data": {
            "text/html": [
              "<script src='https://cdnjs.cloudflare.com/ajax/libs/mathjax/2.7.3/latest.js?config=TeX-AMS_HTML'></script>"
            ],
            "text/plain": [
              "<IPython.core.display.HTML object>"
            ]
          },
          "metadata": {
            "tags": []
          }
        },
        {
          "output_type": "display_data",
          "data": {
            "text/latex": "$$\\left[\\begin{matrix}2.0 \\dot{x^+_b} - 2.0 \\dot{x^-_b}\\\\2.0 \\dot{y^+_b} - 2.0 \\dot{y^-_b}\\\\3.0 \\dot{w^+_r} - 3.0 \\dot{w^-_r}\\\\- 1.5 \\dot{w^+_r}^{2} + 1.5 \\dot{w^-_r}^{2} - 1.0 \\dot{x^+_b}^{2} + 1.0 \\dot{x^-_b}^{2} - 1.0 \\dot{y^+_b}^{2} + 1.0 \\dot{y^-_b}^{2}\\end{matrix}\\right] = \\left[\\begin{matrix}\\left(2 \\operatorname{x_{b}}{\\left (t \\right )} - 2 \\sin{\\left (\\theta{\\left (t \\right )} \\right )}\\right) \\operatorname{Lam_{1}}{\\left (t \\right )}\\\\\\left(2 \\operatorname{y_{b}}{\\left (t \\right )} + 2 \\cos{\\left (\\theta{\\left (t \\right )} \\right )}\\right) \\operatorname{Lam_{1}}{\\left (t \\right )}\\\\\\left(- 2 \\left(\\operatorname{x_{b}}{\\left (t \\right )} - \\sin{\\left (\\theta{\\left (t \\right )} \\right )}\\right) \\cos{\\left (\\theta{\\left (t \\right )} \\right )} - 2 \\left(\\operatorname{y_{b}}{\\left (t \\right )} + \\cos{\\left (\\theta{\\left (t \\right )} \\right )}\\right) \\sin{\\left (\\theta{\\left (t \\right )} \\right )}\\right) \\operatorname{Lam_{1}}{\\left (t \\right )}\\\\0\\end{matrix}\\right]$$",
            "text/plain": [
              "⎡                                          2.0⋅\\dot{x_b}__+ - 2.0⋅\\dot{x_b}__-\n",
              "⎢                                                                             \n",
              "⎢                                          2.0⋅\\dot{y_b}__+ - 2.0⋅\\dot{y_b}__-\n",
              "⎢                                                                             \n",
              "⎢                                          3.0⋅\\dot{w_r}__+ - 3.0⋅\\dot{w_r}__-\n",
              "⎢                                                                             \n",
              "⎢                  2                   2                   2                  \n",
              "⎣- 1.5⋅\\dot{w_r}__+  + 1.5⋅\\dot{w_r}__-  - 1.0⋅\\dot{x_b}__+  + 1.0⋅\\dot{x_b}__\n",
              "\n",
              "                                          ⎤                                   \n",
              "                                          ⎥   ⎡                              (\n",
              "                                          ⎥   ⎢                               \n",
              "                                          ⎥   ⎢                              (\n",
              "                                          ⎥ = ⎢                               \n",
              "                                          ⎥   ⎢(-2⋅(x_b(t) - sin(\\theta(t)))⋅c\n",
              " 2                   2                   2⎥   ⎢                               \n",
              "-  - 1.0⋅\\dot{y_b}__+  + 1.0⋅\\dot{y_b}__- ⎦   ⎣                               \n",
              "\n",
              "                                                                    \n",
              "2⋅x_b(t) - 2⋅sin(\\theta(t)))⋅Lam₁(t)                               ⎤\n",
              "                                                                   ⎥\n",
              "2⋅y_b(t) + 2⋅cos(\\theta(t)))⋅Lam₁(t)                               ⎥\n",
              "                                                                   ⎥\n",
              "os(\\theta(t)) - 2⋅(y_b(t) + cos(\\theta(t)))⋅sin(\\theta(t)))⋅Lam₁(t)⎥\n",
              "                                                                   ⎥\n",
              "                 0                                                 ⎦"
            ]
          },
          "metadata": {
            "tags": []
          }
        }
      ]
    },
    {
      "cell_type": "code",
      "metadata": {
        "id": "_lIf04MDTPZx"
      },
      "source": [
        "# def simulate_impact(f,x0,tspan,dt,phi1_condition,impact_update_1,phi2_condition,impact_update_2):\n",
        "\n",
        "#     N = int((max(tspan)-min(tspan))/dt)\n",
        "#     x = np.copy(x0)\n",
        "#     tvec = np.linspace(min(tspan),max(tspan),N)\n",
        "#     xtraj = np.zeros((len(x0),N))\n",
        "#     for i in range(N):\n",
        "#       if phi1_condition(x):\n",
        "#         xtraj[:,i] = integrate(f,impact_update_1(x),dt)\n",
        "#         x = np.copy(xtraj[:,i])\n",
        "#       elif phi2_condition(x):\n",
        "#         xtraj[:,i] = integrate(f,impact_update_2(x),dt)\n",
        "#         x = np.copy(xtraj[:,i])\n",
        "#       else :\n",
        "#         xtraj[:,i] = integrate(f,x,dt)\n",
        "#         x = np.copy(xtraj[:,i])\n",
        "#     return xtraj   \n",
        "\n",
        "def simulate_impact_2(f,x0,tspan,dt,phi1_condition,impact_update_1):\n",
        "\n",
        "    N = int((max(tspan)-min(tspan))/dt)\n",
        "    x = np.copy(x0)\n",
        "    tvec = np.linspace(min(tspan),max(tspan),N)\n",
        "    xtraj = np.zeros((len(x0),N))\n",
        "    for i in range(N):\n",
        "      if phi1_condition(x):\n",
        "        xtraj[:,i] = integrate(f,impact_update_1(x),dt,tvec[i])\n",
        "        x = np.copy(xtraj[:,i])\n",
        "      else :\n",
        "        xtraj[:,i] = integrate(f,x,dt,tvec[i])\n",
        "        x = np.copy(xtraj[:,i])\n",
        "    return xtraj   "
      ],
      "execution_count": null,
      "outputs": []
    },
    {
      "cell_type": "code",
      "metadata": {
        "id": "zAljz11bqR3M",
        "colab": {
          "base_uri": "https://localhost:8080/",
          "height": 211
        },
        "outputId": "30c9ad56-ea9d-4c7e-debd-6693f600c5d9"
      },
      "source": [
        "dyn"
      ],
      "execution_count": null,
      "outputs": [
        {
          "output_type": "display_data",
          "data": {
            "text/html": [
              "<script src='https://cdnjs.cloudflare.com/ajax/libs/mathjax/2.7.3/latest.js?config=TeX-AMS_HTML'></script>"
            ],
            "text/plain": [
              "<IPython.core.display.HTML object>"
            ]
          },
          "metadata": {
            "tags": []
          }
        },
        {
          "output_type": "execute_result",
          "data": {
            "text/latex": "$$\\left[\\begin{matrix}\\frac{d}{d t} \\operatorname{x_{b}}{\\left (t \\right )}\\\\0.0\\\\\\frac{d}{d t} \\operatorname{y_{b}}{\\left (t \\right )}\\\\- g\\\\\\frac{d}{d t} \\theta{\\left (t \\right )}\\\\- g \\sin{\\left (\\theta{\\left (t \\right )} \\right )} + \\frac{0.0392699081698724 t^{2}}{R^{2} m}\\end{matrix}\\right]$$",
            "text/plain": [
              "⎡               d                         ⎤\n",
              "⎢               ──(x_b(t))                ⎥\n",
              "⎢               dt                        ⎥\n",
              "⎢                                         ⎥\n",
              "⎢                   0.0                   ⎥\n",
              "⎢                                         ⎥\n",
              "⎢               d                         ⎥\n",
              "⎢               ──(y_b(t))                ⎥\n",
              "⎢               dt                        ⎥\n",
              "⎢                                         ⎥\n",
              "⎢                   -g                    ⎥\n",
              "⎢                                         ⎥\n",
              "⎢              d                          ⎥\n",
              "⎢              ──(\\theta(t))              ⎥\n",
              "⎢              dt                         ⎥\n",
              "⎢                                         ⎥\n",
              "⎢                                        2⎥\n",
              "⎢                    0.0392699081698724⋅t ⎥\n",
              "⎢-g⋅sin(\\theta(t)) + ─────────────────────⎥\n",
              "⎢                              2          ⎥\n",
              "⎣                             R ⋅m        ⎦"
            ]
          },
          "metadata": {
            "tags": []
          },
          "execution_count": 523
        }
      ]
    },
    {
      "cell_type": "code",
      "metadata": {
        "id": "f1hazhFHAeVH",
        "colab": {
          "base_uri": "https://localhost:8080/",
          "height": 202
        },
        "outputId": "f732be71-0298-4d6b-832f-e3c7bcd7c9ee"
      },
      "source": [
        "dyn=dyn.subs({g:9.81,R:1,m:3,mb:2})\n",
        "display(dyn)"
      ],
      "execution_count": null,
      "outputs": [
        {
          "output_type": "display_data",
          "data": {
            "text/html": [
              "<script src='https://cdnjs.cloudflare.com/ajax/libs/mathjax/2.7.3/latest.js?config=TeX-AMS_HTML'></script>"
            ],
            "text/plain": [
              "<IPython.core.display.HTML object>"
            ]
          },
          "metadata": {
            "tags": []
          }
        },
        {
          "output_type": "display_data",
          "data": {
            "text/latex": "$$\\left[\\begin{matrix}\\frac{d}{d t} \\operatorname{x_{b}}{\\left (t \\right )}\\\\0.0\\\\\\frac{d}{d t} \\operatorname{y_{b}}{\\left (t \\right )}\\\\-9.81\\\\\\frac{d}{d t} \\theta{\\left (t \\right )}\\\\0.0130899693899575 t^{2} - 9.81 \\sin{\\left (\\theta{\\left (t \\right )} \\right )}\\end{matrix}\\right]$$",
            "text/plain": [
              "⎡                d                          ⎤\n",
              "⎢                ──(x_b(t))                 ⎥\n",
              "⎢                dt                         ⎥\n",
              "⎢                                           ⎥\n",
              "⎢                    0.0                    ⎥\n",
              "⎢                                           ⎥\n",
              "⎢                d                          ⎥\n",
              "⎢                ──(y_b(t))                 ⎥\n",
              "⎢                dt                         ⎥\n",
              "⎢                                           ⎥\n",
              "⎢                   -9.81                   ⎥\n",
              "⎢                                           ⎥\n",
              "⎢               d                           ⎥\n",
              "⎢               ──(\\theta(t))               ⎥\n",
              "⎢               dt                          ⎥\n",
              "⎢                                           ⎥\n",
              "⎢                    2                      ⎥\n",
              "⎣0.0130899693899575⋅t  - 9.81⋅sin(\\theta(t))⎦"
            ]
          },
          "metadata": {
            "tags": []
          }
        }
      ]
    },
    {
      "cell_type": "code",
      "metadata": {
        "id": "lbJNzua9bnRf",
        "colab": {
          "base_uri": "https://localhost:8080/",
          "height": 113
        },
        "outputId": "49707001-2051-4029-efdc-d8e52f327583"
      },
      "source": [
        "q"
      ],
      "execution_count": null,
      "outputs": [
        {
          "output_type": "display_data",
          "data": {
            "text/html": [
              "<script src='https://cdnjs.cloudflare.com/ajax/libs/mathjax/2.7.3/latest.js?config=TeX-AMS_HTML'></script>"
            ],
            "text/plain": [
              "<IPython.core.display.HTML object>"
            ]
          },
          "metadata": {
            "tags": []
          }
        },
        {
          "output_type": "execute_result",
          "data": {
            "text/latex": "$$\\left[\\begin{matrix}\\operatorname{x_{b}}{\\left (t \\right )}\\\\\\operatorname{y_{b}}{\\left (t \\right )}\\\\\\theta{\\left (t \\right )}\\end{matrix}\\right]$$",
            "text/plain": [
              "⎡ x_b(t)  ⎤\n",
              "⎢         ⎥\n",
              "⎢ y_b(t)  ⎥\n",
              "⎢         ⎥\n",
              "⎣\\theta(t)⎦"
            ]
          },
          "metadata": {
            "tags": []
          },
          "execution_count": 525
        }
      ]
    },
    {
      "cell_type": "code",
      "metadata": {
        "id": "ulZooQT_rlYR",
        "colab": {
          "base_uri": "https://localhost:8080/",
          "height": 113
        },
        "outputId": "d0dec073-6872-4d84-c03f-97538d44d431"
      },
      "source": [
        "q"
      ],
      "execution_count": null,
      "outputs": [
        {
          "output_type": "display_data",
          "data": {
            "text/html": [
              "<script src='https://cdnjs.cloudflare.com/ajax/libs/mathjax/2.7.3/latest.js?config=TeX-AMS_HTML'></script>"
            ],
            "text/plain": [
              "<IPython.core.display.HTML object>"
            ]
          },
          "metadata": {
            "tags": []
          }
        },
        {
          "output_type": "execute_result",
          "data": {
            "text/latex": "$$\\left[\\begin{matrix}\\operatorname{x_{b}}{\\left (t \\right )}\\\\\\operatorname{y_{b}}{\\left (t \\right )}\\\\\\theta{\\left (t \\right )}\\end{matrix}\\right]$$",
            "text/plain": [
              "⎡ x_b(t)  ⎤\n",
              "⎢         ⎥\n",
              "⎢ y_b(t)  ⎥\n",
              "⎢         ⎥\n",
              "⎣\\theta(t)⎦"
            ]
          },
          "metadata": {
            "tags": []
          },
          "execution_count": 526
        }
      ]
    },
    {
      "cell_type": "code",
      "metadata": {
        "id": "nHRXXyELrnh-",
        "colab": {
          "base_uri": "https://localhost:8080/",
          "height": 128
        },
        "outputId": "042b094f-0d6c-4ca4-b3ca-332b1ecea7ea"
      },
      "source": [
        "qdot"
      ],
      "execution_count": null,
      "outputs": [
        {
          "output_type": "display_data",
          "data": {
            "text/html": [
              "<script src='https://cdnjs.cloudflare.com/ajax/libs/mathjax/2.7.3/latest.js?config=TeX-AMS_HTML'></script>"
            ],
            "text/plain": [
              "<IPython.core.display.HTML object>"
            ]
          },
          "metadata": {
            "tags": []
          }
        },
        {
          "output_type": "execute_result",
          "data": {
            "text/latex": "$$\\left[\\begin{matrix}\\frac{d}{d t} \\operatorname{x_{b}}{\\left (t \\right )}\\\\\\frac{d}{d t} \\operatorname{y_{b}}{\\left (t \\right )}\\\\\\frac{d}{d t} \\theta{\\left (t \\right )}\\end{matrix}\\right]$$",
            "text/plain": [
              "⎡ d           ⎤\n",
              "⎢ ──(x_b(t))  ⎥\n",
              "⎢ dt          ⎥\n",
              "⎢             ⎥\n",
              "⎢ d           ⎥\n",
              "⎢ ──(y_b(t))  ⎥\n",
              "⎢ dt          ⎥\n",
              "⎢             ⎥\n",
              "⎢d            ⎥\n",
              "⎢──(\\theta(t))⎥\n",
              "⎣dt           ⎦"
            ]
          },
          "metadata": {
            "tags": []
          },
          "execution_count": 527
        }
      ]
    },
    {
      "cell_type": "code",
      "metadata": {
        "id": "JyNMgtyYT-d-",
        "colab": {
          "base_uri": "https://localhost:8080/",
          "height": 202
        },
        "outputId": "04ec266e-2454-4d2d-cf65-37beca2ad830"
      },
      "source": [
        "dyn"
      ],
      "execution_count": null,
      "outputs": [
        {
          "output_type": "display_data",
          "data": {
            "text/html": [
              "<script src='https://cdnjs.cloudflare.com/ajax/libs/mathjax/2.7.3/latest.js?config=TeX-AMS_HTML'></script>"
            ],
            "text/plain": [
              "<IPython.core.display.HTML object>"
            ]
          },
          "metadata": {
            "tags": []
          }
        },
        {
          "output_type": "execute_result",
          "data": {
            "text/latex": "$$\\left[\\begin{matrix}\\frac{d}{d t} \\operatorname{x_{b}}{\\left (t \\right )}\\\\0.0\\\\\\frac{d}{d t} \\operatorname{y_{b}}{\\left (t \\right )}\\\\-9.81\\\\\\frac{d}{d t} \\theta{\\left (t \\right )}\\\\0.0130899693899575 t^{2} - 9.81 \\sin{\\left (\\theta{\\left (t \\right )} \\right )}\\end{matrix}\\right]$$",
            "text/plain": [
              "⎡                d                          ⎤\n",
              "⎢                ──(x_b(t))                 ⎥\n",
              "⎢                dt                         ⎥\n",
              "⎢                                           ⎥\n",
              "⎢                    0.0                    ⎥\n",
              "⎢                                           ⎥\n",
              "⎢                d                          ⎥\n",
              "⎢                ──(y_b(t))                 ⎥\n",
              "⎢                dt                         ⎥\n",
              "⎢                                           ⎥\n",
              "⎢                   -9.81                   ⎥\n",
              "⎢                                           ⎥\n",
              "⎢               d                           ⎥\n",
              "⎢               ──(\\theta(t))               ⎥\n",
              "⎢               dt                          ⎥\n",
              "⎢                                           ⎥\n",
              "⎢                    2                      ⎥\n",
              "⎣0.0130899693899575⋅t  - 9.81⋅sin(\\theta(t))⎦"
            ]
          },
          "metadata": {
            "tags": []
          },
          "execution_count": 528
        }
      ]
    },
    {
      "cell_type": "code",
      "metadata": {
        "id": "eky76dw0UA5-",
        "colab": {
          "base_uri": "https://localhost:8080/",
          "height": 67
        },
        "outputId": "30824e14-69ac-4b99-9381-0aceabfbb377"
      },
      "source": [
        "phi1"
      ],
      "execution_count": null,
      "outputs": [
        {
          "output_type": "display_data",
          "data": {
            "text/html": [
              "<script src='https://cdnjs.cloudflare.com/ajax/libs/mathjax/2.7.3/latest.js?config=TeX-AMS_HTML'></script>"
            ],
            "text/plain": [
              "<IPython.core.display.HTML object>"
            ]
          },
          "metadata": {
            "tags": []
          }
        },
        {
          "output_type": "execute_result",
          "data": {
            "text/latex": "$$\\left(- R \\sin{\\left (\\theta{\\left (t \\right )} \\right )} + \\operatorname{x_{b}}{\\left (t \\right )}\\right)^{2} + \\left(R \\cos{\\left (\\theta{\\left (t \\right )} \\right )} + \\operatorname{y_{b}}{\\left (t \\right )}\\right)^{2}$$",
            "text/plain": [
              "                            2                              2\n",
              "(-R⋅sin(\\theta(t)) + x_b(t))  + (R⋅cos(\\theta(t)) + y_b(t)) "
            ]
          },
          "metadata": {
            "tags": []
          },
          "execution_count": 529
        }
      ]
    },
    {
      "cell_type": "code",
      "metadata": {
        "id": "m5eKZC0RURER",
        "colab": {
          "base_uri": "https://localhost:8080/",
          "height": 187
        },
        "outputId": "d42e07fd-0164-4ac5-8b9f-8e10dad2b398"
      },
      "source": [
        "# Lambdifying our dynamics\n",
        "vxb,vyb,vthr = sym.symbols('v_xb v_yb v_thr')\n",
        "\n",
        "# Dummy variables\n",
        "dyn_dummy = dyn.subs({qdot[0]:vxb,qdot[1]:vyb,qdot[2]:vthr})\n",
        "display(dyn_dummy)\n",
        "\n",
        "# Lambdify\n",
        "lam_dyn = sym.lambdify([q[0],vxb,q[1],vyb,q[2],vthr,t],dyn_dummy)\n",
        "\n",
        "# Define dynamics function\n",
        "def dynamics(x,t):\n",
        "  # x[0] xs ; x[1] dxs\n",
        "    xdot = lam_dyn(x[0],x[1],x[2],x[3],x[4],x[5],t)\n",
        "                  \n",
        "    return np.squeeze(xdot)"
      ],
      "execution_count": null,
      "outputs": [
        {
          "output_type": "display_data",
          "data": {
            "text/html": [
              "<script src='https://cdnjs.cloudflare.com/ajax/libs/mathjax/2.7.3/latest.js?config=TeX-AMS_HTML'></script>"
            ],
            "text/plain": [
              "<IPython.core.display.HTML object>"
            ]
          },
          "metadata": {
            "tags": []
          }
        },
        {
          "output_type": "display_data",
          "data": {
            "text/latex": "$$\\left[\\begin{matrix}v_{xb}\\\\0.0\\\\v_{yb}\\\\-9.81\\\\v_{thr}\\\\0.0130899693899575 t^{2} - 9.81 \\sin{\\left (\\theta{\\left (t \\right )} \\right )}\\end{matrix}\\right]$$",
            "text/plain": [
              "⎡                   v_xb                    ⎤\n",
              "⎢                                           ⎥\n",
              "⎢                    0.0                    ⎥\n",
              "⎢                                           ⎥\n",
              "⎢                   v_yb                    ⎥\n",
              "⎢                                           ⎥\n",
              "⎢                   -9.81                   ⎥\n",
              "⎢                                           ⎥\n",
              "⎢                   vₜₕᵣ                    ⎥\n",
              "⎢                                           ⎥\n",
              "⎢                    2                      ⎥\n",
              "⎣0.0130899693899575⋅t  - 9.81⋅sin(\\theta(t))⎦"
            ]
          },
          "metadata": {
            "tags": []
          }
        }
      ]
    },
    {
      "cell_type": "code",
      "metadata": {
        "id": "SAPlMMHA8D5U",
        "colab": {
          "base_uri": "https://localhost:8080/",
          "height": 113
        },
        "outputId": "464efcb1-ac2c-40f4-abff-8c3c253b50fb"
      },
      "source": [
        "q"
      ],
      "execution_count": null,
      "outputs": [
        {
          "output_type": "display_data",
          "data": {
            "text/html": [
              "<script src='https://cdnjs.cloudflare.com/ajax/libs/mathjax/2.7.3/latest.js?config=TeX-AMS_HTML'></script>"
            ],
            "text/plain": [
              "<IPython.core.display.HTML object>"
            ]
          },
          "metadata": {
            "tags": []
          }
        },
        {
          "output_type": "execute_result",
          "data": {
            "text/latex": "$$\\left[\\begin{matrix}\\operatorname{x_{b}}{\\left (t \\right )}\\\\\\operatorname{y_{b}}{\\left (t \\right )}\\\\\\theta{\\left (t \\right )}\\end{matrix}\\right]$$",
            "text/plain": [
              "⎡ x_b(t)  ⎤\n",
              "⎢         ⎥\n",
              "⎢ y_b(t)  ⎥\n",
              "⎢         ⎥\n",
              "⎣\\theta(t)⎦"
            ]
          },
          "metadata": {
            "tags": []
          },
          "execution_count": 531
        }
      ]
    },
    {
      "cell_type": "code",
      "metadata": {
        "id": "KMTWPNI-vGpY",
        "colab": {
          "base_uri": "https://localhost:8080/",
          "height": 67
        },
        "outputId": "a86d5b28-13dd-4639-aa47-601c79c514c5"
      },
      "source": [
        "phi1"
      ],
      "execution_count": null,
      "outputs": [
        {
          "output_type": "display_data",
          "data": {
            "text/html": [
              "<script src='https://cdnjs.cloudflare.com/ajax/libs/mathjax/2.7.3/latest.js?config=TeX-AMS_HTML'></script>"
            ],
            "text/plain": [
              "<IPython.core.display.HTML object>"
            ]
          },
          "metadata": {
            "tags": []
          }
        },
        {
          "output_type": "execute_result",
          "data": {
            "text/latex": "$$\\left(- R \\sin{\\left (\\theta{\\left (t \\right )} \\right )} + \\operatorname{x_{b}}{\\left (t \\right )}\\right)^{2} + \\left(R \\cos{\\left (\\theta{\\left (t \\right )} \\right )} + \\operatorname{y_{b}}{\\left (t \\right )}\\right)^{2}$$",
            "text/plain": [
              "                            2                              2\n",
              "(-R⋅sin(\\theta(t)) + x_b(t))  + (R⋅cos(\\theta(t)) + y_b(t)) "
            ]
          },
          "metadata": {
            "tags": []
          },
          "execution_count": 532
        }
      ]
    },
    {
      "cell_type": "code",
      "metadata": {
        "id": "vD0-D2GjER6C",
        "colab": {
          "base_uri": "https://localhost:8080/",
          "height": 113
        },
        "outputId": "fbf5d88f-9e32-4d32-b0aa-ae684c9cc112"
      },
      "source": [
        "q"
      ],
      "execution_count": null,
      "outputs": [
        {
          "output_type": "display_data",
          "data": {
            "text/html": [
              "<script src='https://cdnjs.cloudflare.com/ajax/libs/mathjax/2.7.3/latest.js?config=TeX-AMS_HTML'></script>"
            ],
            "text/plain": [
              "<IPython.core.display.HTML object>"
            ]
          },
          "metadata": {
            "tags": []
          }
        },
        {
          "output_type": "execute_result",
          "data": {
            "text/latex": "$$\\left[\\begin{matrix}\\operatorname{x_{b}}{\\left (t \\right )}\\\\\\operatorname{y_{b}}{\\left (t \\right )}\\\\\\theta{\\left (t \\right )}\\end{matrix}\\right]$$",
            "text/plain": [
              "⎡ x_b(t)  ⎤\n",
              "⎢         ⎥\n",
              "⎢ y_b(t)  ⎥\n",
              "⎢         ⎥\n",
              "⎣\\theta(t)⎦"
            ]
          },
          "metadata": {
            "tags": []
          },
          "execution_count": 533
        }
      ]
    },
    {
      "cell_type": "code",
      "metadata": {
        "id": "TMPShskQTSeF"
      },
      "source": [
        "# Lambdifying impact surface\n",
        "lam_phi1 = sym.lambdify([q[0],q[1],q[2]],phi1.subs({m:3,mb:2,R:1}))\n",
        "# lam_phi2 = sym.lambdify([q[2],q[3],q[4]],phi2.subs({ms:3,mb:2}))\n",
        "\n",
        "# Check phi(q)\n",
        "def phi1_condition(x):\n",
        "  return abs(lam_phi1(x[0],x[2],x[4])) < 0.1\n",
        "\n",
        "# def phi2_condition(x):\n",
        "#   return lam_phi2(x[4],x[6],x[8]) < 0.01\n",
        "\n",
        "# Flip ys yb velocity\n",
        "def impact_update_1(x):\n",
        "  updatex = np.copy(x)\n",
        "\n",
        "  Impact_f = Impact_Equation_Num_1.subs({xb:x[0],\n",
        "                                          dfm_dummy[0]:x[1],\n",
        "                                          yb:x[2],\n",
        "                                          dfm_dummy[1]:x[3],\n",
        "                                          th:x[4],\n",
        "                                          dfm_dummy[2]:x[5]})\n",
        "  \n",
        "  solution = sym.solve(Impact_f,[dfp_dummy[0],dfp_dummy[1],dfp_dummy[2],Lam1])\n",
        "  updatex[1] = solution[0][0]\n",
        "  updatex[3] = solution[0][1]\n",
        "  updatex[5] = solution[0][2]\n",
        "  # updatex[1] = np.real(complex(solution[0][0]))\n",
        "  # updatex[3] = np.real(complex(solution[0][1]))\n",
        "  # updatex[5] = np.real(complex(solution[0][2]))\n",
        "\n",
        "  return updatex\n",
        "\n",
        "  # Flip yb thr velocity\n",
        "# def impact_update_2(x):\n",
        "#   updatex = np.copy(x)\n",
        "\n",
        "#   Impact_f = Impact_Equation_Num_2.subs({xs:x[0],\n",
        "#                                           dfm_dummy[0]:x[1],\n",
        "#                                           ys:x[2],\n",
        "#                                           dfm_dummy[1]:x[3],\n",
        "#                                           xb:x[4],\n",
        "#                                           dfm_dummy[2]:x[5],\n",
        "#                                           yb:x[6],\n",
        "#                                           dfm_dummy[3]:x[7],\n",
        "#                                           thr:x[8],\n",
        "#                                           dfm_dummy[4]:x[9]})\n",
        "#   solution = sym.solve(Impact_f,[dfp_dummy[0],dfp_dummy[1],dfp_dummy[2],dfp_dummy[3],dfp_dummy[4],Lam2])\n",
        "#   updatex[1] = solution[0][0]\n",
        "#   updatex[3] = solution[0][1]\n",
        "#   updatex[5] = solution[0][2]\n",
        "#   updatex[7] = solution[0][3]\n",
        "#   updatex[9] = solution[0][4]\n",
        "#   return updatex"
      ],
      "execution_count": null,
      "outputs": []
    },
    {
      "cell_type": "code",
      "metadata": {
        "id": "zxBVaVh1yItk",
        "colab": {
          "base_uri": "https://localhost:8080/",
          "height": 91
        },
        "outputId": "3c372ec2-d137-4de5-d324-6a21174ea833"
      },
      "source": [
        "H"
      ],
      "execution_count": null,
      "outputs": [
        {
          "output_type": "display_data",
          "data": {
            "text/html": [
              "<script src='https://cdnjs.cloudflare.com/ajax/libs/mathjax/2.7.3/latest.js?config=TeX-AMS_HTML'></script>"
            ],
            "text/plain": [
              "<IPython.core.display.HTML object>"
            ]
          },
          "metadata": {
            "tags": []
          }
        },
        {
          "output_type": "execute_result",
          "data": {
            "text/latex": "$$- R^{2} g m \\cos{\\left (\\theta{\\left (t \\right )} \\right )} + 0.5 R^{2} m \\left(\\frac{d}{d t} \\theta{\\left (t \\right )}\\right)^{2} + g m_{b} \\operatorname{y_{b}}{\\left (t \\right )} + 0.5 m_{b} \\left(\\frac{d}{d t} \\operatorname{x_{b}}{\\left (t \\right )}\\right)^{2} + 0.5 m_{b} \\left(\\frac{d}{d t} \\operatorname{y_{b}}{\\left (t \\right )}\\right)^{2}$$",
            "text/plain": [
              "                                                  2                           \n",
              "   2                           2   ⎛d            ⎞                           ⎛\n",
              "- R ⋅g⋅m⋅cos(\\theta(t)) + 0.5⋅R ⋅m⋅⎜──(\\theta(t))⎟  + g⋅m_b⋅y_b(t) + 0.5⋅m_b⋅⎜\n",
              "                                   ⎝dt           ⎠                           ⎝\n",
              "\n",
              "           2                       2\n",
              "d         ⎞            ⎛d         ⎞ \n",
              "──(x_b(t))⎟  + 0.5⋅m_b⋅⎜──(y_b(t))⎟ \n",
              "dt        ⎠            ⎝dt        ⎠ "
            ]
          },
          "metadata": {
            "tags": []
          },
          "execution_count": 535
        }
      ]
    },
    {
      "cell_type": "code",
      "metadata": {
        "id": "edqNhbWr1Nep",
        "colab": {
          "base_uri": "https://localhost:8080/",
          "height": 113
        },
        "outputId": "46961555-d7ac-445e-93c1-992a83cbb0d8"
      },
      "source": [
        "q"
      ],
      "execution_count": null,
      "outputs": [
        {
          "output_type": "display_data",
          "data": {
            "text/html": [
              "<script src='https://cdnjs.cloudflare.com/ajax/libs/mathjax/2.7.3/latest.js?config=TeX-AMS_HTML'></script>"
            ],
            "text/plain": [
              "<IPython.core.display.HTML object>"
            ]
          },
          "metadata": {
            "tags": []
          }
        },
        {
          "output_type": "execute_result",
          "data": {
            "text/latex": "$$\\left[\\begin{matrix}\\operatorname{x_{b}}{\\left (t \\right )}\\\\\\operatorname{y_{b}}{\\left (t \\right )}\\\\\\theta{\\left (t \\right )}\\end{matrix}\\right]$$",
            "text/plain": [
              "⎡ x_b(t)  ⎤\n",
              "⎢         ⎥\n",
              "⎢ y_b(t)  ⎥\n",
              "⎢         ⎥\n",
              "⎣\\theta(t)⎦"
            ]
          },
          "metadata": {
            "tags": []
          },
          "execution_count": 536
        }
      ]
    },
    {
      "cell_type": "code",
      "metadata": {
        "id": "x2m1SVpQ1QQu",
        "colab": {
          "base_uri": "https://localhost:8080/",
          "height": 128
        },
        "outputId": "c1f64e6c-1f4a-4973-db65-97cdb68b502d"
      },
      "source": [
        "qdot"
      ],
      "execution_count": null,
      "outputs": [
        {
          "output_type": "display_data",
          "data": {
            "text/html": [
              "<script src='https://cdnjs.cloudflare.com/ajax/libs/mathjax/2.7.3/latest.js?config=TeX-AMS_HTML'></script>"
            ],
            "text/plain": [
              "<IPython.core.display.HTML object>"
            ]
          },
          "metadata": {
            "tags": []
          }
        },
        {
          "output_type": "execute_result",
          "data": {
            "text/latex": "$$\\left[\\begin{matrix}\\frac{d}{d t} \\operatorname{x_{b}}{\\left (t \\right )}\\\\\\frac{d}{d t} \\operatorname{y_{b}}{\\left (t \\right )}\\\\\\frac{d}{d t} \\theta{\\left (t \\right )}\\end{matrix}\\right]$$",
            "text/plain": [
              "⎡ d           ⎤\n",
              "⎢ ──(x_b(t))  ⎥\n",
              "⎢ dt          ⎥\n",
              "⎢             ⎥\n",
              "⎢ d           ⎥\n",
              "⎢ ──(y_b(t))  ⎥\n",
              "⎢ dt          ⎥\n",
              "⎢             ⎥\n",
              "⎢d            ⎥\n",
              "⎢──(\\theta(t))⎥\n",
              "⎣dt           ⎦"
            ]
          },
          "metadata": {
            "tags": []
          },
          "execution_count": 537
        }
      ]
    },
    {
      "cell_type": "code",
      "metadata": {
        "id": "LEGXNtKE3heF",
        "colab": {
          "base_uri": "https://localhost:8080/",
          "height": 68
        },
        "outputId": "89b8ef77-9dcf-40f4-fb96-054bd84f8ec8"
      },
      "source": [
        "vxbH,vybH,vthrH = sym.symbols('v_xbH v_ybH v_thrH')\n",
        "Ham = H.subs({m:3,R:1,g:9.81,mb:2})\n",
        "Ham_dummy = Ham.subs({qdot[0]:vxbH,qdot[1]:vybH,qdot[2]:vthrH})\n",
        "display(Ham_dummy)\n",
        "lam_Hamiltonian = sym.lambdify([q[0],vxbH,q[1],vybH,q[2],vthrH],Ham_dummy)"
      ],
      "execution_count": null,
      "outputs": [
        {
          "output_type": "display_data",
          "data": {
            "text/html": [
              "<script src='https://cdnjs.cloudflare.com/ajax/libs/mathjax/2.7.3/latest.js?config=TeX-AMS_HTML'></script>"
            ],
            "text/plain": [
              "<IPython.core.display.HTML object>"
            ]
          },
          "metadata": {
            "tags": []
          }
        },
        {
          "output_type": "display_data",
          "data": {
            "text/latex": "$$1.5 v_{thrH}^{2} + 1.0 v_{xbH}^{2} + 1.0 v_{ybH}^{2} + 19.62 \\operatorname{y_{b}}{\\left (t \\right )} - 29.43 \\cos{\\left (\\theta{\\left (t \\right )} \\right )}$$",
            "text/plain": [
              "          2            2            2                                      \n",
              "1.5⋅v_thrH  + 1.0⋅v_xbH  + 1.0⋅v_ybH  + 19.62⋅y_b(t) - 29.43⋅cos(\\theta(t))"
            ]
          },
          "metadata": {
            "tags": []
          }
        }
      ]
    },
    {
      "cell_type": "code",
      "metadata": {
        "id": "6jpVei9fbbMn",
        "colab": {
          "base_uri": "https://localhost:8080/",
          "height": 441
        },
        "outputId": "66c8083a-218c-45fe-9801-21eeb33bb0f0"
      },
      "source": [
        "# Numerical Simulation\n",
        "tspan = [0,10]\n",
        "dt = 0.05\n",
        "x0 = np.array([0.3,0,0.1,0.3,np.pi/2,0])\n",
        "N = int((max(tspan)-min(tspan))/dt)\n",
        "tvec = np.linspace(min(tspan),max(tspan),N)\n",
        "\n",
        "# Here we simulate ,psi_condition,impact_update\n",
        "xvec = simulate_impact_2(dynamics,x0,tspan,dt,phi1_condition,impact_update_1)\n",
        "\n",
        "# Here we plot\n",
        "plt.figure(dpi=110,facecolor='w')\n",
        "plt.plot(tvec,xvec[0])\n",
        "plt.plot(tvec,xvec[2])\n",
        "plt.plot(tvec,xvec[4])\n",
        "\n",
        "\n",
        "plt.xlim(tspan)\n",
        "plt.title('Resulting theta Trajectory')\n",
        "plt.xlabel('Time (s)')\n",
        "plt.ylabel('States')\n",
        "plt.legend([r'$x_b$(t)',r'$y_b$(t)',r'$\\theta$(t)'])\n",
        "plt.grid(True)"
      ],
      "execution_count": null,
      "outputs": [
        {
          "output_type": "display_data",
          "data": {
            "image/png": "[encoded data removed]",
            "text/plain": [
              "<Figure size 660x440 with 1 Axes>"
            ]
          },
          "metadata": {
            "tags": []
          }
        }
      ]
    },
    {
      "cell_type": "code",
      "metadata": {
        "id": "6_KZMD-r_pQg"
      },
      "source": [
        "xpos=np.sin(xvec[4])\n",
        "ypos=-np.cos(xvec[4])"
      ],
      "execution_count": null,
      "outputs": []
    },
    {
      "cell_type": "code",
      "metadata": {
        "id": "rTA2BqkZBDt6",
        "colab": {
          "base_uri": "https://localhost:8080/",
          "height": 441
        },
        "outputId": "84048f46-4405-4d1f-d364-0cf064f84602"
      },
      "source": [
        "plt.figure(dpi=110,facecolor='w')\n",
        "plt.plot(tvec,xpos)\n",
        "plt.plot(tvec,ypos)\n",
        "plt.plot(tvec,xvec[0])\n",
        "plt.plot(tvec,xvec[2])\n",
        "\n",
        "\n",
        "\n",
        "plt.xlim(tspan)\n",
        "plt.title('Resulting theta Trajectory')\n",
        "plt.xlabel('Time (s)')\n",
        "plt.ylabel('States')\n",
        "plt.legend([r'$x_pen$(t)',r'$y_pen$(t)',r'$x_pos$(t)',r'$y_pos$(t)'])\n",
        "plt.grid(True)"
      ],
      "execution_count": null,
      "outputs": [
        {
          "output_type": "display_data",
          "data": {
            "image/png": "[encoded data removed]",
            "text/plain": [
              "<Figure size 660x440 with 1 Axes>"
            ]
          },
          "metadata": {
            "tags": []
          }
        }
      ]
    },
    {
      "cell_type": "code",
      "metadata": {
        "id": "Zm2y0Q51DD-Z",
        "colab": {
          "base_uri": "https://localhost:8080/",
          "height": 441
        },
        "outputId": "1242e47a-e37a-43c8-db31-607db7372f85"
      },
      "source": [
        "# #Plot for hamilitonian added.\n",
        "# #1903 after intererrupted impact\n",
        "# Ham = H.subs({m:3,R:1,g:9.81,mb=2})\n",
        "# Ham_dummy = Ham.subs({qdot[0]:vxbH,qdot[1]:vybH,qdot[2]:vthrH})\n",
        "# lam_Hamiltonian = sym.lambdify([th,vth],Ham_dummy)\n",
        "\n",
        "\n",
        "\n",
        "HAM = lam_Hamiltonian(xvec[0],xvec[1],xvec[2],xvec[3],xvec[4],xvec[5])\n",
        "plt.figure(dpi=110,facecolor='w')\n",
        "plt.plot(tvec,HAM)\n",
        "\n",
        "plt.xlim(tspan)\n",
        "plt.title('Hamiltonian')\n",
        "plt.xlabel('Time (s)')\n",
        "plt.ylabel('States')\n",
        "\n",
        "plt.legend(['Hamiltonian'])\n",
        "plt.grid(True)\n",
        "plt.show()\n"
      ],
      "execution_count": null,
      "outputs": [
        {
          "output_type": "display_data",
          "data": {
            "image/png": "[encoded data removed]",
            "text/plain": [
              "<Figure size 660x440 with 1 Axes>"
            ]
          },
          "metadata": {
            "tags": []
          }
        }
      ]
    },
    {
      "cell_type": "code",
      "metadata": {
        "id": "CTo-DKoZoRca"
      },
      "source": [
        "def animate(config_array,T=10):\n",
        "    ################################\n",
        "    # Imports required for animation.\n",
        "    from plotly.offline import init_notebook_mode, iplot\n",
        "    from IPython.display import display, HTML\n",
        "    \n",
        "    #######################\n",
        "    # Browser configuration.\n",
        "    def configure_plotly_browser_state():\n",
        "      import IPython\n",
        "      display(IPython.core.display.HTML('''\n",
        "            <script src=\"/static/components/requirejs/require.js\"></script>\n",
        "            <script>\n",
        "              requirejs.config({\n",
        "                paths: {\n",
        "                  base: '/static/base',\n",
        "                  plotly: 'https://cdn.plot.ly/plotly-1.5.1.min.js?noext',\n",
        "                },\n",
        "              });\n",
        "            </script>\n",
        "            '''))\n",
        "    configure_plotly_browser_state()\n",
        "    init_notebook_mode(connected=False)\n",
        "    \n",
        "    #################################\n",
        "    # Getting data from trajectories.\n",
        "\n",
        "    # Rect 1\n",
        "    xx1_1=config_array[0]; yy1_1=config_array[1];\n",
        "    xx2_1=config_array[2]; yy2_1=config_array[3];\n",
        "    xx3_1=config_array[4]; yy3_1=config_array[5];\n",
        "    xx4_1=config_array[6]; yy4_1=config_array[7];\n",
        "\n",
        "    # Rect 2\n",
        "    xx1_2=config_array[8]; yy1_2=config_array[9]\n",
        "    xx2_2=config_array[10]; yy2_2=config_array[11]\n",
        "    xx3_2=config_array[12]; yy3_2=config_array[13]\n",
        "    xx4_2=config_array[14]; yy4_2=config_array[15]\n",
        "\n",
        "    # Rect 3\n",
        "    xx1_3=config_array[16]; yy1_3=config_array[17]\n",
        "    xx2_3=config_array[18]; yy2_3=config_array[19]\n",
        "    xx3_3=config_array[20]; yy3_3=config_array[21]\n",
        "    xx4_3=config_array[22]; yy4_3=config_array[23]\n",
        "    N = len(config_array[0]) # Need this for specifying length of simulation\n",
        "    \n",
        "    ####################################\n",
        "    # Using these to specify axis limits.\n",
        "    xm=-3\n",
        "    xM=3\n",
        "    ym=-8\n",
        "    yM=3\n",
        "\n",
        "    ###########################\n",
        "    # Defining data dictionary.\n",
        "    # Trajectories are here.\n",
        "    data=[dict(x=xx1_1, y=yy1_1, \n",
        "               mode='lines', name='Splits', \n",
        "               line=dict(width=2, color='blue')\n",
        "              )\n",
        "        ]\n",
        "    \n",
        "    ################################\n",
        "    # Preparing simulation layout.\n",
        "    # Title and axis ranges are here.\n",
        "    layout=dict(xaxis=dict(range=[xm, xM], autorange=False, zeroline=False,dtick=1),\n",
        "                yaxis=dict(range=[ym, yM], autorange=False, zeroline=False,scaleanchor = \"x\",dtick=1),\n",
        "                title='Splits Simulation', \n",
        "                hovermode='closest',\n",
        "                updatemenus= [{'type': 'buttons',\n",
        "                               'buttons': [{'label': 'Play','method': 'animate',\n",
        "                                            'args': [None, {'frame': {'duration': T, 'redraw': False}}]},\n",
        "                                           {'args': [[None], {'frame': {'duration': T, 'redraw': False}, 'mode': 'immediate',\n",
        "                                            'transition': {'duration': 0}}],'label': 'Pause','method': 'animate'}\n",
        "                                          ]\n",
        "                              }]\n",
        "               )\n",
        "    \n",
        "    ########################################\n",
        "    # Defining the frames of the simulation.\n",
        "    # This is what draws the lines from\n",
        "    # joint to joint of the pendulum.\n",
        "    frames=[dict(data=[dict(x=[xx1_1[k],xx2_1[k],xx3_1[k],xx4_1[k],xx1_1[k],None,\n",
        "                               xx1_2[k],xx2_2[k],xx3_2[k],xx4_2[k],xx1_2[k],None,\n",
        "                               xx1_3[k],xx2_3[k],xx3_3[k],xx4_3[k],xx1_3[k]], \n",
        "                            y=[yy1_1[k],yy2_1[k],yy3_1[k],yy4_1[k],yy1_1[k],None,\n",
        "                               yy1_2[k],yy2_2[k],yy3_2[k],yy4_2[k],yy1_2[k],None,\n",
        "                               yy1_3[k],yy2_3[k],yy3_3[k],yy4_3[k],yy1_3[k]], \n",
        "                            mode='lines',\n",
        "                            line=dict(color='black', width=2)\n",
        "                            )\n",
        "                      ]) for k in range(N)]\n",
        "    \n",
        "    #######################################\n",
        "    # Putting it all together and plotting.\n",
        "    figure1=dict(data=data, layout=layout, frames=frames)           \n",
        "    iplot(figure1)\n",
        "\n"
      ],
      "execution_count": null,
      "outputs": []
    },
    {
      "cell_type": "code",
      "metadata": {
        "id": "UzdhnFJGjrCL"
      },
      "source": [
        "def animate_pend(x,y,theta_array,L1=1,T=10):\n",
        " \n",
        "    ################################\n",
        "    # Imports required for animation.\n",
        "    from plotly.offline import init_notebook_mode, iplot\n",
        "    from IPython.display import display, HTML\n",
        "    \n",
        "    #######################\n",
        "    # Browser configuration.\n",
        "    def configure_plotly_browser_state():\n",
        "      import IPython\n",
        "      display(IPython.core.display.HTML('''\n",
        "            <script src=\"/static/components/requirejs/require.js\"></script>\n",
        "            <script>\n",
        "              requirejs.config({\n",
        "                paths: {\n",
        "                  base: '/static/base',\n",
        "                  plotly: 'https://cdn.plot.ly/plotly-1.5.1.min.js?noext',\n",
        "                },\n",
        "              });\n",
        "            </script>\n",
        "            '''))\n",
        "    configure_plotly_browser_state()\n",
        "    init_notebook_mode(connected=False)\n",
        "    \n",
        "    ###############################################\n",
        "    # Getting data from pendulum angle trajectories.\n",
        "    xx2 = x\n",
        "    yy2 = y\n",
        "    xx1=L1*np.sin(theta_array[0])\n",
        "    yy1=-L1*np.cos(theta_array[0])\n",
        "    N = len(theta_array[0]) # Need this for specifying length of simulation\n",
        "    \n",
        "    ####################################\n",
        "    # Using these to specify axis limits.\n",
        "    xm=np.min(xx1)-0.5\n",
        "    xM=np.max(xx1)+0.5\n",
        "    ym=np.min(yy1)-2.5\n",
        "    yM=np.max(yy1)+1.5\n",
        "\n",
        "        # Rect 1\n",
        "    # xx1_1=config_array[0]; yy1_1=config_array[1];\n",
        "    # xx2_1=config_array[2]; yy2_1=config_array[3];\n",
        "    # xx3_1=config_array[4]; yy3_1=config_array[5];\n",
        "    # xx4_1=config_array[6]; yy4_1=config_array[7];\n",
        "\n",
        "\n",
        "    ###########################\n",
        "    # Defining data dictionary.\n",
        "    # Trajectories are here.\n",
        "    data=[dict(x=xx1, y=yy1, \n",
        "               mode='lines', name='Pendulum', \n",
        "               line=dict(width=2, color='blue')\n",
        "              ),\n",
        "          # dict(x=xx1, y=yy1, \n",
        "          #      mode='lines', name='Mass Traj.',\n",
        "          #      line=dict(width=2, color='purple')\n",
        "              # ),\n",
        "          dict(x=xx2, y=yy2, \n",
        "               mode='lines', name='Mass Traj.',\n",
        "               line=dict(width=2, color='green')\n",
        "              )\n",
        "          # ,\n",
        "          # dict(x=xx1_1, y=yy1_1, \n",
        "          #      mode='lines', name='Splits', \n",
        "          #      line=dict(width=2, color='blue')\n",
        "          #     )\n",
        "        ]\n",
        "    \n",
        "    ################################\n",
        "    # Preparing simulation layout.\n",
        "    # Title and axis ranges are here.\n",
        "    layout=dict(xaxis=dict(range=[xm, xM], autorange=False, zeroline=False,dtick=1),\n",
        "                yaxis=dict(range=[ym, yM], autorange=False, zeroline=False,scaleanchor = \"x\",dtick=1),\n",
        "                title='Single Pendulum Simulation', \n",
        "                hovermode='closest',\n",
        "                updatemenus= [{'type': 'buttons',\n",
        "                               'buttons': [{'label': 'Play','method': 'animate',\n",
        "                                            'args': [None, {'frame': {'duration': T, 'redraw': False}}]},\n",
        "                                           {'args': [[None], {'frame': {'duration': T, 'redraw': False}, 'mode': 'immediate',\n",
        "                                            'transition': {'duration': 0}}],'label': 'Pause','method': 'animate'}\n",
        "                                          ]\n",
        "                              }]\n",
        "               )\n",
        "    \n",
        "    ########################################\n",
        "    # Defining the frames of the simulation.\n",
        "    # This is what draws the lines from\n",
        "    # joint to joint of the pendulum.\n",
        "    frames=[dict(data=[dict(x=[0,xx1[k]], \n",
        "                            y=[0,yy1[k]], \n",
        "                            mode='lines',\n",
        "                            line=dict(color='red', width=7),\n",
        "                            \n",
        "\n",
        "\n",
        "                            ),\n",
        "                       \n",
        "\n",
        "\n",
        "                      \n",
        "                       ]) for k in range(N)]\n",
        "\n",
        "\n",
        "\n",
        "                 \n",
        "\n",
        "    # frames=[dict(data=[dict(x=[xx1_1[k],xx2_1[k],xx3_1[k],xx4_1[k],xx1_1[k],None], \n",
        "    #                         y=[yy1_1[k],yy2_1[k],yy3_1[k],yy4_1[k],yy1_1[k],None], \n",
        "    #                         mode='lines',\n",
        "    #                         line=dict(color='black', width=2)\n",
        "    #                         )\n",
        "    #                   ]) for k in range(N)]\n",
        "    #######################################\n",
        "    # Putting it all together and plotting.\n",
        "    figure1=dict(data=data, layout=layout, frames=frames)           \n",
        "    iplot(figure1)\n",
        "\n",
        "\n",
        "                            "
      ],
      "execution_count": null,
      "outputs": []
    },
    {
      "cell_type": "code",
      "metadata": {
        "id": "ENZQTBO8kFjW"
      },
      "source": [
        "theta_array = np.array([xvec[4]])\n",
        "x = xvec[0]\n",
        "y = xvec[2]\n",
        "#animate_pend(x,y,theta_array,1,10)"
      ],
      "execution_count": null,
      "outputs": []
    },
    {
      "cell_type": "code",
      "metadata": {
        "id": "6JAeB7A7Y9iL"
      },
      "source": [
        "def animate_pend2(config_array,theta_array,L1=1,T=10):\n",
        " \n",
        "    ################################\n",
        "    # Imports required for animation.\n",
        "    from plotly.offline import init_notebook_mode, iplot\n",
        "    from IPython.display import display, HTML\n",
        "    \n",
        "    #######################\n",
        "    # Browser configuration.\n",
        "    def configure_plotly_browser_state():\n",
        "      import IPython\n",
        "      display(IPython.core.display.HTML('''\n",
        "            <script src=\"/static/components/requirejs/require.js\"></script>\n",
        "            <script>\n",
        "              requirejs.config({\n",
        "                paths: {\n",
        "                  base: '/static/base',\n",
        "                  plotly: 'https://cdn.plot.ly/plotly-1.5.1.min.js?noext',\n",
        "                },\n",
        "              });\n",
        "            </script>\n",
        "            '''))\n",
        "    configure_plotly_browser_state()\n",
        "    init_notebook_mode(connected=False)\n",
        "    \n",
        "    ###############################################\n",
        "    # Getting data from pendulum angle trajectories.\n",
        "    xx1=L1*np.sin(theta_array[0])\n",
        "    yy1=-L1*np.cos(theta_array[0])\n",
        "    N = len(theta_array[0]) # Need this for specifying length of simulation\n",
        "    \n",
        "    ####################################\n",
        "    # Using these to specify axis limits.\n",
        "    xm=np.min(xx1)-0.5\n",
        "    xM=np.max(xx1)+0.5\n",
        "    ym=np.min(yy1)-2.5\n",
        "    yM=np.max(yy1)+1.5\n",
        "\n",
        "        # Rect 1\n",
        "    xx1_1=config_array[0]; yy1_1=config_array[1];\n",
        "    xx2_1=config_array[2]; yy2_1=config_array[3];\n",
        "    xx3_1=config_array[4]; yy3_1=config_array[5];\n",
        "    xx4_1=config_array[6]; yy4_1=config_array[7];\n",
        "\n",
        "        #Rect2\n",
        "    xx1_2=config_array[8]; yy1_2=config_array[9]\n",
        "    xx2_2=config_array[10]; yy2_2=config_array[11]\n",
        "    xx3_2=config_array[12]; yy3_2=config_array[13]\n",
        "    xx4_2=config_array[14]; yy4_2=config_array[15]\n",
        "\n",
        "\n",
        "    ###########################\n",
        "    # Defining data dictionary.\n",
        "    # Trajectories are here.\n",
        "    data=[dict(x=xx1, y=yy1, \n",
        "               mode='lines', name='Pendulum', \n",
        "               line=dict(width=2, color='blue')\n",
        "              ),\n",
        "          dict(x=xx1, y=yy1, \n",
        "               mode='lines', name='Mass Traj.',\n",
        "               line=dict(width=2, color='purple')\n",
        "              ),\n",
        "          dict(x=xx1_1, y=yy1_1, \n",
        "               mode='lines', name='Splits', \n",
        "               line=dict(width=2, color='blue')\n",
        "              )\n",
        "        ]\n",
        "    \n",
        "    ################################\n",
        "    # Preparing simulation layout.\n",
        "    # Title and axis ranges are here.\n",
        "    layout=dict(xaxis=dict(range=[xm, xM], autorange=False, zeroline=False,dtick=1),\n",
        "                yaxis=dict(range=[ym, yM], autorange=False, zeroline=False,scaleanchor = \"x\",dtick=1),\n",
        "                title='Single Pendulum Simulation', \n",
        "                hovermode='closest',\n",
        "                updatemenus= [{'type': 'buttons',\n",
        "                               'buttons': [{'label': 'Play','method': 'animate',\n",
        "                                            'args': [None, {'frame': {'duration': T, 'redraw': False}}]},\n",
        "                                           {'args': [[None], {'frame': {'duration': T, 'redraw': False}, 'mode': 'immediate',\n",
        "                                            'transition': {'duration': 0}}],'label': 'Pause','method': 'animate'}\n",
        "                                          ]\n",
        "                              }]\n",
        "               )\n",
        "    \n",
        "    ########################################\n",
        "    # Defining the frames of the simulation.\n",
        "    # This is what draws the lines from\n",
        "    # joint to joint of the pendulum.\n",
        "    frames=[dict(data=[dict(x=[xx1_1[k],xx2_1[k],xx3_1[k],xx4_1[k],xx1_1[k],None,\n",
        "                               xx1_2[k],xx2_2[k],xx3_2[k],xx4_2[k],xx1_2[k],None,], \n",
        "                            y=[yy1_1[k],yy2_1[k],yy3_1[k],yy4_1[k],yy1_1[k],None,\n",
        "                               yy1_2[k],yy2_2[k],yy3_2[k],yy4_2[k],yy1_2[k],None,], \n",
        "                            mode='lines',\n",
        "                            line=dict(color='black', width=2)\n",
        "                            ),\n",
        "                       dict(x=[0,xx1[k]], \n",
        "                            y=[0,yy1[k]], \n",
        "                            mode='lines',\n",
        "                            line=dict(color='red', width=7)\n",
        "                            ),\n",
        "                      ]) for k in range(N)]\n",
        "    #######################################\n",
        "    # Putting it all together and plotting.\n",
        "    figure1=dict(data=data, layout=layout, frames=frames)           \n",
        "    iplot(figure1)\n",
        "\n",
        "\n",
        "                            "
      ],
      "execution_count": null,
      "outputs": []
    },
    {
      "cell_type": "code",
      "metadata": {
        "id": "wVWNvbE7VjaZ"
      },
      "source": [
        "# Init\n",
        "wax = np.array([0,0,1])\n",
        "x1 = xvec[0]; y1 = xvec[2]\n",
        "thet1 = np.zeros(x1.shape[0])\n",
        "x2 = xpos; y2 = ypos\n",
        "thet2 = np.zeros(x2.shape[0])\n",
        "# x3 = np.zeros(x2.shape[0]); y3 = np.zeros(x2.shape[0])\n",
        "# thet3 = xvec[8]\n",
        "rec1 = np.zeros((8,x1.shape[0])) \n",
        "rec2 = np.zeros((8,x1.shape[0])) \n",
        "# rec3 = np.zeros((8,x1.shape[0])) \n",
        "\n",
        "# Getting rectangle points at each time step\n",
        "for i in range(x1.shape[0]):\n",
        "    rec1[:,i] = rectangle_t(x1[i],y1[i],thet1[i],0.1,0.1)\n",
        "    rec2[:,i] = rectangle(x2[i],y2[i],thet2[i],0.2,0.2)\n",
        "   # rec3[:,i] = rectangle(x3[i],y3[i],thet3[i],2,0.6)\n",
        "\n",
        "# Putting points in the form animate() expects\n",
        "config_array = np.vstack([rec1,rec2])\n",
        "theta_array = np.array([xvec[4]])"
      ],
      "execution_count": null,
      "outputs": []
    },
    {
      "cell_type": "code",
      "metadata": {
        "id": "Ma1T63IkunOX",
        "colab": {
          "base_uri": "https://localhost:8080/",
          "height": 542
        },
        "outputId": "d0fd1bdf-6aa1-4aa9-d696-c4e1b2b319b6"
      },
      "source": [
        "theta_array = np.array([xvec[4]])\n",
        "animate_pend2(config_array,theta_array,1,10)"
      ],
      "execution_count": null,
      "outputs": []
    },
    {
      "cell_type": "code",
      "metadata": {
        "id": "HuM1KHgPfnMB"
      },
      "source": [
        "xvec[2]\n",
        "y_b=xvec[2]\n",
        "xvec[0]\n",
        "x_b=xvec[0]"
      ],
      "execution_count": null,
      "outputs": []
    },
    {
      "cell_type": "code",
      "metadata": {
        "id": "rCjZ9XjBHeV5"
      },
      "source": [
        "def animate_pend_ball(config_array,theta_array,x_b,y_b,L1=1,T=10):\n",
        " \n",
        "    ################################\n",
        "    # Imports required for animation.\n",
        "    from plotly.offline import init_notebook_mode, iplot\n",
        "    from IPython.display import display, HTML\n",
        "    \n",
        "    #######################\n",
        "    # Browser configuration.\n",
        "    def configure_plotly_browser_state():\n",
        "      import IPython\n",
        "      display(IPython.core.display.HTML('''\n",
        "            <script src=\"/static/components/requirejs/require.js\"></script>\n",
        "            <script>\n",
        "              requirejs.config({\n",
        "                paths: {\n",
        "                  base: '/static/base',\n",
        "                  plotly: 'https://cdn.plot.ly/plotly-1.5.1.min.js?noext',\n",
        "                },\n",
        "              });\n",
        "            </script>\n",
        "            '''))\n",
        "    configure_plotly_browser_state()\n",
        "    init_notebook_mode(connected=False)\n",
        "    \n",
        "    ###############################################\n",
        "    # Getting data from pendulum angle trajectories.\n",
        "    xx1=L1*np.sin(theta_array[0])\n",
        "    yy1=-L1*np.cos(theta_array[0])\n",
        "    N = len(theta_array[0]) # Need this for specifying length of simulation\n",
        "    \n",
        "            # Rect 1\n",
        "    xx1_1=config_array[0]; yy1_1=config_array[1];\n",
        "    xx2_1=config_array[2]; yy2_1=config_array[3];\n",
        "    xx3_1=config_array[4]; yy3_1=config_array[5];\n",
        "    xx4_1=config_array[6]; yy4_1=config_array[7]\n",
        "\n",
        "    ####################################\n",
        "    # Using these to specify axis limits.\n",
        "    xm=np.min(xx1)-0.5\n",
        "    xM=np.max(xx1)+0.5\n",
        "    ym=np.min(yy1)-2.5\n",
        "    yM=np.max(yy1)+1.5\n",
        "\n",
        "\n",
        "\n",
        "    ###########################\n",
        "    # Defining data dictionary.\n",
        "    # Trajectories are here.\n",
        "    data=[dict(x=xx1, y=yy1, \n",
        "               mode='lines', name='Pendulum', \n",
        "               line=dict(width=2, color='blue')\n",
        "              ),\n",
        "          dict(x=xx1, y=yy1, \n",
        "               mode='lines', name='Mass Traj.',\n",
        "               line=dict(width=2, color='purple')\n",
        "              ),\n",
        "          dict(x=xb, y=yb, \n",
        "               mode='lines', name='xb.',\n",
        "               line=dict(width=2, color='green')\n",
        "              )\n",
        "               ]\n",
        "    data=[dict(x=xx1_1, y=yy1_1, \n",
        "               mode='lines', name='Splits', \n",
        "               line=dict(width=2, color='blue')\n",
        "              )\n",
        "        ]\n",
        "              \n",
        "\n",
        "\n",
        "  \n",
        "\n",
        "    ################################\n",
        "    # Preparing simulation layout.\n",
        "    # Title and axis ranges are here.\n",
        "    layout=dict(xaxis=dict(range=[xm, xM], autorange=False, zeroline=False,dtick=1),\n",
        "                yaxis=dict(range=[ym, yM], autorange=False, zeroline=False,scaleanchor = \"x\",dtick=1),\n",
        "                title='Single Pendulum Simulation', \n",
        "                hovermode='closest',\n",
        "                updatemenus= [{'type': 'buttons',\n",
        "                               'buttons': [{'label': 'Play','method': 'animate',\n",
        "                                            'args': [None, {'frame': {'duration': T, 'redraw': False}}]},\n",
        "                                           {'args': [[None], {'frame': {'duration': T, 'redraw': False}, 'mode': 'immediate',\n",
        "                                            'transition': {'duration': 0}}],'label': 'Pause','method': 'animate'}\n",
        "                                          ]\n",
        "                              }]\n",
        "               )\n",
        "    \n",
        "    ########################################\n",
        "    # Defining the frames of the simulation.\n",
        "    # This is what draws the lines from\n",
        "    # joint to joint of the pendulum.\n",
        "    # frames=[dict(data=[dict(x=xb, \n",
        "    #                         y=yb, \n",
        "    #                         mode='circles',\n",
        "    #                         line=dict(color='blue', width=7)\n",
        "    #                         )\n",
        "    #                   ]) for k in range(N)],\n",
        "\n",
        "    frames=[dict(data=[dict(x=[0,xx1[k]], \n",
        "                            y=[0,yy1[k]], \n",
        "                            mode='lines',\n",
        "                            line=dict(color='red', width=7)\n",
        "                            )\n",
        "                      ]) for k in range(N)],\n",
        "\n",
        "\n",
        "    frames=[dict(data=[dict(x=[xx1_1[k],xx2_1[k],xx3_1[k],xx4_1[k],xx1_1[k],None], \n",
        "                            y=[yy1_1[k],yy2_1[k],yy3_1[k],yy4_1[k],yy1_1[k],None], \n",
        "                            mode='lines',\n",
        "                            line=dict(color='black', width=2)\n",
        "                            )\n",
        "                      ]) for k in range(N)]                      \n",
        "\n",
        "                      \n",
        "    \n",
        "    #######################################\n",
        "    # Putting it all together and plotting.\n",
        "    figure1=dict(data=data, layout=layout, frames=frames)           \n",
        "    iplot(figure1)"
      ],
      "execution_count": null,
      "outputs": []
    },
    {
      "cell_type": "markdown",
      "metadata": {
        "id": "_tDD8nPSpWcB"
      },
      "source": [
        ""
      ]
    },
    {
      "cell_type": "code",
      "metadata": {
        "id": "GAOySI5MW0A7"
      },
      "source": [
        "#xvec[0].shape"
      ],
      "execution_count": null,
      "outputs": []
    },
    {
      "cell_type": "code",
      "metadata": {
        "id": "nIA4hQGtHhYn"
      },
      "source": [
        "# x0=xvec[0]\n",
        "# y0=xvec[2]"
      ],
      "execution_count": null,
      "outputs": []
    },
    {
      "cell_type": "code",
      "metadata": {
        "id": "3rX_1XrwHjFG"
      },
      "source": [
        "# animate_pend_ball(theta_array,x0,y0,L1=1,T=10)"
      ],
      "execution_count": null,
      "outputs": []
    },
    {
      "cell_type": "code",
      "metadata": {
        "id": "Xq_q-f-Gpxuj"
      },
      "source": [
        "#animate(conf_array)"
      ],
      "execution_count": null,
      "outputs": []
    }
  ]
}