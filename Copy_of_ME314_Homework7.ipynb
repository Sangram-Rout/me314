{
  "nbformat": 4,
  "nbformat_minor": 0,
  "metadata": {
    "colab": {
      "name": "Copy of ME314_Homework7.ipynb",
      "provenance": [],
      "collapsed_sections": [],
      "include_colab_link": true
    },
    "kernelspec": {
      "name": "python3",
      "display_name": "Python 3"
    }
  },
  "cells": [
    {
      "cell_type": "markdown",
      "metadata": {
        "id": "view-in-github",
        "colab_type": "text"
      },
      "source": [
        "<a href=\"https://colab.research.google.com/github/Sangram-Rout/me314/blob/main/Copy_of_ME314_Homework7.ipynb\" target=\"_parent\"><img src=\"https://colab.research.google.com/assets/colab-badge.svg\" alt=\"Open In Colab\"/></a>"
      ]
    },
    {
      "cell_type": "markdown",
      "metadata": {
        "id": "Y-1xqtrXmr4w"
      },
      "source": [
        "# ME314 Homework #7\n",
        "Name: (Double Click to Edit)\n",
        "\n",
        "Date: 11/18/19\n",
        "\n",
        "**ALL PROBLEMS IN THIS HOMEWORK MUST BE DONE IN COLLABORATORY**. For the first problem, even if you work it out by hand, we would like you to write them up on your Colaboratory notebook. You can choose to make use of sympy to help with this, or you can directly write your answers in LaTeX within a text cell. You *must* (as always) show your work. "
      ]
    },
    {
      "cell_type": "markdown",
      "metadata": {
        "id": "vOfo2rom1AES"
      },
      "source": [
        "## Imports and Helper Functions\n",
        "Here you will find all the necessary libraries that we need to import to be able to complete the homework."
      ]
    },
    {
      "cell_type": "code",
      "metadata": {
        "id": "Zus1CO4zmp85",
        "cellView": "both"
      },
      "source": [
        "import numpy as np\n",
        "import sympy as sym\n",
        "from sympy.abc import t\n",
        "%matplotlib inline\n",
        "import matplotlib.pyplot as plt\n",
        "\n",
        "#######################\n",
        "# Custom latex printing\n",
        "def custom_latex_printer(exp,**options):\n",
        "    from google.colab.output._publish import javascript\n",
        "    url = \"https://cdnjs.cloudflare.com/ajax/libs/mathjax/2.7.3/latest.js?config=TeX-AMS_HTML\"\n",
        "    javascript(url=url)\n",
        "    return sym.printing.latex(exp,**options)\n",
        "sym.init_printing(use_latex=\"mathjax\",latex_printer=custom_latex_printer)\n",
        "\n",
        "####################\n",
        "# Simulation helpers\n",
        "def integrate(f,x0,dt):\n",
        "    \"\"\"\n",
        "    This function takes in an initial condition x0 and a timestep dt,\n",
        "    as well as a dynamical system f(x) that outputs a vector of the\n",
        "    same dimension as x0. It outputs a vector x at the future time step.\n",
        "    \"\"\"\n",
        "    k1=dt*f(x0)\n",
        "    k2=dt*f(x0+k1/2.)\n",
        "    k3=dt*f(x0+k2/2.)\n",
        "    k4=dt*f(x0+k3)\n",
        "    xnew=x0+(1/6.)*(k1+2.*k2+2.*k3+k4)\n",
        "    return xnew\n",
        "\n",
        "def simulate(f,x0,tspan,dt):\n",
        "    \"\"\"\n",
        "    This function takes in an initial condition x0, a timestep dt,\n",
        "    a time span tspan consisting of a list [min_time, max_time],\n",
        "    as well as a dynamical system f(x) that outputs a vector of the\n",
        "    same dimension as x0. Additionally, this includes a flag (default false)\n",
        "    that allows one to supply an Euler intergation scheme instead of \n",
        "    the given scheme. It outputs a full trajectory simulated\n",
        "    over the time span of dimensions (xvec_size, time_vec_size).\n",
        "    \"\"\"\n",
        "    N = int((max(tspan)-min(tspan))/dt)\n",
        "    x = np.copy(x0)\n",
        "    tvec = np.linspace(min(tspan),max(tspan),N)\n",
        "    xtraj = np.zeros((len(x0),N))\n",
        "    for i in range(N):\n",
        "        xtraj[:,i]=integrate(f,x,dt)\n",
        "        x = np.copy(xtraj[:,i])\n",
        "    return xtraj   "
      ],
      "execution_count": null,
      "outputs": []
    },
    {
      "cell_type": "markdown",
      "metadata": {
        "id": "UTzywv6w15Yq"
      },
      "source": [
        "## Problem Set"
      ]
    },
    {
      "cell_type": "markdown",
      "metadata": {
        "id": "ImU4iG8I2D_M"
      },
      "source": [
        "### Problem #1 (50 pts): Rotational Kinetic Energy"
      ]
    },
    {
      "cell_type": "code",
      "metadata": {
        "id": "AWP-T-KK2VT7",
        "cellView": "form",
        "colab": {
          "base_uri": "https://localhost:8080/",
          "height": 377
        },
        "outputId": "e734944e-d900-40e1-bd7d-fced9ebd0121"
      },
      "source": [
        "#@title\n",
        "# Code to display images\n",
        "from IPython.core.display import HTML\n",
        "display(HTML(\"<table><tr><td><img src='https://github.com/tberrueta/ME314pngs/raw/master/3drotationalinertia.PNG' width='550' height='350'></td></tr></table>\"))"
      ],
      "execution_count": null,
      "outputs": [
        {
          "output_type": "display_data",
          "data": {
            "text/html": [
              "<table><tr><td><img src='https://github.com/tberrueta/ME314pngs/raw/master/3drotationalinertia.PNG' width='550' height='350'></td></tr></table>"
            ],
            "text/plain": [
              "<IPython.core.display.HTML object>"
            ]
          },
          "metadata": {
            "tags": []
          }
        }
      ]
    },
    {
      "cell_type": "markdown",
      "metadata": {
        "id": "zVcHyOrYLBPB"
      },
      "source": [
        "Figure 1: A 3D body"
      ]
    },
    {
      "cell_type": "markdown",
      "metadata": {
        "id": "Jm0N79N2LEdV"
      },
      "source": [
        "Consider a rigid block that is a square prism, that is, a block with 2\n",
        "of its 3 dimensions equal.  We'll denote the dimensions of this prism\n",
        "$2h$, $2h$, and $2\\ell$, and the constant density of the prism is $\\rho$.\n",
        "Consider two separate body frames attached to this prism, each with\n",
        "its origin placed at the prism's center of mass.  The first, which\n",
        "we'll call the $b$ frame, represents the principal axes of the prism\n",
        "with its $x$ axis aligned with $2\\ell$-dimension and the $y$ and $z$\n",
        "each aligned with one of the $2h$-dimensions of the prism (make sure\n",
        "you use a right handed coordinate system with $x \\times y = z$).  The\n",
        "second frame, which we'll denote the $b'$ frame, can be obtained by\n",
        "rotating the $b$ frame $\\pi/4$ radians about the positive $x$ axis (if\n",
        "we view the positive $x$ axis as pointing out of the page, this is a\n",
        "counter-clockwise rotation).  Thus the $x$ axis of the $b'$ frame is\n",
        "coincident with that of the $b$ frame, and the $y$ and $z$ axes of the\n",
        "$b'$ frame pass through midpoints of the prism's edges (of length\n",
        "$2\\ell$).\n",
        "\n",
        "Let's analyze kinetic energy of the prism in pure rotation using\n",
        "calculations in both body frames.  We will symbolically represent the\n",
        "body angular velocity in the respective frames as\n",
        "$\\underline{\\omega}=\\left[\\begin{array}{ccc}\n",
        "    \\omega_x&\\omega_y&\\omega_z\\end{array}\\right]^T$ and\n",
        "$\\underline{\\omega}'=\\left[\\begin{array}{ccc}\n",
        "    \\omega_x'&\\omega_y'&\\omega_z'\\end{array}\\right]^T$.\n",
        "    \n",
        "    \n",
        "**(a)**  Without introducing any relationship between the two frames, set up and compute the prism's rotational kinetic energy using the integrals\n",
        "\\begin{align*}\n",
        "\\text{KE}_{\\text{rot}} & = \\frac{1}{2}\\int_\\mathcal{V} \\rho\\, (\\underline{\\widehat{\\omega}}\\,\\underline{r}_b)^T(\\underline{\\widehat{\\omega}} \\, \\underline{r}_b)\\, d\\mathcal{V}  \\\\\n",
        "&=\\frac{1}{2}\\int_{-h}^h\\int_{-h}^h\\int_{-\\ell}^\\ell \\rho\\,(\\underline{\\widehat{\\omega}}\\,\\underline{r}_b)^T(\\underline{\\widehat{\\omega}} \\, \\underline{r}_b)\\, dxdydz \n",
        "\\end{align*}\n",
        "and \n",
        "\\begin{align*}\n",
        "\\text{KE}_{\\text{rot}} & = \\frac{1}{2}\\int_\\mathcal{V} \\rho\\, (\\underline{\\widehat{\\omega}}'\\,\\underline{r}_{b'})^T(\\underline{\\widehat{\\omega}}' \\, \\underline{r}_{b'})\\, d\\mathcal{V} \\\\\n",
        "& = \\frac{1}{2}\\int_{-\\sqrt{2}h}^0\\int_{-\\sqrt{2}h-z}^{\\sqrt{2}h+z}\\int_{-\\ell}^\\ell \\rho\\,(\\underline{\\widehat{\\omega}}'\\,\\underline{r}_{b'})^T(\\underline{\\widehat{\\omega}}' \\, \\underline{r}_{b'})\\, dxdydz  \\\\\n",
        "& \\quad + \\frac{1}{2}\\int_0^{\\sqrt{2}h}\\int_{-\\sqrt{2}h+z}^{\\sqrt{2}h-z}\\int_{-\\ell}^\\ell \\rho\\,(\\underline{\\widehat{\\omega}}'\\,\\underline{r}_{b'})^T(\\underline{\\widehat{\\omega}}' \\, \\underline{r}_{b'})\\, dxdydz.  \n",
        "\\end{align*}\n",
        "Notice that since the prism's cross-sections along the x-axis in the\n",
        "$b'$ frame are diamond shaped (a square diamond, such as a baseball\n",
        "diamond), we have split the kinetic energy integral in that frame into\n",
        "two portions.  The first term represents the energy associated with\n",
        "the half of the prism below the $xy$ plane (where $z$ is negative),\n",
        "and the second term represents the energy of the half of the prism\n",
        "above the $xy$ plane (where $z$ is positive).  The integral in the $b$\n",
        "frame will yield a solution in terms of $\\rho$, $h$, $\\ell$, and\n",
        "$\\underline{\\omega}$, and the sum of integrals in the $b'$ frame will\n",
        "yield a solution in terms of $\\rho$, $h$, $\\ell$, and $\\underline{\\omega}'$.\n",
        "\n",
        "**(b)** Based on the definitions of the frames $b$ and $b'$, find\n",
        "the transformation (rotation matrix) $R_{b'b}$ that provides\n",
        "$\\underline{r}_{b'} = R_{b'b}\\underline{r}_{b}$.  Express each\n",
        "$\\omega_x'$, $\\omega_y'$, and $\\omega_z'$ as a function of the angular velocity\n",
        "variables from the $b$ frame: $\\omega_x$, $\\omega_y$, and $\\omega_z$.  Plug these\n",
        "definitions into the second result in (a) and confirm that this\n",
        "matches the first result in (a).\n",
        "\n",
        "**(c)** Calculate the prism's inertia tensor in each frame.\n",
        "Denote the tensor in the $b$ frame as $\\mathcal{I}$ and in the $b'$\n",
        "frame as $\\mathcal{I}'$.  (Hint: Much of the integral set-up from (a),\n",
        "specifically the integration limits, can be reused).  What does this\n",
        "reveal about the principal axes for this prism?\n",
        "\n",
        "**(d)** Verify that the calculations\n",
        "$\\text{KE}_{\\text{rot}} =  \\frac{1}{2}\\underline{\\omega}^T\\,\\mathcal{I}\\,  \\underline{\\omega}$\n",
        "and\n",
        "$\\text{KE}_{\\text{rot}} =  \\frac{1}{2}\\underline{\\omega}'^T\\,\\mathcal{I}'\\,  \\underline{\\omega}'$\n",
        "yield the same expressions as those in (a).  Also verify that \n",
        "$\\mathcal{I}' = R_{b'b} \\, \\mathcal{I} \\, R_{b'b}^T.$\n",
        "\n",
        "\n",
        "**(e)** Consider a third body frame $b''$ (not pictured) that is\n",
        "related to the $b$ frame by the transformation\n",
        "\n",
        "$$ \n",
        "R_{b''b} = \\left[\\begin{array}{ccc} \\frac{\\sqrt{2}}{2} & 0 &\n",
        "    -\\frac{\\sqrt{2}}{2} \\\\ 0 & 1 & 0 \\\\ \\frac{\\sqrt{2}}{2} & 0 &\n",
        "    \\frac{\\sqrt{2}}{2} \\end{array}\\right]\\left[\\begin{array}{ccc}\n",
        "    \\frac{\\sqrt{2}}{2} & -\\frac{\\sqrt{2}}{2} & 0 \\\\ \\frac{\\sqrt{2}}{2}\n",
        "    & \\frac{\\sqrt{2}}{2} & 0 \\\\ 0 & 0 & 1 \\end{array}\\right] =\n",
        "\\left[\\begin{array}{ccc} \\frac{1}{2} & -\\frac{1}{2} &\n",
        "    -\\frac{\\sqrt{2}}{2} \\\\ \\frac{\\sqrt{2}}{2} & \\frac{\\sqrt{2}}{2} & 0\n",
        "    \\\\ \\frac{1}{2} & -\\frac{1}{2} & \\frac{\\sqrt{2}}{2}\n",
        "  \\end{array}\\right].\n",
        "$$\n",
        "\n",
        "It should be apparent that the $b''$ frame is\n",
        "produced by subsequent rotations about the $y$ and $z$ axes.  Using\n",
        "the shorthand $\\mathcal{I}_{11}$, $\\mathcal{I}_{22}$,\n",
        "$\\mathcal{I}_{22}$ (notice the repeated term) to denote the elements\n",
        "on the diagonal of $\\mathcal{I}$, calculate the prism's inertia tensor\n",
        "in the $b''$ frame\n",
        "\n",
        "$$\n",
        "\\mathcal{I}'' = R_{b''b} \\, \\mathcal{I} \\, R_{b''b}^T. \n",
        "$$\n",
        "\n",
        "Notice that this manner of deriving $\\mathcal{I}''$ implies that $R_{bb''} =\n",
        "R_{b''b}^T$ is the transformation that we can use to diagonalize the\n",
        "inertia tensor from the $b''$ frame.  Using Python, find the\n",
        "eigenvalues and eigenvectors for $\\mathcal{I}''$.  Do the eigenvalues\n",
        "match the diagonal elements of $\\mathcal{I}$?  Do the eigenvectors\n",
        "match the columns of $R_{bb''}^T$ (remember, $R_{bb''}$ diagonalizes\n",
        "$\\mathcal{I}''$, not $R_{b''b}$)? Explain this result.\n",
        "\n"
      ]
    },
    {
      "cell_type": "code",
      "metadata": {
        "id": "uns0eWV470rp",
        "colab": {
          "base_uri": "https://localhost:8080/",
          "height": 210
        },
        "outputId": "49fc1c45-b931-4e3f-ada8-8f271eb67b9c"
      },
      "source": [
        "from sympy import integrate, log, exp, oo\n",
        "#from sympy.abc import a, x, y, z, l, h\n",
        "a, x, y, z, l, h= sym.symbols('a x y z l h')\n",
        "w1 = sym.symbols(r'w_x')\n",
        "w2 = sym.symbols(r'w_y')\n",
        "w3 = sym.symbols(r'w_z')\n",
        "rho = sym.symbols(r'\\rho')\n",
        "xInt=integrate(((y*y*w3*w3+z*z*w2*w2-2*y*w3*w2*z)+(x*x*w3*w3+z*z*w1*w1-2*x*w3*w1*z)+(x*x*w2*w2+y*y*w1*w1-2*x*w1*w2*y)), (x, -l, l))\n",
        "display(xInt)\n",
        "yxInt=integrate((xInt), (y, -h, h))\n",
        "display(yxInt)\n",
        "zyxInt=integrate((yxInt), (z, -h, h))\n",
        "display((rho*zyxInt/2))\n"
      ],
      "execution_count": null,
      "outputs": [
        {
          "output_type": "display_data",
          "data": {
            "text/html": [
              "<script src='https://cdnjs.cloudflare.com/ajax/libs/mathjax/2.7.3/latest.js?config=TeX-AMS_HTML'></script>"
            ],
            "text/plain": [
              "<IPython.core.display.HTML object>"
            ]
          },
          "metadata": {
            "tags": []
          }
        },
        {
          "output_type": "display_data",
          "data": {
            "text/latex": "$$2 l^{3} \\left(\\frac{w_{y}^{2}}{3} + \\frac{w_{z}^{2}}{3}\\right) + 2 l \\left(w_{x}^{2} y^{2} + w_{x}^{2} z^{2} + w_{y}^{2} z^{2} - 2 w_{y} w_{z} y z + w_{z}^{2} y^{2}\\right)$$",
            "text/plain": [
              "     ⎛   2      2⎞                                                            \n",
              "   3 ⎜w_y    w_z ⎟       ⎛  2  2     2  2      2  2                      2  2⎞\n",
              "2⋅l ⋅⎜──── + ────⎟ + 2⋅l⋅⎝wₓ ⋅y  + wₓ ⋅z  + w_y ⋅z  - 2⋅w_y⋅w_z⋅y⋅z + w_z ⋅y ⎠\n",
              "     ⎝ 3      3  ⎠                                                            "
            ]
          },
          "metadata": {
            "tags": []
          }
        },
        {
          "output_type": "display_data",
          "data": {
            "text/html": [
              "<script src='https://cdnjs.cloudflare.com/ajax/libs/mathjax/2.7.3/latest.js?config=TeX-AMS_HTML'></script>"
            ],
            "text/plain": [
              "<IPython.core.display.HTML object>"
            ]
          },
          "metadata": {
            "tags": []
          }
        },
        {
          "output_type": "display_data",
          "data": {
            "text/latex": "$$2 h^{3} \\left(\\frac{2 l}{3} w_{x}^{2} + \\frac{2 l}{3} w_{z}^{2}\\right) + 2 h \\left(\\frac{2 l^{3}}{3} w_{y}^{2} + \\frac{2 l^{3}}{3} w_{z}^{2} + 2 l w_{x}^{2} z^{2} + 2 l w_{y}^{2} z^{2}\\right)$$",
            "text/plain": [
              "     ⎛      2          2⎞       ⎛   3    2      3    2                        \n",
              "   3 ⎜2⋅l⋅wₓ    2⋅l⋅w_z ⎟       ⎜2⋅l ⋅w_y    2⋅l ⋅w_z          2  2          2\n",
              "2⋅h ⋅⎜─────── + ────────⎟ + 2⋅h⋅⎜───────── + ───────── + 2⋅l⋅wₓ ⋅z  + 2⋅l⋅w_y \n",
              "     ⎝   3         3    ⎠       ⎝    3           3                            \n",
              "\n",
              "   ⎞\n",
              "  2⎟\n",
              "⋅z ⎟\n",
              "   ⎠"
            ]
          },
          "metadata": {
            "tags": []
          }
        },
        {
          "output_type": "display_data",
          "data": {
            "text/html": [
              "<script src='https://cdnjs.cloudflare.com/ajax/libs/mathjax/2.7.3/latest.js?config=TeX-AMS_HTML'></script>"
            ],
            "text/plain": [
              "<IPython.core.display.HTML object>"
            ]
          },
          "metadata": {
            "tags": []
          }
        },
        {
          "output_type": "display_data",
          "data": {
            "text/latex": "$$\\frac{\\rho}{2} \\left(2 h^{3} \\left(\\frac{4 h}{3} l w_{x}^{2} + \\frac{4 h}{3} l w_{y}^{2}\\right) + 2 h \\left(\\frac{4 l}{3} h^{3} w_{x}^{2} + \\frac{4 l}{3} h^{3} w_{z}^{2} + \\frac{4 h}{3} l^{3} w_{y}^{2} + \\frac{4 h}{3} l^{3} w_{z}^{2}\\right)\\right)$$",
            "text/plain": [
              "     ⎛     ⎛        2            2⎞       ⎛   3     2      3      2        3  \n",
              "     ⎜   3 ⎜4⋅h⋅l⋅wₓ    4⋅h⋅l⋅w_y ⎟       ⎜4⋅h ⋅l⋅wₓ    4⋅h ⋅l⋅w_z    4⋅h⋅l ⋅w\n",
              "\\rho⋅⎜2⋅h ⋅⎜───────── + ──────────⎟ + 2⋅h⋅⎜────────── + ─────────── + ────────\n",
              "     ⎝     ⎝    3           3     ⎠       ⎝    3             3             3  \n",
              "──────────────────────────────────────────────────────────────────────────────\n",
              "                                                2                             \n",
              "\n",
              "  2        3    2⎞⎞\n",
              "_y    4⋅h⋅l ⋅w_z ⎟⎟\n",
              "─── + ───────────⎟⎟\n",
              "           3     ⎠⎠\n",
              "───────────────────\n",
              "                   "
            ]
          },
          "metadata": {
            "tags": []
          }
        }
      ]
    },
    {
      "cell_type": "code",
      "metadata": {
        "id": "kvBLlXldLRyM",
        "colab": {
          "base_uri": "https://localhost:8080/",
          "height": 174
        },
        "outputId": "36377ca8-c34f-4d06-f7d9-3613d231b7dc"
      },
      "source": [
        "from sympy import integrate, log, exp, oo\n",
        "#from sympy.abc import a, x, y, z, l, h\n",
        "a, x, y, z, l, h= sym.symbols('a x y z l h')\n",
        "x1 = sym.symbols(r'x_*')\n",
        "y1 = sym.symbols(r'y_*')\n",
        "z1 = sym.symbols(r'z_*')\n",
        "w11 = sym.symbols(r'w_x*')\n",
        "w22 = sym.symbols(r'w_y*')\n",
        "w33 = sym.symbols(r'w_z*')\n",
        "xInt2=integrate(((y1*y1*w33*w33+z1*z1*w22*w22-2*y1*w33*w22*z1)+(x1*x1*w33*w33+z1*z1*w11*w11-2*x1*w33*w11*z1)+(x1*x1*w22*w22+y1*y1*w11*w11-2*x1*w11*w22*y1)), (x1, -l, l))\n",
        "display(xInt2)\n",
        "yxInt2=integrate((xInt2), (y1, -1*sym.sqrt(2)*h-z, sym.sqrt(2)*h+z))\n",
        "display(yxInt2)\n",
        "zyxInt2=integrate((yxInt2), (z, -1* sym.sqrt(2)*h,0))\n",
        "\n",
        "\n"
      ],
      "execution_count": null,
      "outputs": [
        {
          "output_type": "display_data",
          "data": {
            "text/html": [
              "<script src='https://cdnjs.cloudflare.com/ajax/libs/mathjax/2.7.3/latest.js?config=TeX-AMS_HTML'></script>"
            ],
            "text/plain": [
              "<IPython.core.display.HTML object>"
            ]
          },
          "metadata": {
            "tags": []
          }
        },
        {
          "output_type": "display_data",
          "data": {
            "text/latex": "$$2 l^{3} \\left(\\frac{w_{y*}^{2}}{3} + \\frac{w_{z*}^{2}}{3}\\right) + 2 l \\left(w_{x*}^{2} y_{*}^{2} + w_{x*}^{2} z_{*}^{2} + w_{y*}^{2} z_{*}^{2} - 2 w_{y*} w_{z*} y_{*} z_{*} + w_{z*}^{2} y_{*}^{2}\\right)$$",
            "text/plain": [
              "     ⎛    2       2⎞                                                          \n",
              "   3 ⎜w_y*    w_z* ⎟       ⎛    2    2       2    2       2    2              \n",
              "2⋅l ⋅⎜───── + ─────⎟ + 2⋅l⋅⎝w_x* ⋅y_*  + w_x* ⋅z_*  + w_y* ⋅z_*  - 2⋅w_y*⋅w_z*\n",
              "     ⎝  3       3  ⎠                                                          \n",
              "\n",
              "                      \n",
              "               2    2⎞\n",
              "⋅y_*⋅z_* + w_z* ⋅y_* ⎠\n",
              "                      "
            ]
          },
          "metadata": {
            "tags": []
          }
        },
        {
          "output_type": "display_data",
          "data": {
            "text/html": [
              "<script src='https://cdnjs.cloudflare.com/ajax/libs/mathjax/2.7.3/latest.js?config=TeX-AMS_HTML'></script>"
            ],
            "text/plain": [
              "<IPython.core.display.HTML object>"
            ]
          },
          "metadata": {
            "tags": []
          }
        },
        {
          "output_type": "display_data",
          "data": {
            "text/latex": "$$2 l w_{y*} w_{z*} z_{*} \\left(- \\sqrt{2} h - z\\right)^{2} - 2 l w_{y*} w_{z*} z_{*} \\left(\\sqrt{2} h + z\\right)^{2} - \\left(- \\sqrt{2} h - z\\right)^{3} \\left(\\frac{2 l}{3} w_{x*}^{2} + \\frac{2 l}{3} w_{z*}^{2}\\right) - \\left(- \\sqrt{2} h - z\\right) \\left(\\frac{2 l^{3}}{3} w_{y*}^{2} + \\frac{2 l^{3}}{3} w_{z*}^{2} + 2 l w_{x*}^{2} z_{*}^{2} + 2 l w_{y*}^{2} z_{*}^{2}\\right) + \\left(\\sqrt{2} h + z\\right)^{3} \\left(\\frac{2 l}{3} w_{x*}^{2} + \\frac{2 l}{3} w_{z*}^{2}\\right) + \\left(\\sqrt{2} h + z\\right) \\left(\\frac{2 l^{3}}{3} w_{y*}^{2} + \\frac{2 l^{3}}{3} w_{z*}^{2} + 2 l w_{x*}^{2} z_{*}^{2} + 2 l w_{y*}^{2} z_{*}^{2}\\right)$$",
            "text/plain": [
              "                                                                              \n",
              "                             2                               2              3 \n",
              "2⋅l⋅w_y*⋅w_z*⋅z_*⋅(-√2⋅h - z)  - 2⋅l⋅w_y*⋅w_z*⋅z_*⋅(√2⋅h + z)  - (-√2⋅h - z) ⋅\n",
              "                                                                              \n",
              "\n",
              "⎛        2           2⎞               ⎛   3     2      3     2                \n",
              "⎜2⋅l⋅w_x*    2⋅l⋅w_z* ⎟               ⎜2⋅l ⋅w_y*    2⋅l ⋅w_z*            2    \n",
              "⎜───────── + ─────────⎟ - (-√2⋅h - z)⋅⎜────────── + ────────── + 2⋅l⋅w_x* ⋅z_*\n",
              "⎝    3           3    ⎠               ⎝    3            3                     \n",
              "\n",
              "                  ⎞               ⎛        2           2⎞              ⎛   3  \n",
              "2           2    2⎟             3 ⎜2⋅l⋅w_x*    2⋅l⋅w_z* ⎟              ⎜2⋅l ⋅w\n",
              "  + 2⋅l⋅w_y* ⋅z_* ⎟ + (√2⋅h + z) ⋅⎜───────── + ─────────⎟ + (√2⋅h + z)⋅⎜──────\n",
              "                  ⎠               ⎝    3           3    ⎠              ⎝    3 \n",
              "\n",
              "   2      3     2                                  ⎞\n",
              "_y*    2⋅l ⋅w_z*            2    2           2    2⎟\n",
              "──── + ────────── + 2⋅l⋅w_x* ⋅z_*  + 2⋅l⋅w_y* ⋅z_* ⎟\n",
              "           3                                       ⎠"
            ]
          },
          "metadata": {
            "tags": []
          }
        }
      ]
    },
    {
      "cell_type": "code",
      "metadata": {
        "id": "r5sLQM4pUbnJ"
      },
      "source": [
        "s2=sym.simplify(zyxInt2)\n",
        "#display(s2)"
      ],
      "execution_count": null,
      "outputs": []
    },
    {
      "cell_type": "code",
      "metadata": {
        "id": "lGPu-UdDQGFG"
      },
      "source": [
        "xInt1=integrate(((y1*y1*w33*w33+z1*z1*w22*w22-2*y1*w33*w22*z1)+(x1*x1*w33*w33+z1*z1*w11*w11-2*x1*w33*w11*z1)+(x1*x1*w22*w22+y1*y1*w11*w11-2*x1*w11*w22*y1)), (x1, -l, l))\n",
        "\n",
        "yxInt1=integrate((xInt1), (y1, -1*sym.sqrt(2)*h+z, sym.sqrt(2)*h-z))\n",
        "#display(yxInt1)\n",
        "zyxInt1=integrate((yxInt1), (z, 0, sym.sqrt(2)*h))"
      ],
      "execution_count": null,
      "outputs": []
    },
    {
      "cell_type": "code",
      "metadata": {
        "id": "r1lh6k0qUw30"
      },
      "source": [
        "s1=sym.simplify(zyxInt1)\n",
        "#display(s1)"
      ],
      "execution_count": null,
      "outputs": []
    },
    {
      "cell_type": "code",
      "metadata": {
        "id": "X6AYk9jmQKCA"
      },
      "source": [
        "Integral2=s1+s2\n",
        "#display(Integral2/2*rho)\n"
      ],
      "execution_count": null,
      "outputs": []
    },
    {
      "cell_type": "markdown",
      "metadata": {
        "id": "Ahxq2ID3eHxw"
      },
      "source": [
        "Problem part2\n",
        "\n",
        "\n"
      ]
    },
    {
      "cell_type": "code",
      "metadata": {
        "id": "gA8vG2GHf7tT",
        "colab": {
          "base_uri": "https://localhost:8080/",
          "height": 174
        },
        "outputId": "f75aac73-c555-41a9-e5b4-333a3a36b2b1"
      },
      "source": [
        "from sympy import integrate, log, exp, oo\n",
        "#from sympy.abc import a, x, y, z, l, h\n",
        "a, x, y, z, l, h= sym.symbols('a x y z l h')\n",
        "x1 = sym.symbols(r'x_*')\n",
        "y1 = sym.symbols(r'y_*')\n",
        "z1 = sym.symbols(r'z_*')\n",
        "w11 = sym.symbols(r'w_x*')\n",
        "w22 = sym.symbols(r'w_y*')\n",
        "w33 = sym.symbols(r'w_z*')\n",
        "xInt2=integrate(((y1*y1*w33*w33+z1*z1*w22*w22-2*y1*w33*w22*z1)+(x1*x1*w33*w33+z1*z1*w11*w11-2*x1*w33*w11*z1)+(x1*x1*w22*w22+y1*y1*w11*w11-2*x1*w11*w22*y1)), (x1, -l, l))\n",
        "display(xInt2)\n",
        "yxInt2=integrate((xInt2), (y1, -1*sym.sqrt(2)*h-z, sym.sqrt(2)*h+z))\n",
        "display(yxInt2)\n",
        "zyxInt2=integrate((yxInt2), (z, -1* sym.sqrt(2)*h,0))\n",
        "\n",
        "\n",
        "s2=sym.simplify(zyxInt2)\n",
        "#display(s2)\n",
        "\n",
        "xInt1=integrate(((y1*y1*w33*w33+z1*z1*w22*w22-2*y1*w33*w22*z1)+(x1*x1*w33*w33+z1*z1*w11*w11-2*x1*w33*w11*z1)+(x1*x1*w22*w22+y1*y1*w11*w11-2*x1*w11*w22*y1)), (x1, -l, l))\n",
        "yxInt1=integrate((xInt1), (y1, -1*sym.sqrt(2)*h+z, sym.sqrt(2)*h-z))\n",
        "#display(yxInt1)\n",
        "zyxInt1=integrate((yxInt1), (z, 0, sym.sqrt(2)*h))\n",
        "\n",
        "s1=sym.simplify(zyxInt1)\n",
        "#display(s1)\n",
        "\n",
        "\n",
        "\n",
        "\n"
      ],
      "execution_count": null,
      "outputs": [
        {
          "output_type": "display_data",
          "data": {
            "text/html": [
              "<script src='https://cdnjs.cloudflare.com/ajax/libs/mathjax/2.7.3/latest.js?config=TeX-AMS_HTML'></script>"
            ],
            "text/plain": [
              "<IPython.core.display.HTML object>"
            ]
          },
          "metadata": {
            "tags": []
          }
        },
        {
          "output_type": "display_data",
          "data": {
            "text/latex": "$$2 l^{3} \\left(\\frac{w_{y*}^{2}}{3} + \\frac{w_{z*}^{2}}{3}\\right) + 2 l \\left(w_{x*}^{2} y_{*}^{2} + w_{x*}^{2} z_{*}^{2} + w_{y*}^{2} z_{*}^{2} - 2 w_{y*} w_{z*} y_{*} z_{*} + w_{z*}^{2} y_{*}^{2}\\right)$$",
            "text/plain": [
              "     ⎛    2       2⎞                                                          \n",
              "   3 ⎜w_y*    w_z* ⎟       ⎛    2    2       2    2       2    2              \n",
              "2⋅l ⋅⎜───── + ─────⎟ + 2⋅l⋅⎝w_x* ⋅y_*  + w_x* ⋅z_*  + w_y* ⋅z_*  - 2⋅w_y*⋅w_z*\n",
              "     ⎝  3       3  ⎠                                                          \n",
              "\n",
              "                      \n",
              "               2    2⎞\n",
              "⋅y_*⋅z_* + w_z* ⋅y_* ⎠\n",
              "                      "
            ]
          },
          "metadata": {
            "tags": []
          }
        },
        {
          "output_type": "display_data",
          "data": {
            "text/html": [
              "<script src='https://cdnjs.cloudflare.com/ajax/libs/mathjax/2.7.3/latest.js?config=TeX-AMS_HTML'></script>"
            ],
            "text/plain": [
              "<IPython.core.display.HTML object>"
            ]
          },
          "metadata": {
            "tags": []
          }
        },
        {
          "output_type": "display_data",
          "data": {
            "text/latex": "$$2 l w_{y*} w_{z*} z_{*} \\left(- \\sqrt{2} h - z\\right)^{2} - 2 l w_{y*} w_{z*} z_{*} \\left(\\sqrt{2} h + z\\right)^{2} - \\left(- \\sqrt{2} h - z\\right)^{3} \\left(\\frac{2 l}{3} w_{x*}^{2} + \\frac{2 l}{3} w_{z*}^{2}\\right) - \\left(- \\sqrt{2} h - z\\right) \\left(\\frac{2 l^{3}}{3} w_{y*}^{2} + \\frac{2 l^{3}}{3} w_{z*}^{2} + 2 l w_{x*}^{2} z_{*}^{2} + 2 l w_{y*}^{2} z_{*}^{2}\\right) + \\left(\\sqrt{2} h + z\\right)^{3} \\left(\\frac{2 l}{3} w_{x*}^{2} + \\frac{2 l}{3} w_{z*}^{2}\\right) + \\left(\\sqrt{2} h + z\\right) \\left(\\frac{2 l^{3}}{3} w_{y*}^{2} + \\frac{2 l^{3}}{3} w_{z*}^{2} + 2 l w_{x*}^{2} z_{*}^{2} + 2 l w_{y*}^{2} z_{*}^{2}\\right)$$",
            "text/plain": [
              "                                                                              \n",
              "                             2                               2              3 \n",
              "2⋅l⋅w_y*⋅w_z*⋅z_*⋅(-√2⋅h - z)  - 2⋅l⋅w_y*⋅w_z*⋅z_*⋅(√2⋅h + z)  - (-√2⋅h - z) ⋅\n",
              "                                                                              \n",
              "\n",
              "⎛        2           2⎞               ⎛   3     2      3     2                \n",
              "⎜2⋅l⋅w_x*    2⋅l⋅w_z* ⎟               ⎜2⋅l ⋅w_y*    2⋅l ⋅w_z*            2    \n",
              "⎜───────── + ─────────⎟ - (-√2⋅h - z)⋅⎜────────── + ────────── + 2⋅l⋅w_x* ⋅z_*\n",
              "⎝    3           3    ⎠               ⎝    3            3                     \n",
              "\n",
              "                  ⎞               ⎛        2           2⎞              ⎛   3  \n",
              "2           2    2⎟             3 ⎜2⋅l⋅w_x*    2⋅l⋅w_z* ⎟              ⎜2⋅l ⋅w\n",
              "  + 2⋅l⋅w_y* ⋅z_* ⎟ + (√2⋅h + z) ⋅⎜───────── + ─────────⎟ + (√2⋅h + z)⋅⎜──────\n",
              "                  ⎠               ⎝    3           3    ⎠              ⎝    3 \n",
              "\n",
              "   2      3     2                                  ⎞\n",
              "_y*    2⋅l ⋅w_z*            2    2           2    2⎟\n",
              "──── + ────────── + 2⋅l⋅w_x* ⋅z_*  + 2⋅l⋅w_y* ⋅z_* ⎟\n",
              "           3                                       ⎠"
            ]
          },
          "metadata": {
            "tags": []
          }
        }
      ]
    },
    {
      "cell_type": "code",
      "metadata": {
        "id": "InR0VtrCu7gt",
        "colab": {
          "base_uri": "https://localhost:8080/",
          "height": 82
        },
        "outputId": "e9e47c27-13b5-42d6-e71a-9b8f4f062e3f"
      },
      "source": [
        "Integral2=s1+s2\n",
        "display(Integral2/2*rho)"
      ],
      "execution_count": null,
      "outputs": [
        {
          "output_type": "display_data",
          "data": {
            "text/html": [
              "<script src='https://cdnjs.cloudflare.com/ajax/libs/mathjax/2.7.3/latest.js?config=TeX-AMS_HTML'></script>"
            ],
            "text/plain": [
              "<IPython.core.display.HTML object>"
            ]
          },
          "metadata": {
            "tags": []
          }
        },
        {
          "output_type": "display_data",
          "data": {
            "text/latex": "$$\\frac{4 \\rho}{3} h^{2} l \\left(h^{2} w_{x*}^{2} + h^{2} w_{z*}^{2} + l^{2} w_{y*}^{2} + l^{2} w_{z*}^{2} + 3 w_{x*}^{2} z_{*}^{2} + 3 w_{y*}^{2} z_{*}^{2}\\right)$$",
            "text/plain": [
              "        2   ⎛ 2     2    2     2    2     2    2     2         2    2         \n",
              "4⋅\\rho⋅h ⋅l⋅⎝h ⋅w_x*  + h ⋅w_z*  + l ⋅w_y*  + l ⋅w_z*  + 3⋅w_x* ⋅z_*  + 3⋅w_y*\n",
              "──────────────────────────────────────────────────────────────────────────────\n",
              "                                          3                                   \n",
              "\n",
              "2    2⎞\n",
              " ⋅z_* ⎠\n",
              "───────\n",
              "       "
            ]
          },
          "metadata": {
            "tags": []
          }
        }
      ]
    },
    {
      "cell_type": "code",
      "metadata": {
        "id": "kEhZEYCem9Ff"
      },
      "source": [
        "from sympy.matrices import MatrixSymbol, Transpose\n",
        "from sympy.functions import transpose\n",
        "from sympy.matrices import Matrix"
      ],
      "execution_count": null,
      "outputs": []
    },
    {
      "cell_type": "code",
      "metadata": {
        "id": "_mnHjoPXsO3k",
        "colab": {
          "base_uri": "https://localhost:8080/",
          "height": 111
        },
        "outputId": "81ef2a35-5858-4bed-81ea-27abe554c81c"
      },
      "source": [
        "m = Matrix(3, 3, [1, 3, 0, -2, -6, 0, 3, 9, 6])\n",
        "display(m)"
      ],
      "execution_count": null,
      "outputs": [
        {
          "output_type": "display_data",
          "data": {
            "text/html": [
              "<script src='https://cdnjs.cloudflare.com/ajax/libs/mathjax/2.7.3/latest.js?config=TeX-AMS_HTML'></script>"
            ],
            "text/plain": [
              "<IPython.core.display.HTML object>"
            ]
          },
          "metadata": {
            "tags": []
          }
        },
        {
          "output_type": "display_data",
          "data": {
            "text/latex": "$$\\left[\\begin{matrix}1 & 3 & 0\\\\-2 & -6 & 0\\\\3 & 9 & 6\\end{matrix}\\right]$$",
            "text/plain": [
              "⎡1   3   0⎤\n",
              "⎢         ⎥\n",
              "⎢-2  -6  0⎥\n",
              "⎢         ⎥\n",
              "⎣3   9   6⎦"
            ]
          },
          "metadata": {
            "tags": []
          }
        }
      ]
    },
    {
      "cell_type": "code",
      "metadata": {
        "id": "KUBPIeqfqbFe",
        "colab": {
          "base_uri": "https://localhost:8080/",
          "height": 306
        },
        "outputId": "3f6181d1-ae17-4db7-ac59-23a6e9829303"
      },
      "source": [
        "Rot=sym.Matrix(3, 3, [1, 0, 0, 0, sym.cos(sym.pi/4),1*sym.sin(sym.pi/4),0,-1*sym.sin(sym.pi/4),sym.cos(sym.pi/4)])\n",
        "display(Rot)\n",
        "\n",
        "r=sym.Matrix(3,1, [x, y,z])\n",
        "display(r)\n",
        "rdash=Rot*r\n",
        "display(rdash)\n",
        "#y*sym.cos(sym.pi/4)-z*sym.sin(sym.pi/4),sym.sin(sym.pi/4)*y+sym.cos(sym.pi/4)*z)\n",
        "#m = Matrix(3, 3, [1, 3, 0, -2, -6, 0, 3, 9, 6])\n",
        "\n"
      ],
      "execution_count": null,
      "outputs": [
        {
          "output_type": "display_data",
          "data": {
            "text/html": [
              "<script src='https://cdnjs.cloudflare.com/ajax/libs/mathjax/2.7.3/latest.js?config=TeX-AMS_HTML'></script>"
            ],
            "text/plain": [
              "<IPython.core.display.HTML object>"
            ]
          },
          "metadata": {
            "tags": []
          }
        },
        {
          "output_type": "display_data",
          "data": {
            "text/latex": "$$\\left[\\begin{matrix}1 & 0 & 0\\\\0 & \\frac{\\sqrt{2}}{2} & \\frac{\\sqrt{2}}{2}\\\\0 & - \\frac{\\sqrt{2}}{2} & \\frac{\\sqrt{2}}{2}\\end{matrix}\\right]$$",
            "text/plain": [
              "⎡1   0    0 ⎤\n",
              "⎢           ⎥\n",
              "⎢    √2   √2⎥\n",
              "⎢0   ──   ──⎥\n",
              "⎢    2    2 ⎥\n",
              "⎢           ⎥\n",
              "⎢   -√2   √2⎥\n",
              "⎢0  ────  ──⎥\n",
              "⎣    2    2 ⎦"
            ]
          },
          "metadata": {
            "tags": []
          }
        },
        {
          "output_type": "display_data",
          "data": {
            "text/html": [
              "<script src='https://cdnjs.cloudflare.com/ajax/libs/mathjax/2.7.3/latest.js?config=TeX-AMS_HTML'></script>"
            ],
            "text/plain": [
              "<IPython.core.display.HTML object>"
            ]
          },
          "metadata": {
            "tags": []
          }
        },
        {
          "output_type": "display_data",
          "data": {
            "text/latex": "$$\\left[\\begin{matrix}x\\\\y\\\\z\\end{matrix}\\right]$$",
            "text/plain": [
              "⎡x⎤\n",
              "⎢ ⎥\n",
              "⎢y⎥\n",
              "⎢ ⎥\n",
              "⎣z⎦"
            ]
          },
          "metadata": {
            "tags": []
          }
        },
        {
          "output_type": "display_data",
          "data": {
            "text/html": [
              "<script src='https://cdnjs.cloudflare.com/ajax/libs/mathjax/2.7.3/latest.js?config=TeX-AMS_HTML'></script>"
            ],
            "text/plain": [
              "<IPython.core.display.HTML object>"
            ]
          },
          "metadata": {
            "tags": []
          }
        },
        {
          "output_type": "display_data",
          "data": {
            "text/latex": "$$\\left[\\begin{matrix}x\\\\\\frac{\\sqrt{2} y}{2} + \\frac{\\sqrt{2} z}{2}\\\\- \\frac{\\sqrt{2} y}{2} + \\frac{\\sqrt{2} z}{2}\\end{matrix}\\right]$$",
            "text/plain": [
              "⎡      x      ⎤\n",
              "⎢             ⎥\n",
              "⎢ √2⋅y   √2⋅z ⎥\n",
              "⎢ ──── + ──── ⎥\n",
              "⎢  2      2   ⎥\n",
              "⎢             ⎥\n",
              "⎢  √2⋅y   √2⋅z⎥\n",
              "⎢- ──── + ────⎥\n",
              "⎣   2      2  ⎦"
            ]
          },
          "metadata": {
            "tags": []
          }
        }
      ]
    },
    {
      "cell_type": "code",
      "metadata": {
        "id": "FH2SJg4Mtoeu",
        "colab": {
          "base_uri": "https://localhost:8080/",
          "height": 241
        },
        "outputId": "878fb83b-8e28-46e7-96f1-c51919495e27"
      },
      "source": [
        "w=sym.Matrix(3,1,[w1,w2,w3])\n",
        "wdash=Rot*w\n",
        "display(wdash)\n",
        "wdashhat=sym.Matrix(3,3,[0,-1*wdash[2],wdash[1],wdash[2],0,wdash[0],-1*wdash[1],wdash[0],0])\n",
        "display(wdashhat)"
      ],
      "execution_count": null,
      "outputs": [
        {
          "output_type": "display_data",
          "data": {
            "text/html": [
              "<script src='https://cdnjs.cloudflare.com/ajax/libs/mathjax/2.7.3/latest.js?config=TeX-AMS_HTML'></script>"
            ],
            "text/plain": [
              "<IPython.core.display.HTML object>"
            ]
          },
          "metadata": {
            "tags": []
          }
        },
        {
          "output_type": "display_data",
          "data": {
            "text/latex": "$$\\left[\\begin{matrix}w_{x}\\\\\\frac{\\sqrt{2} w_{y}}{2} + \\frac{\\sqrt{2} w_{z}}{2}\\\\- \\frac{\\sqrt{2} w_{y}}{2} + \\frac{\\sqrt{2} w_{z}}{2}\\end{matrix}\\right]$$",
            "text/plain": [
              "⎡       wₓ        ⎤\n",
              "⎢                 ⎥\n",
              "⎢ √2⋅w_y   √2⋅w_z ⎥\n",
              "⎢ ────── + ────── ⎥\n",
              "⎢   2        2    ⎥\n",
              "⎢                 ⎥\n",
              "⎢  √2⋅w_y   √2⋅w_z⎥\n",
              "⎢- ────── + ──────⎥\n",
              "⎣    2        2   ⎦"
            ]
          },
          "metadata": {
            "tags": []
          }
        },
        {
          "output_type": "display_data",
          "data": {
            "text/html": [
              "<script src='https://cdnjs.cloudflare.com/ajax/libs/mathjax/2.7.3/latest.js?config=TeX-AMS_HTML'></script>"
            ],
            "text/plain": [
              "<IPython.core.display.HTML object>"
            ]
          },
          "metadata": {
            "tags": []
          }
        },
        {
          "output_type": "display_data",
          "data": {
            "text/latex": "$$\\left[\\begin{matrix}0 & \\frac{\\sqrt{2} w_{y}}{2} - \\frac{\\sqrt{2} w_{z}}{2} & \\frac{\\sqrt{2} w_{y}}{2} + \\frac{\\sqrt{2} w_{z}}{2}\\\\- \\frac{\\sqrt{2} w_{y}}{2} + \\frac{\\sqrt{2} w_{z}}{2} & 0 & w_{x}\\\\- \\frac{\\sqrt{2} w_{y}}{2} - \\frac{\\sqrt{2} w_{z}}{2} & w_{x} & 0\\end{matrix}\\right]$$",
            "text/plain": [
              "⎡                   √2⋅w_y   √2⋅w_z  √2⋅w_y   √2⋅w_z⎤\n",
              "⎢        0          ────── - ──────  ────── + ──────⎥\n",
              "⎢                     2        2       2        2   ⎥\n",
              "⎢                                                   ⎥\n",
              "⎢  √2⋅w_y   √2⋅w_z                                  ⎥\n",
              "⎢- ────── + ──────         0               wₓ       ⎥\n",
              "⎢    2        2                                     ⎥\n",
              "⎢                                                   ⎥\n",
              "⎢  √2⋅w_y   √2⋅w_z                                  ⎥\n",
              "⎢- ────── - ──────        wₓ                0       ⎥\n",
              "⎣    2        2                                     ⎦"
            ]
          },
          "metadata": {
            "tags": []
          }
        }
      ]
    },
    {
      "cell_type": "code",
      "metadata": {
        "id": "-kOlR-qUvef_",
        "colab": {
          "base_uri": "https://localhost:8080/",
          "height": 230
        },
        "outputId": "7681f71d-97a2-403a-d274-250c35d64eff"
      },
      "source": [
        "Result2=wdashhat*rdash\n",
        "display(Result2)\n",
        "Result2Trans=Transpose(Result2)\n",
        "Result3=Result2Trans*Result2\n",
        "display(Result3)"
      ],
      "execution_count": null,
      "outputs": [
        {
          "output_type": "display_data",
          "data": {
            "text/html": [
              "<script src='https://cdnjs.cloudflare.com/ajax/libs/mathjax/2.7.3/latest.js?config=TeX-AMS_HTML'></script>"
            ],
            "text/plain": [
              "<IPython.core.display.HTML object>"
            ]
          },
          "metadata": {
            "tags": []
          }
        },
        {
          "output_type": "display_data",
          "data": {
            "text/latex": "$$\\left[\\begin{matrix}\\left(\\frac{\\sqrt{2} w_{y}}{2} - \\frac{\\sqrt{2} w_{z}}{2}\\right) \\left(\\frac{\\sqrt{2} y}{2} + \\frac{\\sqrt{2} z}{2}\\right) + \\left(\\frac{\\sqrt{2} w_{y}}{2} + \\frac{\\sqrt{2} w_{z}}{2}\\right) \\left(- \\frac{\\sqrt{2} y}{2} + \\frac{\\sqrt{2} z}{2}\\right)\\\\w_{x} \\left(- \\frac{\\sqrt{2} y}{2} + \\frac{\\sqrt{2} z}{2}\\right) + x \\left(- \\frac{\\sqrt{2} w_{y}}{2} + \\frac{\\sqrt{2} w_{z}}{2}\\right)\\\\w_{x} \\left(\\frac{\\sqrt{2} y}{2} + \\frac{\\sqrt{2} z}{2}\\right) + x \\left(- \\frac{\\sqrt{2} w_{y}}{2} - \\frac{\\sqrt{2} w_{z}}{2}\\right)\\end{matrix}\\right]$$",
            "text/plain": [
              "⎡⎛√2⋅w_y   √2⋅w_z⎞ ⎛√2⋅y   √2⋅z⎞   ⎛√2⋅w_y   √2⋅w_z⎞ ⎛  √2⋅y   √2⋅z⎞⎤\n",
              "⎢⎜────── - ──────⎟⋅⎜──── + ────⎟ + ⎜────── + ──────⎟⋅⎜- ──── + ────⎟⎥\n",
              "⎢⎝  2        2   ⎠ ⎝ 2      2  ⎠   ⎝  2        2   ⎠ ⎝   2      2  ⎠⎥\n",
              "⎢                                                                   ⎥\n",
              "⎢               ⎛  √2⋅y   √2⋅z⎞     ⎛  √2⋅w_y   √2⋅w_z⎞             ⎥\n",
              "⎢            wₓ⋅⎜- ──── + ────⎟ + x⋅⎜- ────── + ──────⎟             ⎥\n",
              "⎢               ⎝   2      2  ⎠     ⎝    2        2   ⎠             ⎥\n",
              "⎢                                                                   ⎥\n",
              "⎢                ⎛√2⋅y   √2⋅z⎞     ⎛  √2⋅w_y   √2⋅w_z⎞              ⎥\n",
              "⎢             wₓ⋅⎜──── + ────⎟ + x⋅⎜- ────── - ──────⎟              ⎥\n",
              "⎣                ⎝ 2      2  ⎠     ⎝    2        2   ⎠              ⎦"
            ]
          },
          "metadata": {
            "tags": []
          }
        },
        {
          "output_type": "display_data",
          "data": {
            "text/html": [
              "<script src='https://cdnjs.cloudflare.com/ajax/libs/mathjax/2.7.3/latest.js?config=TeX-AMS_HTML'></script>"
            ],
            "text/plain": [
              "<IPython.core.display.HTML object>"
            ]
          },
          "metadata": {
            "tags": []
          }
        },
        {
          "output_type": "display_data",
          "data": {
            "text/latex": "$$\\left[\\begin{matrix}\\left(w_{x} \\left(- \\frac{\\sqrt{2} y}{2} + \\frac{\\sqrt{2} z}{2}\\right) + x \\left(- \\frac{\\sqrt{2} w_{y}}{2} + \\frac{\\sqrt{2} w_{z}}{2}\\right)\\right)^{2} + \\left(w_{x} \\left(\\frac{\\sqrt{2} y}{2} + \\frac{\\sqrt{2} z}{2}\\right) + x \\left(- \\frac{\\sqrt{2} w_{y}}{2} - \\frac{\\sqrt{2} w_{z}}{2}\\right)\\right)^{2} + \\left(\\left(\\frac{\\sqrt{2} w_{y}}{2} - \\frac{\\sqrt{2} w_{z}}{2}\\right) \\left(\\frac{\\sqrt{2} y}{2} + \\frac{\\sqrt{2} z}{2}\\right) + \\left(\\frac{\\sqrt{2} w_{y}}{2} + \\frac{\\sqrt{2} w_{z}}{2}\\right) \\left(- \\frac{\\sqrt{2} y}{2} + \\frac{\\sqrt{2} z}{2}\\right)\\right)^{2}\\end{matrix}\\right]$$",
            "text/plain": [
              "⎡                                            2                                \n",
              "⎢⎛   ⎛  √2⋅y   √2⋅z⎞     ⎛  √2⋅w_y   √2⋅w_z⎞⎞    ⎛   ⎛√2⋅y   √2⋅z⎞     ⎛  √2⋅w\n",
              "⎢⎜wₓ⋅⎜- ──── + ────⎟ + x⋅⎜- ────── + ──────⎟⎟  + ⎜wₓ⋅⎜──── + ────⎟ + x⋅⎜- ────\n",
              "⎣⎝   ⎝   2      2  ⎠     ⎝    2        2   ⎠⎠    ⎝   ⎝ 2      2  ⎠     ⎝    2 \n",
              "\n",
              "             2                                                                \n",
              "_y   √2⋅w_z⎞⎞    ⎛⎛√2⋅w_y   √2⋅w_z⎞ ⎛√2⋅y   √2⋅z⎞   ⎛√2⋅w_y   √2⋅w_z⎞ ⎛  √2⋅y \n",
              "── - ──────⎟⎟  + ⎜⎜────── - ──────⎟⋅⎜──── + ────⎟ + ⎜────── + ──────⎟⋅⎜- ──── \n",
              "       2   ⎠⎠    ⎝⎝  2        2   ⎠ ⎝ 2      2  ⎠   ⎝  2        2   ⎠ ⎝   2   \n",
              "\n",
              "        2⎤\n",
              "  √2⋅z⎞⎞ ⎥\n",
              "+ ────⎟⎟ ⎥\n",
              "   2  ⎠⎠ ⎦"
            ]
          },
          "metadata": {
            "tags": []
          }
        }
      ]
    },
    {
      "cell_type": "code",
      "metadata": {
        "id": "GTRYknwmuWTE",
        "colab": {
          "base_uri": "https://localhost:8080/",
          "height": 86
        },
        "outputId": "878193f5-d260-4117-9613-8cdf4c5476d4"
      },
      "source": [
        "display(wdash[1])"
      ],
      "execution_count": null,
      "outputs": [
        {
          "output_type": "display_data",
          "data": {
            "text/html": [
              "<script src='https://cdnjs.cloudflare.com/ajax/libs/mathjax/2.7.3/latest.js?config=TeX-AMS_HTML'></script>"
            ],
            "text/plain": [
              "<IPython.core.display.HTML object>"
            ]
          },
          "metadata": {
            "tags": []
          }
        },
        {
          "output_type": "display_data",
          "data": {
            "text/latex": "$$\\frac{\\sqrt{2} w_{y}}{2} - \\frac{\\sqrt{2} w_{z}}{2}$$",
            "text/plain": [
              "√2⋅w_y   √2⋅w_z\n",
              "────── - ──────\n",
              "  2        2   "
            ]
          },
          "metadata": {
            "tags": []
          }
        }
      ]
    },
    {
      "cell_type": "code",
      "metadata": {
        "id": "N8Zs06EMiNwF"
      },
      "source": [
        "b=sym.Matrix([-1*sym.sin(sym.pi/4)*sym.cos(sym.pi/4)*w2*y+sym.cos(sym.pi/4)*sym.cos(sym.pi/4)*y*w3+z*w2*sym.sin(sym.pi/4)*sym.sin(sym.pi/4)-1* sym.cos(sym.pi/4)*sym.sin(sym.pi/4)*w3*z,\n",
        "              x*sym.sin(sym.pi/4)*w2-x*sym.cos(sym.pi/4)*w3-w1*sym.sin(sym.pi/4)*y+1* sym.cos(sym.pi/4)*w1*z,\n",
        "              -1*x*sym.cos(sym.pi/4)*w2+x*sym.sin(sym.pi/4)*w3+w1*sym.sin(sym.pi/4)*y-1* sym.cos(sym.pi/4)*w1*z\n",
        "              ])\n",
        "#display(b)\n",
        "\n",
        "btran=Transpose(b)\n",
        "#display(btran)\n",
        "Result=btran*b\n",
        "#display(Result[0])"
      ],
      "execution_count": null,
      "outputs": []
    },
    {
      "cell_type": "code",
      "metadata": {
        "id": "--pXPHxInzqI",
        "colab": {
          "base_uri": "https://localhost:8080/",
          "height": 102
        },
        "outputId": "bdd6c1ab-4a79-4db4-fd14-90bafaaa9126"
      },
      "source": [
        "display(Result[0])\n"
      ],
      "execution_count": null,
      "outputs": [
        {
          "output_type": "display_data",
          "data": {
            "text/html": [
              "<script src='https://cdnjs.cloudflare.com/ajax/libs/mathjax/2.7.3/latest.js?config=TeX-AMS_HTML'></script>"
            ],
            "text/plain": [
              "<IPython.core.display.HTML object>"
            ]
          },
          "metadata": {
            "tags": []
          }
        },
        {
          "output_type": "display_data",
          "data": {
            "text/latex": "$$\\left(- \\frac{w_{y} y}{2} + \\frac{w_{y} z}{2} + \\frac{w_{z} y}{2} - \\frac{w_{z} z}{2}\\right)^{2} + \\left(- \\frac{w_{x} y}{2} \\sqrt{2} + \\frac{w_{x} z}{2} \\sqrt{2} + \\frac{w_{y} x}{2} \\sqrt{2} - \\frac{w_{z} x}{2} \\sqrt{2}\\right)^{2} + \\left(\\frac{w_{x} y}{2} \\sqrt{2} - \\frac{w_{x} z}{2} \\sqrt{2} - \\frac{w_{y} x}{2} \\sqrt{2} + \\frac{w_{z} x}{2} \\sqrt{2}\\right)^{2}$$",
            "text/plain": [
              "                                 2                                            \n",
              "⎛  w_y⋅y   w_y⋅z   w_z⋅y   w_z⋅z⎞    ⎛  √2⋅wₓ⋅y   √2⋅wₓ⋅z   √2⋅w_y⋅x   √2⋅w_z⋅\n",
              "⎜- ───── + ───── + ───── - ─────⎟  + ⎜- ─────── + ─────── + ──────── - ───────\n",
              "⎝    2       2       2       2  ⎠    ⎝     2         2         2          2   \n",
              "\n",
              "  2                                            2\n",
              "x⎞    ⎛√2⋅wₓ⋅y   √2⋅wₓ⋅z   √2⋅w_y⋅x   √2⋅w_z⋅x⎞ \n",
              "─⎟  + ⎜─────── - ─────── - ──────── + ────────⎟ \n",
              " ⎠    ⎝   2         2         2          2    ⎠ "
            ]
          },
          "metadata": {
            "tags": []
          }
        }
      ]
    },
    {
      "cell_type": "code",
      "metadata": {
        "id": "bT0FBqm_okUn"
      },
      "source": [
        "xInt3=integrate((Result3), (x, -l, l))\n",
        "#display(xInt3)\n",
        "yxInt3=integrate((xInt3), (y, -1*sym.sqrt(2)*h-z, sym.sqrt(2)*h+z))\n",
        "#display(yxInt3)\n",
        "zyxInt3=integrate((yxInt3), (z, -1* sym.sqrt(2)*h,0))\n",
        "\n",
        "\n",
        "s3=sym.simplify(zyxInt3)\n",
        "#display(s3)\n",
        "\n",
        "xInt4=integrate(((Result3)), (x, -l, l))\n",
        "yxInt4=integrate((xInt4), (y, -1*sym.sqrt(2)*h+z, sym.sqrt(2)*h-z))\n",
        "#display(yxInt4)\n",
        "zyxInt4=integrate((yxInt4), (z, 0, sym.sqrt(2)*h))\n",
        "\n",
        "s4=sym.simplify(zyxInt4)\n",
        "#display(s4)\n",
        "\n"
      ],
      "execution_count": null,
      "outputs": []
    },
    {
      "cell_type": "code",
      "metadata": {
        "id": "aKINlMiFpk3N",
        "colab": {
          "base_uri": "https://localhost:8080/",
          "height": 77
        },
        "outputId": "c64a5f38-5631-45ad-b9ee-0c85e10a4259"
      },
      "source": [
        "Integral3=s3+s4\n",
        "display(sym.simplify(Integral3/2*rho))"
      ],
      "execution_count": null,
      "outputs": [
        {
          "output_type": "display_data",
          "data": {
            "text/html": [
              "<script src='https://cdnjs.cloudflare.com/ajax/libs/mathjax/2.7.3/latest.js?config=TeX-AMS_HTML'></script>"
            ],
            "text/plain": [
              "<IPython.core.display.HTML object>"
            ]
          },
          "metadata": {
            "tags": []
          }
        },
        {
          "output_type": "display_data",
          "data": {
            "text/latex": "$$\\left[\\begin{matrix}\\frac{4 \\rho}{3} h^{2} l \\left(2 h^{2} w_{x}^{2} + h^{2} w_{y}^{2} + h^{2} w_{z}^{2} + l^{2} w_{y}^{2} + l^{2} w_{z}^{2}\\right)\\end{matrix}\\right]$$",
            "text/plain": [
              "⎡        2   ⎛   2   2    2    2    2    2    2    2    2    2⎞⎤\n",
              "⎢4⋅\\rho⋅h ⋅l⋅⎝2⋅h ⋅wₓ  + h ⋅w_y  + h ⋅w_z  + l ⋅w_y  + l ⋅w_z ⎠⎥\n",
              "⎢──────────────────────────────────────────────────────────────⎥\n",
              "⎣                              3                               ⎦"
            ]
          },
          "metadata": {
            "tags": []
          }
        }
      ]
    },
    {
      "cell_type": "markdown",
      "metadata": {
        "id": "1O2ddFSB1wdl"
      },
      "source": [
        "part C"
      ]
    },
    {
      "cell_type": "code",
      "metadata": {
        "id": "4mP7i_gJ3GMT",
        "colab": {
          "base_uri": "https://localhost:8080/",
          "height": 113
        },
        "outputId": "bfdb0f69-8b59-49f2-b079-9d5e271f6959"
      },
      "source": [
        "rb=sym.Matrix(3, 3, [0, -1*z, y, 1*z, 0,-1*x,-1*y,x,0])\n",
        "#display(rb)\n",
        "rbtrans=Transpose(rb)\n",
        "#display(rbtrans)\n",
        "Integral4=rbtrans*rb\n",
        "display(Integral4)"
      ],
      "execution_count": null,
      "outputs": [
        {
          "output_type": "display_data",
          "data": {
            "text/html": [
              "<script src='https://cdnjs.cloudflare.com/ajax/libs/mathjax/2.7.3/latest.js?config=TeX-AMS_HTML'></script>"
            ],
            "text/plain": [
              "<IPython.core.display.HTML object>"
            ]
          },
          "metadata": {
            "tags": []
          }
        },
        {
          "output_type": "display_data",
          "data": {
            "text/latex": "$$\\left[\\begin{matrix}y^{2} + z^{2} & - x y & - x z\\\\- x y & x^{2} + z^{2} & - y z\\\\- x z & - y z & x^{2} + y^{2}\\end{matrix}\\right]$$",
            "text/plain": [
              "⎡ 2    2                  ⎤\n",
              "⎢y  + z    -x⋅y     -x⋅z  ⎥\n",
              "⎢                         ⎥\n",
              "⎢          2    2         ⎥\n",
              "⎢ -x⋅y    x  + z    -y⋅z  ⎥\n",
              "⎢                         ⎥\n",
              "⎢                   2    2⎥\n",
              "⎣ -x⋅z     -y⋅z    x  + y ⎦"
            ]
          },
          "metadata": {
            "tags": []
          }
        }
      ]
    },
    {
      "cell_type": "code",
      "metadata": {
        "id": "Pz4bXOWaFxlX",
        "colab": {
          "base_uri": "https://localhost:8080/",
          "height": 129
        },
        "outputId": "e71da8ca-cd8f-4e8e-cd68-70377a7c8d69"
      },
      "source": [
        "display(rdash)"
      ],
      "execution_count": null,
      "outputs": [
        {
          "output_type": "display_data",
          "data": {
            "text/html": [
              "<script src='https://cdnjs.cloudflare.com/ajax/libs/mathjax/2.7.3/latest.js?config=TeX-AMS_HTML'></script>"
            ],
            "text/plain": [
              "<IPython.core.display.HTML object>"
            ]
          },
          "metadata": {
            "tags": []
          }
        },
        {
          "output_type": "display_data",
          "data": {
            "text/latex": "$$\\left[\\begin{matrix}x\\\\\\frac{\\sqrt{2} y}{2} - \\frac{\\sqrt{2} z}{2}\\\\\\frac{\\sqrt{2} y}{2} + \\frac{\\sqrt{2} z}{2}\\end{matrix}\\right]$$",
            "text/plain": [
              "⎡     x     ⎤\n",
              "⎢           ⎥\n",
              "⎢√2⋅y   √2⋅z⎥\n",
              "⎢──── - ────⎥\n",
              "⎢ 2      2  ⎥\n",
              "⎢           ⎥\n",
              "⎢√2⋅y   √2⋅z⎥\n",
              "⎢──── + ────⎥\n",
              "⎣ 2      2  ⎦"
            ]
          },
          "metadata": {
            "tags": []
          }
        }
      ]
    },
    {
      "cell_type": "code",
      "metadata": {
        "id": "oA5TJHBI6qab",
        "colab": {
          "base_uri": "https://localhost:8080/",
          "height": 371
        },
        "outputId": "59fc41a0-d32d-4db3-98cf-a3dc8d56347e"
      },
      "source": [
        "xInt5=integrate((Integral4), (x, -l, l))\n",
        "display(xInt5)\n",
        "yxInt5=integrate((xInt5), (y, -h, h))\n",
        "display(yxInt5)\n",
        "zyxInt5=integrate((yxInt5), (z, -h, h))\n",
        "print('The inertial matrix values in {b} frame are ')\n",
        "I1=rho*zyxInt5\n",
        "display((I1))"
      ],
      "execution_count": null,
      "outputs": [
        {
          "output_type": "display_data",
          "data": {
            "text/html": [
              "<script src='https://cdnjs.cloudflare.com/ajax/libs/mathjax/2.7.3/latest.js?config=TeX-AMS_HTML'></script>"
            ],
            "text/plain": [
              "<IPython.core.display.HTML object>"
            ]
          },
          "metadata": {
            "tags": []
          }
        },
        {
          "output_type": "display_data",
          "data": {
            "text/latex": "$$\\left[\\begin{matrix}2 l \\left(y^{2} + z^{2}\\right) & 0 & 0\\\\0 & \\frac{2 l^{3}}{3} + 2 l z^{2} & - 2 l y z\\\\0 & - 2 l y z & \\frac{2 l^{3}}{3} + 2 l y^{2}\\end{matrix}\\right]$$",
            "text/plain": [
              "⎡    ⎛ 2    2⎞                              ⎤\n",
              "⎢2⋅l⋅⎝y  + z ⎠        0              0      ⎥\n",
              "⎢                                           ⎥\n",
              "⎢                  3                        ⎥\n",
              "⎢               2⋅l         2               ⎥\n",
              "⎢      0        ──── + 2⋅l⋅z     -2⋅l⋅y⋅z   ⎥\n",
              "⎢                3                          ⎥\n",
              "⎢                                           ⎥\n",
              "⎢                                 3         ⎥\n",
              "⎢                              2⋅l         2⎥\n",
              "⎢      0          -2⋅l⋅y⋅z     ──── + 2⋅l⋅y ⎥\n",
              "⎣                               3           ⎦"
            ]
          },
          "metadata": {
            "tags": []
          }
        },
        {
          "output_type": "display_data",
          "data": {
            "text/html": [
              "<script src='https://cdnjs.cloudflare.com/ajax/libs/mathjax/2.7.3/latest.js?config=TeX-AMS_HTML'></script>"
            ],
            "text/plain": [
              "<IPython.core.display.HTML object>"
            ]
          },
          "metadata": {
            "tags": []
          }
        },
        {
          "output_type": "display_data",
          "data": {
            "text/latex": "$$\\left[\\begin{matrix}\\frac{4 l}{3} h^{3} + 4 h l z^{2} & 0 & 0\\\\0 & 2 h \\left(\\frac{2 l^{3}}{3} + 2 l z^{2}\\right) & 0\\\\0 & 0 & \\frac{4 l}{3} h^{3} + \\frac{4 h}{3} l^{3}\\end{matrix}\\right]$$",
            "text/plain": [
              "⎡   3                                                   ⎤\n",
              "⎢4⋅h ⋅l          2                                      ⎥\n",
              "⎢────── + 4⋅h⋅l⋅z            0                  0       ⎥\n",
              "⎢  3                                                    ⎥\n",
              "⎢                                                       ⎥\n",
              "⎢                       ⎛   3         ⎞                 ⎥\n",
              "⎢                       ⎜2⋅l         2⎟                 ⎥\n",
              "⎢        0          2⋅h⋅⎜──── + 2⋅l⋅z ⎟         0       ⎥\n",
              "⎢                       ⎝ 3           ⎠                 ⎥\n",
              "⎢                                                       ⎥\n",
              "⎢                                           3          3⎥\n",
              "⎢                                        4⋅h ⋅l   4⋅h⋅l ⎥\n",
              "⎢        0                   0           ────── + ──────⎥\n",
              "⎣                                          3        3   ⎦"
            ]
          },
          "metadata": {
            "tags": []
          }
        },
        {
          "output_type": "stream",
          "text": [
            "The inertial matrix values in {b} frame are \n"
          ],
          "name": "stdout"
        },
        {
          "output_type": "display_data",
          "data": {
            "text/html": [
              "<script src='https://cdnjs.cloudflare.com/ajax/libs/mathjax/2.7.3/latest.js?config=TeX-AMS_HTML'></script>"
            ],
            "text/plain": [
              "<IPython.core.display.HTML object>"
            ]
          },
          "metadata": {
            "tags": []
          }
        },
        {
          "output_type": "display_data",
          "data": {
            "text/latex": "$$\\left[\\begin{matrix}\\frac{16 \\rho}{3} h^{4} l & 0 & 0\\\\0 & \\rho \\left(\\frac{8 l}{3} h^{4} + \\frac{8 h^{2}}{3} l^{3}\\right) & 0\\\\0 & 0 & 2 \\rho h \\left(\\frac{4 l}{3} h^{3} + \\frac{4 h}{3} l^{3}\\right)\\end{matrix}\\right]$$",
            "text/plain": [
              "⎡         4                                                       ⎤\n",
              "⎢16⋅\\rho⋅h ⋅l                                                     ⎥\n",
              "⎢────────────             0                         0             ⎥\n",
              "⎢     3                                                           ⎥\n",
              "⎢                                                                 ⎥\n",
              "⎢                   ⎛   4        2  3⎞                            ⎥\n",
              "⎢                   ⎜8⋅h ⋅l   8⋅h ⋅l ⎟                            ⎥\n",
              "⎢     0        \\rho⋅⎜────── + ───────⎟              0             ⎥\n",
              "⎢                   ⎝  3         3   ⎠                            ⎥\n",
              "⎢                                                                 ⎥\n",
              "⎢                                                ⎛   3          3⎞⎥\n",
              "⎢                                                ⎜4⋅h ⋅l   4⋅h⋅l ⎟⎥\n",
              "⎢     0                   0             2⋅\\rho⋅h⋅⎜────── + ──────⎟⎥\n",
              "⎣                                                ⎝  3        3   ⎠⎦"
            ]
          },
          "metadata": {
            "tags": []
          }
        }
      ]
    },
    {
      "cell_type": "code",
      "metadata": {
        "id": "H_Yj-0EU7CTZ",
        "colab": {
          "base_uri": "https://localhost:8080/",
          "height": 161
        },
        "outputId": "2852a71b-b52e-4407-ae74-a6753681963c"
      },
      "source": [
        "#display(rdash)\n",
        "rdashhat=sym.Matrix(3, 3, [0, -1*rdash[2], rdash[1], 1*rdash[2], 0,-1*rdash[0],-1*rdash[1],rdash[0],0])\n",
        "#display(rdashhat)\n",
        "rdashtrans=transpose(rdashhat)\n",
        "Integral55=rdashtrans*rdashhat\n",
        "display(Integral55)"
      ],
      "execution_count": null,
      "outputs": [
        {
          "output_type": "display_data",
          "data": {
            "text/html": [
              "<script src='https://cdnjs.cloudflare.com/ajax/libs/mathjax/2.7.3/latest.js?config=TeX-AMS_HTML'></script>"
            ],
            "text/plain": [
              "<IPython.core.display.HTML object>"
            ]
          },
          "metadata": {
            "tags": []
          }
        },
        {
          "output_type": "display_data",
          "data": {
            "text/latex": "$$\\left[\\begin{matrix}\\left(- \\frac{\\sqrt{2} y}{2} - \\frac{\\sqrt{2} z}{2}\\right)^{2} + \\left(- \\frac{\\sqrt{2} y}{2} + \\frac{\\sqrt{2} z}{2}\\right)^{2} & x \\left(- \\frac{\\sqrt{2} y}{2} - \\frac{\\sqrt{2} z}{2}\\right) & - x \\left(- \\frac{\\sqrt{2} y}{2} + \\frac{\\sqrt{2} z}{2}\\right)\\\\x \\left(- \\frac{\\sqrt{2} y}{2} - \\frac{\\sqrt{2} z}{2}\\right) & x^{2} + \\left(\\frac{\\sqrt{2} y}{2} - \\frac{\\sqrt{2} z}{2}\\right)^{2} & \\left(\\frac{\\sqrt{2} y}{2} - \\frac{\\sqrt{2} z}{2}\\right) \\left(\\frac{\\sqrt{2} y}{2} + \\frac{\\sqrt{2} z}{2}\\right)\\\\- x \\left(- \\frac{\\sqrt{2} y}{2} + \\frac{\\sqrt{2} z}{2}\\right) & \\left(\\frac{\\sqrt{2} y}{2} - \\frac{\\sqrt{2} z}{2}\\right) \\left(\\frac{\\sqrt{2} y}{2} + \\frac{\\sqrt{2} z}{2}\\right) & x^{2} + \\left(\\frac{\\sqrt{2} y}{2} + \\frac{\\sqrt{2} z}{2}\\right)^{2}\\end{matrix}\\right]$$",
            "text/plain": [
              "⎡               2                  2                                          \n",
              "⎢⎛  √2⋅y   √2⋅z⎞    ⎛  √2⋅y   √2⋅z⎞          ⎛  √2⋅y   √2⋅z⎞              ⎛  √\n",
              "⎢⎜- ──── - ────⎟  + ⎜- ──── + ────⎟        x⋅⎜- ──── - ────⎟           -x⋅⎜- ─\n",
              "⎢⎝   2      2  ⎠    ⎝   2      2  ⎠          ⎝   2      2  ⎠              ⎝   \n",
              "⎢                                                                             \n",
              "⎢                                                           2                 \n",
              "⎢           ⎛  √2⋅y   √2⋅z⎞                2   ⎛√2⋅y   √2⋅z⎞       ⎛√2⋅y   √2⋅\n",
              "⎢         x⋅⎜- ──── - ────⎟               x  + ⎜──── - ────⎟       ⎜──── - ───\n",
              "⎢           ⎝   2      2  ⎠                    ⎝ 2      2  ⎠       ⎝ 2      2 \n",
              "⎢                                                                             \n",
              "⎢                                                                             \n",
              "⎢           ⎛  √2⋅y   √2⋅z⎞           ⎛√2⋅y   √2⋅z⎞ ⎛√2⋅y   √2⋅z⎞       2   ⎛√\n",
              "⎢        -x⋅⎜- ──── + ────⎟           ⎜──── - ────⎟⋅⎜──── + ────⎟      x  + ⎜─\n",
              "⎣           ⎝   2      2  ⎠           ⎝ 2      2  ⎠ ⎝ 2      2  ⎠           ⎝ \n",
              "\n",
              "                ⎤\n",
              "2⋅y   √2⋅z⎞     ⎥\n",
              "─── + ────⎟     ⎥\n",
              "2      2  ⎠     ⎥\n",
              "                ⎥\n",
              "                ⎥\n",
              "z⎞ ⎛√2⋅y   √2⋅z⎞⎥\n",
              "─⎟⋅⎜──── + ────⎟⎥\n",
              " ⎠ ⎝ 2      2  ⎠⎥\n",
              "                ⎥\n",
              "           2    ⎥\n",
              "2⋅y   √2⋅z⎞     ⎥\n",
              "─── + ────⎟     ⎥\n",
              "2      2  ⎠     ⎦"
            ]
          },
          "metadata": {
            "tags": []
          }
        }
      ]
    },
    {
      "cell_type": "code",
      "metadata": {
        "id": "RxknZqdQ8lPN"
      },
      "source": [
        "xInt66=integrate((Integral55), (x, -l, l))\n",
        "#display(xInt6)\n",
        "yxInt66=integrate((xInt66), (y, -1*sym.sqrt(2)*h-z, sym.sqrt(2)*h+z))\n",
        "#display(yxInt6)\n",
        "zyxInt66=integrate((yxInt66), (z, -1* sym.sqrt(2)*h,0))\n",
        "#display(zyxInt6)\n",
        "\n",
        "xInt77=integrate(((Integral55)), (x, -l, l))\n",
        "yxInt77=integrate((xInt77), (y, -1*sym.sqrt(2)*h+z, sym.sqrt(2)*h-z))\n",
        "#display(yxInt4)\n",
        "zyxInt77=integrate((yxInt77), (z, 0, sym.sqrt(2)*h))\n",
        "\n",
        "s55=sym.simplify(zyxInt66)\n",
        "s66=sym.simplify(zyxInt77)\n",
        "\n"
      ],
      "execution_count": null,
      "outputs": []
    },
    {
      "cell_type": "code",
      "metadata": {
        "id": "CrJqbnqEB0dz"
      },
      "source": [
        "#display(zyxInt66)"
      ],
      "execution_count": null,
      "outputs": []
    },
    {
      "cell_type": "code",
      "metadata": {
        "id": "2cqSNOSU-xER"
      },
      "source": [
        "#display(s55)\n",
        "#display(s66)"
      ],
      "execution_count": null,
      "outputs": []
    },
    {
      "cell_type": "code",
      "metadata": {
        "id": "0d8tjoYc-Dyo",
        "colab": {
          "base_uri": "https://localhost:8080/",
          "height": 151
        },
        "outputId": "a39cb430-b7de-4b0a-864f-ebccc7c0891a"
      },
      "source": [
        "print('The inertial matrix values in {b*} frame are ')\n",
        "I2=(rho*(s55+s66))\n",
        "display(sym.simplify(rho*(s55+s66)))"
      ],
      "execution_count": null,
      "outputs": [
        {
          "output_type": "stream",
          "text": [
            "The inertial matrix values in {b*} frame are \n"
          ],
          "name": "stdout"
        },
        {
          "output_type": "display_data",
          "data": {
            "text/html": [
              "<script src='https://cdnjs.cloudflare.com/ajax/libs/mathjax/2.7.3/latest.js?config=TeX-AMS_HTML'></script>"
            ],
            "text/plain": [
              "<IPython.core.display.HTML object>"
            ]
          },
          "metadata": {
            "tags": []
          }
        },
        {
          "output_type": "display_data",
          "data": {
            "text/latex": "$$\\left[\\begin{matrix}\\frac{16 \\rho}{3} h^{4} l & 0 & 0\\\\0 & \\frac{8 \\rho}{3} h^{2} l \\left(h^{2} + l^{2}\\right) & 0\\\\0 & 0 & \\frac{8 \\rho}{3} h^{2} l \\left(h^{2} + l^{2}\\right)\\end{matrix}\\right]$$",
            "text/plain": [
              "⎡         4                                                ⎤\n",
              "⎢16⋅\\rho⋅h ⋅l                                              ⎥\n",
              "⎢────────────            0                      0          ⎥\n",
              "⎢     3                                                    ⎥\n",
              "⎢                                                          ⎥\n",
              "⎢                      2   ⎛ 2    2⎞                       ⎥\n",
              "⎢              8⋅\\rho⋅h ⋅l⋅⎝h  + l ⎠                       ⎥\n",
              "⎢     0        ─────────────────────            0          ⎥\n",
              "⎢                        3                                 ⎥\n",
              "⎢                                                          ⎥\n",
              "⎢                                             2   ⎛ 2    2⎞⎥\n",
              "⎢                                     8⋅\\rho⋅h ⋅l⋅⎝h  + l ⎠⎥\n",
              "⎢     0                  0            ─────────────────────⎥\n",
              "⎣                                               3          ⎦"
            ]
          },
          "metadata": {
            "tags": []
          }
        }
      ]
    },
    {
      "cell_type": "markdown",
      "metadata": {
        "id": "x2xxF2T4AEnd"
      },
      "source": [
        "The inertial matrix tells us that the principal axis is alligned with the coordinate axis and does not change based upon the reference frame.\n",
        "\n",
        "\n"
      ]
    },
    {
      "cell_type": "markdown",
      "metadata": {
        "id": "mP4EgIkeHMD6"
      },
      "source": [
        "Part d"
      ]
    },
    {
      "cell_type": "code",
      "metadata": {
        "id": "KMaYItPrHsur",
        "colab": {
          "base_uri": "https://localhost:8080/",
          "height": 78
        },
        "outputId": "2e5a2bad-c4cb-4051-88d6-ca0545df09d9"
      },
      "source": [
        "wmatrix=sym.Matrix(3, 1, [w1, w2, w3])\n",
        "#display(wmatrix)\n",
        "wmatrixtrans=Transpose(wmatrix)\n",
        "KE1=wmatrixtrans*I1*wmatrix/2\n",
        "display(KE1)"
      ],
      "execution_count": null,
      "outputs": [
        {
          "output_type": "display_data",
          "data": {
            "text/html": [
              "<script src='https://cdnjs.cloudflare.com/ajax/libs/mathjax/2.7.3/latest.js?config=TeX-AMS_HTML'></script>"
            ],
            "text/plain": [
              "<IPython.core.display.HTML object>"
            ]
          },
          "metadata": {
            "tags": []
          }
        },
        {
          "output_type": "display_data",
          "data": {
            "text/latex": "$$\\left[\\begin{matrix}\\frac{8 \\rho}{3} h^{4} l w_{x}^{2} + \\rho h w_{z}^{2} \\left(\\frac{4 l}{3} h^{3} + \\frac{4 h}{3} l^{3}\\right) + \\frac{\\rho w_{y}^{2}}{2} \\left(\\frac{8 l}{3} h^{4} + \\frac{8 h^{2}}{3} l^{3}\\right)\\end{matrix}\\right]$$",
            "text/plain": [
              "⎡                                                            ⎛   4        2  3\n",
              "⎢                                                          2 ⎜8⋅h ⋅l   8⋅h ⋅l \n",
              "⎢        4     2               ⎛   3          3⎞   \\rho⋅w_y ⋅⎜────── + ───────\n",
              "⎢8⋅\\rho⋅h ⋅l⋅wₓ              2 ⎜4⋅h ⋅l   4⋅h⋅l ⎟             ⎝  3         3   \n",
              "⎢─────────────── + \\rho⋅h⋅w_z ⋅⎜────── + ──────⎟ + ───────────────────────────\n",
              "⎣       3                      ⎝  3        3   ⎠                2             \n",
              "\n",
              "⎞⎤\n",
              "⎟⎥\n",
              "⎟⎥\n",
              "⎠⎥\n",
              "─⎥\n",
              " ⎦"
            ]
          },
          "metadata": {
            "tags": []
          }
        }
      ]
    },
    {
      "cell_type": "code",
      "metadata": {
        "id": "rKXhTnUoIqEf",
        "colab": {
          "base_uri": "https://localhost:8080/",
          "height": 87
        },
        "outputId": "9f8d3c4d-6b06-4f10-eae2-b31224b3316c"
      },
      "source": [
        "#display(wdash)\n",
        "wdashtrans=transpose(wdash)\n",
        "KE2=wdashtrans*I2*wdash/2\n",
        "display(KE2)"
      ],
      "execution_count": null,
      "outputs": [
        {
          "output_type": "display_data",
          "data": {
            "text/html": [
              "<script src='https://cdnjs.cloudflare.com/ajax/libs/mathjax/2.7.3/latest.js?config=TeX-AMS_HTML'></script>"
            ],
            "text/plain": [
              "<IPython.core.display.HTML object>"
            ]
          },
          "metadata": {
            "tags": []
          }
        },
        {
          "output_type": "display_data",
          "data": {
            "text/latex": "$$\\left[\\begin{matrix}\\frac{8 \\rho}{3} h^{4} l w_{x}^{2} + \\frac{4 \\rho}{3} h^{2} l \\left(h^{2} + l^{2}\\right) \\left(\\frac{\\sqrt{2} w_{y}}{2} - \\frac{\\sqrt{2} w_{z}}{2}\\right)^{2} + \\frac{4 \\rho}{3} h^{2} l \\left(h^{2} + l^{2}\\right) \\left(\\frac{\\sqrt{2} w_{y}}{2} + \\frac{\\sqrt{2} w_{z}}{2}\\right)^{2}\\end{matrix}\\right]$$",
            "text/plain": [
              "⎡                                                         2                   \n",
              "⎢                          2   ⎛ 2    2⎞ ⎛√2⋅w_y   √2⋅w_z⎞            2   ⎛ 2 \n",
              "⎢        4     2   4⋅\\rho⋅h ⋅l⋅⎝h  + l ⎠⋅⎜────── - ──────⎟    4⋅\\rho⋅h ⋅l⋅⎝h  \n",
              "⎢8⋅\\rho⋅h ⋅l⋅wₓ                          ⎝  2        2   ⎠                    \n",
              "⎢─────────────── + ──────────────────────────────────────── + ────────────────\n",
              "⎣       3                             3                                       \n",
              "\n",
              "                       2⎤\n",
              "   2⎞ ⎛√2⋅w_y   √2⋅w_z⎞ ⎥\n",
              "+ l ⎠⋅⎜────── + ──────⎟ ⎥\n",
              "      ⎝  2        2   ⎠ ⎥\n",
              "────────────────────────⎥\n",
              "   3                    ⎦"
            ]
          },
          "metadata": {
            "tags": []
          }
        }
      ]
    },
    {
      "cell_type": "code",
      "metadata": {
        "id": "TTeFtXf2E92a",
        "colab": {
          "base_uri": "https://localhost:8080/",
          "height": 134
        },
        "outputId": "47db6521-2632-4ee8-90fc-044ed8dd5199"
      },
      "source": [
        "o=Rot*rho*zyxInt5*Transpose(Rot)\n",
        "display(sym.simplify(o))"
      ],
      "execution_count": null,
      "outputs": [
        {
          "output_type": "display_data",
          "data": {
            "text/html": [
              "<script src='https://cdnjs.cloudflare.com/ajax/libs/mathjax/2.7.3/latest.js?config=TeX-AMS_HTML'></script>"
            ],
            "text/plain": [
              "<IPython.core.display.HTML object>"
            ]
          },
          "metadata": {
            "tags": []
          }
        },
        {
          "output_type": "display_data",
          "data": {
            "text/latex": "$$\\left[\\begin{matrix}\\frac{16 \\rho}{3} h^{4} l & 0 & 0\\\\0 & \\frac{8 \\rho}{3} h^{2} l \\left(h^{2} + l^{2}\\right) & 0\\\\0 & 0 & \\frac{8 \\rho}{3} h^{2} l \\left(h^{2} + l^{2}\\right)\\end{matrix}\\right]$$",
            "text/plain": [
              "⎡         4                                                ⎤\n",
              "⎢16⋅\\rho⋅h ⋅l                                              ⎥\n",
              "⎢────────────            0                      0          ⎥\n",
              "⎢     3                                                    ⎥\n",
              "⎢                                                          ⎥\n",
              "⎢                      2   ⎛ 2    2⎞                       ⎥\n",
              "⎢              8⋅\\rho⋅h ⋅l⋅⎝h  + l ⎠                       ⎥\n",
              "⎢     0        ─────────────────────            0          ⎥\n",
              "⎢                        3                                 ⎥\n",
              "⎢                                                          ⎥\n",
              "⎢                                             2   ⎛ 2    2⎞⎥\n",
              "⎢                                     8⋅\\rho⋅h ⋅l⋅⎝h  + l ⎠⎥\n",
              "⎢     0                  0            ─────────────────────⎥\n",
              "⎣                                               3          ⎦"
            ]
          },
          "metadata": {
            "tags": []
          }
        }
      ]
    },
    {
      "cell_type": "markdown",
      "metadata": {
        "id": "ETILFqmZLV8w"
      },
      "source": [
        "Part e)"
      ]
    },
    {
      "cell_type": "code",
      "metadata": {
        "id": "eOT2VL_aOhZX"
      },
      "source": [
        "from fractions import Fraction\n",
        "from sympy import Symbol, Derivative, Integral, Rational\n"
      ],
      "execution_count": null,
      "outputs": []
    },
    {
      "cell_type": "code",
      "metadata": {
        "id": "LQi-UkiVRr5K",
        "colab": {
          "base_uri": "https://localhost:8080/",
          "height": 111
        },
        "outputId": "71a51b25-763e-45c9-dc16-80171af3817a"
      },
      "source": [
        "I11 = sym.symbols(r'I_11')\n",
        "I22 = sym.symbols(r'I_22')\n",
        "I=sym.Matrix(3,3, [I11, 0,0, 0, I22,0,0,0,I22])\n",
        "display(I)"
      ],
      "execution_count": null,
      "outputs": [
        {
          "output_type": "display_data",
          "data": {
            "text/html": [
              "<script src='https://cdnjs.cloudflare.com/ajax/libs/mathjax/2.7.3/latest.js?config=TeX-AMS_HTML'></script>"
            ],
            "text/plain": [
              "<IPython.core.display.HTML object>"
            ]
          },
          "metadata": {
            "tags": []
          }
        },
        {
          "output_type": "display_data",
          "data": {
            "text/latex": "$$\\left[\\begin{matrix}I_{11} & 0 & 0\\\\0 & I_{22} & 0\\\\0 & 0 & I_{22}\\end{matrix}\\right]$$",
            "text/plain": [
              "⎡I₁₁   0    0 ⎤\n",
              "⎢             ⎥\n",
              "⎢ 0   I₂₂   0 ⎥\n",
              "⎢             ⎥\n",
              "⎣ 0    0   I₂₂⎦"
            ]
          },
          "metadata": {
            "tags": []
          }
        }
      ]
    },
    {
      "cell_type": "code",
      "metadata": {
        "id": "W0uRVzYXRaIP",
        "colab": {
          "base_uri": "https://localhost:8080/",
          "height": 217
        },
        "outputId": "45c826ef-c3ec-44fe-d624-6d60ee6b5338"
      },
      "source": [
        "Imod=sym.Matrix(3,3, [I11, 0,0, 0, I22,0,0,0,I22])\n",
        "display(Imod)\n",
        "display(I1)"
      ],
      "execution_count": null,
      "outputs": [
        {
          "output_type": "display_data",
          "data": {
            "text/html": [
              "<script src='https://cdnjs.cloudflare.com/ajax/libs/mathjax/2.7.3/latest.js?config=TeX-AMS_HTML'></script>"
            ],
            "text/plain": [
              "<IPython.core.display.HTML object>"
            ]
          },
          "metadata": {
            "tags": []
          }
        },
        {
          "output_type": "display_data",
          "data": {
            "text/latex": "$$\\left[\\begin{matrix}I_{11} & 0 & 0\\\\0 & I_{22} & 0\\\\0 & 0 & I_{22}\\end{matrix}\\right]$$",
            "text/plain": [
              "⎡I₁₁   0    0 ⎤\n",
              "⎢             ⎥\n",
              "⎢ 0   I₂₂   0 ⎥\n",
              "⎢             ⎥\n",
              "⎣ 0    0   I₂₂⎦"
            ]
          },
          "metadata": {
            "tags": []
          }
        },
        {
          "output_type": "display_data",
          "data": {
            "text/html": [
              "<script src='https://cdnjs.cloudflare.com/ajax/libs/mathjax/2.7.3/latest.js?config=TeX-AMS_HTML'></script>"
            ],
            "text/plain": [
              "<IPython.core.display.HTML object>"
            ]
          },
          "metadata": {
            "tags": []
          }
        },
        {
          "output_type": "display_data",
          "data": {
            "text/latex": "$$\\left[\\begin{matrix}\\frac{16 \\rho}{3} h^{4} l & 0 & 0\\\\0 & \\rho \\left(\\frac{8 l}{3} h^{4} + \\frac{8 h^{2}}{3} l^{3}\\right) & 0\\\\0 & 0 & 2 \\rho h \\left(\\frac{4 l}{3} h^{3} + \\frac{4 h}{3} l^{3}\\right)\\end{matrix}\\right]$$",
            "text/plain": [
              "⎡         4                                                       ⎤\n",
              "⎢16⋅\\rho⋅h ⋅l                                                     ⎥\n",
              "⎢────────────             0                         0             ⎥\n",
              "⎢     3                                                           ⎥\n",
              "⎢                                                                 ⎥\n",
              "⎢                   ⎛   4        2  3⎞                            ⎥\n",
              "⎢                   ⎜8⋅h ⋅l   8⋅h ⋅l ⎟                            ⎥\n",
              "⎢     0        \\rho⋅⎜────── + ───────⎟              0             ⎥\n",
              "⎢                   ⎝  3         3   ⎠                            ⎥\n",
              "⎢                                                                 ⎥\n",
              "⎢                                                ⎛   3          3⎞⎥\n",
              "⎢                                                ⎜4⋅h ⋅l   4⋅h⋅l ⎟⎥\n",
              "⎢     0                   0             2⋅\\rho⋅h⋅⎜────── + ──────⎟⎥\n",
              "⎣                                                ⎝  3        3   ⎠⎦"
            ]
          },
          "metadata": {
            "tags": []
          }
        }
      ]
    },
    {
      "cell_type": "code",
      "metadata": {
        "id": "e8ApPilHLVuU",
        "colab": {
          "base_uri": "https://localhost:8080/",
          "height": 137
        },
        "outputId": "f15ff155-657b-4126-d0f7-76ed7f6408fe"
      },
      "source": [
        "Rbddb=sym.Matrix(3, 3, [Rational(1, 2), -1*Rational(1, 2), -1*sym.sqrt(2)/2, sym.sqrt(2)/2, sym.sqrt(2)/2,0,Rational(1, 2),-1*Rational(1, 2),sym.sqrt(2)/2])\n",
        "display(Rbddb)\n",
        "Rbddbtrans=Transpose(Rbddb)\n",
        "\n",
        "I3=Rbddb*Imod*Rbddbtrans\n"
      ],
      "execution_count": null,
      "outputs": [
        {
          "output_type": "display_data",
          "data": {
            "text/html": [
              "<script src='https://cdnjs.cloudflare.com/ajax/libs/mathjax/2.7.3/latest.js?config=TeX-AMS_HTML'></script>"
            ],
            "text/plain": [
              "<IPython.core.display.HTML object>"
            ]
          },
          "metadata": {
            "tags": []
          }
        },
        {
          "output_type": "display_data",
          "data": {
            "text/latex": "$$\\left[\\begin{matrix}\\frac{1}{2} & - \\frac{1}{2} & - \\frac{\\sqrt{2}}{2}\\\\\\frac{\\sqrt{2}}{2} & \\frac{\\sqrt{2}}{2} & 0\\\\\\frac{1}{2} & - \\frac{1}{2} & \\frac{\\sqrt{2}}{2}\\end{matrix}\\right]$$",
            "text/plain": [
              "⎡           -√2 ⎤\n",
              "⎢1/2  -1/2  ────⎥\n",
              "⎢            2  ⎥\n",
              "⎢               ⎥\n",
              "⎢√2    √2       ⎥\n",
              "⎢──    ──    0  ⎥\n",
              "⎢2     2        ⎥\n",
              "⎢               ⎥\n",
              "⎢            √2 ⎥\n",
              "⎢1/2  -1/2   ── ⎥\n",
              "⎣            2  ⎦"
            ]
          },
          "metadata": {
            "tags": []
          }
        }
      ]
    },
    {
      "cell_type": "markdown",
      "metadata": {
        "id": "SzyHG9AfRFLl"
      },
      "source": [
        "Let us denote the 1,1 element to be I11 and the remaining elements to be I22."
      ]
    },
    {
      "cell_type": "code",
      "metadata": {
        "id": "mD5JbUyzNoAL"
      },
      "source": [
        "\n",
        "#display(sym.simplify(I3))"
      ],
      "execution_count": null,
      "outputs": []
    },
    {
      "cell_type": "code",
      "metadata": {
        "id": "tkj-fFwvwD5U",
        "colab": {
          "base_uri": "https://localhost:8080/",
          "height": 97
        },
        "outputId": "dd606e3c-1f46-4fc9-b95d-172c34a9d351"
      },
      "source": [
        "eigvaI_pp = sym.Matrix.eigenvals(I3)\n",
        "display(eigvaI_pp)\n",
        "eigvaI = sym.Matrix.eigenvals(I)\n",
        "display(eigvaI)"
      ],
      "execution_count": null,
      "outputs": [
        {
          "output_type": "display_data",
          "data": {
            "text/html": [
              "<script src='https://cdnjs.cloudflare.com/ajax/libs/mathjax/2.7.3/latest.js?config=TeX-AMS_HTML'></script>"
            ],
            "text/plain": [
              "<IPython.core.display.HTML object>"
            ]
          },
          "metadata": {
            "tags": []
          }
        },
        {
          "output_type": "display_data",
          "data": {
            "text/latex": "$$\\left \\{ I_{11} : 1, \\quad I_{22} : 2\\right \\}$$",
            "text/plain": [
              "{I₁₁: 1, I₂₂: 2}"
            ]
          },
          "metadata": {
            "tags": []
          }
        },
        {
          "output_type": "display_data",
          "data": {
            "text/html": [
              "<script src='https://cdnjs.cloudflare.com/ajax/libs/mathjax/2.7.3/latest.js?config=TeX-AMS_HTML'></script>"
            ],
            "text/plain": [
              "<IPython.core.display.HTML object>"
            ]
          },
          "metadata": {
            "tags": []
          }
        },
        {
          "output_type": "display_data",
          "data": {
            "text/latex": "$$\\left \\{ I_{11} : 1, \\quad I_{22} : 2\\right \\}$$",
            "text/plain": [
              "{I₁₁: 1, I₂₂: 2}"
            ]
          },
          "metadata": {
            "tags": []
          }
        }
      ]
    },
    {
      "cell_type": "code",
      "metadata": {
        "id": "9P5vi6JFzre8"
      },
      "source": [
        "Eigve = sym.Matrix.eigenvects(I)\n",
        "display(Eigve)"
      ],
      "execution_count": null,
      "outputs": []
    },
    {
      "cell_type": "code",
      "metadata": {
        "id": "FLu5BOH70dab",
        "colab": {
          "base_uri": "https://localhost:8080/",
          "height": 111
        },
        "outputId": "ee5f7b52-d96e-4261-c76d-4daa8587bf24"
      },
      "source": [
        "Eigven = sym.Matrix.eigenvects(Imod)\n",
        "display(Eigven)"
      ],
      "execution_count": null,
      "outputs": [
        {
          "output_type": "display_data",
          "data": {
            "text/html": [
              "<script src='https://cdnjs.cloudflare.com/ajax/libs/mathjax/2.7.3/latest.js?config=TeX-AMS_HTML'></script>"
            ],
            "text/plain": [
              "<IPython.core.display.HTML object>"
            ]
          },
          "metadata": {
            "tags": []
          }
        },
        {
          "output_type": "display_data",
          "data": {
            "text/latex": "$$\\left [ \\left ( I_{11}, \\quad 1, \\quad \\left [ \\left[\\begin{matrix}1\\\\0\\\\0\\end{matrix}\\right]\\right ]\\right ), \\quad \\left ( I_{22}, \\quad 2, \\quad \\left [ \\left[\\begin{matrix}0\\\\1\\\\0\\end{matrix}\\right], \\quad \\left[\\begin{matrix}0\\\\0\\\\1\\end{matrix}\\right]\\right ]\\right )\\right ]$$",
            "text/plain": [
              "⎡⎛        ⎡⎡1⎤⎤⎞  ⎛        ⎡⎡0⎤  ⎡0⎤⎤⎞⎤\n",
              "⎢⎜        ⎢⎢ ⎥⎥⎟  ⎜        ⎢⎢ ⎥  ⎢ ⎥⎥⎟⎥\n",
              "⎢⎜I₁₁, 1, ⎢⎢0⎥⎥⎟, ⎜I₂₂, 2, ⎢⎢1⎥, ⎢0⎥⎥⎟⎥\n",
              "⎢⎜        ⎢⎢ ⎥⎥⎟  ⎜        ⎢⎢ ⎥  ⎢ ⎥⎥⎟⎥\n",
              "⎣⎝        ⎣⎣0⎦⎦⎠  ⎝        ⎣⎣0⎦  ⎣1⎦⎦⎠⎦"
            ]
          },
          "metadata": {
            "tags": []
          }
        }
      ]
    },
    {
      "cell_type": "code",
      "metadata": {
        "id": "miPw7QkfzCow"
      },
      "source": [
        "#display(Rbddb)\n",
        "R_bbpp = Rbddb.T\n",
        "#display(R_bbpp.T)\n",
        "Eigve = sym.Matrix.eigenvects(I3)\n"
      ],
      "execution_count": null,
      "outputs": []
    },
    {
      "cell_type": "code",
      "metadata": {
        "id": "0Gd5xeC1zium",
        "colab": {
          "base_uri": "https://localhost:8080/",
          "height": 221
        },
        "outputId": "3ad85fe8-ddfb-4c70-cade-f0cea18a6270"
      },
      "source": [
        "display(Eigve)"
      ],
      "execution_count": null,
      "outputs": [
        {
          "output_type": "display_data",
          "data": {
            "text/html": [
              "<script src='https://cdnjs.cloudflare.com/ajax/libs/mathjax/2.7.3/latest.js?config=TeX-AMS_HTML'></script>"
            ],
            "text/plain": [
              "<IPython.core.display.HTML object>"
            ]
          },
          "metadata": {
            "tags": []
          }
        },
        {
          "output_type": "display_data",
          "data": {
            "text/latex": "$$\\left [ \\left ( I_{11}, \\quad 1, \\quad \\left [ \\left[\\begin{matrix}- \\frac{1}{\\left(- \\frac{3 I_{11}}{4} + \\frac{3 I_{22}}{4}\\right) \\left(\\left(- \\frac{3 I_{11}}{4} + \\frac{3 I_{22}}{4}\\right) \\left(- \\frac{I_{11}}{2} + \\frac{I_{22}}{2}\\right) - \\left(\\frac{\\sqrt{2} I_{11}}{4} - \\frac{\\sqrt{2} I_{22}}{4}\\right)^{2}\\right)} \\left(\\left(\\frac{I_{11}}{4} - \\frac{I_{22}}{4}\\right) \\left(\\left(- \\frac{3 I_{11}}{4} + \\frac{3 I_{22}}{4}\\right) \\left(- \\frac{I_{11}}{2} + \\frac{I_{22}}{2}\\right) - \\left(\\frac{\\sqrt{2} I_{11}}{4} - \\frac{\\sqrt{2} I_{22}}{4}\\right)^{2}\\right) - \\left(\\frac{\\sqrt{2} I_{11}}{4} - \\frac{\\sqrt{2} I_{22}}{4}\\right) \\left(\\left(- \\frac{3 I_{11}}{4} + \\frac{3 I_{22}}{4}\\right) \\left(\\frac{\\sqrt{2} I_{11}}{4} - \\frac{\\sqrt{2} I_{22}}{4}\\right) - \\left(\\frac{I_{11}}{4} - \\frac{I_{22}}{4}\\right) \\left(\\frac{\\sqrt{2} I_{11}}{4} - \\frac{\\sqrt{2} I_{22}}{4}\\right)\\right)\\right)\\\\- \\frac{\\left(- \\frac{3 I_{11}}{4} + \\frac{3 I_{22}}{4}\\right) \\left(\\frac{\\sqrt{2} I_{11}}{4} - \\frac{\\sqrt{2} I_{22}}{4}\\right) - \\left(\\frac{I_{11}}{4} - \\frac{I_{22}}{4}\\right) \\left(\\frac{\\sqrt{2} I_{11}}{4} - \\frac{\\sqrt{2} I_{22}}{4}\\right)}{\\left(- \\frac{3 I_{11}}{4} + \\frac{3 I_{22}}{4}\\right) \\left(- \\frac{I_{11}}{2} + \\frac{I_{22}}{2}\\right) - \\left(\\frac{\\sqrt{2} I_{11}}{4} - \\frac{\\sqrt{2} I_{22}}{4}\\right)^{2}}\\\\1\\end{matrix}\\right]\\right ]\\right ), \\quad \\left ( I_{22}, \\quad 2, \\quad \\left [ \\left[\\begin{matrix}- \\frac{\\frac{\\sqrt{2} I_{11}}{4} - \\frac{\\sqrt{2} I_{22}}{4}}{\\frac{I_{11}}{4} - \\frac{I_{22}}{4}}\\\\1\\\\0\\end{matrix}\\right], \\quad \\left[\\begin{matrix}-1\\\\0\\\\1\\end{matrix}\\right]\\right ]\\right )\\right ]$$",
            "text/plain": [
              "⎡⎛        ⎡⎡ ⎛            ⎛                                                   \n",
              "⎢⎜        ⎢⎢ ⎜⎛I₁₁   I₂₂⎞ ⎜⎛  3⋅I₁₁   3⋅I₂₂⎞ ⎛  I₁₁   I₂₂⎞   ⎛√2⋅I₁₁   √2⋅I₂₂⎞\n",
              "⎢⎜        ⎢⎢-⎜⎜─── - ───⎟⋅⎜⎜- ───── + ─────⎟⋅⎜- ─── + ───⎟ - ⎜────── - ──────⎟\n",
              "⎢⎜        ⎢⎢ ⎝⎝ 4     4 ⎠ ⎝⎝    4       4  ⎠ ⎝   2     2 ⎠   ⎝  4        4   ⎠\n",
              "⎢⎜        ⎢⎢──────────────────────────────────────────────────────────────────\n",
              "⎢⎜        ⎢⎢                                                              ⎛   \n",
              "⎢⎜        ⎢⎢                                            ⎛  3⋅I₁₁   3⋅I₂₂⎞ ⎜⎛  \n",
              "⎢⎜        ⎢⎢                                            ⎜- ───── + ─────⎟⋅⎜⎜- \n",
              "⎢⎜        ⎢⎢                                            ⎝    4       4  ⎠ ⎝⎝  \n",
              "⎢⎜        ⎢⎢                                                                  \n",
              "⎢⎜I₁₁, 1, ⎢⎢                                             ⎛⎛  3⋅I₁₁   3⋅I₂₂⎞ ⎛√\n",
              "⎢⎜        ⎢⎢                                            -⎜⎜- ───── + ─────⎟⋅⎜─\n",
              "⎢⎜        ⎢⎢                                             ⎝⎝    4       4  ⎠ ⎝ \n",
              "⎢⎜        ⎢⎢                                            ──────────────────────\n",
              "⎢⎜        ⎢⎢                                                                  \n",
              "⎢⎜        ⎢⎢                                                      ⎛  3⋅I₁₁   3\n",
              "⎢⎜        ⎢⎢                                                      ⎜- ───── + ─\n",
              "⎢⎜        ⎢⎢                                                      ⎝    4      \n",
              "⎢⎜        ⎢⎢                                                                  \n",
              "⎣⎝        ⎣⎣                                                                  \n",
              "\n",
              "2⎞                                                                            \n",
              " ⎟   ⎛√2⋅I₁₁   √2⋅I₂₂⎞ ⎛⎛  3⋅I₁₁   3⋅I₂₂⎞ ⎛√2⋅I₁₁   √2⋅I₂₂⎞   ⎛I₁₁   I₂₂⎞ ⎛√2⋅\n",
              " ⎟ - ⎜────── - ──────⎟⋅⎜⎜- ───── + ─────⎟⋅⎜────── - ──────⎟ - ⎜─── - ───⎟⋅⎜───\n",
              " ⎠   ⎝  4        4   ⎠ ⎝⎝    4       4  ⎠ ⎝  4        4   ⎠   ⎝ 4     4 ⎠ ⎝  4\n",
              "──────────────────────────────────────────────────────────────────────────────\n",
              "                                                2⎞                            \n",
              "3⋅I₁₁   3⋅I₂₂⎞ ⎛  I₁₁   I₂₂⎞   ⎛√2⋅I₁₁   √2⋅I₂₂⎞ ⎟                            \n",
              "───── + ─────⎟⋅⎜- ─── + ───⎟ - ⎜────── - ──────⎟ ⎟                            \n",
              "  4       4  ⎠ ⎝   2     2 ⎠   ⎝  4        4   ⎠ ⎠                            \n",
              "                                                                              \n",
              "2⋅I₁₁   √2⋅I₂₂⎞   ⎛I₁₁   I₂₂⎞ ⎛√2⋅I₁₁   √2⋅I₂₂⎞⎞                              \n",
              "───── - ──────⎟ - ⎜─── - ───⎟⋅⎜────── - ──────⎟⎟                              \n",
              " 4        4   ⎠   ⎝ 4     4 ⎠ ⎝  4        4   ⎠⎠                              \n",
              "─────────────────────────────────────────────────                             \n",
              "                                       2                                      \n",
              "⋅I₂₂⎞ ⎛  I₁₁   I₂₂⎞   ⎛√2⋅I₁₁   √2⋅I₂₂⎞                                       \n",
              "────⎟⋅⎜- ─── + ───⎟ - ⎜────── - ──────⎟                                       \n",
              " 4  ⎠ ⎝   2     2 ⎠   ⎝  4        4   ⎠                                       \n",
              "                                                                              \n",
              "             1                                                                \n",
              "\n",
              "              ⎞ ⎤⎤⎞                                         ⎤\n",
              "I₁₁   √2⋅I₂₂⎞⎞⎟ ⎥⎥⎟                                         ⎥\n",
              "─── - ──────⎟⎟⎟ ⎥⎥⎟                                         ⎥\n",
              "        4   ⎠⎠⎠ ⎥⎥⎟                                         ⎥\n",
              "────────────────⎥⎥⎟                                         ⎥\n",
              "                ⎥⎥⎟  ⎛        ⎡⎡ ⎛√2⋅I₁₁   √2⋅I₂₂⎞ ⎤      ⎤⎞⎥\n",
              "                ⎥⎥⎟  ⎜        ⎢⎢-⎜────── - ──────⎟ ⎥      ⎥⎟⎥\n",
              "                ⎥⎥⎟  ⎜        ⎢⎢ ⎝  4        4   ⎠ ⎥      ⎥⎟⎥\n",
              "                ⎥⎥⎟  ⎜        ⎢⎢───────────────────⎥  ⎡-1⎤⎥⎟⎥\n",
              "                ⎥⎥⎟  ⎜        ⎢⎢     I₁₁   I₂₂     ⎥  ⎢  ⎥⎥⎟⎥\n",
              "                ⎥⎥⎟, ⎜I₂₂, 2, ⎢⎢     ─── - ───     ⎥, ⎢0 ⎥⎥⎟⎥\n",
              "                ⎥⎥⎟  ⎜        ⎢⎢      4     4      ⎥  ⎢  ⎥⎥⎟⎥\n",
              "                ⎥⎥⎟  ⎜        ⎢⎢                   ⎥  ⎣1 ⎦⎥⎟⎥\n",
              "                ⎥⎥⎟  ⎜        ⎢⎢         1         ⎥      ⎥⎟⎥\n",
              "                ⎥⎥⎟  ⎜        ⎢⎢                   ⎥      ⎥⎟⎥\n",
              "                ⎥⎥⎟  ⎝        ⎣⎣         0         ⎦      ⎦⎠⎥\n",
              "                ⎥⎥⎟                                         ⎥\n",
              "                ⎥⎥⎟                                         ⎥\n",
              "                ⎥⎥⎟                                         ⎥\n",
              "                ⎦⎦⎠                                         ⎦"
            ]
          },
          "metadata": {
            "tags": []
          }
        }
      ]
    },
    {
      "cell_type": "code",
      "metadata": {
        "id": "bAqyYSVgbFQZ"
      },
      "source": [
        "# from __future__ import division\n",
        "# from sympy import *\n",
        "# nsimplify(I3)\n",
        "# I6=(I3.evalf(4))\n",
        "# display(I6)\n",
        "# I7=np.mat(I6)\n",
        "# display(I7)"
      ],
      "execution_count": null,
      "outputs": []
    },
    {
      "cell_type": "markdown",
      "metadata": {
        "id": "cG5gDsDy2lUG"
      },
      "source": [
        "### Problem #2 (50 pts): Modeling the Splits"
      ]
    },
    {
      "cell_type": "code",
      "metadata": {
        "id": "vB5LWCRa23gw",
        "cellView": "form",
        "colab": {
          "base_uri": "https://localhost:8080/",
          "height": 377
        },
        "outputId": "ec3648cc-603c-450f-defc-7bdf21c5dd74"
      },
      "source": [
        "#@title\n",
        "# Code to display images\n",
        "from IPython.core.display import HTML\n",
        "display(HTML(\"<table><tr><td><img src='https://github.com/tberrueta/ME314pngs/raw/master/bipedsplits.PNG' width='350' height='350'></td><td><img src='https://github.com/tberrueta/ME314pngs/raw/master/bipedsplits2.PNG' width='350' height='350'></td><td><img src='https://github.com/tberrueta/ME314pngs/raw/master/bipedsplits3.PNG' width='350' height='350'></td></tr></table>\"))"
      ],
      "execution_count": null,
      "outputs": [
        {
          "output_type": "display_data",
          "data": {
            "text/html": [
              "<table><tr><td><img src='https://github.com/tberrueta/ME314pngs/raw/master/bipedsplits.PNG' width='350' height='350'></td><td><img src='https://github.com/tberrueta/ME314pngs/raw/master/bipedsplits2.PNG' width='350' height='350'></td><td><img src='https://github.com/tberrueta/ME314pngs/raw/master/bipedsplits3.PNG' width='350' height='350'></td></tr></table>"
            ],
            "text/plain": [
              "<IPython.core.display.HTML object>"
            ]
          },
          "metadata": {
            "tags": []
          }
        }
      ]
    },
    {
      "cell_type": "markdown",
      "metadata": {
        "id": "NEA37D1TQY3Y"
      },
      "source": [
        "Figure 2: A simple biped doing the splits"
      ]
    },
    {
      "cell_type": "markdown",
      "metadata": {
        "id": "V3pkHqNFO4yn"
      },
      "source": [
        "The pictured biped is a constrained system involving three rigid\n",
        "bodies, each of which has length $\\ell=1$, width $w=1/4$, mass $m=1$ *and* rotational inertia\n",
        "$J=1$ (assuming that the center of mass is at the center of geometry). Each is subject to a gravitational potential.\n",
        "The top rigid body has configuration $(x,y,\\theta_1)$ while each leg has\n",
        "an angle $\\theta_2$ and $\\theta_3$ relative to the body.  The feet are\n",
        "constrained to not fall below the floor (which they start out in\n",
        "contact with), but are allowed to slide freely along the floor.\n",
        "\n",
        "This problem represents someone (substantially more flexible than me)\n",
        "that can do the splits.  Starting from an intial condition of\n",
        "$$\n",
        "(x,y,\\theta_1,\\theta_2,\\theta_3)=(0,\\frac{\\ell}{2} + \\ell \\cos(\\frac{\\pi}{20}),0,\\frac{\\pi}{20},-\\frac{\\pi}{20}),\n",
        "$$\n",
        "\n",
        "the biped tracks the desired trajectory\n",
        "$$\n",
        "(x^d(t),y^d(t),\\theta_1^d(t),\\theta_2^d(t),\\theta_3^d(t))=(0,0,0,\\frac{\\pi}{20}+\\frac{\\pi}{3}\\sin^2\\left(\\frac{t}{2}\\right),-\\frac{\\pi}{20}-\\frac{\\pi}{3}\\sin^2\\left(\\frac{t}{2}\\right))\n",
        "$$\n",
        "using the following control law:\n",
        "\\begin{align*}\n",
        "F_{\\theta_2}&=-k_1(\\theta_1-\\theta_1^d)-k_2(\\theta_2-\\theta_2^d)\\\\\n",
        "F_{\\theta_3}&=-k_1(\\theta_1-\\theta_1^d)-k_2(\\theta_3-\\theta_3^d)\n",
        "\\end{align*}\n",
        "applied at the joints $\\theta_2$ and $\\theta_3$ respectively. These forces make the body respond to\n",
        "  small errors between the desired trajectory and the actual\n",
        "  trajectory.\n",
        "\n",
        "Simulate this system from $t=0$ until $t=10$ with $dt=0.01$, assuming that the\n",
        "control constants are $k_1=10$ and $k_2=20$ and animate the result in\n",
        "a manner similar to the figure above in Fig. 2. A movie indicating roughly what you should obtain is also available online.\n",
        "\n",
        "For your own interest (but not to turn in), you may find it\n",
        "interesting to look at how the control gains affect the bipeds ability\n",
        "to do the splits (a simpler version of locomotion).  This change is\n",
        "also seen in stroke survivors, but in the context of walking.\n",
        "\n",
        "NOTE: You must make your own animation function for this. Feel free to use starting code from previous homeworks."
      ]
    },
    {
      "cell_type": "markdown",
      "metadata": {
        "id": "YlpP2k72rFXS"
      },
      "source": [
        "\n",
        "# **The second part of this homework is done on a seperate colab file.**\n",
        "\n",
        "https://colab.research.google.com/drive/1uUMK5naK44gijztMYa2NUTL5MuXp4KWW#scrollTo=3zDYKxaPpTYC"
      ]
    }
  ]
}