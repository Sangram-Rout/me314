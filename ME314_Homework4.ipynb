{
  "nbformat": 4,
  "nbformat_minor": 0,
  "metadata": {
    "colab": {
      "name": "Copy of ME314_Homework4.ipynb",
      "provenance": [],
      "collapsed_sections": [],
      "include_colab_link": true
    },
    "kernelspec": {
      "name": "python3",
      "display_name": "Python 3"
    }
  },
  "cells": [
    {
      "cell_type": "markdown",
      "metadata": {
        "id": "view-in-github",
        "colab_type": "text"
      },
      "source": [
        "<a href=\"https://colab.research.google.com/github/Sangram-Rout/me314/blob/main/ME314_Homework4.ipynb\" target=\"_parent\"><img src=\"https://colab.research.google.com/assets/colab-badge.svg\" alt=\"Open In Colab\"/></a>"
      ]
    },
    {
      "cell_type": "markdown",
      "metadata": {
        "id": "Y-1xqtrXmr4w"
      },
      "source": [
        "# ME314 Homework #4\n",
        "Name: (Sangram Keshari Rout)\n",
        "\n",
        "Date: 10/20/19\n",
        "\n",
        "**ALL PROBLEMS IN THIS HOMEWORK MUST BE DONE IN COLLABORATORY**. Yes, this includes your text answers to the questions in problem 4 and the derivation of the equations of motion in Problem 1---all of it!"
      ]
    },
    {
      "cell_type": "markdown",
      "metadata": {
        "id": "vOfo2rom1AES"
      },
      "source": [
        "## Imports and Helper Functions\n",
        "Here you will find all the necessary libraries that we need to import to be able to complete the homework."
      ]
    },
    {
      "cell_type": "code",
      "metadata": {
        "id": "Zus1CO4zmp85",
        "cellView": "both"
      },
      "source": [
        "import numpy as np\n",
        "import sympy as sym\n",
        "from sympy.abc import t\n",
        "%matplotlib inline\n",
        "import matplotlib.pyplot as plt\n",
        "\n",
        "#######################\n",
        "# Custom latex printing\n",
        "def custom_latex_printer(exp,**options):\n",
        "    from google.colab.output._publish import javascript\n",
        "    url = \"https://cdnjs.cloudflare.com/ajax/libs/mathjax/2.7.3/latest.js?config=TeX-AMS_HTML\"\n",
        "    javascript(url=url)\n",
        "    return sym.printing.latex(exp,**options)\n",
        "sym.init_printing(use_latex=\"mathjax\",latex_printer=custom_latex_printer)\n",
        "\n",
        "####################\n",
        "# Simulation helpers\n",
        "def integrate(f,x0,dt):\n",
        "    \"\"\"\n",
        "    This function takes in an initial condition x0 and a timestep dt,\n",
        "    as well as a dynamical system f(x) that outputs a vector of the\n",
        "    same dimension as x0. It outputs a vector x at the future time step.\n",
        "    \"\"\"\n",
        "    k1=dt*f(x0)\n",
        "    k2=dt*f(x0+k1/2.)\n",
        "    k3=dt*f(x0+k2/2.)\n",
        "    k4=dt*f(x0+k3)\n",
        "    xnew=x0+(1/6.)*(k1+2.*k2+2.*k3+k4)\n",
        "    return xnew\n",
        "\n",
        "def simulate(f,x0,tspan,dt,euler_int=False):\n",
        "    \"\"\"\n",
        "    This function takes in an initial condition x0, a timestep dt,\n",
        "    a time span tspan consisting of a list [min_time, max_time],\n",
        "    as well as a dynamical system f(x) that outputs a vector of the\n",
        "    same dimension as x0. Additionally, this includes a flag (default false)\n",
        "    that allows one to supply an Euler intergation scheme instead of \n",
        "    the given scheme. It outputs a full trajectory simulated\n",
        "    over the time span of dimensions (xvec_size, time_vec_size).\n",
        "    \"\"\"\n",
        "    N = int((max(tspan)-min(tspan))/dt)\n",
        "    x = np.copy(x0)\n",
        "    tvec = np.linspace(min(tspan),max(tspan),N)\n",
        "    xtraj = np.zeros((len(x0),N))\n",
        "    for i in range(N):\n",
        "        if euler_int:\n",
        "            xtraj[:,i]=euler(f,x,dt)\n",
        "        else:\n",
        "            xtraj[:,i]=integrate(f,x,dt)\n",
        "        x = np.copy(xtraj[:,i])\n",
        "    return xtraj   "
      ],
      "execution_count": null,
      "outputs": []
    },
    {
      "cell_type": "markdown",
      "metadata": {
        "id": "VFcOIQG3PO5N"
      },
      "source": [
        "## Animation Helper\n",
        "For this homework you will need to animate the triple pendulum. The function I have written below will animate a double pendulum so you *MUST* make changes in order to have it animate correctly. The inputs are the following:\n",
        "1. An array of $\\theta$ values over time that should have dimensions (3,N)\n",
        "2. Lengths of each arm of the pendulum that you used in your simulation (should be 1 for all).\n",
        "3. Time in seconds over which simulation takes place (should be 10).\n",
        "\n",
        "The function call you'd use once you have your $\\theta$ values is:\n",
        "\n",
        "    animate_triple_pend(theta_array,1,1,1,10)"
      ]
    },
    {
      "cell_type": "code",
      "metadata": {
        "id": "o2mnXRFAF0ie"
      },
      "source": [
        "def animate_triple_pend(theta_array,L1=1,L2=1,L3=1,T=10):\n",
        "    \"\"\"\n",
        "    YOU MUST CHANGE THIS FUNCTION TO PLOT TRIPLE PENDULUM.\n",
        "    Currently the innards of this function would plot a double pendulum.\n",
        "    \"\"\"\n",
        "    ################################\n",
        "    # Imports required for animation.\n",
        "    from plotly.offline import init_notebook_mode, iplot\n",
        "    from IPython.display import display, HTML\n",
        "    \n",
        "    #######################\n",
        "    # Browser configuration.\n",
        "    def configure_plotly_browser_state():\n",
        "      import IPython\n",
        "      display(IPython.core.display.HTML('''\n",
        "            <script src=\"/static/components/requirejs/require.js\"></script>\n",
        "            <script>\n",
        "              requirejs.config({\n",
        "                paths: {\n",
        "                  base: '/static/base',\n",
        "                  plotly: 'https://cdn.plot.ly/plotly-1.5.1.min.js?noext',\n",
        "                },\n",
        "              });\n",
        "            </script>\n",
        "            '''))\n",
        "    configure_plotly_browser_state()\n",
        "    init_notebook_mode(connected=False)\n",
        "    \n",
        "    ###############################################\n",
        "    # Getting data from pendulum angle trajectories.\n",
        "    xx1=L1*np.sin(theta_array[0])\n",
        "    yy1=-L1*np.cos(theta_array[0])\n",
        "    xx2=xx1+L2*np.sin(theta_array[0]+theta_array[1])\n",
        "    yy2=yy1-L2*np.cos(theta_array[0]+theta_array[1])\n",
        "    N = len(theta_array[0]) # Need this for specifying length of simulation\n",
        "    \n",
        "    ####################################\n",
        "    # Using these to specify axis limits.\n",
        "    xm=np.min(xx1)-0.5\n",
        "    xM=np.max(xx1)+0.5\n",
        "    ym=np.min(yy1)-2.5\n",
        "    yM=np.max(yy1)+1.5\n",
        "\n",
        "    ###########################\n",
        "    # Defining data dictionary.\n",
        "    # Trajectories are here.\n",
        "    data=[dict(x=xx1, y=yy1, \n",
        "               mode='lines', name='Pendulum', \n",
        "               line=dict(width=2, color='blue')\n",
        "              ),\n",
        "          dict(x=xx1, y=yy1, \n",
        "               mode='lines', name='Mass 1 Traj.',\n",
        "               line=dict(width=2, color='purple')\n",
        "              ),\n",
        "          dict(x=xx2, y=yy2, \n",
        "               mode='lines', name='Mass 2 Traj.',\n",
        "               line=dict(width=2, color='green')\n",
        "              ),\n",
        "        ]\n",
        "    \n",
        "    ################################\n",
        "    # Preparing simulation layout.\n",
        "    # Title and axis ranges are here.\n",
        "    layout=dict(xaxis=dict(range=[xm, xM], autorange=False, zeroline=False,dtick=1),\n",
        "                yaxis=dict(range=[ym, yM], autorange=False, zeroline=False,scaleanchor = \"x\",dtick=1),\n",
        "                title='Double Pendulum Simulation', \n",
        "                hovermode='closest',\n",
        "                updatemenus= [{'type': 'buttons',\n",
        "                               'buttons': [{'label': 'Play','method': 'animate',\n",
        "                                            'args': [None, {'frame': {'duration': T, 'redraw': False}}]},\n",
        "                                           {'args': [[None], {'frame': {'duration': T, 'redraw': False}, 'mode': 'immediate',\n",
        "                                            'transition': {'duration': 0}}],'label': 'Pause','method': 'animate'}\n",
        "                                          ]\n",
        "                              }]\n",
        "               )\n",
        "    \n",
        "    ########################################\n",
        "    # Defining the frames of the simulation.\n",
        "    # This is what draws the lines from\n",
        "    # joint to joint of the pendulum.\n",
        "    frames=[dict(data=[dict(x=[0,xx1[k],xx2[k]], \n",
        "                            y=[0,yy1[k],yy2[k]], \n",
        "                            mode='lines',\n",
        "                            line=dict(color='red', width=7)\n",
        "                            )\n",
        "                      ]) for k in range(N)]\n",
        "    \n",
        "    #######################################\n",
        "    # Putting it all together and plotting.\n",
        "    figure1=dict(data=data, layout=layout, frames=frames)           \n",
        "    iplot(figure1)"
      ],
      "execution_count": null,
      "outputs": []
    },
    {
      "cell_type": "markdown",
      "metadata": {
        "id": "UTzywv6w15Yq"
      },
      "source": [
        "## Problem Set"
      ]
    },
    {
      "cell_type": "code",
      "metadata": {
        "id": "JGHcu0Mis6Ij",
        "cellView": "form",
        "colab": {
          "base_uri": "https://localhost:8080/",
          "height": 397
        },
        "outputId": "e9715d95-73d7-4cf6-b738-760f6295f576"
      },
      "source": [
        "#@title\n",
        "# Code to display images\n",
        "from IPython.core.display import HTML\n",
        "display(HTML(\"<table><tr><td><img src='https://github.com/tberrueta/ME314pngs/raw/master/dynhoop2.png' width='350' height='350'></td><td><img src='https://github.com/tberrueta/ME314pngs/raw/master/dyntripleconstrainedpend.PNG' width='350' height='350'></td></tr></table>\"))"
      ],
      "execution_count": null,
      "outputs": [
        {
          "output_type": "display_data",
          "data": {
            "text/html": [
              "<table><tr><td><img src='https://github.com/tberrueta/ME314pngs/raw/master/dynhoop2.png' width='350' height='350'></td><td><img src='https://github.com/tberrueta/ME314pngs/raw/master/dyntripleconstrainedpend.PNG' width='350' height='350'></td></tr></table>"
            ],
            "text/plain": [
              "<IPython.core.display.HTML object>"
            ]
          },
          "metadata": {
            "tags": []
          }
        }
      ]
    },
    {
      "cell_type": "markdown",
      "metadata": {
        "id": "1-XPG9Eh1apY"
      },
      "source": [
        "Figure 1: (left) The bead on a hoop system. (right) the constrained triple pendulum."
      ]
    },
    {
      "cell_type": "markdown",
      "metadata": {
        "id": "ImU4iG8I2D_M"
      },
      "source": [
        "### Problem #1 (20 pts)\n",
        "Take the bead on a hoop example in Fig. 1(left)\n",
        "  and model it using a torque input $\\tau$ (about the vertical $z$ axis)\n",
        "  instead of a velocity input $\\omega$.  You will need to add a\n",
        "  configuration variable $\\psi$ that is the rotation about the $z$ axis\n",
        "  so that $q=(\\theta,\\psi)$. Give the equations of motion in terms of the\n",
        "  two configuration variables."
      ]
    },
    {
      "cell_type": "code",
      "metadata": {
        "id": "AWP-T-KK2VT7",
        "colab": {
          "base_uri": "https://localhost:8080/",
          "height": 157
        },
        "outputId": "967fee00-5805-42be-c150-9d47b3e2a3d3"
      },
      "source": [
        "# Here we define the constants/variables relevant to the problem\n",
        "\n",
        "#I have used k1 as Tau/force vector\n",
        "m,R,g,k1= sym.symbols('m R g k1')\n",
        "th = sym.Function(r'\\theta')(t)\n",
        "zeta = sym.Function(r'\\zeta')(t)\n",
        "\n",
        "# Here we define our configuration variables\n",
        "q = sym.Matrix([th,zeta])\n",
        "qdot = q.diff(t)\n",
        "qddot = qdot.diff(t)\n",
        "\n",
        "# Lagrangian\n",
        "KE = 0.5*m*(R*qdot[0])**2 + 0.5*m*(R*sym.sin(th)*qdot[1])**2\n",
        "V = m*g*R*(1-sym.cos(th))\n",
        "L = KE-V\n",
        "\n",
        "# Define EL Equations\n",
        "dLdq = sym.Matrix([L]).jacobian(q).T\n",
        "ddLdqdot_dt = sym.Matrix([L]).jacobian(qdot).T.diff(t)\n",
        "EulerLagrangeEQs = sym.Eq(ddLdqdot_dt-dLdq, sym.Matrix([0,k1]))\n",
        "\n",
        "# Getting Solutions\n",
        "EulerSols = sym.solve(EulerLagrangeEQs,[qddot[0],qddot[1]])\n",
        "\n",
        "display(L)\n",
        "display(sym.Eq(qddot[0],EulerSols[qddot[0]]))\n"
      ],
      "execution_count": null,
      "outputs": [
        {
          "output_type": "display_data",
          "data": {
            "text/html": [
              "<script src='https://cdnjs.cloudflare.com/ajax/libs/mathjax/2.7.3/latest.js?config=TeX-AMS_HTML'></script>"
            ],
            "text/plain": [
              "<IPython.core.display.HTML object>"
            ]
          },
          "metadata": {
            "tags": []
          }
        },
        {
          "output_type": "display_data",
          "data": {
            "text/latex": "$$0.5 R^{2} m \\sin^{2}{\\left (\\theta{\\left (t \\right )} \\right )} \\left(\\frac{d}{d t} \\zeta{\\left (t \\right )}\\right)^{2} + 0.5 R^{2} m \\left(\\frac{d}{d t} \\theta{\\left (t \\right )}\\right)^{2} - R g m \\left(- \\cos{\\left (\\theta{\\left (t \\right )} \\right )} + 1\\right)$$",
            "text/plain": [
              "                                       2                           2          \n",
              "     2      2            ⎛d           ⎞         2   ⎛d            ⎞           \n",
              "0.5⋅R ⋅m⋅sin (\\theta(t))⋅⎜──(\\zeta(t))⎟  + 0.5⋅R ⋅m⋅⎜──(\\theta(t))⎟  - R⋅g⋅m⋅(\n",
              "                         ⎝dt          ⎠             ⎝dt           ⎠           \n",
              "\n",
              "                    \n",
              "                    \n",
              "-cos(\\theta(t)) + 1)\n",
              "                    "
            ]
          },
          "metadata": {
            "tags": []
          }
        },
        {
          "output_type": "display_data",
          "data": {
            "text/html": [
              "<script src='https://cdnjs.cloudflare.com/ajax/libs/mathjax/2.7.3/latest.js?config=TeX-AMS_HTML'></script>"
            ],
            "text/plain": [
              "<IPython.core.display.HTML object>"
            ]
          },
          "metadata": {
            "tags": []
          }
        },
        {
          "output_type": "display_data",
          "data": {
            "text/latex": "$$\\frac{d^{2}}{d t^{2}}  \\theta{\\left (t \\right )} = \\frac{1}{R} \\left(R \\cos{\\left (\\theta{\\left (t \\right )} \\right )} \\left(\\frac{d}{d t} \\zeta{\\left (t \\right )}\\right)^{2} - g\\right) \\sin{\\left (\\theta{\\left (t \\right )} \\right )}$$",
            "text/plain": [
              "                 ⎛                               2    ⎞               \n",
              "                 ⎜                 ⎛d           ⎞     ⎟               \n",
              "  2              ⎜R⋅cos(\\theta(t))⋅⎜──(\\zeta(t))⎟  - g⎟⋅sin(\\theta(t))\n",
              " d               ⎝                 ⎝dt          ⎠     ⎠               \n",
              "───(\\theta(t)) = ─────────────────────────────────────────────────────\n",
              "  2                                        R                          \n",
              "dt                                                                    "
            ]
          },
          "metadata": {
            "tags": []
          }
        }
      ]
    },
    {
      "cell_type": "code",
      "metadata": {
        "id": "9QK3vDpwMejY",
        "colab": {
          "base_uri": "https://localhost:8080/",
          "height": 91
        },
        "outputId": "ce9de10a-f7e2-4163-ee39-d9cc36e5e84f"
      },
      "source": [
        "display(sym.Eq(qddot[1],EulerSols[qddot[1]]))"
      ],
      "execution_count": null,
      "outputs": [
        {
          "output_type": "display_data",
          "data": {
            "text/html": [
              "<script src='https://cdnjs.cloudflare.com/ajax/libs/mathjax/2.7.3/latest.js?config=TeX-AMS_HTML'></script>"
            ],
            "text/plain": [
              "<IPython.core.display.HTML object>"
            ]
          },
          "metadata": {
            "tags": []
          }
        },
        {
          "output_type": "display_data",
          "data": {
            "text/latex": "$$\\frac{d^{2}}{d t^{2}}  \\zeta{\\left (t \\right )} = \\frac{1}{R^{2} m \\sin^{2}{\\left (\\theta{\\left (t \\right )} \\right )}} \\left(- R^{2} m \\sin{\\left (2.0 \\theta{\\left (t \\right )} \\right )} \\frac{d}{d t} \\theta{\\left (t \\right )} \\frac{d}{d t} \\zeta{\\left (t \\right )} + k_{1}\\right)$$",
            "text/plain": [
              "                   2                      d             d                \n",
              "  2             - R ⋅m⋅sin(2.0⋅\\theta(t))⋅──(\\theta(t))⋅──(\\zeta(t)) + k₁\n",
              " d                                        dt            dt               \n",
              "───(\\zeta(t)) = ─────────────────────────────────────────────────────────\n",
              "  2                                 2      2                             \n",
              "dt                                 R ⋅m⋅sin (\\theta(t))                  "
            ]
          },
          "metadata": {
            "tags": []
          }
        }
      ]
    },
    {
      "cell_type": "markdown",
      "metadata": {
        "id": "cG5gDsDy2lUG"
      },
      "source": [
        "### Problem #2 (20 pts)\n",
        "Simulate and animate the *constrained* triple\n",
        "  pendulum system in the figure (that is, constraining the end mass of\n",
        "  the triple pendulum to the circle) where gravity is in the negative\n",
        "  $y$ direction.  Use initial conditions\n",
        "  $\\theta_1(0)=-\\frac{\\pi}{2}$, $\\dot{\\theta}_1(0)=0$, $\\theta_2(0)=-\\frac{\\pi}{2}$,\n",
        "  $\\dot{\\theta}_2(0)=0$, $\\theta_3(0)=\\frac{\\pi}{2}$,\n",
        "  $\\dot{\\theta}_3(0)=0$ and parameters $R_1=R_2=R_3=m_1=m_2=m_3=1$ and the radius\n",
        "  of the circle is $R_{circ}=\\sqrt{5}$. Simulate from $t=0$ to $t=10$ with $dt=0.01$\n",
        "  and animate the solution using your own triple pendulum animation function based on the starting code provided.\n",
        "  \n",
        "WARNING: symbollically solving for the triple pendulum equations of motion took my computer 13 minutes. I strongly recommend that you make separate cells for solving symbollically and numerically integrating your equations of motion. Also, we do not want you to print the equations of motion (and they may in fact break your notebook if you do print them). You will turn in your trajectory plots and animation, that's it."
      ]
    },
    {
      "cell_type": "code",
      "metadata": {
        "id": "fUcekB19ZdOm"
      },
      "source": [
        "# Here we define the constants/variables relevant to the problem\n",
        "m,R,g,lbd= sym.symbols('m R g \\lambda')\n",
        "th1 = sym.Function(r'\\theta_1')(t)\n",
        "th2 = sym.Function(r'\\theta_2')(t)\n",
        "th3 = sym.Function(r'\\theta_3')(t)\n",
        "phi = sym.Function(r'\\phi')(q)\n",
        "\n",
        "# Here we define our configuration variables\n",
        "q = sym.Matrix([th1,th2,th3])\n",
        "qdot = q.diff(t)\n",
        "qddot = qdot.diff(t)\n",
        "\n",
        "# Coordinate change to make Lagrangian calculation easier\n",
        "x1 = +R*sym.sin(th1)\n",
        "y1 = -R*sym.cos(th1)\n",
        "x2 = x1 + R*sym.sin(th1+th2)\n",
        "y2 = y1 - R*sym.cos(th1+th2)\n",
        "x3 = x2 + R*sym.sin(th1+th2+th3)\n",
        "y3 = y2 - R*sym.cos(th1+th2+th3)\n",
        "x1d = x1.diff(t)\n",
        "y1d = y1.diff(t)\n",
        "x2d = x2.diff(t)\n",
        "y2d = y2.diff(t)\n",
        "x3d = x3.diff(t)\n",
        "y3d = y3.diff(t)\n",
        "\n",
        "# Lagrangian\n",
        "KE = 0.5*m*(x1d**2+y1d**2) + 0.5*m*(x2d**2+y2d**2) + 0.5*m*(x3d**2+y3d**2)\n",
        "PE = m*g*y1 + m*g*y2 + m*g*y3\n",
        "L = KE - PE\n",
        "\n",
        "phi=x3*x3+y3*y3-5\n",
        "dphidq = sym.Matrix([phi]).jacobian(q).T\n",
        "\n",
        "# Euler Lagrange Equations\n",
        "dLdq = sym.Matrix([L]).jacobian(q).T\n",
        "ddLdqdot_dt = sym.Matrix([L]).jacobian(qdot).T.diff(t)\n",
        "EulerLagrangeEQs = sym.Eq(ddLdqdot_dt-dLdq, lbd*dphidq)\n",
        "\n",
        "\n",
        "dphidt = phi.diff(t)\n",
        "dphiddt = dphidt.diff(t)\n",
        "Equation3 = sym.Eq(dphiddt,0)\n",
        "\n",
        "# Getting Solutions # \n",
        "EulerSols = sym.solve([EulerLagrangeEQs,Equation3],[qddot[0],qddot[1],qddot[2],lbd])   \n"
      ],
      "execution_count": null,
      "outputs": []
    },
    {
      "cell_type": "code",
      "metadata": {
        "id": "vB5LWCRa23gw",
        "colab": {
          "base_uri": "https://localhost:8080/",
          "height": 251
        },
        "outputId": "3acbb42b-3057-46a5-9d14-9e990f65db03"
      },
      "source": [
        "\n",
        "\n",
        "def animate_triple_pend(theta_array,L1=1,L2=1,L3=1,T=10):\n",
        "    \"\"\"\n",
        "    YOU MUST CHANGE THIS FUNCTION TO PLOT TRIPLE PENDULUM.\n",
        "    Currently the innards of this function would plot a double pendulum.\n",
        "    \"\"\"\n",
        "    ################################\n",
        "    # Imports required for animation.\n",
        "    from plotly.offline import init_notebook_mode, iplot\n",
        "    from IPython.display import display, HTML\n",
        "    \n",
        "    #######################\n",
        "    # Browser configuration.\n",
        "    def configure_plotly_browser_state():\n",
        "      import IPython\n",
        "      display(IPython.core.display.HTML('''\n",
        "            <script src=\"/static/components/requirejs/require.js\"></script>\n",
        "            <script>\n",
        "              requirejs.config({\n",
        "                paths: {\n",
        "                  base: '/static/base',\n",
        "                  plotly: 'https://cdn.plot.ly/plotly-1.5.1.min.js?noext',\n",
        "                },\n",
        "              });\n",
        "            </script>\n",
        "            '''))\n",
        "    configure_plotly_browser_state()\n",
        "    init_notebook_mode(connected=False)\n",
        "    \n",
        "    ###############################################\n",
        "    # Getting data from pendulum angle trajectories.\n",
        "    xx1=L1*np.sin(theta_array[0])\n",
        "    yy1=-L1*np.cos(theta_array[0])\n",
        "    xx2=xx1+L2*np.sin(theta_array[0]+theta_array[1])\n",
        "    yy2=yy1-L2*np.cos(theta_array[0]+theta_array[1])\n",
        "    xx3=xx2+L3*np.sin(theta_array[0]+theta_array[1]+theta_array[2])\n",
        "    yy3=yy2-L3*np.cos(theta_array[0]+theta_array[1]+theta_array[2])\n",
        "    N = len(theta_array[0]) \n",
        "    \n",
        "    ####################################\n",
        "    # Using these to specify axis limits.\n",
        "    xm=np.min(xx1)-0.5\n",
        "    xM=np.max(xx1)+0.5\n",
        "    ym=np.min(yy1)-2.5\n",
        "    yM=np.max(yy1)+1.5\n",
        "\n",
        "    ###########################\n",
        "    # Defining data dictionary.\n",
        "    # Trajectories are here.\n",
        "    data=[dict(x=xx1, y=yy1, \n",
        "               mode='lines', name='Pendulum', \n",
        "               line=dict(width=2, color='blue')\n",
        "              ),\n",
        "          dict(x=xx1, y=yy1, \n",
        "               mode='lines', name='Mass 1 Traj.',\n",
        "               line=dict(width=2, color='purple')\n",
        "              ),\n",
        "          dict(x=xx2, y=yy2, \n",
        "               mode='lines', name='Mass 2 Traj.',\n",
        "               line=dict(width=2, color='green')\n",
        "              ),\n",
        "          dict(x=xx3, y=yy3, \n",
        "               mode='lines', name='Mass 3 Traj.',\n",
        "               line=dict(width=2, color='yellow')\n",
        "              ),\n",
        "        ]\n",
        "    \n",
        "    ################################\n",
        "    # Preparing simulation layout.\n",
        "    # Title and axis ranges are here.\n",
        "    layout=dict(xaxis=dict(range=[xm, xM], autorange=False, zeroline=False,dtick=1),\n",
        "                yaxis=dict(range=[ym, yM], autorange=False, zeroline=False,scaleanchor = \"x\",dtick=1),\n",
        "                title='Triple Pendulum Simulation', \n",
        "                hovermode='closest',\n",
        "                updatemenus= [{'type': 'buttons',\n",
        "                               'buttons': [{'label': 'Play','method': 'animate',\n",
        "                                            'args': [None, {'frame': {'duration': T, 'redraw': False}}]},\n",
        "                                           {'args': [[None], {'frame': {'duration': T, 'redraw': False}, 'mode': 'immediate',\n",
        "                                            'transition': {'duration': 0}}],'label': 'Pause','method': 'animate'}\n",
        "                                          ]\n",
        "                              }]\n",
        "               )\n",
        "    \n",
        "    ########################################\n",
        "    # Defining the frames of the simulation.\n",
        "    # This is what draws the lines from\n",
        "    # joint to joint of the pendulum.\n",
        "    frames=[dict(data=[dict(x=[0,xx1[k],xx2[k],xx3[k]], \n",
        "                            y=[0,yy1[k],yy2[k],yy3[k]], \n",
        "                            mode='lines',\n",
        "                            line=dict(color='red', width=7)\n",
        "                            )\n",
        "                      ]) for k in range(N)]\n",
        "    \n",
        "    #######################################\n",
        "    # Putting it all together and plotting.\n",
        "    figure1=dict(data=data, layout=layout, frames=frames)           \n",
        "    iplot(figure1)\n",
        "\n",
        "# Dummy variables (avoid errors with d/dt terms)\n",
        "theta1dot,theta2dot,theta3dot = sym.symbols('\\dot{th_1} \\dot{th_2} \\dot{th_3}')\n",
        "qdot_dummy = sym.Matrix([theta1dot,theta2dot,theta3dot])\n",
        "\n",
        "# Substitute dummy variable into expressions\n",
        "th1ddot_dummy = EulerSols[qddot[0]].subs({qdot[0]:qdot_dummy[0], qdot[1]:qdot_dummy[1], qdot[2]:qdot_dummy[2], R:1, g:9.81})\n",
        "th2ddot_dummy = EulerSols[qddot[1]].subs({qdot[0]:qdot_dummy[0], qdot[1]:qdot_dummy[1], qdot[2]:qdot_dummy[2], R:1, g:9.81})\n",
        "th3ddot_dummy = EulerSols[qddot[2]].subs({qdot[0]:qdot_dummy[0], qdot[1]:qdot_dummy[1], qdot[2]:qdot_dummy[2], R:1, g:9.81})\n",
        "\n",
        "# Lambdify\n",
        "lam_dyn_1 = sym.lambdify([th1,theta1dot,th2,theta2dot,th3,theta3dot],th1ddot_dummy)\n",
        "lam_dyn_2 = sym.lambdify([th1,theta1dot,th2,theta2dot,th3,theta3dot],th2ddot_dummy)\n",
        "lam_dyn_3 = sym.lambdify([th1,theta1dot,th2,theta2dot,th3,theta3dot],th3ddot_dummy)\n",
        "\n",
        "#####################################\n",
        "# Here we define our dynamics as a \n",
        "# function outputting the rdot vector\n",
        "def dynamics(r):\n",
        "  rd_1 = lam_dyn_1(r[0],r[1],r[2],r[3],r[4],r[5])\n",
        "  rd_2 = lam_dyn_2(r[0],r[1],r[2],r[3],r[4],r[5])\n",
        "  rd_3 = lam_dyn_3(r[0],r[1],r[2],r[3],r[4],r[5])\n",
        "\n",
        "  rdot = np.array([r[1],\n",
        "            rd_1,\n",
        "            r[3],\n",
        "            rd_2,\n",
        "            r[5],\n",
        "            rd_3])\n",
        "  return rdot\n",
        "\n",
        "###################################\n",
        "# Here we define initial conditions \n",
        "# and time variables\n",
        "tspan = [0,10]\n",
        "dt = 0.01\n",
        "x0 = np.array([-np.pi/2, 0, -np.pi/2, 0, np.pi/2, 0])\n",
        "N = int((max(tspan)-min(tspan))/dt)\n",
        "tvec = np.linspace(min(tspan),max(tspan),N)\n",
        "\n",
        "##################\n",
        "# Here we simulate\n",
        "xvec = simulate(dynamics,x0,tspan,dt) # just one line!\n",
        "\n",
        "##############\n",
        "# Here we plot\n",
        "plt.figure(dpi=110,facecolor='w')\n",
        "plt.plot(tvec,xvec[0])\n",
        "plt.plot(tvec,xvec[2])\n",
        "plt.plot(tvec,xvec[4])\n",
        "plt.xlim(tspan)\n",
        "plt.title('Resulting Trajectory')\n",
        "plt.xlabel('Time (s)')\n",
        "plt.ylabel('States')\n",
        "plt.legend([r'$\\theta_1$(t)',r'$\\theta_2$(t)',r'$\\theta_3$(t)'])\n",
        "plt.grid(True)\n",
        "\n",
        "theta_array = np.array([xvec[0],xvec[2],xvec[4]])\n",
        "animate_triple_pend(theta_array,1,1,1,10)"
      ],
      "execution_count": null,
      "outputs": [
        {
          "output_type": "error",
          "ename": "NameError",
          "evalue": "ignored",
          "traceback": [
            "\u001b[0;31m---------------------------------------------------------------------------\u001b[0m",
            "\u001b[0;31mNameError\u001b[0m                                 Traceback (most recent call last)",
            "\u001b[0;32m<ipython-input-3-71845a50a6da>\u001b[0m in \u001b[0;36m<module>\u001b[0;34m()\u001b[0m\n\u001b[1;32m    104\u001b[0m \u001b[0;34m\u001b[0m\u001b[0m\n\u001b[1;32m    105\u001b[0m \u001b[0;31m# Substitute dummy variable into expressions\u001b[0m\u001b[0;34m\u001b[0m\u001b[0;34m\u001b[0m\u001b[0;34m\u001b[0m\u001b[0m\n\u001b[0;32m--> 106\u001b[0;31m \u001b[0mth1ddot_dummy\u001b[0m \u001b[0;34m=\u001b[0m \u001b[0mEulerSols\u001b[0m\u001b[0;34m[\u001b[0m\u001b[0mqddot\u001b[0m\u001b[0;34m[\u001b[0m\u001b[0;36m0\u001b[0m\u001b[0;34m]\u001b[0m\u001b[0;34m]\u001b[0m\u001b[0;34m.\u001b[0m\u001b[0msubs\u001b[0m\u001b[0;34m(\u001b[0m\u001b[0;34m{\u001b[0m\u001b[0mqdot\u001b[0m\u001b[0;34m[\u001b[0m\u001b[0;36m0\u001b[0m\u001b[0;34m]\u001b[0m\u001b[0;34m:\u001b[0m\u001b[0mqdot_dummy\u001b[0m\u001b[0;34m[\u001b[0m\u001b[0;36m0\u001b[0m\u001b[0;34m]\u001b[0m\u001b[0;34m,\u001b[0m \u001b[0mqdot\u001b[0m\u001b[0;34m[\u001b[0m\u001b[0;36m1\u001b[0m\u001b[0;34m]\u001b[0m\u001b[0;34m:\u001b[0m\u001b[0mqdot_dummy\u001b[0m\u001b[0;34m[\u001b[0m\u001b[0;36m1\u001b[0m\u001b[0;34m]\u001b[0m\u001b[0;34m,\u001b[0m \u001b[0mqdot\u001b[0m\u001b[0;34m[\u001b[0m\u001b[0;36m2\u001b[0m\u001b[0;34m]\u001b[0m\u001b[0;34m:\u001b[0m\u001b[0mqdot_dummy\u001b[0m\u001b[0;34m[\u001b[0m\u001b[0;36m2\u001b[0m\u001b[0;34m]\u001b[0m\u001b[0;34m,\u001b[0m \u001b[0mR\u001b[0m\u001b[0;34m:\u001b[0m\u001b[0;36m1\u001b[0m\u001b[0;34m,\u001b[0m \u001b[0mg\u001b[0m\u001b[0;34m:\u001b[0m\u001b[0;36m9.81\u001b[0m\u001b[0;34m}\u001b[0m\u001b[0;34m)\u001b[0m\u001b[0;34m\u001b[0m\u001b[0;34m\u001b[0m\u001b[0m\n\u001b[0m\u001b[1;32m    107\u001b[0m \u001b[0mth2ddot_dummy\u001b[0m \u001b[0;34m=\u001b[0m \u001b[0mEulerSols\u001b[0m\u001b[0;34m[\u001b[0m\u001b[0mqddot\u001b[0m\u001b[0;34m[\u001b[0m\u001b[0;36m1\u001b[0m\u001b[0;34m]\u001b[0m\u001b[0;34m]\u001b[0m\u001b[0;34m.\u001b[0m\u001b[0msubs\u001b[0m\u001b[0;34m(\u001b[0m\u001b[0;34m{\u001b[0m\u001b[0mqdot\u001b[0m\u001b[0;34m[\u001b[0m\u001b[0;36m0\u001b[0m\u001b[0;34m]\u001b[0m\u001b[0;34m:\u001b[0m\u001b[0mqdot_dummy\u001b[0m\u001b[0;34m[\u001b[0m\u001b[0;36m0\u001b[0m\u001b[0;34m]\u001b[0m\u001b[0;34m,\u001b[0m \u001b[0mqdot\u001b[0m\u001b[0;34m[\u001b[0m\u001b[0;36m1\u001b[0m\u001b[0;34m]\u001b[0m\u001b[0;34m:\u001b[0m\u001b[0mqdot_dummy\u001b[0m\u001b[0;34m[\u001b[0m\u001b[0;36m1\u001b[0m\u001b[0;34m]\u001b[0m\u001b[0;34m,\u001b[0m \u001b[0mqdot\u001b[0m\u001b[0;34m[\u001b[0m\u001b[0;36m2\u001b[0m\u001b[0;34m]\u001b[0m\u001b[0;34m:\u001b[0m\u001b[0mqdot_dummy\u001b[0m\u001b[0;34m[\u001b[0m\u001b[0;36m2\u001b[0m\u001b[0;34m]\u001b[0m\u001b[0;34m,\u001b[0m \u001b[0mR\u001b[0m\u001b[0;34m:\u001b[0m\u001b[0;36m1\u001b[0m\u001b[0;34m,\u001b[0m \u001b[0mg\u001b[0m\u001b[0;34m:\u001b[0m\u001b[0;36m9.81\u001b[0m\u001b[0;34m}\u001b[0m\u001b[0;34m)\u001b[0m\u001b[0;34m\u001b[0m\u001b[0;34m\u001b[0m\u001b[0m\n\u001b[1;32m    108\u001b[0m \u001b[0mth3ddot_dummy\u001b[0m \u001b[0;34m=\u001b[0m \u001b[0mEulerSols\u001b[0m\u001b[0;34m[\u001b[0m\u001b[0mqddot\u001b[0m\u001b[0;34m[\u001b[0m\u001b[0;36m2\u001b[0m\u001b[0;34m]\u001b[0m\u001b[0;34m]\u001b[0m\u001b[0;34m.\u001b[0m\u001b[0msubs\u001b[0m\u001b[0;34m(\u001b[0m\u001b[0;34m{\u001b[0m\u001b[0mqdot\u001b[0m\u001b[0;34m[\u001b[0m\u001b[0;36m0\u001b[0m\u001b[0;34m]\u001b[0m\u001b[0;34m:\u001b[0m\u001b[0mqdot_dummy\u001b[0m\u001b[0;34m[\u001b[0m\u001b[0;36m0\u001b[0m\u001b[0;34m]\u001b[0m\u001b[0;34m,\u001b[0m \u001b[0mqdot\u001b[0m\u001b[0;34m[\u001b[0m\u001b[0;36m1\u001b[0m\u001b[0;34m]\u001b[0m\u001b[0;34m:\u001b[0m\u001b[0mqdot_dummy\u001b[0m\u001b[0;34m[\u001b[0m\u001b[0;36m1\u001b[0m\u001b[0;34m]\u001b[0m\u001b[0;34m,\u001b[0m \u001b[0mqdot\u001b[0m\u001b[0;34m[\u001b[0m\u001b[0;36m2\u001b[0m\u001b[0;34m]\u001b[0m\u001b[0;34m:\u001b[0m\u001b[0mqdot_dummy\u001b[0m\u001b[0;34m[\u001b[0m\u001b[0;36m2\u001b[0m\u001b[0;34m]\u001b[0m\u001b[0;34m,\u001b[0m \u001b[0mR\u001b[0m\u001b[0;34m:\u001b[0m\u001b[0;36m1\u001b[0m\u001b[0;34m,\u001b[0m \u001b[0mg\u001b[0m\u001b[0;34m:\u001b[0m\u001b[0;36m9.81\u001b[0m\u001b[0;34m}\u001b[0m\u001b[0;34m)\u001b[0m\u001b[0;34m\u001b[0m\u001b[0;34m\u001b[0m\u001b[0m\n",
            "\u001b[0;31mNameError\u001b[0m: name 'EulerSols' is not defined"
          ]
        }
      ]
    },
    {
      "cell_type": "markdown",
      "metadata": {
        "id": "fgWDkTHD26y2"
      },
      "source": [
        "### Problem #3 (20 pts)\n",
        "Plot the conserved Hamiltonian of the constrained\n",
        "  triple pendulum versus time.  Plot it again using Euler integration.\n",
        "  There are **two** things *very* wrong with this Euler-based\n",
        "  simulation---what are they?"
      ]
    },
    {
      "cell_type": "code",
      "metadata": {
        "id": "5KhvkUTj3FeU",
        "colab": {
          "base_uri": "https://localhost:8080/",
          "height": 865
        },
        "outputId": "3e5d15b9-ab3e-4120-ae98-0be91b6492cb"
      },
      "source": [
        "# Define p and Hamilton's Equations\n",
        "dLdqdot = sym.Matrix([L]).jacobian(qdot).T\n",
        "p = dLdqdot\n",
        "H = p.dot(qdot)-L\n",
        "Ha = H.subs({m:1,R:1,g:9.81})\n",
        "\n",
        "# Lambdify\n",
        "Ha_dummy = Ha.subs({qdot[0]:qdot_dummy[0], qdot[1]:qdot_dummy[1], qdot[2]:qdot_dummy[2]})\n",
        "lam_ham_fun = sym.lambdify([th1,theta1dot,th2,theta2dot,th3,theta3dot],Ha_dummy)\n",
        "\n",
        "H1 = xvec[0]\n",
        "H2 = xvec[1]\n",
        "H3 = xvec[2]\n",
        "H4 = xvec[3]\n",
        "H5 = xvec[4]\n",
        "H6 = xvec[5]\n",
        "\n",
        "HAM = lam_ham_fun(H1,H2,H3,H4,H5,H6)\n",
        "plt.figure(dpi=110,facecolor='w')\n",
        "plt.plot(tvec,HAM)\n",
        "\n",
        "plt.xlim(tspan)\n",
        "plt.title('Hamiltonian')\n",
        "plt.xlabel('Time (s)')\n",
        "plt.ylabel('States')\n",
        "\n",
        "plt.legend(['Euler'])\n",
        "plt.grid(True)\n",
        "plt.show()\n",
        "def euler(f,x,dt):\n",
        "  xnew = x + dt*f(x)\n",
        "  \n",
        "  return xnew\n",
        "\n",
        "# Here we define the constants/variables relevant to the problem\n",
        "m,R,g,lbd= sym.symbols('m R g \\lambda')\n",
        "th1 = sym.Function(r'\\theta_1')(t)\n",
        "th2 = sym.Function(r'\\theta_2')(t)\n",
        "th3 = sym.Function(r'\\theta_3')(t)\n",
        "phi = sym.Function(r'\\phi')(q)\n",
        "\n",
        "# Here we define our configuration variables\n",
        "q = sym.Matrix([th1,th2,th3])\n",
        "qdot = q.diff(t)\n",
        "qddot = qdot.diff(t)\n",
        "\n",
        "# Coordinate change to make Lagrangian calculation easier\n",
        "x1 = +R*sym.sin(th1)\n",
        "y1 = -R*sym.cos(th1)\n",
        "x2 = x1 + R*sym.sin(th1+th2)\n",
        "y2 = y1 - R*sym.cos(th1+th2)\n",
        "x3 = x2 + R*sym.sin(th1+th2+th3)\n",
        "y3 = y2 - R*sym.cos(th1+th2+th3)\n",
        "x1d = x1.diff(t)\n",
        "y1d = y1.diff(t)\n",
        "x2d = x2.diff(t)\n",
        "y2d = y2.diff(t)\n",
        "x3d = x3.diff(t)\n",
        "y3d = y3.diff(t)\n",
        "\n",
        "# Lagrangian\n",
        "KE = 0.5*m*(x1d**2+y1d**2) + 0.5*m*(x2d**2+y2d**2) + 0.5*m*(x3d**2+y3d**2)\n",
        "PE = m*g*y1 + m*g*y2 + m*g*y3\n",
        "L = KE - PE\n",
        "\n",
        "# Define constraint R = sqrt(5)\n",
        "phi=x3*x3+y3*y3-5\n",
        "dphidq = sym.Matrix([phi]).jacobian(q).T\n",
        "\n",
        "# Euler Lagrange Equations\n",
        "dLdq = sym.Matrix([L]).jacobian(q).T\n",
        "ddLdqdot_dt = sym.Matrix([L]).jacobian(qdot).T.diff(t)\n",
        "EulerLagrangeEQs = sym.Eq(ddLdqdot_dt-dLdq, lbd*dphidq)\n",
        "\n",
        "# For z\n",
        "dphidt = phi.diff(t)\n",
        "dphiddt = dphidt.diff(t)\n",
        "Equation3 = sym.Eq(dphiddt,0)\n",
        "\n",
        "# Define p and Hamilton's Equations\n",
        "dLdqdot = sym.Matrix([L]).jacobian(qdot).T\n",
        "p = dLdqdot\n",
        "H = p.dot(qdot)-L\n",
        "Ha = H.subs({m:1,R:1,g:9.81})\n",
        "\n",
        "# Lambdifying Symbolic Expressions\n",
        "Ha_dummy = Ha.subs({qdot[0]:qdot_dummy[0], qdot[1]:qdot_dummy[1], qdot[2]:qdot_dummy[2]})\n",
        "lam_ham_fun = sym.lambdify([th1,theta1dot,th2,theta2dot,th3,theta3dot],Ha_dummy)\n",
        "\n",
        "H1 = xvec[0]\n",
        "H2 = xvec[1]\n",
        "H3 = xvec[2]\n",
        "H4 = xvec[3]\n",
        "H5 = xvec[4]\n",
        "H6 = xvec[5]\n",
        "\n",
        "HAM = lam_ham_fun(H1,H2,H3,H4,H5,H6)\n",
        "\n",
        "###################################\n",
        "# Here we define initial conditions \n",
        "# and time variables\n",
        "tspan = [0,10]\n",
        "dt = 0.01\n",
        "x0 = np.array([-np.pi/2, 0, -np.pi/2, 0, np.pi/2, 0])\n",
        "N = int((max(tspan)-min(tspan))/dt)\n",
        "tvec = np.linspace(min(tspan),max(tspan),N)\n",
        "\n",
        "##################\n",
        "# Here we simulate\n",
        "xvec = simulate(dynamics,x0,tspan,dt,euler_int=True) # just one line!\n",
        "\n",
        "plt.figure(dpi=110,facecolor='w')\n",
        "plt.plot(tvec,HAM)\n",
        "\n",
        "plt.xlim(tspan)\n",
        "plt.title('Eulers')\n",
        "plt.xlabel('Time (s)')\n",
        "plt.ylabel('States')\n",
        "\n",
        "plt.legend(['Eulers'])\n",
        "plt.grid(True)\n",
        "plt.show()"
      ],
      "execution_count": null,
      "outputs": [
        {
          "output_type": "display_data",
          "data": {
            "image/png": "[encoded data removed]",
            "text/plain": [
              "<Figure size 660x440 with 1 Axes>"
            ]
          },
          "metadata": {
            "tags": []
          }
        },
        {
          "output_type": "display_data",
          "data": {
            "image/png": "[encoded data removed]",
            "text/plain": [
              "<Figure size 660x440 with 1 Axes>"
            ]
          },
          "metadata": {
            "tags": []
          }
        }
      ]
    },
    {
      "cell_type": "markdown",
      "metadata": {
        "id": "Q1JtWxmQ6lea"
      },
      "source": [
        "### Problem #4 (40pts)\n",
        "Consider a point mass in 3D under the forces of gravity and a radial spring from the origin.  The system's Lagrangian is  \n",
        "$$L=\\frac{1}{2} m (\\dot{x}^2+\\dot{y}^2+\\dot{z}^2)- \\frac{1}{2} k (x^2+y^2+z^2)-mgz$$\n",
        "Consider the following rotation matrices, defining rotations about the $z$, $y$, and $x$ axes respectively\n",
        "$$\n",
        "R_\\theta =\\begin{bmatrix}\\cos \\theta & -\\sin \\theta & 0 \\\\ \\sin \\theta &\n",
        "    \\cos \\theta& 0 \\\\ 0 & 0 & 1\\end{bmatrix}, \n",
        "    \\ \\\n",
        "R_\\psi = \\begin{bmatrix}\\cos \\psi & 0 & \\sin \\psi \\\\ 0 & 1 & 0 \\\\ \n",
        "    -\\sin \\psi & 0 & \\cos \\psi \\end{bmatrix}, \\ \\\n",
        "R_\\phi = \\begin{bmatrix} 1 & 0 & 0 \\\\ 0 & \\cos \\phi & -\\sin \\phi \\\\ \n",
        "    0 & \\sin \\phi & \\cos \\phi \\end{bmatrix} \n",
        "$$\n",
        "\n",
        "(a) Which, if any, of the transformations $q_\\theta = R_\\theta q$, $q_\\psi =\n",
        "R_\\psi q$, or $q_\\phi = R_\\phi q$ keeps the Lagrangian fixed?  Is this\n",
        "invariance global or local?\n",
        "\n",
        "(b) Use small angle approximations to linearize your transformation(s)\n",
        "from part (a).  The resulting new transformation should have the form\n",
        "$q_\\epsilon = q + \\epsilon G(q)$.  Compute the difference in the Lagrangian\n",
        "through this transformation, $L(q_\\epsilon, \\dot{q}_\\epsilon) - L(q,\\dot{q})$.\n",
        "\n",
        "(c) Apply Noether's theorem to determine a conserved quantity.\n",
        "Physically what does this quantity represent?  Is there any physical\n",
        "rationale behind it's conservation?"
      ]
    },
    {
      "cell_type": "code",
      "metadata": {
        "id": "G7EfEiZ56ovF",
        "colab": {
          "base_uri": "https://localhost:8080/",
          "height": 135
        },
        "outputId": "6656866d-07fb-4cf7-9751-e5364cc19453"
      },
      "source": [
        ""
      ],
      "execution_count": null,
      "outputs": [
        {
          "output_type": "error",
          "ename": "SyntaxError",
          "evalue": "ignored",
          "traceback": [
            "\u001b[0;36m  File \u001b[0;32m\"<ipython-input-3-3dc55effa53f>\"\u001b[0;36m, line \u001b[0;32m2\u001b[0m\n\u001b[0;31m    The transformation $q_\\theta = R_\\theta q$ keeps the Lagrangian fixed.\u001b[0m\n\u001b[0m                     ^\u001b[0m\n\u001b[0;31mSyntaxError\u001b[0m\u001b[0;31m:\u001b[0m invalid syntax\n"
          ]
        }
      ]
    },
    {
      "cell_type": "markdown",
      "metadata": {
        "id": "A5LHeFdfBTHZ"
      },
      "source": [
        "(a)\n",
        "The transformation $q_\\theta = R_\\theta q$ keeps the Lagrangian fixed.\n",
        "The rotation matrices shows that:\n",
        "$$\n",
        "x_\\theta = xcos\\theta - ysin\\theta\n",
        "$$\n",
        "$$\n",
        "y_\\theta = xsin\\theta + ycos\\theta\n",
        "$$\n",
        "$$\n",
        "z_\\theta = z\n",
        "$$\n",
        "If we substitute the above equation into system's Lagrangian, it can be found that the Lagrangian keeps the same.\n",
        "\n",
        "However, other two matrices could not keeps the Lagrangian fixed. The last term of the L (mgz) will be changed.\n",
        "R_\\theta keeps the L globally fixed. $R_\\psi$ and $R_\\phi$ keeps the L locally fiexd.\n",
        "\n",
        "(b)\n",
        "Using small angle approximations:\n",
        "$$ \n",
        "cos\\theta = 1, sin\\theta = \\theta\n",
        "$$\n",
        "$$\n",
        "cos\\psi = 1 , sin\\psi = \\psi\n",
        "$$\n",
        "$$\n",
        "cos\\phi = 1 , sin\\phi = \\phi\n",
        "$$\n",
        "Therefore:\n",
        "$$\n",
        "R_\\theta =\\begin{bmatrix}1 & -\\theta & 0 \\\\ \\theta &\n",
        "    1& 0 \\\\ 0 & 0 & 1\\end{bmatrix}, \n",
        "    \\ \\\n",
        "R_\\psi = \\begin{bmatrix}1 & 0 & \\psi \\\\ 0 & 1 & 0 \\\\ \n",
        "    -\\psi & 0 & 1 \\end{bmatrix}, \\ \\\n",
        "R_\\phi = \\begin{bmatrix} 1 & 0 & 0 \\\\ 0 & 1 & -\\phi \\\\ \n",
        "    0 & \\phi & 1 \\end{bmatrix}\n",
        "$$\n",
        "The new transformation are obtatined as:\n",
        "$$\n",
        "q_\\theta = \\begin{bmatrix} x_\\theta \\\\ y_\\theta \\\\ z_\\theta \\end{bmatrix} = \\begin{bmatrix} x \\\\ y \\\\ z \\end{bmatrix}+\\theta\\begin{bmatrix} -y \\\\ x \\\\ 0 \\end{bmatrix}\n",
        "$$\n",
        "$$\n",
        "q_\\psi = \\begin{bmatrix} x_\\psi \\\\ y_\\psi\\\\ z_\\psi \\end{bmatrix} = \\begin{bmatrix} x \\\\ y \\\\ z \\end{bmatrix}+\\psi\\begin{bmatrix} z \\\\ 0 \\\\ -x \\end{bmatrix}\n",
        "$$\n",
        "$$\n",
        "q_\\phi = \\begin{bmatrix} x_\\phi \\\\ y_\\phi \\\\ z_\\phi \\end{bmatrix} = \\begin{bmatrix} x \\\\ y \\\\ z \\end{bmatrix}+\\phi\\begin{bmatrix} 0 \\\\ -z \\\\ y \\end{bmatrix}\n",
        "$$\n",
        "The difference in Lagrangian through transformation:\n",
        "$$\n",
        "L_\\theta = \\frac{1}{2}m(\\dot{x_\\theta}^2+\\dot{y_\\theta}^2+\\dot{z_\\theta}^2)-\\frac{1}{2}k(x_\\theta^2+y_\\theta^2+z_\\theta^2)-mgz_\\theta = L + \\frac{1}{2}m\\theta^2(\\dot{x}^2+\\dot{y}^2)-\\frac{1}{2}k\\theta^2(x^2+y^2)\n",
        "$$\n",
        "$$\n",
        "L_\\theta - L =\\frac{1}{2}m\\theta^2(\\dot{x}^2+\\dot{y}^2)-\\frac{1}{2}k\\theta^2(x^2+y^2)\n",
        "$$\n",
        "Similarly\n",
        "$$\n",
        "L_\\psi - L =\\frac{1}{2}m\\psi^2(\\dot{x}^2+\\dot{z}^2)-\\frac{1}{2}k\\psi^2(x^2+z^2)+mgx\\psi\n",
        "$$\n",
        "$$\n",
        "L_\\phi - L =\\frac{1}{2}m\\phi^2(\\dot{y}^2+\\dot{z}^2)-\\frac{1}{2}k\\phi^2(y^2+z^2)-mgy\\phi\n",
        "$$\n",
        "\n",
        "(c)\n",
        "\n",
        "\n",
        "When $\\theta=0$ , $\\frac{\\partial L_\\theta}{\\partial \\theta}= 0 $.\n",
        "\n",
        "Therefore, $\\frac{d}{dt}\\frac{\\partial L_\\theta}{\\partial \\dot{\\theta}} = 0 $.\n",
        "\n",
        "Which implies $\\frac{\\partial L_\\theta}{\\partial \\dot{\\theta}}$ is constant.\n",
        "\n",
        "$\\theta$ is a conserved quantity.\n",
        "\n",
        "However for other two rotations, $\\frac{\\partial L_k}{\\partial q_k} $ is not equal to zero. Therefore, $\\psi$ and $\\phi$ are not conserved qunatities.\n",
        "\n",
        "The converved quantity physically represents the angular momentum about the z axis. The rationale is that there is no torque on the spring."
      ]
    }
  ]
}